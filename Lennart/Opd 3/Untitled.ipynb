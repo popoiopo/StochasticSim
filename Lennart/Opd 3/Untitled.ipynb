{
 "cells": [
  {
   "cell_type": "code",
   "execution_count": 1,
   "metadata": {
    "ExecuteTime": {
     "end_time": "2018-12-08T18:25:10.175055Z",
     "start_time": "2018-12-08T18:25:08.880204Z"
    }
   },
   "outputs": [],
   "source": [
    "import numpy as np\n",
    "import matplotlib.pyplot as plt\n",
    "from matplotlib import colors\n",
    "from matplotlib.pyplot import plot, draw, show\n",
    "from scipy.linalg import lu\n",
    "import scipy.linalg as la\n",
    "import random\n",
    "import simpy\n",
    "import math\n",
    "import seaborn as sns\n",
    "from operator import itemgetter"
   ]
  },
  {
   "cell_type": "code",
   "execution_count": 2,
   "metadata": {
    "ExecuteTime": {
     "end_time": "2018-12-08T18:25:10.186830Z",
     "start_time": "2018-12-08T18:25:10.178625Z"
    }
   },
   "outputs": [],
   "source": [
    "plt.rcParams['figure.figsize'] = [15, 5]\n",
    "\n",
    "def plotpretify(ax, maxx, minx=0, miny=None, maxy=None, \n",
    "                Grid=True, LB=True, LL=True):\n",
    "    ax.spines[\"top\"].set_visible(False)\n",
    "    ax.spines[\"left\"].set_visible(False)\n",
    "    ax.spines[\"right\"].set_visible(False)\n",
    "    ax.spines[\"bottom\"].set_visible(False)\n",
    "\n",
    "    ax.tick_params(\n",
    "        axis=\"both\",\n",
    "        which=\"both\",\n",
    "        bottom=False,\n",
    "        top=False,\n",
    "        labelbottom=LB,\n",
    "        left=False,\n",
    "        right=False,\n",
    "        labelleft=LL)\n",
    "    ax.grid(Grid)\n",
    "    \n",
    "    ax.set_xlim(minx, maxx)\n",
    "    ax.set_ylim(miny, maxy)"
   ]
  },
  {
   "cell_type": "code",
   "execution_count": 3,
   "metadata": {
    "ExecuteTime": {
     "end_time": "2018-12-08T18:25:10.203958Z",
     "start_time": "2018-12-08T18:25:10.188728Z"
    }
   },
   "outputs": [
    {
     "name": "stdout",
     "output_type": "stream",
     "text": [
      "[97, 100, 101, 107, 200, 211]\n"
     ]
    }
   ],
   "source": [
    "def partition(array, begin, end):\n",
    "    pivot = begin\n",
    "    for i in range(begin+1, end+1):\n",
    "        if array[i] <= array[begin]:\n",
    "            pivot += 1\n",
    "            array[i], array[pivot] = array[pivot], array[i]\n",
    "    array[pivot], array[begin] = array[begin], array[pivot]\n",
    "    return pivot\n",
    "\n",
    "\n",
    "\n",
    "def quicksort(array, begin=0, end=None):\n",
    "    if end is None:\n",
    "        end = len(array) - 1\n",
    "    def _quicksort(array, begin, end):\n",
    "        if begin >= end:\n",
    "            return\n",
    "        pivot = partition(array, begin, end)\n",
    "        _quicksort(array, begin, pivot-1)\n",
    "        _quicksort(array, pivot+1, end)\n",
    "    return _quicksort(array, begin, end)\n",
    "\n",
    "array = [97, 200, 100, 101, 211, 107]\n",
    "quicksort(array)\n",
    "print(array)"
   ]
  },
  {
   "cell_type": "code",
   "execution_count": 4,
   "metadata": {
    "ExecuteTime": {
     "end_time": "2018-12-08T18:25:10.330105Z",
     "start_time": "2018-12-08T18:25:10.207440Z"
    },
    "code_folding": [
     43
    ]
   },
   "outputs": [
    {
     "name": "stdout",
     "output_type": "stream",
     "text": [
      "5.946096316251816\n"
     ]
    },
    {
     "data": {
      "image/png": "[encoded data removed]",
      "text/plain": [
       "<matplotlib.figure.Figure at 0x7f72caa55c18>"
      ]
     },
     "metadata": {},
     "output_type": "display_data"
    }
   ],
   "source": [
    "def incircle(x, y, r=1):\n",
    "    return np.power(x, 2) + np.power(y, 2) < r\n",
    "\n",
    "\n",
    "def spawn(r=1):\n",
    "    x = random.uniform(-r, r)\n",
    "    limits = [-np.sqrt(r - x**2), np.sqrt(r - x**2)]\n",
    "    y = random.uniform(limits[0], limits[1])\n",
    "    return [x, y]\n",
    "\n",
    "\n",
    "# Good score when somewhere < 2\n",
    "def checkScore(coord):\n",
    "    totalDist = 0\n",
    "    for i in range(len(coord)):\n",
    "        for j in range(i, len(coord)):\n",
    "            if i != j:\n",
    "                totalDist += 1 / abs(\n",
    "                    math.hypot(coord[j][0] - coord[i][0],\n",
    "                               coord[j][1] - coord[i][1]))\n",
    "    return totalDist\n",
    "\n",
    "\n",
    "def changeCoord(coord):\n",
    "    i = random.randint(0, len(coord) - 1)\n",
    "    coord[i] = spawn()\n",
    "    return coord\n",
    "\n",
    "\n",
    "def getScheme_data(iters, plot=\"No\"):\n",
    "    linspace = np.linspace(0, 9, iters)\n",
    "    answer = []\n",
    "\n",
    "    for x in linspace:\n",
    "        answer.append(0.5 +\n",
    "                      math.erf((math.sqrt(math.pi) / 2) * (x - 2)) * -0.5)\n",
    "\n",
    "    if plot == \"Yes\":\n",
    "        fig, ax = plt.subplots(1, 1, figsize=(8, 5))\n",
    "        ax.plot(answer, label=\"Acceptance chance\")\n",
    "        plotpretify(ax, iters)\n",
    "        plt.show()\n",
    "    return answer\n",
    "\n",
    "\n",
    "coordList = []\n",
    "for i in range(3):\n",
    "    coordList.append(spawn(1))\n",
    "coordList = np.array(coordList)\n",
    "\n",
    "iterations = 0\n",
    "score = checkScore(coordList)\n",
    "scheme = getScheme_data(iterations, plot=\"No\")\n",
    "for i in range(iterations):\n",
    "    tmpList = changeCoord(coordList)\n",
    "    tmpScore = checkScore(tmpList)\n",
    "    if score < checkScore(coordList):\n",
    "        coordList = tmpList\n",
    "        score = tmpScore\n",
    "    if scheme[i] > np.random.uniform():\n",
    "        coordList = tmpList\n",
    "        score = tmpScore\n",
    "print(score)\n",
    "\n",
    "plt.rcParams['figure.figsize'] = [5, 5]\n",
    "sns.set()\n",
    "sns.set_style(\"dark\")\n",
    "fig = plt.figure()\n",
    "ax = plt.subplot(111)\n",
    "ax.scatter(coordList[:, 0], coordList[:, 1])\n",
    "circle1 = plt.Circle((0, 0), 1, alpha=0.2, color=\"olive\")\n",
    "ax.add_artist(circle1)\n",
    "plotpretify(\n",
    "    ax, 1.1, minx=-1.1, miny=-1.1, maxy=1.1, Grid=False, LL=False, LB=False)"
   ]
  },
  {
   "cell_type": "code",
   "execution_count": 5,
   "metadata": {
    "ExecuteTime": {
     "end_time": "2018-12-08T18:25:10.686065Z",
     "start_time": "2018-12-08T18:25:10.332424Z"
    },
    "scrolled": false
   },
   "outputs": [
    {
     "data": {
      "image/png": "[encoded data removed]",
      "text/plain": [
       "<matplotlib.figure.Figure at 0x7f72caa55be0>"
      ]
     },
     "metadata": {},
     "output_type": "display_data"
    },
    {
     "data": {
      "image/png": "[encoded data removed]",
      "text/plain": [
       "<matplotlib.figure.Figure at 0x7f72c89287b8>"
      ]
     },
     "metadata": {},
     "output_type": "display_data"
    },
    {
     "data": {
      "image/png": "[encoded data removed]",
      "text/plain": [
       "<matplotlib.figure.Figure at 0x7f72caa55b00>"
      ]
     },
     "metadata": {},
     "output_type": "display_data"
    }
   ],
   "source": [
    "def incircle(x, y, r=1):\n",
    "    return np.power(x, 2) + np.power(y, 2) < r\n",
    "\n",
    "\n",
    "def spawn(r=1):\n",
    "    x = random.uniform(-r, r)\n",
    "    limits = [-np.sqrt(r - x**2), np.sqrt(r - x**2)]\n",
    "    y = random.uniform(limits[0], limits[1])\n",
    "    return [x, y]\n",
    "\n",
    "\n",
    "# Good score when somewhere < 2\n",
    "def checkScore(coord):\n",
    "    totalDist = 0\n",
    "    for i in range(len(coord)):\n",
    "        for j in range(i, len(coord)):\n",
    "            if i != j:\n",
    "                totalDist += 1 / abs(\n",
    "                    math.hypot(coord[j][0] - coord[i][0],\n",
    "                               coord[j][1] - coord[i][1]))\n",
    "    return totalDist\n",
    "\n",
    "\n",
    "def move(k, coord, temp):\n",
    "    F = np.array([0.0,0.0])\n",
    "    velocity = np.zeros(2, float)\n",
    "    for l in coord:\n",
    "        if all(l != k):\n",
    "            # Methode 1:\n",
    "            r = np.array(k) - np.array(l)\n",
    "            F1 = r / (np.linalg.norm(r)**3)*0.03*temp\n",
    "            F += F1\n",
    "            \n",
    "            # Methode2:\n",
    "            delta = np.array(k) - np.array(l)\n",
    "            delta2 = delta * delta\n",
    "            dist2 = delta2.sum()\n",
    "            force = 1.0 / (dist2*dist2)\n",
    "            velocity += delta * force * temp * 0.05\n",
    "    return (k + F) # F can be replaced by 'velocity'\n",
    "\n",
    "\n",
    "def changeCoord(coord, temp):\n",
    "    coordTemp = []\n",
    "    for i, k in enumerate(coord):\n",
    "        coordTemp.append(move(k, coord, temp))\n",
    "    return np.array(coordTemp)\n",
    "\n",
    "\n",
    "def getScheme_data(iters, plot=\"No\"):\n",
    "    linspace = np.linspace(0, 9, iters)\n",
    "    answer = []\n",
    "\n",
    "    for x in linspace:\n",
    "        answer.append(0.5 +\n",
    "                      math.erf((math.sqrt(math.pi) / 2) * (x - 2)) * -0.5)\n",
    "\n",
    "    if plot == \"Yes\":\n",
    "        fig, ax = plt.subplots(1, 1, figsize=(8, 5))\n",
    "        ax.plot(answer, label=\"Acceptance chance\")\n",
    "        plotpretify(ax, iters)\n",
    "        plt.show()\n",
    "    return answer\n",
    "\n",
    "\n",
    "coordList = []\n",
    "for i in range(3):\n",
    "    coordList.append(spawn(0.5))\n",
    "coordList = np.array(coordList)\n",
    "\n",
    "iterations = 2\n",
    "\n",
    "# score = checkScore(coordList)\n",
    "# scheme = getScheme_data(iterations, plot=\"No\")\n",
    "# for i in range(iterations):\n",
    "#     tmpList = changeCoord(coordList)\n",
    "#     tmpScore = checkScore(tmpList)\n",
    "#     if score < checkScore(coordList):\n",
    "#         coordList = tmpList\n",
    "#         score = tmpScore\n",
    "#     if scheme[i] > np.random.uniform():\n",
    "#         coordList = tmpList\n",
    "#         score = tmpScore\n",
    "# print(score)\n",
    "\n",
    "\n",
    "def plot(coordList):\n",
    "    plt.rcParams['figure.figsize'] = [5, 5]\n",
    "    sns.set()\n",
    "    sns.set_style(\"dark\")\n",
    "    fig = plt.figure()\n",
    "    ax = plt.subplot(111)\n",
    "    ax.scatter(coordList[:, 0], coordList[:, 1])\n",
    "    circle1 = plt.Circle((0, 0), 1, alpha=0.2, color=\"olive\")\n",
    "    ax.add_artist(circle1)\n",
    "    plotpretify(\n",
    "        ax,\n",
    "        1.1,\n",
    "        minx=-1.1,\n",
    "        miny=-1.1,\n",
    "        maxy=1.1,\n",
    "        Grid=False,\n",
    "        LL=False,\n",
    "        LB=False)\n",
    "\n",
    "plot(coordList)\n",
    "\n",
    "for i in range(iterations):\n",
    "    temp = np.exp(-i/3.0)\n",
    "    coordList = changeCoord(coordList, temp)\n",
    "    plot(coordList)"
   ]
  },
  {
   "cell_type": "code",
   "execution_count": 6,
   "metadata": {
    "ExecuteTime": {
     "end_time": "2018-12-08T18:27:07.636598Z",
     "start_time": "2018-12-08T18:25:10.692209Z"
    },
    "scrolled": false
   },
   "outputs": [
    {
     "data": {
      "image/png": "[encoded data removed]",
      "text/plain": [
       "<matplotlib.figure.Figure at 0x7f72c8a1f2b0>"
      ]
     },
     "metadata": {},
     "output_type": "display_data"
    },
    {
     "name": "stdout",
     "output_type": "stream",
     "text": [
      "118.94142313360292\n"
     ]
    }
   ],
   "source": [
    "def plot(coordList):\n",
    "    plt.rcParams['figure.figsize'] = [10, 10]\n",
    "    sns.set()\n",
    "    sns.set_style(\"dark\")\n",
    "    fig = plt.figure()\n",
    "    ax = plt.subplot(111)\n",
    "    colors = list(range(len(coordList)))\n",
    "    ax.scatter(coordList[:, 0], coordList[:, 1], c=colors, cmap='Dark2')\n",
    "    circle1 = plt.Circle((0, 0), radius, alpha=0.2, color=\"olive\")\n",
    "    ax.add_artist(circle1)\n",
    "    plotpretify(\n",
    "        ax,\n",
    "        1.1,\n",
    "        minx=-1.1,\n",
    "        miny=-1.1,\n",
    "        maxy=1.1,\n",
    "        Grid=False,\n",
    "        LL=False,\n",
    "        LB=False)\n",
    "\n",
    "\n",
    "def getScheme_data(iters, plot=\"No\"):\n",
    "    linspace = np.linspace(0, 9, iters)\n",
    "    answer = []\n",
    "\n",
    "    for x in linspace:\n",
    "        answer.append(0.5 +\n",
    "                      math.erf((math.sqrt(math.pi) / 2) * (x - 2)) * -0.5)\n",
    "\n",
    "    if plot == \"Yes\":\n",
    "        fig, ax = plt.subplots(1, 1, figsize=(8, 5))\n",
    "        ax.plot(answer, label=\"Acceptance chance\")\n",
    "        plotpretify(ax, iters)\n",
    "        plt.show()\n",
    "    return answer\n",
    "\n",
    "\n",
    "def incircle(crds, r=1):\n",
    "    return np.power(crds[0], 2) + np.power(crds[1], 2) < r\n",
    "\n",
    "\n",
    "def spawn(r=1):\n",
    "    x = random.uniform(-r, r)\n",
    "    limits = [-np.sqrt(r**2 - x**2), np.sqrt(r**2 - x**2)]\n",
    "    y = random.uniform(limits[0], limits[1])\n",
    "    return [x, y]\n",
    "\n",
    "\n",
    "# Good score when somewhere < 2\n",
    "def checkScore(coord):\n",
    "    totalDist = 0\n",
    "    for i in range(len(coord)):\n",
    "        for j in range(i, len(coord)):\n",
    "            if i != j:\n",
    "                totalDist += 1 / abs(\n",
    "                    math.hypot(coord[j][0] - coord[i][0],\n",
    "                               coord[j][1] - coord[i][1]))\n",
    "    return totalDist\n",
    "\n",
    "\n",
    "def move(k, coord, temp, rate):\n",
    "    F = np.array([0.0, 0.0])\n",
    "    velocity = np.zeros(2, float)\n",
    "    for l in coord:\n",
    "        if any(l != k):\n",
    "            # Methode 1:\n",
    "            r = np.array(k) - np.array(l)\n",
    "            F1 = (r / (np.linalg.norm(r)**3) * rate)\n",
    "            F += F1\n",
    "\n",
    "            # Methode2:\n",
    "            force = 1 / (np.sum(r**2)**2)\n",
    "            velocity += (r * force * rate)\n",
    "    newPoint = k + F\n",
    "    norm = 0.2\n",
    "    #     print(temp)\n",
    "    xr = rate * random.uniform(-1, 1)\n",
    "    yr = rate * random.uniform(-1, 1)\n",
    "    # #     print(xr)\n",
    "    newPoint += [xr, yr]\n",
    "    if not incircle(newPoint, radius):\n",
    "        newPoint = newPoint / la.norm(newPoint)\n",
    "    return newPoint, F\n",
    "\n",
    "\n",
    "def changeCoord(coord, temp, rate):\n",
    "    coordTemp = []\n",
    "    score = checkScore(coord)\n",
    "    #     print(\"NEW ROUND!!!! ************************************************\")\n",
    "    fav = []\n",
    "    for i, k in enumerate(coord):\n",
    "        cT, favo = move(k, coord, temp, rate)\n",
    "        coordTemp.append(cT)\n",
    "        fav.append(favo)\n",
    "\n",
    "\n",
    "#     print(coordTemp)\n",
    "    if score > checkScore(coordTemp):\n",
    "        #     print(np.mean(fav), temp)\n",
    "        return np.array(coordTemp)\n",
    "    elif temp > random.random():\n",
    "        return np.array(coordTemp)\n",
    "    else:\n",
    "        return changeCoord(coord, temp, rate)\n",
    "\n",
    "coordList = []\n",
    "radius = 1\n",
    "pointsNum = 16\n",
    "iterations = 1000\n",
    "rate = 0.0005\n",
    "schemeData = getScheme_data(iterations, plot=\"No\")\n",
    "\n",
    "for i in range(pointsNum):\n",
    "    coordList.append(spawn(radius))\n",
    "coordList = np.array(coordList)\n",
    "\n",
    "# 2 points:\n",
    "# coordList = [[-1,0], [-0.5,0]]\n",
    "# coordList = [[-1,0], [-0.5,0.3]]\n",
    "# coordList = [[0.2,0.2], [-0.5,0.3]]\n",
    "\n",
    "# 3 points:\n",
    "# coordList = [[0.2,0.2], [-0.5,0.3], [-0.1, -0.2]]\n",
    "coordList = np.array(coordList)\n",
    "\n",
    "# print(coordList)\n",
    "# plot(coordList)\n",
    "\n",
    "coordListList = [coordList]\n",
    "checklist = []\n",
    "for i in range(iterations):\n",
    "#     temp = max(np.exp(-i / iterations) - ((3 * i) / iterations) * (1 / math.e), 0)\n",
    "    temp = schemeData[i]\n",
    "#     temp = 0\n",
    "    coordList = changeCoord(coordList, temp, rate)\n",
    "    coordListList.append(coordList)\n",
    "    checklist.append(checkScore(coordList))\n",
    "#     print(\"-------------------------------\")\n",
    "plt.plot(checklist)\n",
    "plt.show()\n",
    "print(checklist[-1])"
   ]
  },
  {
   "cell_type": "code",
   "execution_count": 7,
   "metadata": {
    "ExecuteTime": {
     "end_time": "2018-12-08T18:27:07.891357Z",
     "start_time": "2018-12-08T18:27:07.638676Z"
    }
   },
   "outputs": [
    {
     "data": {
      "application/vnd.jupyter.widget-view+json": {
       "model_id": "66f62c10747841f5a89eeeb8b02a48ba",
       "version_major": 2,
       "version_minor": 0
      },
      "text/plain": [
       "interactive(children=(IntSlider(value=0, description='i', max=1000), Output()), _dom_classes=('widget-interact…"
      ]
     },
     "metadata": {},
     "output_type": "display_data"
    }
   ],
   "source": [
    "from ipywidgets import interact, interactive, fixed, interact_manual\n",
    "import ipywidgets as widgets\n",
    "from IPython.display import display\n",
    "\n",
    "def showPlot(i=0):\n",
    "    plot(coordListList[i])\n",
    "    \n",
    "# showPlot(coordListList)\n",
    "y=interactive(showPlot, i=(0,len(coordListList)-1,1))\n",
    "ivalues = range(len(coordListList))\n",
    "# y=interactive(showPlot, i=ivalues)\n",
    "display(y)"
   ]
  }
 ],
 "metadata": {
  "kernelspec": {
   "display_name": "Python 3",
   "language": "python",
   "name": "python3"
  },
  "language_info": {
   "codemirror_mode": {
    "name": "ipython",
    "version": 3
   },
   "file_extension": ".py",
   "mimetype": "text/x-python",
   "name": "python",
   "nbconvert_exporter": "python",
   "pygments_lexer": "ipython3",
   "version": "3.6.5"
  },
  "toc": {
   "base_numbering": 1,
   "nav_menu": {},
   "number_sections": true,
   "sideBar": true,
   "skip_h1_title": false,
   "title_cell": "Table of Contents",
   "title_sidebar": "Contents",
   "toc_cell": false,
   "toc_position": {},
   "toc_section_display": true,
   "toc_window_display": false
  },
  "varInspector": {
   "cols": {
    "lenName": 16,
    "lenType": 16,
    "lenVar": 40
   },
   "kernels_config": {
    "python": {
     "delete_cmd_postfix": "",
     "delete_cmd_prefix": "del ",
     "library": "var_list.py",
     "varRefreshCmd": "print(var_dic_list())"
    },
    "r": {
     "delete_cmd_postfix": ") ",
     "delete_cmd_prefix": "rm(",
     "library": "var_list.r",
     "varRefreshCmd": "cat(var_dic_list()) "
    }
   },
   "types_to_exclude": [
    "module",
    "function",
    "builtin_function_or_method",
    "instance",
    "_Feature"
   ],
   "window_display": false
  }
 },
 "nbformat": 4,
 "nbformat_minor": 2
}
