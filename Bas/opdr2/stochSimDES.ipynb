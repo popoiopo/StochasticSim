{
 "cells": [
  {
   "cell_type": "markdown",
   "metadata": {},
   "source": [
    "# Assignment 2"
   ]
  },
  {
   "cell_type": "markdown",
   "metadata": {},
   "source": [
    "2.2\n",
    "\n",
    "Write a DES program to verify this for n=1, n=2 and n=4. Make sure that your result\n",
    "has a high and known statistical significance. How does the number of measurements\n",
    "required to attain this, depend on $\\rho$?"
   ]
  },
  {
   "cell_type": "code",
   "execution_count": 1,
   "metadata": {
    "ExecuteTime": {
     "end_time": "2018-11-27T14:42:01.257726Z",
     "start_time": "2018-11-27T14:42:00.837326Z"
    }
   },
   "outputs": [],
   "source": [
    "import random\n",
    "import math\n",
    "import simpy\n",
    "import numpy as np\n",
    "import pandas as pd\n",
    "import matplotlib.pyplot as plt\n",
    "from IPython.display import display, HTML"
   ]
  },
  {
   "cell_type": "code",
   "execution_count": null,
   "metadata": {
    "ExecuteTime": {
     "end_time": "2018-11-27T14:41:36.058384Z",
     "start_time": "2018-11-27T14:41:34.275480Z"
    }
   },
   "outputs": [],
   "source": [
    "# Init variables\n",
    "RANDOM_SEED = 42\n",
    "N_helpers = [1, 2, 4]  # Number of machines in the queue\n",
    "serveTime = 13          # Minutes it takes to help a customer\n",
    "lambdaIAT = [12*N for N in N_helpers]          # Create a customer every ~7 minutes\n",
    "SIM_TIME = 80          # Simulation time in minutes\n",
    "NRUNS = 100             # Amount of runs\n",
    "customerCount = [50*N for N in N_helpers]   # Amount of customers\n",
    "\n",
    "# Choose your queueing system\n",
    "# resources = [simpy.PriorityResource]\n",
    "resources = [simpy.Resource]\n",
    "# resources = [simpy.Resource, simpy.PriorityResource]\n",
    "\n",
    "# Create Queue object\n",
    "class Queue(object):\n",
    "    def __init__(self, env, N, serveTime, resource):\n",
    "        self.env = env\n",
    "        self.machine = resource(env, N)\n",
    "        self.serveTime = serveTime\n",
    "        self.customerHelped = 0\n",
    "        self.helperN = N\n",
    "\n",
    "    def helped(self, customer, customerServeWait=serveTime):\n",
    "        yield self.env.timeout(customerServeWait)\n",
    "\n",
    "# Customer with its own serviceTime\n",
    "def customer(env, name, cw, id, customerServeWait, resource):\n",
    "    customerServeWait = random.randint(serveTime - 5, serveTime + 5)\n",
    "    enterQueue = env.now\n",
    "    if resource == simpy.PriorityResource:\n",
    "        with cw.machine.request(priority=customerServeWait) as request:\n",
    "            request.name = name\n",
    "            request.time = customerServeWait\n",
    "            yield request\n",
    "\n",
    "            customerStat[cw.helperN].append(env.now - enterQueue)\n",
    "            yield env.process(cw.helped(name, customerServeWait=customerServeWait))\n",
    "\n",
    "    elif resource == simpy.Resource:\n",
    "        with cw.machine.request() as request:\n",
    "            request.name = name\n",
    "            request.time = customerServeWait\n",
    "            yield request\n",
    "\n",
    "            customerStat[cw.helperN].append(env.now - enterQueue)\n",
    "            yield env.process(cw.helped(name, customerServeWait=customerServeWait))\n",
    "\n",
    "\n",
    "def setup(env, N, serveTime, lambdaIAT, customerCount, resource):\n",
    "    queue = Queue(env, N, serveTime, resource)\n",
    "\n",
    "    # Create more customers while the simulation is running\n",
    "    while queue.customerHelped < customerCount:\n",
    "        s = np.random.poisson(lambdaIAT, customerCount)\n",
    "        yield env.timeout(s[queue.customerHelped])\n",
    "        queue.customerHelped += 1\n",
    "        env.process(\n",
    "            customer(env, 'customer %d' % queue.customerHelped, queue,\n",
    "                     queue.customerHelped,\n",
    "                     (customerCount - queue.customerHelped), resource))\n",
    "\n",
    "for resource in resources:\n",
    "    random.seed(RANDOM_SEED)\n",
    "    customerStat = {}\n",
    "    for j in range(NRUNS):\n",
    "        for nIndex, N in enumerate(N_helpers):\n",
    "            customerStat.setdefault(N, [])\n",
    "            customerStat.setdefault(str(N) + \"P\", [])\n",
    "            customerStat[str(N) + \"P\"].append(lambdaIAT[nIndex] / (N * serveTime))\n",
    "            env = simpy.Environment()\n",
    "            env.process(\n",
    "                setup(env, N, serveTime, lambdaIAT[nIndex], customerCount[nIndex], resource))\n",
    "            env.run()\n",
    "    \n",
    "    # Format data    \n",
    "    customerStatDf = pd.DataFrame({\"Helpers\": N_helpers, \n",
    "                                  \"$\\rho$\": [np.mean(customerStat[str(N)+'P']).round(decimals=2) for N in N_helpers],\n",
    "                                  \"Average\": [np.mean(customerStat[N]).round(decimals=2) for N in N_helpers], \n",
    "                                  \"Variance\": [np.var(customerStat[N]).round(decimals=2) for N in N_helpers],\n",
    "                                  \"std.dev\": [np.std(customerStat[N]).round(decimals=2) for N in N_helpers]}).set_index('Helpers')\n",
    "    \n",
    "    # Print output    \n",
    "    print(f\"For {str(resource)[33:-2]}\")\n",
    "    display(HTML(customerStatDf.T.to_html()))\n",
    "    print()\n"
   ]
  },
  {
   "cell_type": "markdown",
   "metadata": {},
   "source": [
    "## 2.3\n",
    "\n",
    "Also compare the result to that for an M/M/1 queue with shortest job first scheduling,\n",
    "where you always give priority to the smallest jobs."
   ]
  },
  {
   "cell_type": "code",
   "execution_count": null,
   "metadata": {
    "ExecuteTime": {
     "start_time": "2018-11-27T14:41:33.758Z"
    },
    "code_folding": [
     15
    ]
   },
   "outputs": [],
   "source": [
    "# Init variables\n",
    "RANDOM_SEED = 42\n",
    "N_helpers = [1, 2, 4]  # Number of machines in the queue\n",
    "waitTime = 6          # Minutes it takes to help a customer\n",
    "lambdaIAT = 6          # Create a customer every ~7 minutes\n",
    "SIM_TIME = 80          # Simulation time in minutes\n",
    "NRUNS = 10             # Amount of runs\n",
    "customerCount = 1000   # Amount of customers\n",
    "\n",
    "# Choose your queueing system\n",
    "# resources = [simpy.PriorityResource]\n",
    "# resources = [simpy.Resource]\n",
    "resources = [simpy.Resource, simpy.PriorityResource]\n",
    "\n",
    "\n",
    "class Queue(object):\n",
    "    def __init__(self, env, N, waitTime, resource):\n",
    "        self.env = env\n",
    "        self.machine = resource(env, N)\n",
    "        self.waitTime = waitTime\n",
    "        self.customerHelped = 0\n",
    "        self.helperN = N\n",
    "\n",
    "    def helped(self, customer, customerWait=waitTime):\n",
    "        yield self.env.timeout(customerWait)\n",
    "\n",
    "\n",
    "def customer(env, name, cw, id, customerWait, resource):\n",
    "    customerWait = random.randint(waitTime - 5, waitTime + 5)\n",
    "    enterQueue = env.now\n",
    "    if resource == simpy.PriorityResource:\n",
    "        with cw.machine.request(priority=customerWait) as request:\n",
    "            request.name = name\n",
    "            request.time = customerWait\n",
    "            yield request\n",
    "\n",
    "            customerStat[cw.helperN].append(env.now - enterQueue)\n",
    "            yield env.process(cw.helped(name, customerWait=customerWait))\n",
    "\n",
    "    elif resource == simpy.Resource:\n",
    "        with cw.machine.request() as request:\n",
    "            request.name = name\n",
    "            request.time = customerWait\n",
    "            yield request\n",
    "\n",
    "            customerStat[cw.helperN].append(env.now - enterQueue)\n",
    "            yield env.process(cw.helped(name, customerWait=customerWait))\n",
    "\n",
    "\n",
    "def setup(env, N, waitTime, lambdaIAT, customerCount, resource):\n",
    "    queue = Queue(env, N, waitTime, resource)\n",
    "\n",
    "    # Create more customers while the simulation is running\n",
    "    while queue.customerHelped < customerCount:\n",
    "        s = np.random.poisson(lambdaIAT, customerCount)\n",
    "        yield env.timeout(s[queue.customerHelped])\n",
    "        queue.customerHelped += 1\n",
    "        env.process(\n",
    "            customer(env, 'customer %d' % queue.customerHelped, queue,\n",
    "                     queue.customerHelped,\n",
    "                     (customerCount - queue.customerHelped), resource))\n",
    "\n",
    "for resource in resources:\n",
    "    random.seed(RANDOM_SEED)\n",
    "    customerStat = {}\n",
    "    for j in range(NRUNS):\n",
    "        for N in N_helpers:\n",
    "            #         print(f\"******** N={N} Helpers ********\")\n",
    "            customerStat.setdefault(N, [])\n",
    "            customerStat.setdefault(str(N) + \"P\", [])\n",
    "            customerStat[str(N) + \"P\"].append(lambdaIAT / (N * waitTime))\n",
    "            env = simpy.Environment()\n",
    "            env.process(\n",
    "                setup(env, N, waitTime, lambdaIAT, customerCount, resource))\n",
    "            env.run()\n",
    "    customerStatDf = pd.DataFrame({\"Helpers\": N_helpers, \n",
    "                                  \"$\\rho$\": [np.mean(customerStat[str(N)+'P']).round(decimals=2) for N in N_helpers],\n",
    "                                  \"Average\": [np.mean(customerStat[N]).round(decimals=2) for N in N_helpers], \n",
    "                                  \"Variance\": [np.var(customerStat[N]).round(decimals=2) for N in N_helpers],\n",
    "                                  \"std.dev\": [np.std(customerStat[N]).round(decimals=2) for N in N_helpers]}).set_index('Helpers')\n",
    "    print(f\"For {str(resource)[33:-2]}\")\n",
    "    display(HTML(customerStatDf.T.to_html()))\n",
    "    print()\n"
   ]
  },
  {
   "cell_type": "markdown",
   "metadata": {},
   "source": [
    "## 2.4\n",
    "\n",
    "Now experiment with different service rate distributions. On the one hand try the\n",
    "M/D/1 and M/D/n queues, on the other hand try a long-tail distribution. For the latter\n",
    "you may e.g. use a distribution where 75% of the jobs have an exponential distribution\n",
    "with an average service time of 1.0 and the remaining 25% an exponential distribution\n",
    "with an average service time of 5.0 (an example of a hyperexponential distribution)."
   ]
  },
  {
   "cell_type": "code",
   "execution_count": 58,
   "metadata": {
    "ExecuteTime": {
     "end_time": "2018-11-27T16:10:50.219663Z",
     "start_time": "2018-11-27T16:10:50.114376Z"
    },
    "code_folding": [],
    "scrolled": true
   },
   "outputs": [
    {
     "name": "stdout",
     "output_type": "stream",
     "text": [
      "1 8 8 0 11 19\n",
      "2 23 23 0 11 34\n",
      "3 37 37 0 11 48\n",
      "4 52 52 0 11 63\n",
      "5 62 63 1 11 74\n",
      "6 78 78 0 11 89\n",
      "7 88 89 1 11 100\n",
      "8 98 100 2 11 111\n",
      "9 112 112 0 11 123\n",
      "10 129 129 0 11 140\n",
      "11 136 140 4 11 151\n",
      "12 151 151 0 11 162\n",
      "13 166 166 0 11 177\n",
      "14 178 178 0 11 189\n",
      "15 188 189 1 11 200\n",
      "16 205 205 0 11 216\n",
      "17 216 216 0 11 227\n",
      "18 225 227 2 11 238\n",
      "19 235 238 3 11 249\n",
      "20 253 253 0 11 264\n",
      "21 266 266 0 11 277\n",
      "22 281 281 0 11 292\n",
      "23 298 298 0 11 309\n",
      "24 308 309 1 11 320\n",
      "25 317 320 3 11 331\n",
      "1 13 13 0 11 24\n",
      "2 21 24 3 10 34\n",
      "3 35 35 0 9 44\n",
      "4 45 45 0 3 48\n",
      "5 57 57 0 15 72\n",
      "6 72 72 0 11 83\n",
      "7 86 86 0 11 97\n",
      "8 103 103 0 7 110\n",
      "9 114 114 0 10 124\n",
      "10 127 127 0 12 139\n",
      "11 139 139 0 10 149\n",
      "12 149 149 0 11 160\n",
      "13 151 160 9 13 173\n",
      "14 167 173 6 5 178\n",
      "15 174 178 4 18 196\n",
      "16 189 196 7 10 206\n",
      "17 202 206 4 11 217\n",
      "18 214 217 3 18 235\n",
      "19 226 235 9 8 243\n",
      "20 241 243 2 6 249\n",
      "21 252 252 0 6 258\n",
      "22 263 263 0 5 268\n",
      "23 271 271 0 15 286\n",
      "24 283 286 3 14 300\n",
      "25 297 300 3 12 312\n"
     ]
    }
   ],
   "source": [
    "# Init seed\n",
    "RANDOM_SEED = 42\n",
    "random.seed(RANDOM_SEED)\n",
    "np.random.seed(RANDOM_SEED)\n",
    "\n",
    "# Init service schemes\n",
    "serviceSchemes = [\n",
    "    \"Deterministic\", \"Poisson\" #, \"Long-Tailed\", \"Inverse\", \"Random\"\n",
    "]\n",
    "\n",
    "# Init simulation specific parameters\n",
    "N_helpers = [1]  # Number of machines in the queue\n",
    "NRUNS = 1  # Amount of runs\n",
    "chanceLongTail = 0.75  # Chance of longtail lowerbound\n",
    "lI = 12\n",
    "lambdaIAT = [N * lI for N in N_helpers]  # Create a customer every ~lI minutes\n",
    "cC = 25\n",
    "customerCount = [N * cC for N in N_helpers]  # Amount of customers\n",
    "\n",
    "# Init servicetimes\n",
    "serviceTime = [11 for N in N_helpers\n",
    "               ]  # Minutes it takes to help a customer / Deterministic\n",
    "ltLow = [10 for N in N_helpers]  # Lower bound long-tailed distribution\n",
    "ltHigh = [50 for N in N_helpers]  # Upper bound long-tailed distribution\n",
    "randspread = [1 for N in N_helpers]  # Spread of the random distribution\n",
    "invMax = [45\n",
    "          for N in N_helpers]  # max waiting time for the inverse servicetime\n",
    "qServeInv = [[\n",
    "    i for i in range(invMax[queueIndex], -1, -1)\n",
    "    for x in range(math.ceil(customerCount[queueIndex] / invMax[queueIndex]))\n",
    "] for queueIndex in range(len(N_helpers))]\n",
    "\n",
    "# Choose your queueing system\n",
    "# resources = [simpy.PriorityResource]\n",
    "# resources = [simpy.Resource]\n",
    "resources = [simpy.Resource, simpy.PriorityResource]\n",
    "\n",
    "\n",
    "class Queue(object):\n",
    "    def __init__(self, env, N, resource, helperIndex):\n",
    "        self.env = env\n",
    "        self.machine = resource(env, N)\n",
    "        self.customerHelped = 0\n",
    "        self.serverN = N\n",
    "        self.helperIndex = helperIndex\n",
    "\n",
    "    def helped(self, customer, customerServe):\n",
    "#         print(customerServe)\n",
    "        yield self.env.timeout(customerServe)\n",
    "\n",
    "\n",
    "def customer(env, cw, resource, serviceScheme):\n",
    "    if serviceScheme == \"Long-Tailed\":\n",
    "        rCheck = random.random()\n",
    "        if rCheck <= 0.75:\n",
    "            customerServeTime = np.random.poisson(ltLow[cw.helperIndex])\n",
    "        else:\n",
    "            customerServeTime = np.random.poisson(ltHigh[cw.helperIndex])\n",
    "    elif serviceScheme == \"Poisson\":\n",
    "        customerServeTime = np.random.poisson(serviceTime[cw.helperIndex])\n",
    "    elif serviceScheme == \"Random\":\n",
    "        customerServeTime = random.uniform(\n",
    "            serviceTime[cw.helperIndex] - randspread[cw.helperIndex],\n",
    "            serviceTime[cw.helperIndex] + randspread[cw.helperIndex])\n",
    "    elif serviceScheme == \"Deterministic\":\n",
    "        customerServeTime = serviceTime[cw.helperIndex]\n",
    "    elif serviceScheme == \"Inverse\":\n",
    "        customerServeTime = qServeInv[cw.helperIndex][cw.customerHelped]\n",
    "\n",
    "    customerServeTime = 0.000001 if customerServeTime == 0 else customerServeTime\n",
    "\n",
    "    tmpRho.append(lambdaIAT[cw.helperIndex] / (cw.serverN * customerServeTime))\n",
    "\n",
    "    enterQueue = env.now\n",
    "    if resource == simpy.PriorityResource:\n",
    "        with cw.machine.request(priority=customerServeTime) as request:\n",
    "            request.time = customerServeTime\n",
    "            yield request\n",
    "\n",
    "            print(cw.customerHelped, enterQueue, env.now, env.now - enterQueue, customerServeTime, env.now+customerServeTime)\n",
    "            tmpWait.append(env.now - enterQueue)\n",
    "            tmpServe.append(customerServeTime)\n",
    "            yield env.process(cw.helped(cw.customerHelped, customerServeTime))\n",
    "\n",
    "    elif resource == simpy.Resource:\n",
    "        with cw.machine.request() as request:\n",
    "            request.time = customerServeTime\n",
    "            yield request\n",
    "\n",
    "            tmpWait.append(env.now - enterQueue)\n",
    "            tmpServe.append(customerServeTime)\n",
    "            yield env.process(cw.helped(cw.customerHelped, customerServeTime))\n",
    "\n",
    "\n",
    "def setup(env, N, lambdaIAT, customerCount, resource, serviceScheme,\n",
    "          helperIndex):\n",
    "    queue = Queue(env, N, resource, helperIndex)\n",
    "    # Create more customers while the simulation is running\n",
    "    s = np.random.poisson(lambdaIAT, customerCount)\n",
    "    while queue.customerHelped < customerCount:\n",
    "        yield env.timeout(s[queue.customerHelped])\n",
    "        queue.customerHelped += 1\n",
    "        env.process(customer(env, queue, resource, serviceScheme))\n",
    "\n",
    "\n",
    "columns = [\n",
    "    \"Rho\", \"Average\", \"Variance\", \"std_dev\", \"Resource\", \"Helpers\", \"run\",\n",
    "    \"serviceScheme\", \"ServeMean\"\n",
    "]\n",
    "\n",
    "resourceStatsRun = pd.DataFrame(columns=columns)\n",
    "customerAll = pd.DataFrame(columns=columns)\n",
    "for serviceScheme in serviceSchemes:\n",
    "    for resource in resources:\n",
    "        for helperIndex, N in enumerate(N_helpers):\n",
    "            runServe = []\n",
    "            runWait = []\n",
    "            runRho = []\n",
    "            for j in range(NRUNS):\n",
    "                tmpWait = []\n",
    "                tmpServe = []\n",
    "                tmpRho = []\n",
    "                env = simpy.Environment()\n",
    "                env.process(\n",
    "                    setup(env, N, lambdaIAT[helperIndex],\n",
    "                          customerCount[helperIndex], resource, serviceScheme,\n",
    "                          helperIndex))\n",
    "                env.run()\n",
    "\n",
    "                resourceStatsRun.loc[serviceScheme + \"_\" + str(resource)[33:-2]\n",
    "                                     + \"_\" + str(j) + \"_\" + str(N)] = [\n",
    "                                         np.mean(tmpRho),\n",
    "                                         np.mean(tmpWait),\n",
    "                                         np.var(tmpWait),\n",
    "                                         np.std(tmpWait),\n",
    "                                         str(resource)[33:-2], N, j,\n",
    "                                         serviceScheme,\n",
    "                                         np.mean(tmpServe)\n",
    "                                     ]\n",
    "\n",
    "                runWait.append(tmpWait)\n",
    "                runServe.append(tmpServe)\n",
    "                runRho.append(tmpRho)\n",
    "\n",
    "            np.array(runWait).flatten()\n",
    "            np.array(runServe).flatten()\n",
    "            np.array(runRho).flatten()\n",
    "            customerAll.loc[serviceScheme + \"_\" + str(resource)[33:-2] + \"_\" +\n",
    "                            str(N)] = [\n",
    "                                np.mean(runRho),\n",
    "                                np.mean(runWait),\n",
    "                                np.var(runWait),\n",
    "                                np.std(runWait),\n",
    "                                str(resource)[33:-2], N, None, serviceScheme,\n",
    "                                np.mean(runServe)\n",
    "                            ]"
   ]
  },
  {
   "cell_type": "code",
   "execution_count": null,
   "metadata": {
    "ExecuteTime": {
     "start_time": "2018-11-27T14:41:33.804Z"
    }
   },
   "outputs": [],
   "source": [
    "print(resourceStatsRun.shape)\n",
    "print(customerAll.shape)"
   ]
  },
  {
   "cell_type": "code",
   "execution_count": 59,
   "metadata": {
    "ExecuteTime": {
     "end_time": "2018-11-27T16:14:27.624305Z",
     "start_time": "2018-11-27T16:14:27.466908Z"
    },
    "scrolled": false
   },
   "outputs": [
    {
     "data": {
      "text/html": [
       "<table border=\"1\" class=\"dataframe\">\n",
       "  <thead>\n",
       "    <tr style=\"text-align: right;\">\n",
       "      <th></th>\n",
       "      <th></th>\n",
       "      <th></th>\n",
       "      <th>mean</th>\n",
       "      <th>var</th>\n",
       "      <th>std</th>\n",
       "    </tr>\n",
       "    <tr>\n",
       "      <th>serviceScheme</th>\n",
       "      <th>Resource</th>\n",
       "      <th>Helpers</th>\n",
       "      <th></th>\n",
       "      <th></th>\n",
       "      <th></th>\n",
       "    </tr>\n",
       "  </thead>\n",
       "  <tbody>\n",
       "    <tr>\n",
       "      <th rowspan=\"2\" valign=\"top\">Deterministic</th>\n",
       "      <th>PriorityResource</th>\n",
       "      <th>1</th>\n",
       "      <td>0.72</td>\n",
       "      <td>NaN</td>\n",
       "      <td>NaN</td>\n",
       "    </tr>\n",
       "    <tr>\n",
       "      <th>Resource</th>\n",
       "      <th>1</th>\n",
       "      <td>5.40</td>\n",
       "      <td>NaN</td>\n",
       "      <td>NaN</td>\n",
       "    </tr>\n",
       "    <tr>\n",
       "      <th rowspan=\"2\" valign=\"top\">Poisson</th>\n",
       "      <th>PriorityResource</th>\n",
       "      <th>1</th>\n",
       "      <td>2.12</td>\n",
       "      <td>NaN</td>\n",
       "      <td>NaN</td>\n",
       "    </tr>\n",
       "    <tr>\n",
       "      <th>Resource</th>\n",
       "      <th>1</th>\n",
       "      <td>4.12</td>\n",
       "      <td>NaN</td>\n",
       "      <td>NaN</td>\n",
       "    </tr>\n",
       "  </tbody>\n",
       "</table>"
      ],
      "text/plain": [
       "<IPython.core.display.HTML object>"
      ]
     },
     "metadata": {},
     "output_type": "display_data"
    },
    {
     "data": {
      "text/plain": [
       "<matplotlib.axes._subplots.AxesSubplot at 0x1e326bf5b38>"
      ]
     },
     "execution_count": 59,
     "metadata": {},
     "output_type": "execute_result"
    },
    {
     "data": {
      "image/png": "[encoded data removed]",
      "text/plain": [
       "<Figure size 576x432 with 1 Axes>"
      ]
     },
     "metadata": {},
     "output_type": "display_data"
    }
   ],
   "source": [
    "%matplotlib inline\n",
    "grp = resourceStatsRun.groupby([\"serviceScheme\", \"Resource\", \"Helpers\"])\n",
    "display(HTML(grp.Average.agg([np.mean, np.var, np.std]).to_html()))\n",
    "\n",
    "# grpDescr = grp.describe()\n",
    "# grpDescr\n",
    "# # display(HTML(grpDescr.ServeMean.to_html()))\n",
    "# # display(HTML(grpDescr.Average.to_html()))\n",
    "\n",
    "fig, ax = plt.subplots(figsize=(8,6))\n",
    "grp.Average.agg([np.mean]).plot(kind='barh', ax=ax)"
   ]
  },
  {
   "cell_type": "code",
   "execution_count": null,
   "metadata": {
    "ExecuteTime": {
     "start_time": "2018-11-27T14:41:33.813Z"
    }
   },
   "outputs": [],
   "source": [
    "display(HTML(grp.Average.agg([np.mean, np.var, np.std]).to_html()))"
   ]
  },
  {
   "cell_type": "code",
   "execution_count": 34,
   "metadata": {
    "ExecuteTime": {
     "end_time": "2018-11-27T15:28:32.694435Z",
     "start_time": "2018-11-27T15:28:32.498873Z"
    },
    "scrolled": false
   },
   "outputs": [
    {
     "data": {
      "text/plain": [
       "Deterministic_Resource_1            192.073333\n",
       "Deterministic_PriorityResource_1    138.110000\n",
       "Name: Average, dtype: float64"
      ]
     },
     "execution_count": 34,
     "metadata": {},
     "output_type": "execute_result"
    },
    {
     "data": {
      "image/png": "[encoded data removed]",
      "text/plain": [
       "<Figure size 576x432 with 1 Axes>"
      ]
     },
     "metadata": {},
     "output_type": "display_data"
    }
   ],
   "source": [
    "%matplotlib inline\n",
    "grp = customerAll.groupby([\"serviceScheme\", \"Resource\", \"Helpers\"])\n",
    "# display(HTML(grp.Average.agg([np.mean]).to_html()))\n",
    "# display(HTML(grp.ServeMean.agg([np.mean, np.var, np.std]).to_html()))\n",
    "\n",
    "# grpDescr = grp.describe()\n",
    "# display(HTML(grpDescr.ServeMean.to_html()))\n",
    "# display(HTML(grpDescr.Average.to_html()))\n",
    "\n",
    "fig, ax = plt.subplots(figsize=(8,6))\n",
    "grp.Average.agg([np.mean]).plot(kind='barh', ax=ax)\n",
    "\n",
    "customerAll.Average"
   ]
  },
  {
   "cell_type": "code",
   "execution_count": null,
   "metadata": {
    "ExecuteTime": {
     "start_time": "2018-11-27T14:41:33.820Z"
    }
   },
   "outputs": [],
   "source": [
    "resourceStatsRun"
   ]
  }
 ],
 "metadata": {
  "kernelspec": {
   "display_name": "Python 3",
   "language": "python",
   "name": "python3"
  },
  "language_info": {
   "codemirror_mode": {
    "name": "ipython",
    "version": 3
   },
   "file_extension": ".py",
   "mimetype": "text/x-python",
   "name": "python",
   "nbconvert_exporter": "python",
   "pygments_lexer": "ipython3",
   "version": "3.6.5"
  },
  "toc": {
   "base_numbering": 1,
   "nav_menu": {},
   "number_sections": false,
   "sideBar": true,
   "skip_h1_title": false,
   "title_cell": "Table of Contents",
   "title_sidebar": "Contents",
   "toc_cell": false,
   "toc_position": {},
   "toc_section_display": true,
   "toc_window_display": false
  },
  "varInspector": {
   "cols": {
    "lenName": 16,
    "lenType": 16,
    "lenVar": 40
   },
   "kernels_config": {
    "python": {
     "delete_cmd_postfix": "",
     "delete_cmd_prefix": "del ",
     "library": "var_list.py",
     "varRefreshCmd": "print(var_dic_list())"
    },
    "r": {
     "delete_cmd_postfix": ") ",
     "delete_cmd_prefix": "rm(",
     "library": "var_list.r",
     "varRefreshCmd": "cat(var_dic_list()) "
    }
   },
   "types_to_exclude": [
    "module",
    "function",
    "builtin_function_or_method",
    "instance",
    "_Feature"
   ],
   "window_display": false
  }
 },
 "nbformat": 4,
 "nbformat_minor": 2
}
