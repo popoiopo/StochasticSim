{
 "cells": [
  {
   "cell_type": "markdown",
   "metadata": {},
   "source": [
    "# Opdracht 2"
   ]
  },
  {
   "cell_type": "markdown",
   "metadata": {},
   "source": [
    "2.2\n",
    "\n",
    "Write a DES program to verify this for n=1, n=2 and n=4. Make sure that your result\n",
    "has a high and known statistical significance. How does the number of measurements\n",
    "required to attain this, depend on $\\rho$?"
   ]
  },
  {
   "cell_type": "code",
   "execution_count": 143,
   "metadata": {
    "ExecuteTime": {
     "end_time": "2018-11-20T15:20:21.419165Z",
     "start_time": "2018-11-20T15:20:20.727687Z"
    }
   },
   "outputs": [
    {
     "name": "stdout",
     "output_type": "stream",
     "text": [
      "Helpers1 P= 1.0,     average wait: 661.96,     variance: 84249.3,     std.dev: 290.26\n",
      "Helpers2 P= 0.5,     average wait: 254.65,     variance: 12025.19,     std.dev: 109.66\n",
      "Helpers4 P= 0.25,     average wait: 55.04,     variance: 859.31,     std.dev: 29.31\n"
     ]
    },
    {
     "data": {
      "text/plain": [
       "[None, None, None]"
      ]
     },
     "execution_count": 143,
     "metadata": {},
     "output_type": "execute_result"
    }
   ],
   "source": [
    "import random\n",
    "import simpy\n",
    "\n",
    "RANDOM_SEED = 42\n",
    "N_helpers = [1, 2, 4]  # Number of machines in the queue\n",
    "waitTime = 6  # Minutes it takes to help a customer\n",
    "lambdaIAT = 6  # Create a customer every ~7 minutes\n",
    "SIM_TIME = 80  # Simulation time in minutes\n",
    "\n",
    "\n",
    "class Queue(object):\n",
    "    def __init__(self, env, N, waitTime):\n",
    "        self.env = env\n",
    "        self.machine = simpy.Resource(env, N)\n",
    "        self.waitTime = waitTime\n",
    "        self.customerHelped = 0\n",
    "        self.helperN = N\n",
    "\n",
    "    def helped(self, customer, customerWait=waitTime):\n",
    "        #         print([dir(node) if node else \"\" for node in self.machine.queue])\n",
    "        yield self.env.timeout(customerWait)\n",
    "\n",
    "\n",
    "#         print(f\"{customer} helped at {self.env.now}\")\n",
    "\n",
    "\n",
    "def customer(env, name, cw, id, customerWait):\n",
    "    #     customerWait = random.randint(waitTime - 5, waitTime + 5)\n",
    "    #     print('%s arrives at the queue at %.2f.' % (name, env.now))\n",
    "    enterQueue = env.now\n",
    "    with cw.machine.request() as request:\n",
    "        yield request\n",
    "\n",
    "        #         print('%s turn begins at %.2f.' % (name, env.now))\n",
    "        customerStat[cw.helperN].append(env.now - enterQueue)\n",
    "        yield env.process(cw.helped(name, customerWait=customerWait))\n",
    "\n",
    "\n",
    "#         print('%s leaves the queue at %.2f.' % (name, env.now))\n",
    "\n",
    "\n",
    "def setup(env, N, waitTime, lambdaIAT):\n",
    "    queue = Queue(env, N, waitTime)\n",
    "\n",
    "    # Create more customers while the simulation is running\n",
    "    while queue.customerHelped < 50:\n",
    "        yield env.timeout(random.randint(lambdaIAT - 5, lambdaIAT + 5))\n",
    "        queue.customerHelped += 1\n",
    "        env.process(\n",
    "            customer(\n",
    "                env,\n",
    "                'customer %d' % queue.customerHelped,\n",
    "                queue,\n",
    "                id=queue.customerHelped,\n",
    "                customerWait=50 - queue.customerHelped))\n",
    "\n",
    "\n",
    "# random.seed(RANDOM_SEED)\n",
    "customerStat = {}\n",
    "for j in range(100):\n",
    "    for N in N_helpers:\n",
    "        #     print(f\"******** N={N} Helpers ********\")\n",
    "        customerStat.setdefault(N, [])\n",
    "        customerStat.setdefault(str(N) + \"P\", [])\n",
    "        customerStat[str(N) + \"P\"].append(lambdaIAT / (N * waitTime))\n",
    "        env = simpy.Environment()\n",
    "        env.process(setup(env, N, waitTime, lambdaIAT))\n",
    "        env.run()\n",
    "\n",
    "[\n",
    "    print(\n",
    "        f\"Helpers{N} P= {np.mean(customerStat[str(N)+'P']).round(decimals=2)}, \\\n",
    "    average wait: {np.mean(customerStat[N]).round(decimals=2)}, \\\n",
    "    variance: {np.var(customerStat[N]).round(decimals=2)}, \\\n",
    "    std.dev: {np.std(customerStat[N]).round(decimals=2)}\") for N in N_helpers\n",
    "]"
   ]
  },
  {
   "cell_type": "markdown",
   "metadata": {},
   "source": [
    "## 2.3\n",
    "\n",
    "Also compare the result to that for an M/M/1 queue with shortest job first scheduling,\n",
    "where you always give priority to the smallest jobs."
   ]
  },
  {
   "cell_type": "code",
   "execution_count": 116,
   "metadata": {
    "ExecuteTime": {
     "end_time": "2018-11-20T14:34:36.313852Z",
     "start_time": "2018-11-20T14:34:35.691138Z"
    }
   },
   "outputs": [
    {
     "name": "stdout",
     "output_type": "stream",
     "text": [
      "run1 average wait: 662.8112, variance: 84353.24235455999, std.dev: 290.43629655151574\n",
      "run2 average wait: 253.4024, variance: 11741.55567424, std.dev: 108.35845917250762\n",
      "run4 average wait: 54.4694, variance: 887.9538636399999, std.dev: 29.79855472401304\n"
     ]
    },
    {
     "data": {
      "text/plain": [
       "[None, None, None]"
      ]
     },
     "execution_count": 116,
     "metadata": {},
     "output_type": "execute_result"
    }
   ],
   "source": [
    "import random\n",
    "import simpy\n",
    "\n",
    "RANDOM_SEED = 42\n",
    "N_helpers = [1, 2, 4]  # Number of machines in the queue\n",
    "waitTime = 20  # Minutes it takes to help a customer\n",
    "lambdaIAT = 6  # Create a customer every ~7 minutes\n",
    "SIM_TIME = 80  # Simulation time in minutes\n",
    "\n",
    "\n",
    "class Queue(object):\n",
    "    def __init__(self, env, N, waitTime):\n",
    "        self.env = env\n",
    "        self.machine = simpy.Resource(env, N)\n",
    "        self.waitTime = waitTime\n",
    "        self.customerHelped = 0\n",
    "        self.helperN = N\n",
    "\n",
    "    def helped(self, customer, customerWait=waitTime):\n",
    "        #         print([dir(node) if node else \"\" for node in self.machine.queue])\n",
    "        yield self.env.timeout(customerWait)\n",
    "\n",
    "\n",
    "#         print(f\"{customer} helped at {self.env.now}\")\n",
    "\n",
    "\n",
    "def customer(env, name, cw, id, customerWait):\n",
    "    #     customerWait = random.randint(waitTime - 5, waitTime + 5)\n",
    "    #     print('%s arrives at the queue at %.2f.' % (name, env.now))\n",
    "    enterQueue = env.now\n",
    "    with cw.machine.request() as request:\n",
    "        yield request\n",
    "\n",
    "        #         print('%s turn begins at %.2f.' % (name, env.now))\n",
    "        customerStat[cw.helperN].append(env.now - enterQueue)\n",
    "        yield env.process(cw.helped(name, customerWait=customerWait))\n",
    "\n",
    "\n",
    "#         print('%s leaves the queue at %.2f.' % (name, env.now))\n",
    "\n",
    "\n",
    "def setup(env, N, waitTime, lambdaIAT):\n",
    "    queue = Queue(env, N, waitTime)\n",
    "\n",
    "    # Create more customers while the simulation is running\n",
    "    while queue.customerHelped < 50:\n",
    "        yield env.timeout(random.randint(lambdaIAT - 5, lambdaIAT + 5))\n",
    "        queue.customerHelped += 1\n",
    "        env.process(\n",
    "            customer(\n",
    "                env,\n",
    "                'customer %d' % queue.customerHelped,\n",
    "                queue,\n",
    "                id=queue.customerHelped,\n",
    "                customerWait=50 - queue.customerHelped))\n",
    "\n",
    "\n",
    "# random.seed(RANDOM_SEED)\n",
    "customerStat = {}\n",
    "for j in range(100):\n",
    "    for N in N_helpers:\n",
    "        #     print(f\"******** N={N} Helpers ********\")\n",
    "        customerStat.setdefault(N, [])\n",
    "        env = simpy.Environment()\n",
    "        env.process(setup(env, N, waitTime, lambdaIAT))\n",
    "        env.run()\n",
    "\n",
    "[\n",
    "    print(\n",
    "        f\"run{N} average wait: {np.mean(customerStat[N])}, variance: {np.var(customerStat[N])}, std.dev: {np.std(customerStat[N])}\"\n",
    "    ) for N in customerStat\n",
    "]"
   ]
  },
  {
   "cell_type": "code",
   "execution_count": 117,
   "metadata": {
    "ExecuteTime": {
     "end_time": "2018-11-20T14:34:37.044700Z",
     "start_time": "2018-11-20T14:34:36.339928Z"
    }
   },
   "outputs": [
    {
     "name": "stdout",
     "output_type": "stream",
     "text": [
      "run1 average wait: 660.8764, variance: 84110.92632304, std.dev: 290.01883787616276\n",
      "run2 average wait: 253.6234, variance: 11852.29597244, std.dev: 108.86825052530237\n",
      "run4 average wait: 55.0258, variance: 834.46753436, std.dev: 28.887151717675454\n"
     ]
    },
    {
     "data": {
      "text/plain": [
       "[None, None, None]"
      ]
     },
     "execution_count": 117,
     "metadata": {},
     "output_type": "execute_result"
    }
   ],
   "source": [
    "import random\n",
    "import simpy\n",
    "\n",
    "RANDOM_SEED = 42\n",
    "N_helpers = [1, 2, 4]  # Number of machines in the queue\n",
    "waitTime = 20  # Minutes it takes to help a customer\n",
    "lambdaIAT = 6  # Create a customer every ~7 minutes\n",
    "SIM_TIME = 80  # Simulation time in minutes\n",
    "\n",
    "\n",
    "class Queue(object):\n",
    "    def __init__(self, env, N, waitTime):\n",
    "        self.env = env\n",
    "        self.machine = simpy.PriorityResource(env, N)\n",
    "        self.waitTime = waitTime\n",
    "        self.customerHelped = 0\n",
    "        self.helperN = N\n",
    "\n",
    "    def helped(self, customer, customerWait=waitTime):\n",
    "        #         print([dir(node) if node else \"\" for node in self.machine.queue])\n",
    "        yield self.env.timeout(customerWait)\n",
    "\n",
    "\n",
    "#         print(f\"{customer} helped at {self.env.now}\")\n",
    "\n",
    "\n",
    "def customer(env, name, cw, id, customerWait):\n",
    "    #     customerWait = random.randint(waitTime - 5, waitTime + 5)\n",
    "    #     print('%s arrives at the queue at %.2f.' % (name, env.now))\n",
    "    enterQueue = env.now\n",
    "    with cw.machine.request(priority=id) as request:\n",
    "        yield request\n",
    "\n",
    "        #         print('%s turn begins at %.2f.' % (name, env.now))\n",
    "        customerStat[cw.helperN].append(env.now - enterQueue)\n",
    "        #         yield env.process(cw.helped(name))\n",
    "        yield env.process(cw.helped(name, customerWait=customerWait))\n",
    "\n",
    "\n",
    "#         print('%s leaves the queue at %.2f.' % (name, env.now))\n",
    "\n",
    "\n",
    "def setup(env, N, waitTime, lambdaIAT):\n",
    "    queue = Queue(env, N, waitTime)\n",
    "\n",
    "    # Create more customers while the simulation is running\n",
    "    while queue.customerHelped < 50:\n",
    "        yield env.timeout(random.randint(lambdaIAT - 5, lambdaIAT + 5))\n",
    "        queue.customerHelped += 1\n",
    "        env.process(\n",
    "            customer(\n",
    "                env,\n",
    "                'customer %d' % queue.customerHelped,\n",
    "                queue,\n",
    "                id=queue.customerHelped,\n",
    "                customerWait=50 - queue.customerHelped))\n",
    "\n",
    "\n",
    "# random.seed(RANDOM_SEED)\n",
    "customerStat = {}\n",
    "for j in range(100):\n",
    "    for N in N_helpers:\n",
    "        #     print(f\"******** N={N} Helpers ********\")\n",
    "        customerStat.setdefault(N, [])\n",
    "        env = simpy.Environment()\n",
    "        env.process(setup(env, N, waitTime, lambdaIAT))\n",
    "        env.run()\n",
    "\n",
    "[\n",
    "    print(\n",
    "        f\"run{N} average wait: {np.mean(customerStat[N])}, variance: {np.var(customerStat[N])}, std.dev: {np.std(customerStat[N])}\"\n",
    "    ) for N in customerStat\n",
    "]"
   ]
  },
  {
   "cell_type": "code",
   "execution_count": null,
   "metadata": {
    "ExecuteTime": {
     "end_time": "2018-11-20T09:51:31.907198Z",
     "start_time": "2018-11-20T09:51:31.895229Z"
    }
   },
   "outputs": [],
   "source": [
    "run1 average wait: 662.8112, variance: 84353.24235455999, std.dev: 290.43629655151574\n",
    "run2 average wait: 253.4024, variance: 11741.55567424, std.dev: 108.35845917250762\n",
    "run4 average wait: 54.4694, variance: 887.9538636399999, std.dev: 29.79855472401304"
   ]
  }
 ],
 "metadata": {
  "kernelspec": {
   "display_name": "Python 3",
   "language": "python",
   "name": "python3"
  },
  "language_info": {
   "codemirror_mode": {
    "name": "ipython",
    "version": 3
   },
   "file_extension": ".py",
   "mimetype": "text/x-python",
   "name": "python",
   "nbconvert_exporter": "python",
   "pygments_lexer": "ipython3",
   "version": "3.6.5"
  },
  "toc": {
   "base_numbering": 1,
   "nav_menu": {},
   "number_sections": false,
   "sideBar": true,
   "skip_h1_title": false,
   "title_cell": "Table of Contents",
   "title_sidebar": "Contents",
   "toc_cell": false,
   "toc_position": {},
   "toc_section_display": true,
   "toc_window_display": false
  },
  "varInspector": {
   "cols": {
    "lenName": 16,
    "lenType": 16,
    "lenVar": 40
   },
   "kernels_config": {
    "python": {
     "delete_cmd_postfix": "",
     "delete_cmd_prefix": "del ",
     "library": "var_list.py",
     "varRefreshCmd": "print(var_dic_list())"
    },
    "r": {
     "delete_cmd_postfix": ") ",
     "delete_cmd_prefix": "rm(",
     "library": "var_list.r",
     "varRefreshCmd": "cat(var_dic_list()) "
    }
   },
   "types_to_exclude": [
    "module",
    "function",
    "builtin_function_or_method",
    "instance",
    "_Feature"
   ],
   "window_display": false
  }
 },
 "nbformat": 4,
 "nbformat_minor": 2
}
