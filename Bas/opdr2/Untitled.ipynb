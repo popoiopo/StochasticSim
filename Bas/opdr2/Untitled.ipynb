{
 "cells": [
  {
   "cell_type": "markdown",
   "metadata": {},
   "source": [
    "# "
   ]
  },
  {
   "cell_type": "code",
   "execution_count": 24,
   "metadata": {
    "ExecuteTime": {
     "end_time": "2018-11-20T10:20:36.825481Z",
     "start_time": "2018-11-20T10:20:36.808937Z"
    }
   },
   "outputs": [
    {
     "name": "stdout",
     "output_type": "stream",
     "text": [
      "customer 1 arrives at the queue at 5.00.\n",
      "customer 1 enters the queue at 5.00.\n",
      "customer 1 helped\n",
      "customer 1 leaves the queue at 10.00.\n",
      "customer 2 arrives at the queue at 12.00.\n",
      "customer 2 enters the queue at 12.00.\n",
      "customer 2 helped\n",
      "customer 2 leaves the queue at 17.00.\n",
      "customer 3 arrives at the queue at 19.00.\n",
      "customer 3 enters the queue at 19.00.\n",
      "customer 3 helped\n",
      "customer 3 leaves the queue at 24.00.\n",
      "customer 4 arrives at the queue at 28.00.\n",
      "customer 4 enters the queue at 28.00.\n",
      "customer 4 helped\n",
      "customer 4 leaves the queue at 33.00.\n",
      "customer 5 arrives at the queue at 35.00.\n",
      "customer 5 enters the queue at 35.00.\n"
     ]
    }
   ],
   "source": [
    "import random\n",
    "import simpy\n",
    "\n",
    "RANDOM_SEED = 42\n",
    "N_helpers = [1, 2, 4]  # Number of machines in the queue\n",
    "waitTime = 5  # Minutes it takes to help a customer\n",
    "lambdaIAT = 7  # Create a customer every ~7 minutes\n",
    "SIM_TIME = 40  # Simulation time in minutes\n",
    "\n",
    "\n",
    "class Queue(object):\n",
    "    def __init__(self, env, N, waitTime):\n",
    "        self.env = env\n",
    "        self.machine = simpy.Resource(env, N)\n",
    "        self.waitTime = waitTime\n",
    "\n",
    "    def helped(self, customer):\n",
    "        yield self.env.timeout(waitTime)\n",
    "        print(f\"{customer} helped\")\n",
    "\n",
    "\n",
    "def customer(env, name, cw):\n",
    "    print('%s arrives at the queue at %.2f.' % (name, env.now))\n",
    "    with cw.machine.request() as request:\n",
    "        yield request\n",
    "\n",
    "        print('%s enters the queue at %.2f.' % (name, env.now))\n",
    "        yield env.process(cw.helped(name))\n",
    "\n",
    "        print('%s leaves the queue at %.2f.' % (name, env.now))\n",
    "\n",
    "\n",
    "def setup(env, N, waitTime, lambdaIAT):\n",
    "    queue = Queue(env, N, waitTime)\n",
    "    \n",
    "    i = 0\n",
    "    \n",
    "    #     Create 4 initial customers\n",
    "    #     for i in range(4):\n",
    "    #         env.process(customer(env, 'customer %d' % i, queue))\n",
    "\n",
    "    # Create more customers while the simulation is running\n",
    "    while True:\n",
    "        yield env.timeout(random.randint(lambdaIAT - 2, lambdaIAT + 2))\n",
    "        i += 1\n",
    "        env.process(customer(env, 'customer %d' % i, queue))\n",
    "\n",
    "\n",
    "env = simpy.Environment()\n",
    "env.process(setup(env, N, waitTime, lambdaIAT))\n",
    "\n",
    "env.run(until=SIM_TIME)"
   ]
  },
  {
   "cell_type": "code",
   "execution_count": null,
   "metadata": {},
   "outputs": [],
   "source": []
  },
  {
   "cell_type": "code",
   "execution_count": null,
   "metadata": {
    "ExecuteTime": {
     "end_time": "2018-11-20T09:51:31.907198Z",
     "start_time": "2018-11-20T09:51:31.895229Z"
    }
   },
   "outputs": [],
   "source": []
  }
 ],
 "metadata": {
  "kernelspec": {
   "display_name": "Python 3",
   "language": "python",
   "name": "python3"
  },
  "language_info": {
   "codemirror_mode": {
    "name": "ipython",
    "version": 3
   },
   "file_extension": ".py",
   "mimetype": "text/x-python",
   "name": "python",
   "nbconvert_exporter": "python",
   "pygments_lexer": "ipython3",
   "version": "3.6.5"
  },
  "toc": {
   "base_numbering": 1,
   "nav_menu": {},
   "number_sections": false,
   "sideBar": true,
   "skip_h1_title": false,
   "title_cell": "Table of Contents",
   "title_sidebar": "Contents",
   "toc_cell": false,
   "toc_position": {},
   "toc_section_display": true,
   "toc_window_display": false
  },
  "varInspector": {
   "cols": {
    "lenName": 16,
    "lenType": 16,
    "lenVar": 40
   },
   "kernels_config": {
    "python": {
     "delete_cmd_postfix": "",
     "delete_cmd_prefix": "del ",
     "library": "var_list.py",
     "varRefreshCmd": "print(var_dic_list())"
    },
    "r": {
     "delete_cmd_postfix": ") ",
     "delete_cmd_prefix": "rm(",
     "library": "var_list.r",
     "varRefreshCmd": "cat(var_dic_list()) "
    }
   },
   "types_to_exclude": [
    "module",
    "function",
    "builtin_function_or_method",
    "instance",
    "_Feature"
   ],
   "window_display": false
  }
 },
 "nbformat": 4,
 "nbformat_minor": 2
}
