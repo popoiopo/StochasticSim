{
 "cells": [
  {
   "cell_type": "code",
   "execution_count": 1,
   "metadata": {
    "ExecuteTime": {
     "end_time": "2018-11-22T13:43:47.102469Z",
     "start_time": "2018-11-22T13:43:46.369005Z"
    },
    "cell_style": "center",
    "init_cell": true
   },
   "outputs": [],
   "source": [
    "import numpy as np\n",
    "import matplotlib.pyplot as plt\n",
    "from matplotlib import colors\n",
    "from matplotlib.pyplot import plot, draw, show\n",
    "from scipy.linalg import lu\n",
    "import scipy.linalg as la\n",
    "import random\n",
    "import simpy\n"
   ]
  },
  {
   "cell_type": "markdown",
   "metadata": {},
   "source": [
    "p $p$ $\\rho$"
   ]
  },
  {
   "cell_type": "code",
   "execution_count": 2,
   "metadata": {
    "ExecuteTime": {
     "end_time": "2018-11-22T13:43:47.113932Z",
     "start_time": "2018-11-22T13:43:47.105810Z"
    },
    "init_cell": true
   },
   "outputs": [],
   "source": [
    "def plotpretify(ax, maxx, minx=0):\n",
    "    ax.spines[\"top\"].set_visible(False)\n",
    "    ax.spines[\"left\"].set_visible(False)\n",
    "    ax.spines[\"right\"].set_visible(False)\n",
    "    ax.spines[\"bottom\"].set_visible(False)\n",
    "\n",
    "    ax.tick_params(\n",
    "        axis=\"both\",\n",
    "        which=\"both\",\n",
    "        bottom=False,\n",
    "        top=False,\n",
    "        labelbottom=True,\n",
    "        left=False,\n",
    "        right=False,\n",
    "        labelleft=True)\n",
    "    ax.grid(True)\n",
    "    \n",
    "    ax.set_xlim(minx, maxx)"
   ]
  },
  {
   "cell_type": "code",
   "execution_count": 115,
   "metadata": {
    "ExecuteTime": {
     "end_time": "2018-11-20T15:13:39.900085Z",
     "start_time": "2018-11-20T15:13:39.174876Z"
    }
   },
   "outputs": [
    {
     "name": "stdout",
     "output_type": "stream",
     "text": [
      "run1 average wait: 6952.216, variance: 16313705.427344\n",
      "run2 average wait: 2003.802, variance: 1340179.116796\n",
      "run4 average wait: 1.616, variance: 9.100544000000001\n"
     ]
    },
    {
     "data": {
      "text/plain": [
       "[None, None, None]"
      ]
     },
     "execution_count": 115,
     "metadata": {},
     "output_type": "execute_result"
    }
   ],
   "source": [
    "RANDOM_SEED = 42\n",
    "N_helpers = [1, 2, 4]  # Number of machines in the queue\n",
    "waitTime = 20  # Minutes it takes to help a customer\n",
    "lambdaIAT = 6  # Create a customer every ~7 minutes\n",
    "SIM_TIME = 80  # Simulation time in minutes\n",
    "\n",
    "\n",
    "class Queue(object):\n",
    "    def __init__(self, env, N, waitTime):\n",
    "        self.env = env\n",
    "        self.machine = simpy.Resource(env, N)\n",
    "        self.waitTime = waitTime\n",
    "        self.customerHelped = 0\n",
    "        self.helperN = N\n",
    "\n",
    "    def helped(self, customer, customerWait=waitTime):\n",
    "        #         print([dir(node) if node else \"\" for node in self.machine.queue])\n",
    "        yield self.env.timeout(customerWait)\n",
    "\n",
    "\n",
    "#         queuelist = [(user.name, user.time) for user in self.machine.queue]\n",
    "#         print(queuelist)\n",
    "\n",
    "#         print(f\"{customer} helped at {self.env.now}\")\n",
    "\n",
    "\n",
    "def customer(env, name, cw, id, customerWait):\n",
    "    customerWait = random.randint(waitTime - 5, waitTime + 5)\n",
    "    #     print('%s arrives at the queue at %.2f.' % (name, env.now))\n",
    "    enterQueue = env.now\n",
    "    with cw.machine.request() as request:\n",
    "        request.name = name\n",
    "        request.time = customerWait\n",
    "        yield request\n",
    "\n",
    "        #         print('%s turn begins at %.2f.' % (name, env.now))\n",
    "        customerStat[cw.helperN].append(env.now - enterQueue)\n",
    "        yield env.process(cw.helped(name, customerWait=customerWait))\n",
    "\n",
    "\n",
    "#         print('%s leaves the queue at %.2f.' % (name, env.now))\n",
    "\n",
    "\n",
    "def setup(env, N, waitTime, lambdaIAT):\n",
    "    queue = Queue(env, N, waitTime)\n",
    "\n",
    "    # Create more customers while the simulation is running\n",
    "    while queue.customerHelped < 1000:\n",
    "        s = np.random.poisson(lambdaIAT, 1000)\n",
    "        yield env.timeout(s[queue.customerHelped])\n",
    "        queue.customerHelped += 1\n",
    "        env.process(\n",
    "            customer(\n",
    "                env,\n",
    "                'customer %d' % queue.customerHelped,\n",
    "                queue,\n",
    "                id=queue.customerHelped,\n",
    "                customerWait = 1000 - queue.customerHelped))\n",
    "\n",
    "\n",
    "random.seed(RANDOM_SEED)\n",
    "customerStat = {}\n",
    "for j in range(1):\n",
    "    for N in N_helpers:\n",
    "        #         print(f\"******** N={N} Helpers ********\")\n",
    "        customerStat.setdefault(N, [])\n",
    "        env = simpy.Environment()\n",
    "        env.process(setup(env, N, waitTime, lambdaIAT))\n",
    "        env.run()\n",
    "\n",
    "[\n",
    "    print(\n",
    "        f\"run{N} average wait: {np.mean(customerStat[N])}, variance: {np.var(customerStat[N])}\"\n",
    "    ) for N in customerStat\n",
    "]"
   ]
  },
  {
   "cell_type": "code",
   "execution_count": 116,
   "metadata": {
    "ExecuteTime": {
     "end_time": "2018-11-20T15:27:14.287780Z",
     "start_time": "2018-11-20T15:27:13.253918Z"
    }
   },
   "outputs": [
    {
     "name": "stdout",
     "output_type": "stream",
     "text": [
      "run1 average wait: 6191.364, variance: 32021126.915503997\n",
      "run2 average wait: 1667.435, variance: 6166069.243775\n",
      "run4 average wait: 1.371, variance: 9.995359\n"
     ]
    },
    {
     "data": {
      "text/plain": [
       "[None, None, None]"
      ]
     },
     "execution_count": 116,
     "metadata": {},
     "output_type": "execute_result"
    }
   ],
   "source": [
    "RANDOM_SEED = 42\n",
    "N_helpers = [1, 2, 4]  # Number of machines in the queue\n",
    "waitTime = 20  # Minutes it takes to help a customer\n",
    "lambdaIAT = 6 # Create a customer every ~7 minutes\n",
    "SIM_TIME = 80  # Simulation time in minutes\n",
    "\n",
    "\n",
    "class Queue(object):\n",
    "    def __init__(self, env, N, waitTime):\n",
    "        self.env = env\n",
    "        self.machine = simpy.PriorityResource(env, N)\n",
    "        self.waitTime = waitTime\n",
    "        self.customerHelped = 0\n",
    "        self.helperN = N\n",
    "\n",
    "    def helped(self, customer, customerWait=waitTime):\n",
    "        #         print([dir(node) if node else \"\" for node in self.machine.queue])\n",
    "        yield self.env.timeout(customerWait)\n",
    "#         queuelist = [(user.name, user.time) for user in self.machine.queue]\n",
    "#         print(queuelist)\n",
    "\n",
    "\n",
    "#         print(f\"{customer} helped at {self.env.now}\")\n",
    "\n",
    "\n",
    "def customer(env, name, cw, id, customerWait):\n",
    "    customerWait = random.randint(waitTime - 5, waitTime + 5)\n",
    "    #     print('%s arrives at the queue at %.2f.' % (name, env.now))\n",
    "    enterQueue = env.now\n",
    "    with cw.machine.request(priority=customerWait) as request:\n",
    "        request.name = name\n",
    "        request.time = customerWait\n",
    "        yield request\n",
    "\n",
    "        #         print('%s turn begins at %.2f.' % (name, env.now))\n",
    "        customerStat[cw.helperN].append(env.now - enterQueue)\n",
    "        #         yield env.process(cw.helped(name))\n",
    "        yield env.process(cw.helped(name, customerWait=customerWait))\n",
    "\n",
    "\n",
    "#         print('%s leaves the queue at %.2f.' % (name, env.now))\n",
    "\n",
    "\n",
    "def setup(env, N, waitTime, lambdaIAT):\n",
    "    queue = Queue(env, N, waitTime)\n",
    "\n",
    "    # Create more customers while the simulation is running\n",
    "    while queue.customerHelped < 1000:\n",
    "        s = np.random.poisson(lambdaIAT, 1000)\n",
    "        yield env.timeout(s[queue.customerHelped])\n",
    "        queue.customerHelped += 1\n",
    "        env.process(\n",
    "            customer(\n",
    "                env,\n",
    "                'customer %d' % queue.customerHelped,\n",
    "                queue,\n",
    "                id=queue.customerHelped,\n",
    "                customerWait=1000-queue.customerHelped))\n",
    "\n",
    "\n",
    "random.seed(RANDOM_SEED)\n",
    "customerStat = {}\n",
    "for j in range(1):\n",
    "    for N in N_helpers:\n",
    "#         print(f\"******** N={N} Helpers ********\")\n",
    "        customerStat.setdefault(N, [])\n",
    "        env = simpy.Environment()\n",
    "        env.process(setup(env, N, waitTime, lambdaIAT))\n",
    "        env.run()\n",
    "\n",
    "[\n",
    "    print(f\"run{N} average wait: {np.mean(customerStat[N])}, variance: {np.var(customerStat[N])}\")\n",
    "    for N in customerStat\n",
    "]"
   ]
  }
 ],
 "metadata": {
  "celltoolbar": "Initialization Cell",
  "kernelspec": {
   "display_name": "Python 3",
   "language": "python",
   "name": "python3"
  },
  "language_info": {
   "codemirror_mode": {
    "name": "ipython",
    "version": 3
   },
   "file_extension": ".py",
   "mimetype": "text/x-python",
   "name": "python",
   "nbconvert_exporter": "python",
   "pygments_lexer": "ipython3",
   "version": "3.6.5"
  },
  "toc": {
   "base_numbering": 1,
   "nav_menu": {},
   "number_sections": true,
   "sideBar": true,
   "skip_h1_title": false,
   "title_cell": "Table of Contents",
   "title_sidebar": "Contents",
   "toc_cell": false,
   "toc_position": {},
   "toc_section_display": true,
   "toc_window_display": false
  },
  "varInspector": {
   "cols": {
    "lenName": 16,
    "lenType": 16,
    "lenVar": 40
   },
   "kernels_config": {
    "python": {
     "delete_cmd_postfix": "",
     "delete_cmd_prefix": "del ",
     "library": "var_list.py",
     "varRefreshCmd": "print(var_dic_list())"
    },
    "r": {
     "delete_cmd_postfix": ") ",
     "delete_cmd_prefix": "rm(",
     "library": "var_list.r",
     "varRefreshCmd": "cat(var_dic_list()) "
    }
   },
   "types_to_exclude": [
    "module",
    "function",
    "builtin_function_or_method",
    "instance",
    "_Feature"
   ],
   "window_display": false
  }
 },
 "nbformat": 4,
 "nbformat_minor": 2
}
