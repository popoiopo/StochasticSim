{
 "cells": [
  {
   "cell_type": "code",
   "execution_count": null,
   "metadata": {
    "ExecuteTime": {
     "end_time": "2018-12-11T12:08:43.521351Z",
     "start_time": "2018-12-11T12:08:42.103Z"
    }
   },
   "outputs": [],
   "source": [
    "import numpy as np\n",
    "import matplotlib.pyplot as plt\n",
    "from matplotlib import colors\n",
    "from matplotlib.pyplot import plot, draw, show\n",
    "from scipy.linalg import lu\n",
    "import scipy.linalg as la\n",
    "import random\n",
    "import simpy\n",
    "import math\n",
    "import seaborn as sns"
   ]
  },
  {
   "cell_type": "code",
   "execution_count": 5,
   "metadata": {
    "ExecuteTime": {
     "end_time": "2018-12-11T12:08:42.950830Z",
     "start_time": "2018-12-11T12:08:42.940803Z"
    }
   },
   "outputs": [],
   "source": [
    "import scipy.optimize as so\n",
    "import numpy as np\n",
    "import pandas as pd\n",
    "import matplotlib.pyplot as plt\n",
    "from IPython.display import IFrame, display, HTML, Markdown\n",
    "import random\n",
    "import math\n",
    "import seaborn as sns\n",
    "\n",
    "\n",
    "def prettyfie(ax, x, y, title, legendYN='Yes'):\n",
    "\n",
    "    # Remove borders\n",
    "    ax.spines['top'].set_visible(False)\n",
    "    ax.spines['bottom'].set_visible(False)\n",
    "    ax.spines['right'].set_visible(False)\n",
    "    ax.spines['left'].set_visible(False)\n",
    "    ax.grid(alpha=0.25)\n",
    "\n",
    "    # Remove unnecessary ticks\n",
    "    ax.tick_params(\n",
    "        axis='both',\n",
    "        which='both',\n",
    "        bottom=False,\n",
    "        top=False,\n",
    "        labelbottom=True,\n",
    "        left=False,\n",
    "        right=False,\n",
    "        labelleft=True)\n",
    "\n",
    "    if legendYN == 'Yes':\n",
    "        # Create legend and grid\n",
    "        ax.legend(framealpha=1, shadow=True)\n",
    "        ax.legend()\n",
    "\n",
    "    # Set labels and title\n",
    "    ax.set_xlabel(x, fontsize=14)\n",
    "    ax.set_ylabel(y, fontsize=14)\n",
    "    ax.set_title(title, fontsize=14)\n",
    "    ax.tick_params(axis='both', which='major', labelsize=12)\n",
    "\n",
    "\n",
    "def printmd(string):\n",
    "    display(Markdown(string))"
   ]
  },
  {
   "cell_type": "code",
   "execution_count": null,
   "metadata": {},
   "outputs": [],
   "source": []
  },
  {
   "cell_type": "code",
   "execution_count": null,
   "metadata": {
    "ExecuteTime": {
     "end_time": "2018-12-11T12:08:43.523356Z",
     "start_time": "2018-12-11T12:08:42.106Z"
    }
   },
   "outputs": [],
   "source": [
    "# plt.rcParams['figure.figsize'] = [15, 5]\n",
    "\n",
    "# def plotpretify(ax, maxx, minx=0, miny=None, maxy=None,\n",
    "#                 Grid=True, LB=True, LL=True):\n",
    "#     ax.spines[\"top\"].set_visible(False)\n",
    "#     ax.spines[\"left\"].set_visible(False)\n",
    "#     ax.spines[\"right\"].set_visible(False)\n",
    "#     ax.spines[\"bottom\"].set_visible(False)\n",
    "\n",
    "#     ax.tick_params(\n",
    "#         axis=\"both\",\n",
    "#         which=\"both\",\n",
    "#         bottom=False,\n",
    "#         top=False,\n",
    "#         labelbottom=False,\n",
    "#         left=False,\n",
    "#         right=False,\n",
    "#         labelleft=False)\n",
    "# #     ax.grid(True)\n",
    "    \n",
    "#     ax.set_xlim(minx, maxx)\n",
    "#     ax.set_ylim(miny, maxy)\n",
    "\n",
    "# sns.set()"
   ]
  },
  {
   "cell_type": "code",
   "execution_count": null,
   "metadata": {
    "ExecuteTime": {
     "end_time": "2018-12-11T12:08:43.525362Z",
     "start_time": "2018-12-11T12:08:42.109Z"
    },
    "code_folding": []
   },
   "outputs": [],
   "source": [
    "def log_progress(sequence, every=None, size=None, name='Items'):\n",
    "    from ipywidgets import IntProgress, HTML, VBox\n",
    "    from IPython.display import display\n",
    "\n",
    "    is_iterator = False\n",
    "    if size is None:\n",
    "        try:\n",
    "            size = len(sequence)\n",
    "        except TypeError:\n",
    "            is_iterator = True\n",
    "    if size is not None:\n",
    "        if every is None:\n",
    "            if size <= 200:\n",
    "                every = 1\n",
    "            else:\n",
    "                every = int(size / 200)  # every 0.5%\n",
    "    else:\n",
    "        assert every is not None, 'sequence is iterator, set every'\n",
    "\n",
    "    if is_iterator:\n",
    "        progress = IntProgress(min=0, max=1, value=1)\n",
    "        progress.bar_style = 'info'\n",
    "    else:\n",
    "        progress = IntProgress(min=0, max=size, value=0)\n",
    "    label = HTML()\n",
    "    box = VBox(children=[label, progress])\n",
    "    display(box)\n",
    "\n",
    "    index = 0\n",
    "    try:\n",
    "        for index, record in enumerate(sequence, 1):\n",
    "            if index == 1 or index % every == 0:\n",
    "                if is_iterator:\n",
    "                    label.value = '{name}: {index} / ?'.format(\n",
    "                        name=name, index=index)\n",
    "                else:\n",
    "                    progress.value = index\n",
    "                    label.value = u'{name}: {index} / {size}'.format(\n",
    "                        name=name, index=index, size=size)\n",
    "            yield record\n",
    "    except:\n",
    "        progress.bar_style = 'danger'\n",
    "        raise\n",
    "    else:\n",
    "        progress.bar_style = 'success'\n",
    "        progress.value = index\n",
    "        label.value = \"{name}: {index}\".format(\n",
    "            name=name, index=str(index or '?'))"
   ]
  },
  {
   "cell_type": "code",
   "execution_count": 47,
   "metadata": {
    "ExecuteTime": {
     "end_time": "2018-12-11T15:45:58.045067Z",
     "start_time": "2018-12-11T15:45:39.915245Z"
    },
    "code_folding": [
     35
    ],
    "scrolled": false
   },
   "outputs": [
    {
     "data": {
      "text/markdown": [
       "### scheme: Exp"
      ],
      "text/plain": [
       "<IPython.core.display.Markdown object>"
      ]
     },
     "metadata": {},
     "output_type": "display_data"
    },
    {
     "data": {
      "text/markdown": [
       "### Markovlength: 1"
      ],
      "text/plain": [
       "<IPython.core.display.Markdown object>"
      ]
     },
     "metadata": {},
     "output_type": "display_data"
    },
    {
     "data": {
      "image/png": "[encoded data removed]",
      "text/plain": [
       "<Figure size 360x216 with 1 Axes>"
      ]
     },
     "metadata": {},
     "output_type": "display_data"
    },
    {
     "data": {
      "application/vnd.jupyter.widget-view+json": {
       "model_id": "2c33a8ac17e3423eae162fe0ca0ba1a4",
       "version_major": 2,
       "version_minor": 0
      },
      "text/plain": [
       "VBox(children=(HTML(value=''), IntProgress(value=0, max=9)))"
      ]
     },
     "metadata": {},
     "output_type": "display_data"
    },
    {
     "data": {
      "text/markdown": [
       "### Markovlength: 5"
      ],
      "text/plain": [
       "<IPython.core.display.Markdown object>"
      ]
     },
     "metadata": {},
     "output_type": "display_data"
    },
    {
     "data": {
      "image/png": "[encoded data removed]",
      "text/plain": [
       "<Figure size 360x216 with 1 Axes>"
      ]
     },
     "metadata": {},
     "output_type": "display_data"
    },
    {
     "data": {
      "application/vnd.jupyter.widget-view+json": {
       "model_id": "6c7a578c0a42403cb3923ca61ed21f37",
       "version_major": 2,
       "version_minor": 0
      },
      "text/plain": [
       "VBox(children=(HTML(value=''), IntProgress(value=0, max=9)))"
      ]
     },
     "metadata": {},
     "output_type": "display_data"
    },
    {
     "data": {
      "text/markdown": [
       "### Markovlength: 10"
      ],
      "text/plain": [
       "<IPython.core.display.Markdown object>"
      ]
     },
     "metadata": {},
     "output_type": "display_data"
    },
    {
     "data": {
      "image/png": "[encoded data removed]",
      "text/plain": [
       "<Figure size 360x216 with 1 Axes>"
      ]
     },
     "metadata": {},
     "output_type": "display_data"
    },
    {
     "data": {
      "application/vnd.jupyter.widget-view+json": {
       "model_id": "d1c9f9d9acb64a168e9d2a5c731968f7",
       "version_major": 2,
       "version_minor": 0
      },
      "text/plain": [
       "VBox(children=(HTML(value=''), IntProgress(value=0, max=9)))"
      ]
     },
     "metadata": {},
     "output_type": "display_data"
    },
    {
     "data": {
      "text/markdown": [
       "### scheme: Expvar"
      ],
      "text/plain": [
       "<IPython.core.display.Markdown object>"
      ]
     },
     "metadata": {},
     "output_type": "display_data"
    },
    {
     "data": {
      "text/markdown": [
       "### Markovlength: 1"
      ],
      "text/plain": [
       "<IPython.core.display.Markdown object>"
      ]
     },
     "metadata": {},
     "output_type": "display_data"
    },
    {
     "data": {
      "image/png": "[encoded data removed]",
      "text/plain": [
       "<Figure size 360x216 with 1 Axes>"
      ]
     },
     "metadata": {},
     "output_type": "display_data"
    },
    {
     "data": {
      "application/vnd.jupyter.widget-view+json": {
       "model_id": "fe8f6ad60c93468583233af9e7f49618",
       "version_major": 2,
       "version_minor": 0
      },
      "text/plain": [
       "VBox(children=(HTML(value=''), IntProgress(value=0, max=9)))"
      ]
     },
     "metadata": {},
     "output_type": "display_data"
    },
    {
     "data": {
      "text/markdown": [
       "### Markovlength: 5"
      ],
      "text/plain": [
       "<IPython.core.display.Markdown object>"
      ]
     },
     "metadata": {},
     "output_type": "display_data"
    },
    {
     "data": {
      "image/png": "[encoded data removed]",
      "text/plain": [
       "<Figure size 360x216 with 1 Axes>"
      ]
     },
     "metadata": {},
     "output_type": "display_data"
    },
    {
     "data": {
      "application/vnd.jupyter.widget-view+json": {
       "model_id": "f7054c23ac844cea884fcbf3bf87f102",
       "version_major": 2,
       "version_minor": 0
      },
      "text/plain": [
       "VBox(children=(HTML(value=''), IntProgress(value=0, max=9)))"
      ]
     },
     "metadata": {},
     "output_type": "display_data"
    },
    {
     "data": {
      "text/markdown": [
       "### Markovlength: 10"
      ],
      "text/plain": [
       "<IPython.core.display.Markdown object>"
      ]
     },
     "metadata": {},
     "output_type": "display_data"
    },
    {
     "data": {
      "image/png": "[encoded data removed]",
      "text/plain": [
       "<Figure size 360x216 with 1 Axes>"
      ]
     },
     "metadata": {},
     "output_type": "display_data"
    },
    {
     "data": {
      "application/vnd.jupyter.widget-view+json": {
       "model_id": "6489f19073b349f8a1f85b7a57d296b9",
       "version_major": 2,
       "version_minor": 0
      },
      "text/plain": [
       "VBox(children=(HTML(value=''), IntProgress(value=0, max=9)))"
      ]
     },
     "metadata": {},
     "output_type": "display_data"
    },
    {
     "data": {
      "text/html": [
       "<div>\n",
       "<style scoped>\n",
       "    .dataframe tbody tr th:only-of-type {\n",
       "        vertical-align: middle;\n",
       "    }\n",
       "\n",
       "    .dataframe tbody tr th {\n",
       "        vertical-align: top;\n",
       "    }\n",
       "\n",
       "    .dataframe thead tr th {\n",
       "        text-align: left;\n",
       "    }\n",
       "</style>\n",
       "<table border=\"1\" class=\"dataframe\">\n",
       "  <thead>\n",
       "    <tr>\n",
       "      <th>Scheme</th>\n",
       "      <th colspan=\"3\" halign=\"left\">Exp</th>\n",
       "      <th colspan=\"3\" halign=\"left\">Expvar</th>\n",
       "    </tr>\n",
       "    <tr>\n",
       "      <th>MarkovLength</th>\n",
       "      <th>1</th>\n",
       "      <th>5</th>\n",
       "      <th>10</th>\n",
       "      <th>1</th>\n",
       "      <th>5</th>\n",
       "      <th>10</th>\n",
       "    </tr>\n",
       "  </thead>\n",
       "  <tbody>\n",
       "    <tr>\n",
       "      <th>11</th>\n",
       "      <td>59.957427</td>\n",
       "      <td>59.626907</td>\n",
       "      <td>61.629312</td>\n",
       "      <td>63.167904</td>\n",
       "      <td>63.019340</td>\n",
       "      <td>62.966484</td>\n",
       "    </tr>\n",
       "    <tr>\n",
       "      <th>12</th>\n",
       "      <td>71.789440</td>\n",
       "      <td>71.453480</td>\n",
       "      <td>72.184640</td>\n",
       "      <td>73.574757</td>\n",
       "      <td>76.174029</td>\n",
       "      <td>75.385928</td>\n",
       "    </tr>\n",
       "    <tr>\n",
       "      <th>13</th>\n",
       "      <td>88.015534</td>\n",
       "      <td>88.659044</td>\n",
       "      <td>86.900560</td>\n",
       "      <td>90.547733</td>\n",
       "      <td>91.287694</td>\n",
       "      <td>90.928766</td>\n",
       "    </tr>\n",
       "    <tr>\n",
       "      <th>14</th>\n",
       "      <td>102.510377</td>\n",
       "      <td>104.691185</td>\n",
       "      <td>105.030712</td>\n",
       "      <td>102.846019</td>\n",
       "      <td>106.664603</td>\n",
       "      <td>106.889896</td>\n",
       "    </tr>\n",
       "    <tr>\n",
       "      <th>15</th>\n",
       "      <td>121.126782</td>\n",
       "      <td>121.658498</td>\n",
       "      <td>122.689764</td>\n",
       "      <td>124.404882</td>\n",
       "      <td>126.691106</td>\n",
       "      <td>126.110122</td>\n",
       "    </tr>\n",
       "    <tr>\n",
       "      <th>16</th>\n",
       "      <td>138.711904</td>\n",
       "      <td>139.250948</td>\n",
       "      <td>140.368572</td>\n",
       "      <td>141.863898</td>\n",
       "      <td>142.332172</td>\n",
       "      <td>141.900593</td>\n",
       "    </tr>\n",
       "    <tr>\n",
       "      <th>17</th>\n",
       "      <td>159.022233</td>\n",
       "      <td>157.880593</td>\n",
       "      <td>161.461434</td>\n",
       "      <td>164.398094</td>\n",
       "      <td>163.960919</td>\n",
       "      <td>167.336391</td>\n",
       "    </tr>\n",
       "    <tr>\n",
       "      <th>18</th>\n",
       "      <td>182.561584</td>\n",
       "      <td>182.233180</td>\n",
       "      <td>182.437481</td>\n",
       "      <td>185.004959</td>\n",
       "      <td>183.708510</td>\n",
       "      <td>184.495648</td>\n",
       "    </tr>\n",
       "    <tr>\n",
       "      <th>19</th>\n",
       "      <td>204.397841</td>\n",
       "      <td>202.720980</td>\n",
       "      <td>199.232507</td>\n",
       "      <td>204.323590</td>\n",
       "      <td>206.020293</td>\n",
       "      <td>208.317929</td>\n",
       "    </tr>\n",
       "  </tbody>\n",
       "</table>\n",
       "</div>"
      ],
      "text/plain": [
       "Scheme               Exp                              Expvar              \\\n",
       "MarkovLength          1           5           10          1           5    \n",
       "11             59.957427   59.626907   61.629312   63.167904   63.019340   \n",
       "12             71.789440   71.453480   72.184640   73.574757   76.174029   \n",
       "13             88.015534   88.659044   86.900560   90.547733   91.287694   \n",
       "14            102.510377  104.691185  105.030712  102.846019  106.664603   \n",
       "15            121.126782  121.658498  122.689764  124.404882  126.691106   \n",
       "16            138.711904  139.250948  140.368572  141.863898  142.332172   \n",
       "17            159.022233  157.880593  161.461434  164.398094  163.960919   \n",
       "18            182.561584  182.233180  182.437481  185.004959  183.708510   \n",
       "19            204.397841  202.720980  199.232507  204.323590  206.020293   \n",
       "\n",
       "Scheme                    \n",
       "MarkovLength          10  \n",
       "11             62.966484  \n",
       "12             75.385928  \n",
       "13             90.928766  \n",
       "14            106.889896  \n",
       "15            126.110122  \n",
       "16            141.900593  \n",
       "17            167.336391  \n",
       "18            184.495648  \n",
       "19            208.317929  "
      ]
     },
     "execution_count": 47,
     "metadata": {},
     "output_type": "execute_result"
    }
   ],
   "source": [
    "def plot(coordList):\n",
    "    plt.rcParams['figure.figsize'] = [10, 10]\n",
    "    sns.set()\n",
    "    sns.set_style(\"dark\")\n",
    "    fig = plt.figure()\n",
    "    ax = plt.subplot(111)\n",
    "    colors = list(range(len(coordList)))\n",
    "    ax.scatter(coordList[:, 0], coordList[:, 1], c=colors, cmap='Dark2')\n",
    "    circle1 = plt.Circle((0, 0), radius, alpha=0.2, color=\"olive\")\n",
    "    ax.add_artist(circle1)\n",
    "    plotpretify(\n",
    "        ax,\n",
    "        1.1,\n",
    "        minx=-1.1,\n",
    "        miny=-1.1,\n",
    "        maxy=1.1,\n",
    "        Grid=False,\n",
    "        LL=False,\n",
    "        LB=False)\n",
    "\n",
    "\n",
    "def getScheme_data(iters, plot=\"No\", scheme=\"Sigmoid\", markovChain=1):\n",
    "\n",
    "    answer = []\n",
    "\n",
    "    if scheme == \"Sigmoid\":\n",
    "        linspace = np.linspace(0, 7, iters)\n",
    "        for x in linspace:\n",
    "            answer.append(0.5 +\n",
    "                          math.erf((math.sqrt(math.pi) / 2) * (x - 2)) * -0.5)\n",
    "    elif scheme == \"Exp\":\n",
    "        for x in range(iters):\n",
    "            answer.append(np.exp(-x / (iters / 10)))\n",
    "    elif scheme == \"Expvar\":\n",
    "        for x in range(iters):\n",
    "            answer.append(\n",
    "                max(\n",
    "                    np.exp(-x / iters) - ((1.5 * x) / iters) * (1 / math.e),\n",
    "                    0))\n",
    "    elif scheme == \"Expvar2\":\n",
    "        for x in range(iters):\n",
    "            answer.append(max(np.exp(-x / iters) - 1.1 * (1 / math.e), 0))\n",
    "    elif scheme == \"Hillclimb\":\n",
    "        for x in range(iters):\n",
    "            answer.append(0)\n",
    "    elif scheme == \"Binary\":\n",
    "        for x in range(iters):\n",
    "            if x < iters / 2:\n",
    "                answer.append(1)\n",
    "            else:\n",
    "                answer.append(0)\n",
    "    elif scheme == \"Linear\":\n",
    "        for x in range(iters):\n",
    "            answer.append(1 - (x / iters))\n",
    "\n",
    "    if plot == \"Yes\":\n",
    "        plotanswer = np.repeat(answer, markovChain)\n",
    "        fig, ax = plt.subplots(1, 1, figsize=(5, 3))\n",
    "        ax.plot(plotanswer, label=\"Acceptance chance\")\n",
    "        ax.legend()\n",
    "        prettyfie(ax, \"iteration\", \"Acceptance\", scheme, legendYN=\"Yes\")\n",
    "        plt.show()\n",
    "    return np.array(answer)\n",
    "\n",
    "\n",
    "def incircle(crds, r=1):\n",
    "    return np.power(crds[0], 2) + np.power(crds[1], 2) < r\n",
    "\n",
    "\n",
    "def spawn(r=1):\n",
    "    x = random.uniform(-r, r)\n",
    "    limits = [-np.sqrt(r**2 - x**2), np.sqrt(r**2 - x**2)]\n",
    "    y = random.uniform(limits[0], limits[1])\n",
    "    return [x, y]\n",
    "\n",
    "\n",
    "# Good score when somewhere < 2\n",
    "def checkScore(coord):\n",
    "    totalDist = 0\n",
    "    for i in range(len(coord)):\n",
    "        for j in range(i, len(coord)):\n",
    "            if i != j:\n",
    "                totalDist += 1 / abs(\n",
    "                    math.hypot(coord[j][0] - coord[i][0],\n",
    "                               coord[j][1] - coord[i][1]))\n",
    "    return totalDist\n",
    "\n",
    "\n",
    "def move(k, coord, temp, rate):\n",
    "    F = np.array([0.0, 0.0])\n",
    "    velocity = np.zeros(2, float)\n",
    "    for l in coord:\n",
    "        if any(l != k):\n",
    "            r = np.array(k) - np.array(l)\n",
    "            F1 = (r / (np.linalg.norm(r)**3) * rate)\n",
    "            F += F1\n",
    "    newPoint = k + F\n",
    "    xr = random.uniform(-1, 1) * (1 / 50)\n",
    "    yr = random.uniform(-1, 1) * (1 / 50)\n",
    "    newPoint += [xr, yr]\n",
    "    if not incircle(newPoint, radius):\n",
    "        newPoint = newPoint / la.norm(newPoint)\n",
    "    return newPoint, F\n",
    "\n",
    "\n",
    "def submove(k, i, coord, temp, rate, score):\n",
    "    global coordListList\n",
    "    cT, favo = move(k, coord, temp, rate)\n",
    "    coordTemp = np.copy(coord)\n",
    "    coordTemp[i] = cT\n",
    "    coordListList.append(coordTemp)\n",
    "    scoreTemp = checkScore(coordTemp)\n",
    "    if temp > 0:\n",
    "        chance = np.exp(-(scoreTemp - score) / temp)\n",
    "    else:\n",
    "        chance = 0\n",
    "    if score > scoreTemp:\n",
    "        return np.array(coordTemp), favo\n",
    "    elif chance > random.random():\n",
    "        return np.array(coordTemp), favo\n",
    "    else:\n",
    "        return coord, favo\n",
    "\n",
    "\n",
    "def changeCoordSingle(coord, temp, rate):\n",
    "    score = checkScore(coord)\n",
    "    fav = []\n",
    "    for i, k in enumerate(coord):\n",
    "        coord, favo = submove(k, i, coord, temp, rate, score)\n",
    "        fav.append(favo)\n",
    "    return coord\n",
    "\n",
    "\n",
    "def changeCoordAll(coord, temp, rate):\n",
    "    coordTemp = []\n",
    "    score = checkScore(coord)\n",
    "    fav = []\n",
    "    for i, k in enumerate(coord):\n",
    "        cT, favo = move(k, coord, temp, rate)\n",
    "        coordTemp.append(cT)\n",
    "        fav.append(favo)\n",
    "    scoreTemp = checkScore(coordTemp)\n",
    "    if temp > 0:\n",
    "        chance = np.exp(-(scoreTemp - score) / temp)\n",
    "    else:\n",
    "        chance = 0\n",
    "    if score > scoreTemp:\n",
    "        return np.array(coordTemp)\n",
    "    elif chance > random.random():\n",
    "        return np.array(coordTemp)\n",
    "    else:\n",
    "        return changeCoordAll(coord, temp, rate)\n",
    "\n",
    "\n",
    "def start_sim(coordList,\n",
    "              radius,\n",
    "              pointsNum,\n",
    "              iterations,\n",
    "              rate,\n",
    "              scheme,\n",
    "              markovChain,\n",
    "              moveScheme,\n",
    "              plotScheme=\"No\"):\n",
    "#     global coordListList\n",
    "    schemeData = np.repeat(\n",
    "        getScheme_data(\n",
    "            math.ceil(iterations / markovChain),\n",
    "            plot=plotScheme,\n",
    "            scheme=scheme), markovChain)\n",
    "\n",
    "    #     coordListList = []\n",
    "    #     coordListList.append(coordList)\n",
    "    checklist = []\n",
    "    for i in range(iterations):\n",
    "        temp = schemeData[i]\n",
    "        coordList = moveScheme(coordList, temp, rate)\n",
    "        #         coordListList.append(coordList)\n",
    "        checklist.append(checkScore(coordList))\n",
    "\n",
    "    return checklist\n",
    "\n",
    "\n",
    "coordListList = []\n",
    "\n",
    "radius = 1\n",
    "pointsNums = list(range(11, 20))\n",
    "iterations = 50\n",
    "rate = math.pow(10, -4)\n",
    "schemes = [\"Exp\", \"Expvar\"]\n",
    "# checks = []\n",
    "# coordListListList = []\n",
    "results = {}\n",
    "mcl = [1, 5, 10]\n",
    "moveScheme = changeCoordSingle\n",
    "\n",
    "data = []\n",
    "rowcount = 0\n",
    "for i, scheme in enumerate(schemes):\n",
    "    printmd(f\"### scheme: {scheme}\")\n",
    "    for j, markovL in enumerate(mcl):\n",
    "        data.append([])\n",
    "        printmd(f\"### Markovlength: {markovL}\")\n",
    "        getScheme_data(\n",
    "            math.ceil(iterations / markovL),\n",
    "            plot=\"Yes\",\n",
    "            scheme=scheme,\n",
    "            markovChain=markovL)\n",
    "        for pointsNum in log_progress(pointsNums, every=1, size=len(pointsNums), name='Items'):\n",
    "            random.seed(147)\n",
    "            coordList = []    \n",
    "            for i in range(pointsNum):\n",
    "                coordList.append(spawn(radius))\n",
    "            coordList = np.array(coordList)\n",
    "            #             printmd(f\"## Number of points: {pointsNum}\")\n",
    "            checklist = start_sim(\n",
    "                coordList,\n",
    "                radius,\n",
    "                pointsNum,\n",
    "                iterations,\n",
    "                rate,\n",
    "                scheme,\n",
    "                markovL,\n",
    "                moveScheme,\n",
    "                plotScheme=\"No\")\n",
    "            data[rowcount].append(checklist[-1])\n",
    "        rowcount += 1\n",
    "\n",
    "schemas = []\n",
    "mcls = []\n",
    "for i, scheme in enumerate(schemes):\n",
    "    for ml in mcl:\n",
    "        schemas.append(scheme)\n",
    "        mcls.append(ml)\n",
    "arrays = [schemas, mcls]\n",
    "tuples = list(zip(*arrays))\n",
    "index = pd.MultiIndex.from_tuples(tuples, names=['Scheme', 'MarkovLength'])\n",
    "s = pd.DataFrame(data, index=index, columns=list(range(11, 11 + len(data[0]))))\n",
    "s.T"
   ]
  },
  {
   "cell_type": "code",
   "execution_count": 80,
   "metadata": {
    "ExecuteTime": {
     "end_time": "2018-12-11T16:05:21.716932Z",
     "start_time": "2018-12-11T16:05:21.712421Z"
    }
   },
   "outputs": [
    {
     "ename": "SyntaxError",
     "evalue": "invalid syntax (<ipython-input-80-de36242f59ca>, line 4)",
     "output_type": "error",
     "traceback": [
      "\u001b[1;36m  File \u001b[1;32m\"<ipython-input-80-de36242f59ca>\"\u001b[1;36m, line \u001b[1;32m4\u001b[0m\n\u001b[1;33m    display(meanRow)\u001b[0m\n\u001b[1;37m          ^\u001b[0m\n\u001b[1;31mSyntaxError\u001b[0m\u001b[1;31m:\u001b[0m invalid syntax\n"
     ]
    }
   ],
   "source": [
    "meanRow = list(s.mean(axis=0))\n",
    "p = s - s.mean()\n",
    "\n",
    "display(HTML(p.T.to_html())\n",
    "print(meanRow)\n",
    "display(HTML(p.to_html()))\n"
   ]
  },
  {
   "cell_type": "code",
   "execution_count": null,
   "metadata": {
    "ExecuteTime": {
     "end_time": "2018-12-11T12:08:43.514834Z",
     "start_time": "2018-12-11T12:08:42.052Z"
    }
   },
   "outputs": [],
   "source": [
    "schemas = []\n",
    "mcls = []\n",
    "data = np.random.randn(len(index),4)\n",
    "for i, scheme in enumerate(schemes):\n",
    "    for ml in mcl:\n",
    "        schemas.append(scheme)\n",
    "        mcls.append(ml)\n",
    "arrays = [schemas,mcls]\n",
    "tuples = list(zip(*arrays))\n",
    "index = pd.MultiIndex.from_tuples(tuples, names=['Scheme', 'MarkovLength'])\n",
    "print(data)\n",
    "s = pd.DataFrame(data, index=index, columns=list(range(11, 11 + len(data[0]))))\n",
    "s"
   ]
  },
  {
   "cell_type": "code",
   "execution_count": null,
   "metadata": {
    "ExecuteTime": {
     "end_time": "2018-12-11T12:08:43.516839Z",
     "start_time": "2018-12-11T12:08:42.056Z"
    }
   },
   "outputs": [],
   "source": [
    "# list(range(11, 11 + len(arrays)))\n",
    "arrays"
   ]
  },
  {
   "cell_type": "code",
   "execution_count": null,
   "metadata": {
    "ExecuteTime": {
     "end_time": "2018-12-11T12:08:43.518343Z",
     "start_time": "2018-12-11T12:08:42.061Z"
    }
   },
   "outputs": [],
   "source": [
    "def plot(coordList):\n",
    "    plt.rcParams['figure.figsize'] = [10, 10]\n",
    "    sns.set()\n",
    "    sns.set_style(\"white\")\n",
    "    fig = plt.figure()\n",
    "    ax = plt.subplot(111)\n",
    "    colors = list(range(len(coordList)))\n",
    "    ax.scatter(coordList[:, 0], coordList[:, 1], c=colors, cmap='Dark2')\n",
    "    circle1 = plt.Circle((0, 0), radius, alpha=0.2, color=\"olive\")\n",
    "    ax.add_artist(circle1)\n",
    "    plotpretify(\n",
    "        ax,\n",
    "        1.1,\n",
    "        minx=-1.1,\n",
    "        miny=-1.1,\n",
    "        maxy=1.1,\n",
    "        Grid=False,\n",
    "        LL=False,\n",
    "        LB=False)"
   ]
  },
  {
   "cell_type": "code",
   "execution_count": null,
   "metadata": {
    "ExecuteTime": {
     "end_time": "2018-12-11T12:08:43.519847Z",
     "start_time": "2018-12-11T12:08:42.065Z"
    },
    "scrolled": false
   },
   "outputs": [],
   "source": [
    "from ipywidgets import interact, interactive, fixed, interact_manual\n",
    "import ipywidgets as widgets\n",
    "from IPython.display import display\n",
    "\n",
    "for j in range(len(coordListListList)):\n",
    "    print(schemes[j])\n",
    "    def showPlot(i=0):\n",
    "        plot(coordListListList[j][i])\n",
    "\n",
    "for cll in coordListListList:\n",
    "    y = interactive(showPlot, i=(0, len(coordListListList[j]) - 1, 1))\n",
    "#     y = interactive(showPlot, i=range(len(coordListListList[j])))\n",
    "#     plot(coordListListList[j][-1])\n",
    "    display(y)"
   ]
  },
  {
   "cell_type": "code",
   "execution_count": null,
   "metadata": {},
   "outputs": [],
   "source": []
  }
 ],
 "metadata": {
  "celltoolbar": "Initialization Cell",
  "kernelspec": {
   "display_name": "Python 3",
   "language": "python",
   "name": "python3"
  },
  "language_info": {
   "codemirror_mode": {
    "name": "ipython",
    "version": 3
   },
   "file_extension": ".py",
   "mimetype": "text/x-python",
   "name": "python",
   "nbconvert_exporter": "python",
   "pygments_lexer": "ipython3",
   "version": "3.6.5"
  },
  "toc": {
   "base_numbering": 1,
   "nav_menu": {},
   "number_sections": true,
   "sideBar": true,
   "skip_h1_title": false,
   "title_cell": "Table of Contents",
   "title_sidebar": "Contents",
   "toc_cell": false,
   "toc_position": {},
   "toc_section_display": true,
   "toc_window_display": false
  },
  "varInspector": {
   "cols": {
    "lenName": 16,
    "lenType": 16,
    "lenVar": 40
   },
   "kernels_config": {
    "python": {
     "delete_cmd_postfix": "",
     "delete_cmd_prefix": "del ",
     "library": "var_list.py",
     "varRefreshCmd": "print(var_dic_list())"
    },
    "r": {
     "delete_cmd_postfix": ") ",
     "delete_cmd_prefix": "rm(",
     "library": "var_list.r",
     "varRefreshCmd": "cat(var_dic_list()) "
    }
   },
   "types_to_exclude": [
    "module",
    "function",
    "builtin_function_or_method",
    "instance",
    "_Feature"
   ],
   "window_display": false
  }
 },
 "nbformat": 4,
 "nbformat_minor": 2
}
