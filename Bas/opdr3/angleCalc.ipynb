{
 "cells": [
  {
   "cell_type": "code",
   "execution_count": 248,
   "metadata": {
    "ExecuteTime": {
     "end_time": "2018-12-06T12:08:39.884883Z",
     "start_time": "2018-12-06T12:08:39.880878Z"
    }
   },
   "outputs": [],
   "source": [
    "import numpy as np\n",
    "import matplotlib.pyplot as plt\n",
    "from matplotlib import colors\n",
    "from matplotlib.pyplot import plot, draw, show\n",
    "from scipy.linalg import lu\n",
    "import scipy.linalg as la\n",
    "import random\n",
    "import simpy\n",
    "import math\n",
    "import seaborn as sns\n",
    "from operator import itemgetter"
   ]
  },
  {
   "cell_type": "code",
   "execution_count": 372,
   "metadata": {
    "ExecuteTime": {
     "end_time": "2018-12-08T14:11:44.540245Z",
     "start_time": "2018-12-08T14:11:41.342122Z"
    },
    "scrolled": true
   },
   "outputs": [
    {
     "name": "stdout",
     "output_type": "stream",
     "text": [
      "Hey bro, zijn nu bij: Sigmoid\n"
     ]
    },
    {
     "data": {
      "image/png": "[encoded data removed]",
      "text/plain": [
       "<Figure size 720x720 with 1 Axes>"
      ]
     },
     "metadata": {},
     "output_type": "display_data"
    },
    {
     "name": "stdout",
     "output_type": "stream",
     "text": [
      "[50.23730583605752]\n"
     ]
    }
   ],
   "source": [
    "def plot(coordList):\n",
    "    plt.rcParams['figure.figsize'] = [10, 10]\n",
    "    sns.set()\n",
    "    sns.set_style(\"dark\")\n",
    "    fig = plt.figure()\n",
    "    ax = plt.subplot(111)\n",
    "    colors = list(range(len(coordList)))\n",
    "    ax.scatter(coordList[:, 0], coordList[:, 1], c=colors, cmap='Dark2')\n",
    "    circle1 = plt.Circle((0, 0), radius, alpha=0.2, color=\"olive\")\n",
    "    ax.add_artist(circle1)\n",
    "    plotpretify(\n",
    "        ax,\n",
    "        1.1,\n",
    "        minx=-1.1,\n",
    "        miny=-1.1,\n",
    "        maxy=1.1,\n",
    "        Grid=False,\n",
    "        LL=False,\n",
    "        LB=False)\n",
    "\n",
    "\n",
    "def getScheme_data(iters, plot=\"No\", scheme=\"Sigmoid\"):\n",
    "    \n",
    "    answer = []\n",
    "\n",
    "    if scheme == \"Sigmoid\":\n",
    "        linspace = np.linspace(0, 9, iters)\n",
    "        for x in linspace:\n",
    "            answer.append(0.5 +\n",
    "                          math.erf((math.sqrt(math.pi) / 2) * (x - 2)) * -0.5)\n",
    "    elif scheme == \"Exp\":\n",
    "        for x in range(iters):\n",
    "            answer.append(np.exp(-x / iters))\n",
    "    elif scheme == \"Expvar\":\n",
    "        for x in range(iters):\n",
    "            answer.append(max(np.exp(-x / iters) - ((3 * x) / iterations) * (1 / math.e), 0))\n",
    "    elif scheme == \"Hillclimb\":\n",
    "        for x in range(iters):\n",
    "            answer.append(0)\n",
    "    elif scheme == \"Binary\":\n",
    "        for x in range(iters):\n",
    "            if x < iters/2:\n",
    "                answer.append(1)\n",
    "            else:\n",
    "                answer.append(0)\n",
    "    elif scheme == \"acceptAll\":\n",
    "        for x in range(iters): answer.append(1)\n",
    "\n",
    "    if plot == \"Yes\":\n",
    "        fig, ax = plt.subplots(1, 1, figsize=(8, 5))\n",
    "        ax.plot(answer, label=\"Acceptance chance\")\n",
    "        plotpretify(ax, iters)\n",
    "        plt.show()\n",
    "    return np.array(answer)\n",
    "\n",
    "\n",
    "def incircle(crds, r=1):\n",
    "    return np.power(crds[0], 2) + np.power(crds[1], 2) < r\n",
    "\n",
    "\n",
    "def spawn(r=1):\n",
    "    x = random.uniform(-r, r)\n",
    "    limits = [-np.sqrt(r**2 - x**2), np.sqrt(r**2 - x**2)]\n",
    "    y = random.uniform(limits[0], limits[1])\n",
    "    return [x, y]\n",
    "\n",
    "\n",
    "# Good score when somewhere < 2\n",
    "def checkScore(coord):\n",
    "    totalDist = 0\n",
    "    for i in range(len(coord)):\n",
    "        for j in range(i, len(coord)):\n",
    "            if i != j:\n",
    "                totalDist += 1 / abs(\n",
    "                    math.hypot(coord[j][0] - coord[i][0],\n",
    "                               coord[j][1] - coord[i][1]))\n",
    "    return totalDist\n",
    "\n",
    "\n",
    "def move(k, coord, temp, rate):\n",
    "    F = np.array([0.0, 0.0])\n",
    "    for l in coord:\n",
    "        if any(l != k):\n",
    "            r = np.array(k) - np.array(l)\n",
    "            F1 = (r / (np.linalg.norm(r)**3) * rate)\n",
    "            F += F1\n",
    "    newPoint = k + F\n",
    "    xr = random.uniform(-1, 1) * F[0]\n",
    "    yr = random.uniform(-1, 1) * F[1]\n",
    "    newPoint += [xr, yr]\n",
    "    if not incircle(newPoint, radius):\n",
    "        newPoint = newPoint / la.norm(newPoint)\n",
    "    return newPoint, F\n",
    "\n",
    "\n",
    "def changeCoord(coord, temp, rate):\n",
    "    coordTemp = []\n",
    "    score = checkScore(coord)\n",
    "    fav = []\n",
    "    for i, k in enumerate(coord):\n",
    "        cT, favo = move(k, coord, temp, rate)\n",
    "        coordTemp.append(cT)\n",
    "        fav.append(favo)\n",
    "    if score > checkScore(coordTemp):\n",
    "        return np.array(coordTemp)\n",
    "    elif temp > random.random():\n",
    "        return np.array(coordTemp)\n",
    "    else:\n",
    "        return changeCoord(coord, temp, rate)\n",
    "\n",
    "\n",
    "def start_sim(radius, pointsNum, iterations, rate, scheme, markovChain, plotScheme=\"No\"):\n",
    "    coordList = []\n",
    "    schemeData = np.repeat(getScheme_data(int(iterations/markovChain), plot=plotScheme, scheme=scheme), markovChain)\n",
    "\n",
    "    for i in range(pointsNum):\n",
    "        coordList.append(spawn(radius))\n",
    "    coordList = np.array(coordList)\n",
    "\n",
    "    coordListList = [coordList]\n",
    "    checklist = []\n",
    "    for i in range(iterations):\n",
    "        temp = schemeData[i]\n",
    "        coordList = changeCoord(coordList, temp, rate)\n",
    "        coordListList.append(coordList)\n",
    "        checklist.append(checkScore(coordList))\n",
    "\n",
    "    return coordList, coordListList, checklist\n",
    "\n",
    "\n",
    "radius = 1\n",
    "pointsNum = 11\n",
    "iterations = 2000\n",
    "rate = math.pow(10, -4)\n",
    "markovChain = 1\n",
    "schemes = [\"Sigmoid\"]\n",
    "# , \"Exp\", \"Expvar\", \"Hillclimb\", \"Binary\", \"acceptAll\"]\n",
    "checks = []\n",
    "coordListListList = []\n",
    "\n",
    "for scheme in schemes:\n",
    "    print(f\"Hey bro, zijn nu bij: {scheme}\")\n",
    "    coordList, coordListList, checklist = start_sim(radius, pointsNum,\n",
    "                                                iterations, rate, scheme, markovChain ,plotScheme=\"No\")\n",
    "    checks.append(checklist)\n",
    "    coordListListList.append(coordListList)\n",
    "    \n",
    "    \n",
    "[plt.plot(check, label=schemes[i]) for i,check in enumerate(checks)]\n",
    "plt.legend()\n",
    "plt.show()\n",
    "print([check[-1] for check in checks])"
   ]
  },
  {
   "cell_type": "code",
   "execution_count": 373,
   "metadata": {
    "ExecuteTime": {
     "end_time": "2018-12-08T14:11:46.968162Z",
     "start_time": "2018-12-08T14:11:46.616727Z"
    },
    "scrolled": false
   },
   "outputs": [
    {
     "name": "stdout",
     "output_type": "stream",
     "text": [
      "Sigmoid\n"
     ]
    },
    {
     "data": {
      "application/vnd.jupyter.widget-view+json": {
       "model_id": "d8dabaedecc7492782bafe797e5641ad",
       "version_major": 2,
       "version_minor": 0
      },
      "text/plain": [
       "interactive(children=(IntSlider(value=0, description='i', max=2000), Output()), _dom_classes=('widget-interact…"
      ]
     },
     "metadata": {},
     "output_type": "display_data"
    }
   ],
   "source": [
    "from ipywidgets import interact, interactive, fixed, interact_manual\n",
    "import ipywidgets as widgets\n",
    "from IPython.display import display\n",
    "\n",
    "for j in range(len(coordListListList)):\n",
    "    print(schemes[j])\n",
    "    def showPlot(i=0):\n",
    "        plot(coordListListList[j][i])\n",
    "\n",
    "    # for cll in coordListListList:\n",
    "    y = interactive(showPlot, i=(0, len(coordListListList[j]) - 1, 1))\n",
    "    display(y)"
   ]
  },
  {
   "cell_type": "code",
   "execution_count": 281,
   "metadata": {
    "ExecuteTime": {
     "end_time": "2018-12-06T13:25:35.155529Z",
     "start_time": "2018-12-06T13:25:35.152522Z"
    }
   },
   "outputs": [
    {
     "data": {
      "text/plain": [
       "1e-05"
      ]
     },
     "execution_count": 281,
     "metadata": {},
     "output_type": "execute_result"
    }
   ],
   "source": [
    "a = np.array([1,2,3])\n",
    "np.repeat(a,3)"
   ]
  }
 ],
 "metadata": {
  "kernelspec": {
   "display_name": "Python 3",
   "language": "python",
   "name": "python3"
  },
  "language_info": {
   "codemirror_mode": {
    "name": "ipython",
    "version": 3
   },
   "file_extension": ".py",
   "mimetype": "text/x-python",
   "name": "python",
   "nbconvert_exporter": "python",
   "pygments_lexer": "ipython3",
   "version": "3.6.5"
  },
  "toc": {
   "base_numbering": 1,
   "nav_menu": {},
   "number_sections": true,
   "sideBar": true,
   "skip_h1_title": false,
   "title_cell": "Table of Contents",
   "title_sidebar": "Contents",
   "toc_cell": false,
   "toc_position": {},
   "toc_section_display": true,
   "toc_window_display": false
  },
  "varInspector": {
   "cols": {
    "lenName": 16,
    "lenType": 16,
    "lenVar": 40
   },
   "kernels_config": {
    "python": {
     "delete_cmd_postfix": "",
     "delete_cmd_prefix": "del ",
     "library": "var_list.py",
     "varRefreshCmd": "print(var_dic_list())"
    },
    "r": {
     "delete_cmd_postfix": ") ",
     "delete_cmd_prefix": "rm(",
     "library": "var_list.r",
     "varRefreshCmd": "cat(var_dic_list()) "
    }
   },
   "types_to_exclude": [
    "module",
    "function",
    "builtin_function_or_method",
    "instance",
    "_Feature"
   ],
   "window_display": false
  }
 },
 "nbformat": 4,
 "nbformat_minor": 2
}
