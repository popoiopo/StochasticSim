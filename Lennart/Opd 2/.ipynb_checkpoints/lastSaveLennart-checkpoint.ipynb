{
 "cells": [
  {
   "cell_type": "code",
   "execution_count": 1,
   "metadata": {
    "ExecuteTime": {
     "end_time": "2018-11-30T15:47:16.768886Z",
     "start_time": "2018-11-30T15:47:16.191187Z"
    }
   },
   "outputs": [],
   "source": [
    "import numpy as np\n",
    "import matplotlib.pyplot as plt\n",
    "from matplotlib import colors\n",
    "from matplotlib.pyplot import plot, draw, show\n",
    "from scipy.linalg import lu\n",
    "import scipy.linalg as la\n",
    "import scipy.stats as st\n",
    "import random\n",
    "import simpy\n",
    "import pandas as pd\n",
    "import math\n",
    "from IPython.display import display, HTML\n",
    "import seaborn as sns"
   ]
  },
  {
   "cell_type": "code",
   "execution_count": 44,
   "metadata": {
    "ExecuteTime": {
     "end_time": "2018-11-30T17:00:01.210639Z",
     "start_time": "2018-11-30T17:00:01.180636Z"
    }
   },
   "outputs": [],
   "source": [
    "class Queue(object):\n",
    "    def __init__(self, env, N, resource, helperIndex):\n",
    "        self.env = env\n",
    "        self.machine = resource(env, N)\n",
    "        self.customerHelped = 0\n",
    "        self.serverN = N\n",
    "        self.helperIndex = helperIndex\n",
    "\n",
    "    def helped(self, customer, customerServe, timestmp):\n",
    "        timestmp.append(self.env.now)\n",
    "        yield self.env.timeout(customerServe)\n",
    "\n",
    "\n",
    "def checkTest(now, entertime, customerHelped, runLength, customerLeft, cw,\n",
    "              tmpWait):\n",
    "    if customerLeft < runLength:\n",
    "        return None\n",
    "    elif customerLeft % runLength == 0:\n",
    "        if customerLeft != 0:\n",
    "            if len(cw.subWaitingList) != 0:\n",
    "                submean = np.mean(cw.subWaitingList)\n",
    "                del cw.subWaitingList[:]\n",
    "                return submean\n",
    "        del cw.subWaitingList[:]\n",
    "    elif 0 < customerLeft % runLength <= 0.3 * runLength:\n",
    "        pass\n",
    "    elif 0.3 * runLength < customerLeft % runLength < runLength:\n",
    "        tmpWait.append(now - entertime)\n",
    "        cw.subWaitingList.append(now - entertime)\n",
    "    return None\n",
    "\n",
    "\n",
    "def customer(env, cw, resource, serviceScheme, runLength, cid, tmpWait,\n",
    "             tmpServe, tmpRho, timestmp, tmpSub):\n",
    "    #     global customerLeft\n",
    "    if serviceScheme == \"Long-Tailed\":\n",
    "        rCheck = random.random()\n",
    "        if rCheck <= 0.75:\n",
    "            customerServeTime = np.random.poisson(ltLow[cw.helperIndex])\n",
    "        else:\n",
    "            customerServeTime = np.random.poisson(ltHigh[cw.helperIndex])\n",
    "    elif serviceScheme == \"Poisson\":\n",
    "        customerServeTime = np.random.poisson(\n",
    "            1.0 / serviceTime[cw.helperIndex])\n",
    "    elif serviceScheme == \"Random\":\n",
    "        customerServeTime = random.uniform(\n",
    "            serviceTime[cw.helperIndex] - randspread[cw.helperIndex],\n",
    "            serviceTime[cw.helperIndex] + randspread[cw.helperIndex])\n",
    "    elif serviceScheme == \"Deterministic\":\n",
    "        customerServeTime = 1 / serviceTime[cw.helperIndex]\n",
    "    elif serviceScheme == \"Inverse\":\n",
    "        customerServeTime = qServeInv[cw.helperIndex][cw.customerHelped]\n",
    "    elif serviceScheme == \"Exponential\":\n",
    "        customerServeTime = np.random.exponential(1.0 / serviceTime[cw.helperIndex])\n",
    "\n",
    "    customerServeTime = 0.000001 if customerServeTime == 0 else customerServeTime\n",
    "\n",
    "    tmpRho.append(\n",
    "        lambdaIAT[cw.helperIndex] / (cw.serverN * (1 / customerServeTime)))\n",
    "\n",
    "    enterQueue = env.now\n",
    "    if resource == simpy.PriorityResource:\n",
    "        with cw.machine.request(priority=customerServeTime) as request:\n",
    "            request.time = customerServeTime\n",
    "            yield request\n",
    "            cw.customerLeft += 1\n",
    "\n",
    "            blockMean = checkTest(env.now, enterQueue, cw.customerHelped,\n",
    "                                  runLength, cw.customerLeft, cw, tmpWait)\n",
    "\n",
    "            if blockMean != None:\n",
    "                tmpSub.append(blockMean)\n",
    "\n",
    "            tmpServe.append(customerServeTime)\n",
    "            yield env.process(\n",
    "                cw.helped(cw.customerHelped, customerServeTime, timestmp))\n",
    "\n",
    "    elif resource == simpy.Resource:\n",
    "        with cw.machine.request() as request:\n",
    "            request.time = customerServeTime\n",
    "            yield request\n",
    "            cw.customerLeft += 1\n",
    "\n",
    "            blockMean = checkTest(env.now, enterQueue, cw.customerHelped,\n",
    "                                  runLength, cw.customerLeft, cw, tmpWait)\n",
    "\n",
    "            if blockMean != None:\n",
    "                tmpSub.append(blockMean)\n",
    "\n",
    "            tmpServe.append(customerServeTime)\n",
    "            yield env.process(\n",
    "                cw.helped(cw.customerHelped, customerServeTime, timestmp))\n",
    "\n",
    "\n",
    "def setup(env, N, lambdaIAT, customerCount, resource, serviceScheme,\n",
    "          helperIndex, runLength, customerLeft, subWaitingList, tmpWait,\n",
    "          tmpServe, tmpRho, timestmp, tmpSub, rush=False):\n",
    "    queue = Queue(env, N, resource, helperIndex)\n",
    "    queue.customerLeft = customerLeft\n",
    "    queue.subWaitingList = subWaitingList\n",
    "    # Create more customers while the simulation is running\n",
    "    if rush:\n",
    "        s = []\n",
    "        for _ in range(int(customerCount / runLength)):\n",
    "            s.append(list(np.random.exponential(1/lambdaIAT, int(0.7 * runLength))))\n",
    "            s.append(list(np.random.exponential(1/(2 * lambdaIAT), int(0.2 * runLength))))\n",
    "            s.append(list(np.random.exponential(1/lambdaIAT, int(0.1 * runLength))))\n",
    "            \n",
    "        s = np.hstack(s)\n",
    "            \n",
    "            \n",
    "    else:\n",
    "        s = np.random.exponential(1.0 / lambdaIAT, customerCount)\n",
    "    #     s = [1 / lambdaIAT for customer in range(customerCount)]\n",
    "    cid = 0\n",
    "    for i in range(4):\n",
    "        cid += 1\n",
    "        env.process(\n",
    "            customer(env, queue, resource, serviceScheme, runLength, cid,\n",
    "                     tmpWait, tmpServe, tmpRho, timestmp, tmpSub))\n",
    "    while queue.customerHelped < customerCount:\n",
    "        yield env.timeout(s[queue.customerHelped])\n",
    "        queue.customerHelped += 1\n",
    "        cid += 1\n",
    "        env.process(\n",
    "            customer(env, queue, resource, serviceScheme, runLength, cid,\n",
    "                     tmpWait, tmpServe, tmpRho, timestmp, tmpSub))\n",
    "\n",
    "\n",
    "def runSim(resources, serviceScheme, rush=False):\n",
    "    columns = [\n",
    "        \"Rho\", \"Average\", \"Variance\", \"std_dev\", \"Resource\", \"Helpers\", \"run\",\n",
    "        \"serviceScheme\", \"ServeMean\", \"blockMean\"\n",
    "    ]\n",
    "    resourceStatsRun = pd.DataFrame(columns=columns)\n",
    "    customerAll = pd.DataFrame(columns=columns)\n",
    "    RANDOM_SEED = 0\n",
    "\n",
    "    for resource in resources:\n",
    "        for helperIndex, N in enumerate(N_helpers):\n",
    "            print(str(resource)[33:-2], N)\n",
    "            runServe = []\n",
    "            runWait = []\n",
    "            runRho = []\n",
    "            times = []\n",
    "            runSub = []\n",
    "            for j in range(NRUNS):\n",
    "                RANDOM_SEED += 1\n",
    "                random.seed(RANDOM_SEED)\n",
    "                np.random.seed(RANDOM_SEED)\n",
    "                timestmp = []\n",
    "                random.seed(RANDOM_SEED)\n",
    "                np.random.seed(RANDOM_SEED)\n",
    "                subWaitingList = []\n",
    "                customerLeft = 0\n",
    "                tmpWait = []\n",
    "                tmpServe = []\n",
    "                tmpRho = []\n",
    "                tmpSub = []\n",
    "                env = simpy.Environment()\n",
    "                env.process(\n",
    "                    setup(env, N, lambdaIAT[helperIndex],\n",
    "                          customerCount[helperIndex], resource, serviceScheme,\n",
    "                          helperIndex, runLength[helperIndex], customerLeft,\n",
    "                          subWaitingList, tmpWait, tmpServe, tmpRho, timestmp,\n",
    "                          tmpSub, rush=rush))\n",
    "                env.run()\n",
    "\n",
    "                resourceStatsRun.loc[serviceScheme + \"_\" + str(resource)[33:-2]\n",
    "                                     + \"_\" + str(j) + \"_\" + str(N)] = [\n",
    "                                         np.mean(tmpRho),\n",
    "                                         np.mean(tmpWait),\n",
    "                                         np.var(tmpWait),\n",
    "                                         np.std(tmpWait),\n",
    "                                         str(resource)[33:-2], N, j,\n",
    "                                         serviceScheme,\n",
    "                                         np.mean(tmpServe),\n",
    "                                         np.mean(tmpSub)\n",
    "                                     ]\n",
    "\n",
    "                runWait.append(tmpWait)\n",
    "                runServe.append(tmpServe)\n",
    "                runRho.append(tmpRho)\n",
    "                runSub.append(tmpSub)\n",
    "                times.append(timestmp[-1])\n",
    "\n",
    "            np.array(runWait).flatten()\n",
    "            np.array(runServe).flatten()\n",
    "            np.array(runRho).flatten()\n",
    "            np.array(runSub).flatten()\n",
    "            customerAll.loc[serviceScheme + \"_\" + str(resource)[33:-2] + \"_\" +\n",
    "                            str(N)] = [\n",
    "                                np.mean(runRho),\n",
    "                                np.mean(runWait),\n",
    "                                np.var(runWait),\n",
    "                                np.std(runWait),\n",
    "                                str(resource)[33:-2], N, None, serviceScheme,\n",
    "                                np.mean(runServe), np.mean(runSub)\n",
    "                            ]\n",
    "\n",
    "    return customerAll, resourceStatsRun"
   ]
  },
  {
   "cell_type": "code",
   "execution_count": 3,
   "metadata": {
    "ExecuteTime": {
     "end_time": "2018-11-30T15:47:24.599520Z",
     "start_time": "2018-11-30T15:47:24.583364Z"
    },
    "code_folding": []
   },
   "outputs": [],
   "source": [
    "def averageQueueTimesTwee(lamb, mu):\n",
    "    rho = lamb / mu\n",
    "    up = (rho**3)\n",
    "    low = lamb * (1 - (rho**2))\n",
    "    return up / low\n",
    "\n",
    "\n",
    "def averageTimesTwee(lamb, mu):\n",
    "    up = mu**2 + lamb**2\n",
    "    low = mu * (mu**2 - lamb**2)\n",
    "    return up / low\n",
    "\n",
    "\n",
    "def averageCustomersTwee(lamb, mu):\n",
    "    rho = lamb / mu\n",
    "    up = rho * (mu**2 + lamb**2)\n",
    "    low = mu**2 - lamb**2\n",
    "    return up / low\n",
    "\n",
    "\n",
    "def averageQueueCustomersTwee(lamb, mu):\n",
    "    rho = lamb / mu\n",
    "    up = 2 * rho**3\n",
    "    low = 1 - rho**2\n",
    "    return up / low\n",
    "\n",
    "\n",
    "def C(rho, n):\n",
    "    up = ((rho**n) / math.factorial(n)) * (n / (n - rho))\n",
    "    low1 = 0\n",
    "    for k in range(n):\n",
    "        low1 += ((rho**k) / math.factorial(k))\n",
    "    low2 = ((rho**n) * n) / (math.factorial(n) * (n - rho))\n",
    "    low = low1 + low2\n",
    "    return up / low\n",
    "\n",
    "\n",
    "def ErlangC(A, N):\n",
    "    L = (A**N / math.factorial(N)) * (N / (N - A))\n",
    "    sum_ = 0\n",
    "    for i in range(N):\n",
    "        sum_ += (A**i) / math.factorial(i)\n",
    "    return (L / (sum_ + L))\n",
    "\n",
    "\n",
    "def Wq(rho, mu, n):\n",
    "    Pq = C(rho, n)\n",
    "    a = 1 / (mu * (n - rho))\n",
    "    return a * Pq\n",
    "\n",
    "\n",
    "def averageQueueTimesOne(lamb, mu):\n",
    "    rho = lamb / mu\n",
    "    up = rho\n",
    "    low = mu * (1 - rho)\n",
    "    return up / low\n",
    "\n",
    "\n",
    "def getConf(rRD, var, n, l, u, rho):\n",
    "    data = {}\n",
    "\n",
    "    for resource in resources:\n",
    "        data.setdefault(resource, {})\n",
    "        for N in N_helpers:\n",
    "            data[resource].setdefault(N, [])\n",
    "            a = list(rRD.loc[(rRD.Resource == str(resource)[33:-2])\n",
    "                             & (rRD.Helpers == N)][var])\n",
    "            interval = st.t.interval(\n",
    "                0.95, len(a) - 1, loc=np.mean(a), scale=st.sem(a))\n",
    "            data[resource][N].append(interval)\n",
    "\n",
    "            data[resource][\"SampleSize\" + str(N)] = np.sqrt(\n",
    "                np.std(a) / (np.mean(a) - Wq(N * rho, u, n)))\n",
    "\n",
    "    return data"
   ]
  },
  {
   "cell_type": "code",
   "execution_count": 48,
   "metadata": {
    "ExecuteTime": {
     "end_time": "2018-11-30T17:01:38.211133Z",
     "start_time": "2018-11-30T17:01:38.200136Z"
    }
   },
   "outputs": [],
   "source": [
    "# Init simulation specific parameters\n",
    "N_helpers = [1, 2, 4]  # Number of machines in the queue\n",
    "chanceLongTail = 0.75  # Chance of longtail lowerbound\n",
    "NRUNS = 50\n",
    "lI = 0.96\n",
    "lambdaIAT = [N * lI for N in N_helpers]  # Create a customer every ~lI minutes\n",
    "cC = 5000\n",
    "customerCount = [N * cC for N in N_helpers]  # Amount of customers\n",
    "rL = 1000\n",
    "runLength = [N * rL for N in N_helpers]  # Amount of customer per average block\n",
    "\n",
    "# Init servicetimes\n",
    "# Minutes it takes to help a customer / Deterministic\n",
    "serveT = 1\n",
    "serviceTime = [serveT for N in N_helpers]\n",
    "# Lower bound long-tailed distribution\n",
    "ltLow = [0.8 for N in N_helpers]\n",
    "# Upper bound long-tailed distribution\n",
    "ltHigh = [5 for N in N_helpers]\n",
    "# Spread of the random distribution\n",
    "randspread = [1 for N in N_helpers]\n",
    "# max service time for the inverse servicetime\n",
    "invMax = [45 for N in N_helpers]\n",
    "# Inverse servetimes\n",
    "qServeInv = [[\n",
    "    i for i in range(invMax[queueIndex], -1, -1)\n",
    "    for x in range(math.ceil(customerCount[queueIndex] / invMax[queueIndex]))\n",
    "] for queueIndex in range(len(N_helpers))]\n",
    "\n",
    "rho = lI / serveT\n",
    "resources = [simpy.PriorityResource, simpy.Resource]"
   ]
  },
  {
   "cell_type": "code",
   "execution_count": 19,
   "metadata": {
    "ExecuteTime": {
     "end_time": "2018-11-30T15:52:48.826342Z",
     "start_time": "2018-11-30T15:51:33.755272Z"
    }
   },
   "outputs": [
    {
     "name": "stdout",
     "output_type": "stream",
     "text": [
      "PriorityResource 1\n",
      "PriorityResource 2\n",
      "PriorityResource 4\n",
      "Resource 1\n",
      "Resource 2\n",
      "Resource 4\n"
     ]
    }
   ],
   "source": [
    "serviceScheme = \"Deterministic\"\n",
    "customerAllDet, resourceRunDet = runSim(resources, serviceScheme)"
   ]
  },
  {
   "cell_type": "code",
   "execution_count": 55,
   "metadata": {
    "ExecuteTime": {
     "end_time": "2018-11-30T17:26:28.366998Z",
     "start_time": "2018-11-30T17:26:28.329075Z"
    }
   },
   "outputs": [
    {
     "name": "stderr",
     "output_type": "stream",
     "text": [
      "/home/lennart/anaconda3/lib/python3.6/site-packages/ipykernel_launcher.py:73: RuntimeWarning: invalid value encountered in sqrt\n"
     ]
    },
    {
     "data": {
      "text/html": [
       "<div>\n",
       "<style scoped>\n",
       "    .dataframe tbody tr th:only-of-type {\n",
       "        vertical-align: middle;\n",
       "    }\n",
       "\n",
       "    .dataframe tbody tr th {\n",
       "        vertical-align: top;\n",
       "    }\n",
       "\n",
       "    .dataframe thead th {\n",
       "        text-align: right;\n",
       "    }\n",
       "</style>\n",
       "<table border=\"1\" class=\"dataframe\">\n",
       "  <thead>\n",
       "    <tr style=\"text-align: right;\">\n",
       "      <th></th>\n",
       "      <th>&lt;class 'simpy.resources.resource.PriorityResource'&gt;</th>\n",
       "      <th>&lt;class 'simpy.resources.resource.Resource'&gt;</th>\n",
       "    </tr>\n",
       "  </thead>\n",
       "  <tbody>\n",
       "    <tr>\n",
       "      <th>1</th>\n",
       "      <td>[(10.138355783058755, 15.08034802572872)]</td>\n",
       "      <td>[(9.136984331071876, 17.856448032618236)]</td>\n",
       "    </tr>\n",
       "    <tr>\n",
       "      <th>SampleSize1</th>\n",
       "      <td>NaN</td>\n",
       "      <td>NaN</td>\n",
       "    </tr>\n",
       "    <tr>\n",
       "      <th>2</th>\n",
       "      <td>[(4.718135879446981, 6.312945725725642)]</td>\n",
       "      <td>[(5.095048901816862, 6.282599111450739)]</td>\n",
       "    </tr>\n",
       "    <tr>\n",
       "      <th>SampleSize2</th>\n",
       "      <td>0.467372</td>\n",
       "      <td>0.398786</td>\n",
       "    </tr>\n",
       "    <tr>\n",
       "      <th>4</th>\n",
       "      <td>[(2.527303338196379, 3.3092908802096694)]</td>\n",
       "      <td>[(2.6729317036933335, 3.4334210404542413)]</td>\n",
       "    </tr>\n",
       "    <tr>\n",
       "      <th>SampleSize4</th>\n",
       "      <td>0.436668</td>\n",
       "      <td>0.42398</td>\n",
       "    </tr>\n",
       "  </tbody>\n",
       "</table>\n",
       "</div>"
      ],
      "text/plain": [
       "            <class 'simpy.resources.resource.PriorityResource'>  \\\n",
       "1                    [(10.138355783058755, 15.08034802572872)]    \n",
       "SampleSize1                                                NaN    \n",
       "2                     [(4.718135879446981, 6.312945725725642)]    \n",
       "SampleSize2                                           0.467372    \n",
       "4                    [(2.527303338196379, 3.3092908802096694)]    \n",
       "SampleSize4                                           0.436668    \n",
       "\n",
       "            <class 'simpy.resources.resource.Resource'>  \n",
       "1             [(9.136984331071876, 17.856448032618236)]  \n",
       "SampleSize1                                         NaN  \n",
       "2              [(5.095048901816862, 6.282599111450739)]  \n",
       "SampleSize2                                    0.398786  \n",
       "4            [(2.6729317036933335, 3.4334210404542413)]  \n",
       "SampleSize4                                     0.42398  "
      ]
     },
     "execution_count": 55,
     "metadata": {},
     "output_type": "execute_result"
    }
   ],
   "source": [
    "pd.DataFrame(getConf(resourceRunDet, \"blockMean\", 1, lI, serveT, rho))"
   ]
  },
  {
   "cell_type": "code",
   "execution_count": 21,
   "metadata": {
    "ExecuteTime": {
     "end_time": "2018-11-30T15:52:50.459754Z",
     "start_time": "2018-11-30T15:52:50.365385Z"
    }
   },
   "outputs": [
    {
     "data": {
      "text/html": [
       "<table border=\"1\" class=\"dataframe\">\n",
       "  <thead>\n",
       "    <tr style=\"text-align: right;\">\n",
       "      <th></th>\n",
       "      <th></th>\n",
       "      <th></th>\n",
       "      <th>count</th>\n",
       "      <th>mean</th>\n",
       "      <th>std</th>\n",
       "      <th>min</th>\n",
       "      <th>25%</th>\n",
       "      <th>50%</th>\n",
       "      <th>75%</th>\n",
       "      <th>max</th>\n",
       "    </tr>\n",
       "    <tr>\n",
       "      <th>serviceScheme</th>\n",
       "      <th>Resource</th>\n",
       "      <th>Helpers</th>\n",
       "      <th></th>\n",
       "      <th></th>\n",
       "      <th></th>\n",
       "      <th></th>\n",
       "      <th></th>\n",
       "      <th></th>\n",
       "      <th></th>\n",
       "      <th></th>\n",
       "    </tr>\n",
       "  </thead>\n",
       "  <tbody>\n",
       "    <tr>\n",
       "      <th rowspan=\"6\" valign=\"top\">Deterministic</th>\n",
       "      <th rowspan=\"3\" valign=\"top\">PriorityResource</th>\n",
       "      <th>1</th>\n",
       "      <td>20.0</td>\n",
       "      <td>12.609352</td>\n",
       "      <td>5.279744</td>\n",
       "      <td>4.276474</td>\n",
       "      <td>8.303775</td>\n",
       "      <td>12.061092</td>\n",
       "      <td>15.676882</td>\n",
       "      <td>24.494070</td>\n",
       "    </tr>\n",
       "    <tr>\n",
       "      <th>2</th>\n",
       "      <td>20.0</td>\n",
       "      <td>5.515541</td>\n",
       "      <td>1.703804</td>\n",
       "      <td>3.229288</td>\n",
       "      <td>4.343466</td>\n",
       "      <td>5.095959</td>\n",
       "      <td>6.294818</td>\n",
       "      <td>9.511255</td>\n",
       "    </tr>\n",
       "    <tr>\n",
       "      <th>4</th>\n",
       "      <td>20.0</td>\n",
       "      <td>2.918297</td>\n",
       "      <td>0.835431</td>\n",
       "      <td>1.666106</td>\n",
       "      <td>2.361815</td>\n",
       "      <td>2.755283</td>\n",
       "      <td>3.181561</td>\n",
       "      <td>5.272372</td>\n",
       "    </tr>\n",
       "    <tr>\n",
       "      <th rowspan=\"3\" valign=\"top\">Resource</th>\n",
       "      <th>1</th>\n",
       "      <td>20.0</td>\n",
       "      <td>13.496716</td>\n",
       "      <td>9.315380</td>\n",
       "      <td>6.451434</td>\n",
       "      <td>8.530668</td>\n",
       "      <td>10.108320</td>\n",
       "      <td>11.427185</td>\n",
       "      <td>40.715664</td>\n",
       "    </tr>\n",
       "    <tr>\n",
       "      <th>2</th>\n",
       "      <td>20.0</td>\n",
       "      <td>5.688824</td>\n",
       "      <td>1.268711</td>\n",
       "      <td>3.720244</td>\n",
       "      <td>4.793956</td>\n",
       "      <td>5.661705</td>\n",
       "      <td>6.281438</td>\n",
       "      <td>8.890604</td>\n",
       "    </tr>\n",
       "    <tr>\n",
       "      <th>4</th>\n",
       "      <td>20.0</td>\n",
       "      <td>3.053176</td>\n",
       "      <td>0.812464</td>\n",
       "      <td>1.855100</td>\n",
       "      <td>2.546117</td>\n",
       "      <td>2.744178</td>\n",
       "      <td>3.580593</td>\n",
       "      <td>4.986957</td>\n",
       "    </tr>\n",
       "  </tbody>\n",
       "</table>"
      ],
      "text/plain": [
       "<IPython.core.display.HTML object>"
      ]
     },
     "metadata": {},
     "output_type": "display_data"
    }
   ],
   "source": [
    "grp = resourceRunDet.groupby([\"serviceScheme\", \"Resource\", \"Helpers\"])\n",
    "grpDescr = grp.describe()\n",
    "display(HTML(grpDescr.blockMean.to_html()))"
   ]
  },
  {
   "cell_type": "code",
   "execution_count": 25,
   "metadata": {
    "ExecuteTime": {
     "end_time": "2018-11-30T15:56:41.465241Z",
     "start_time": "2018-11-30T15:56:41.221992Z"
    }
   },
   "outputs": [
    {
     "name": "stderr",
     "output_type": "stream",
     "text": [
      "/home/lennart/.local/lib/python3.6/site-packages/scipy/stats/stats.py:1390: UserWarning: kurtosistest only valid for n>=20 ... continuing anyway, n=10\n",
      "  \"anyway, n=%i\" % int(n))\n",
      "/home/lennart/.local/lib/python3.6/site-packages/scipy/stats/stats.py:1390: UserWarning: kurtosistest only valid for n>=20 ... continuing anyway, n=10\n",
      "  \"anyway, n=%i\" % int(n))\n",
      "/home/lennart/.local/lib/python3.6/site-packages/scipy/stats/stats.py:1390: UserWarning: kurtosistest only valid for n>=20 ... continuing anyway, n=10\n",
      "  \"anyway, n=%i\" % int(n))\n",
      "/home/lennart/.local/lib/python3.6/site-packages/scipy/stats/stats.py:1390: UserWarning: kurtosistest only valid for n>=20 ... continuing anyway, n=10\n",
      "  \"anyway, n=%i\" % int(n))\n",
      "/home/lennart/.local/lib/python3.6/site-packages/scipy/stats/stats.py:1390: UserWarning: kurtosistest only valid for n>=20 ... continuing anyway, n=10\n",
      "  \"anyway, n=%i\" % int(n))\n",
      "/home/lennart/.local/lib/python3.6/site-packages/scipy/stats/stats.py:1390: UserWarning: kurtosistest only valid for n>=20 ... continuing anyway, n=10\n",
      "  \"anyway, n=%i\" % int(n))\n"
     ]
    },
    {
     "name": "stdout",
     "output_type": "stream",
     "text": [
      "\n",
      "Central Limit Theorem\n",
      "Resource for 1 helpers\n",
      "distribution is with a p < 0.05 (0.017880181708300833) the distribution is not normal\n",
      "\n",
      "Central Limit Theorem\n",
      "Resource for 2 helpers\n",
      "distribution is with a p > 0.05 (0.29646828205252945) the distribution is normally distributed\n",
      "\n",
      "Central Limit Theorem\n",
      "Resource for 4 helpers\n",
      "distribution is with a p > 0.05 (0.09064080967444807) the distribution is normally distributed\n",
      "\n",
      "Central Limit Theorem\n",
      "PriorityResource for 1 helpers\n",
      "distribution is with a p > 0.05 (0.42054503163962376) the distribution is normally distributed\n",
      "\n",
      "Central Limit Theorem\n",
      "PriorityResource for 2 helpers\n",
      "distribution is with a p > 0.05 (0.38376976871812524) the distribution is normally distributed\n",
      "\n",
      "Central Limit Theorem\n",
      "PriorityResource for 4 helpers\n",
      "distribution is with a p > 0.05 (0.6356880504178628) the distribution is normally distributed\n"
     ]
    },
    {
     "data": {
      "image/png": "[encoded data removed]",
      "text/plain": [
       "<matplotlib.figure.Figure at 0x7fca1bb6be48>"
      ]
     },
     "metadata": {},
     "output_type": "display_data"
    }
   ],
   "source": [
    "for resource in [\"Resource\", \"PriorityResource\"]:\n",
    "    for N in N_helpers:\n",
    "        data = resourceRunDet.loc[(resourceRunDet.Resource == resource)\n",
    "                                  & (resourceRunDet.Helpers == N)][\"blockMean\"]\n",
    "\n",
    "        histY, histX = np.histogram(data)\n",
    "        _, p = st.normaltest(histY)\n",
    "        if p < 0.05:\n",
    "            message = f\"with a p < 0.05 ({p}) the distribution is not normal\"\n",
    "        else:\n",
    "            message = f\"with a p > 0.05 ({p}) the distribution is normally distributed\"\n",
    "        print(f\"\\nCentral Limit Theorem\\n{resource} for {N} helpers\\ndistribution is {message}\")\n",
    "        \n",
    "#         data.hist(fc=(0, 0, 1, 0.1))\n",
    "        \n",
    "sns.set_style(\"white\")\n",
    "sns.set_context(\"notebook\")\n",
    "ax = sns.distplot(\n",
    "    resourceRunDet.loc[(resourceRunDet.Resource == \"Resource\")\n",
    "                       & (resourceRunDet.Helpers == 1)][\"blockMean\"],\n",
    "    hist_kws={\n",
    "        \"rwidth\": 1,\n",
    "        'edgecolor': 'blue'\n",
    "    },\n",
    "    kde_kws={\n",
    "        \"color\": \"k\",\n",
    "        \"alpha\": 0.6\n",
    "    },\n",
    "    kde=True)\n",
    "ax.set_xlabel('Waiting times', fontsize=15)\n",
    "ax.set_ylabel('Frequency', fontsize=15)\n",
    "ax.set_title('FIFO with 1 servers')\n",
    "\n",
    "sns.despine(ax=ax)"
   ]
  },
  {
   "cell_type": "code",
   "execution_count": 23,
   "metadata": {
    "ExecuteTime": {
     "end_time": "2018-11-30T15:55:44.923513Z",
     "start_time": "2018-11-30T15:55:44.899383Z"
    }
   },
   "outputs": [
    {
     "name": "stdout",
     "output_type": "stream",
     "text": [
      "sampleSize: 126676.7325138256 for Resource and 1 helpers\n",
      "sampleSize: 2349.747876823253 for Resource and 2 helpers\n",
      "sampleSize: 963.6150236583331 for Resource and 4 helpers\n",
      "sampleSize: 40693.1606798881 for PriorityResource and 1 helpers\n",
      "sampleSize: 4237.747937307749 for PriorityResource and 2 helpers\n",
      "sampleSize: 1018.8657729714497 for PriorityResource and 4 helpers\n"
     ]
    }
   ],
   "source": [
    "for resource in [\"Resource\", \"PriorityResource\"]:\n",
    "    for N in N_helpers:\n",
    "        data = resourceRunDet.loc[(resourceRunDet.Resource == resource)\n",
    "                                  & (resourceRunDet.Helpers == N)][\"blockMean\"]\n",
    "        \n",
    "        sd = np.std(data)\n",
    "        sampleSize = ((1.96*sd)/0.05)**2\n",
    "        print(f\"sampleSize: {sampleSize} for {resource} and {N} helpers\")\n"
   ]
  },
  {
   "cell_type": "code",
   "execution_count": 27,
   "metadata": {
    "ExecuteTime": {
     "end_time": "2018-11-30T16:12:11.588664Z",
     "start_time": "2018-11-30T15:57:13.424527Z"
    }
   },
   "outputs": [
    {
     "name": "stdout",
     "output_type": "stream",
     "text": [
      "PriorityResource 1\n",
      "PriorityResource 2\n",
      "PriorityResource 4\n",
      "Resource 1\n",
      "Resource 2\n",
      "Resource 4\n"
     ]
    }
   ],
   "source": [
    "serviceScheme = \"Poisson\"\n",
    "customerAllPoi, resourceRunPoi = runSim(resources, serviceScheme)"
   ]
  },
  {
   "cell_type": "code",
   "execution_count": 54,
   "metadata": {
    "ExecuteTime": {
     "end_time": "2018-11-30T17:26:19.463518Z",
     "start_time": "2018-11-30T17:26:19.430627Z"
    }
   },
   "outputs": [
    {
     "name": "stderr",
     "output_type": "stream",
     "text": [
      "/home/lennart/anaconda3/lib/python3.6/site-packages/ipykernel_launcher.py:73: RuntimeWarning: invalid value encountered in sqrt\n"
     ]
    },
    {
     "data": {
      "text/html": [
       "<div>\n",
       "<style scoped>\n",
       "    .dataframe tbody tr th:only-of-type {\n",
       "        vertical-align: middle;\n",
       "    }\n",
       "\n",
       "    .dataframe tbody tr th {\n",
       "        vertical-align: top;\n",
       "    }\n",
       "\n",
       "    .dataframe thead th {\n",
       "        text-align: right;\n",
       "    }\n",
       "</style>\n",
       "<table border=\"1\" class=\"dataframe\">\n",
       "  <thead>\n",
       "    <tr style=\"text-align: right;\">\n",
       "      <th></th>\n",
       "      <th>&lt;class 'simpy.resources.resource.PriorityResource'&gt;</th>\n",
       "      <th>&lt;class 'simpy.resources.resource.Resource'&gt;</th>\n",
       "    </tr>\n",
       "  </thead>\n",
       "  <tbody>\n",
       "    <tr>\n",
       "      <th>1</th>\n",
       "      <td>[(6.631463112458851, 7.597117390382039)]</td>\n",
       "      <td>[(20.57208668438749, 23.770323087988668)]</td>\n",
       "    </tr>\n",
       "    <tr>\n",
       "      <th>SampleSize1</th>\n",
       "      <td>NaN</td>\n",
       "      <td>NaN</td>\n",
       "    </tr>\n",
       "    <tr>\n",
       "      <th>2</th>\n",
       "      <td>[(3.5806947518306282, 3.962887473111711)]</td>\n",
       "      <td>[(10.82997260953923, 12.39673095860169)]</td>\n",
       "    </tr>\n",
       "    <tr>\n",
       "      <th>SampleSize2</th>\n",
       "      <td>0.490254</td>\n",
       "      <td>0.64911</td>\n",
       "    </tr>\n",
       "    <tr>\n",
       "      <th>4</th>\n",
       "      <td>[(1.739915555499228, 1.8649748838799922)]</td>\n",
       "      <td>[(5.525314985485106, 6.373659897299306)]</td>\n",
       "    </tr>\n",
       "    <tr>\n",
       "      <th>SampleSize4</th>\n",
       "      <td>0.382183</td>\n",
       "      <td>0.654274</td>\n",
       "    </tr>\n",
       "  </tbody>\n",
       "</table>\n",
       "</div>"
      ],
      "text/plain": [
       "            <class 'simpy.resources.resource.PriorityResource'>  \\\n",
       "1                     [(6.631463112458851, 7.597117390382039)]    \n",
       "SampleSize1                                                NaN    \n",
       "2                    [(3.5806947518306282, 3.962887473111711)]    \n",
       "SampleSize2                                           0.490254    \n",
       "4                    [(1.739915555499228, 1.8649748838799922)]    \n",
       "SampleSize4                                           0.382183    \n",
       "\n",
       "            <class 'simpy.resources.resource.Resource'>  \n",
       "1             [(20.57208668438749, 23.770323087988668)]  \n",
       "SampleSize1                                         NaN  \n",
       "2              [(10.82997260953923, 12.39673095860169)]  \n",
       "SampleSize2                                     0.64911  \n",
       "4              [(5.525314985485106, 6.373659897299306)]  \n",
       "SampleSize4                                    0.654274  "
      ]
     },
     "execution_count": 54,
     "metadata": {},
     "output_type": "execute_result"
    }
   ],
   "source": [
    "pd.DataFrame(getConf(resourceRunPoi, \"blockMean\", 1, lI, serveT, rho))"
   ]
  },
  {
   "cell_type": "code",
   "execution_count": 29,
   "metadata": {
    "ExecuteTime": {
     "end_time": "2018-11-30T16:12:13.122010Z",
     "start_time": "2018-11-30T16:12:13.024332Z"
    }
   },
   "outputs": [
    {
     "data": {
      "text/html": [
       "<table border=\"1\" class=\"dataframe\">\n",
       "  <thead>\n",
       "    <tr style=\"text-align: right;\">\n",
       "      <th></th>\n",
       "      <th></th>\n",
       "      <th></th>\n",
       "      <th>count</th>\n",
       "      <th>mean</th>\n",
       "      <th>std</th>\n",
       "      <th>min</th>\n",
       "      <th>25%</th>\n",
       "      <th>50%</th>\n",
       "      <th>75%</th>\n",
       "      <th>max</th>\n",
       "    </tr>\n",
       "    <tr>\n",
       "      <th>serviceScheme</th>\n",
       "      <th>Resource</th>\n",
       "      <th>Helpers</th>\n",
       "      <th></th>\n",
       "      <th></th>\n",
       "      <th></th>\n",
       "      <th></th>\n",
       "      <th></th>\n",
       "      <th></th>\n",
       "      <th></th>\n",
       "      <th></th>\n",
       "    </tr>\n",
       "  </thead>\n",
       "  <tbody>\n",
       "    <tr>\n",
       "      <th rowspan=\"6\" valign=\"top\">Poisson</th>\n",
       "      <th rowspan=\"3\" valign=\"top\">PriorityResource</th>\n",
       "      <th>1</th>\n",
       "      <td>212.0</td>\n",
       "      <td>7.114290</td>\n",
       "      <td>3.566263</td>\n",
       "      <td>3.110999</td>\n",
       "      <td>5.042665</td>\n",
       "      <td>6.223511</td>\n",
       "      <td>7.862370</td>\n",
       "      <td>29.736582</td>\n",
       "    </tr>\n",
       "    <tr>\n",
       "      <th>2</th>\n",
       "      <td>212.0</td>\n",
       "      <td>3.771791</td>\n",
       "      <td>1.411478</td>\n",
       "      <td>1.628138</td>\n",
       "      <td>2.766247</td>\n",
       "      <td>3.483904</td>\n",
       "      <td>4.209549</td>\n",
       "      <td>10.446166</td>\n",
       "    </tr>\n",
       "    <tr>\n",
       "      <th>4</th>\n",
       "      <td>212.0</td>\n",
       "      <td>1.802445</td>\n",
       "      <td>0.461857</td>\n",
       "      <td>1.068654</td>\n",
       "      <td>1.452411</td>\n",
       "      <td>1.707971</td>\n",
       "      <td>2.034837</td>\n",
       "      <td>4.391954</td>\n",
       "    </tr>\n",
       "    <tr>\n",
       "      <th rowspan=\"3\" valign=\"top\">Resource</th>\n",
       "      <th>1</th>\n",
       "      <td>212.0</td>\n",
       "      <td>22.171205</td>\n",
       "      <td>11.811424</td>\n",
       "      <td>8.327023</td>\n",
       "      <td>14.607392</td>\n",
       "      <td>19.073729</td>\n",
       "      <td>26.757700</td>\n",
       "      <td>86.440520</td>\n",
       "    </tr>\n",
       "    <tr>\n",
       "      <th>2</th>\n",
       "      <td>212.0</td>\n",
       "      <td>11.613352</td>\n",
       "      <td>5.786203</td>\n",
       "      <td>3.981782</td>\n",
       "      <td>7.794785</td>\n",
       "      <td>10.038617</td>\n",
       "      <td>13.453354</td>\n",
       "      <td>36.795138</td>\n",
       "    </tr>\n",
       "    <tr>\n",
       "      <th>4</th>\n",
       "      <td>212.0</td>\n",
       "      <td>5.949487</td>\n",
       "      <td>3.133027</td>\n",
       "      <td>2.688644</td>\n",
       "      <td>4.057399</td>\n",
       "      <td>5.224183</td>\n",
       "      <td>6.899776</td>\n",
       "      <td>24.397156</td>\n",
       "    </tr>\n",
       "  </tbody>\n",
       "</table>"
      ],
      "text/plain": [
       "<IPython.core.display.HTML object>"
      ]
     },
     "metadata": {},
     "output_type": "display_data"
    }
   ],
   "source": [
    "grp = resourceRunPoi.groupby([\"serviceScheme\", \"Resource\", \"Helpers\"])\n",
    "grpDescr = grp.describe()\n",
    "display(HTML(grpDescr.blockMean.to_html()))"
   ]
  },
  {
   "cell_type": "code",
   "execution_count": null,
   "metadata": {},
   "outputs": [],
   "source": [
    "for resource in [\"Resource\", \"PriorityResource\"]:\n",
    "    for N in N_helpers:\n",
    "        data = resourceRunPoi.loc[(resourceRunPoi.Resource == resource)\n",
    "                                  & (resourceRunPoi.Helpers == N)][\"blockMean\"]\n",
    "\n",
    "        histY, histX = np.histogram(data)\n",
    "        _, p = st.normaltest(histY)\n",
    "        if p < 0.05:\n",
    "            message = f\"with a p < 0.05 ({p}) the distribution is not normal\"\n",
    "        else:\n",
    "            message = f\"with a p > 0.05 ({p}) the distribution is normally distributed\"\n",
    "        print(f\"\\nCentral Limit Theorem\\n{resource} for {N} helpers\\ndistribution is {message}\")\n",
    "        \n",
    "        data.hist(fc=(0, 0, 1, 0.1))\n",
    "        \n",
    "sns.set_style(\"white\")\n",
    "sns.set_context(\"notebook\")\n",
    "ax = sns.distplot(\n",
    "    resourceRunDet.loc[(resourceRunDet.Resource == \"Resource\")\n",
    "                       & (resourceRunDet.Helpers == 1)][\"blockMean\"],\n",
    "    hist_kws={\n",
    "        \"rwidth\": 1,\n",
    "        'edgecolor': 'blue'\n",
    "    },\n",
    "    kde_kws={\n",
    "        \"color\": \"k\",\n",
    "        \"alpha\": 0.6\n",
    "    },\n",
    "    kde=True)\n",
    "ax.set_xlabel('Waiting times', fontsize=15)\n",
    "ax.set_ylabel('Frequency', fontsize=15)\n",
    "ax.set_title('FIFO with 1 servers')\n",
    "\n",
    "sns.despine(ax=ax)"
   ]
  },
  {
   "cell_type": "code",
   "execution_count": null,
   "metadata": {},
   "outputs": [],
   "source": [
    "for resource in [\"Resource\", \"PriorityResource\"]:\n",
    "    for N in N_helpers:\n",
    "        data = resourceRunPoi.loc[(resourceRunPoi.Resource == resource)\n",
    "                                  & (resourceRunPoi.Helpers == N)][\"blockMean\"]\n",
    "        \n",
    "        sd = np.std(data)\n",
    "        sampleSize = ((1.96*sd)/0.05)**2\n",
    "        print(f\"sampleSize: {sampleSize} for {resource} and {N} helpers\")"
   ]
  },
  {
   "cell_type": "code",
   "execution_count": 30,
   "metadata": {
    "ExecuteTime": {
     "end_time": "2018-11-30T16:30:56.604973Z",
     "start_time": "2018-11-30T16:14:36.791159Z"
    }
   },
   "outputs": [
    {
     "name": "stdout",
     "output_type": "stream",
     "text": [
      "PriorityResource 1\n",
      "PriorityResource 2\n",
      "PriorityResource 4\n",
      "Resource 1\n",
      "Resource 2\n",
      "Resource 4\n"
     ]
    }
   ],
   "source": [
    "serviceScheme = \"Exponential\"\n",
    "customerAllExp, resourceRunExp = runSim(resources, serviceScheme)"
   ]
  },
  {
   "cell_type": "code",
   "execution_count": 31,
   "metadata": {
    "ExecuteTime": {
     "end_time": "2018-11-30T16:30:57.581459Z",
     "start_time": "2018-11-30T16:30:57.488606Z"
    }
   },
   "outputs": [
    {
     "data": {
      "text/html": [
       "<table border=\"1\" class=\"dataframe\">\n",
       "  <thead>\n",
       "    <tr style=\"text-align: right;\">\n",
       "      <th></th>\n",
       "      <th></th>\n",
       "      <th></th>\n",
       "      <th>count</th>\n",
       "      <th>mean</th>\n",
       "      <th>std</th>\n",
       "      <th>min</th>\n",
       "      <th>25%</th>\n",
       "      <th>50%</th>\n",
       "      <th>75%</th>\n",
       "      <th>max</th>\n",
       "    </tr>\n",
       "    <tr>\n",
       "      <th>serviceScheme</th>\n",
       "      <th>Resource</th>\n",
       "      <th>Helpers</th>\n",
       "      <th></th>\n",
       "      <th></th>\n",
       "      <th></th>\n",
       "      <th></th>\n",
       "      <th></th>\n",
       "      <th></th>\n",
       "      <th></th>\n",
       "      <th></th>\n",
       "    </tr>\n",
       "  </thead>\n",
       "  <tbody>\n",
       "    <tr>\n",
       "      <th rowspan=\"6\" valign=\"top\">Exponential</th>\n",
       "      <th rowspan=\"3\" valign=\"top\">PriorityResource</th>\n",
       "      <th>1</th>\n",
       "      <td>212.0</td>\n",
       "      <td>5.964033</td>\n",
       "      <td>2.274857</td>\n",
       "      <td>2.852683</td>\n",
       "      <td>4.303781</td>\n",
       "      <td>5.473567</td>\n",
       "      <td>6.964230</td>\n",
       "      <td>14.937894</td>\n",
       "    </tr>\n",
       "    <tr>\n",
       "      <th>2</th>\n",
       "      <td>212.0</td>\n",
       "      <td>3.148755</td>\n",
       "      <td>1.017365</td>\n",
       "      <td>1.408208</td>\n",
       "      <td>2.434557</td>\n",
       "      <td>2.985335</td>\n",
       "      <td>3.618171</td>\n",
       "      <td>6.855289</td>\n",
       "    </tr>\n",
       "    <tr>\n",
       "      <th>4</th>\n",
       "      <td>212.0</td>\n",
       "      <td>1.590096</td>\n",
       "      <td>0.407123</td>\n",
       "      <td>0.924679</td>\n",
       "      <td>1.311134</td>\n",
       "      <td>1.514266</td>\n",
       "      <td>1.736337</td>\n",
       "      <td>3.206172</td>\n",
       "    </tr>\n",
       "    <tr>\n",
       "      <th rowspan=\"3\" valign=\"top\">Resource</th>\n",
       "      <th>1</th>\n",
       "      <td>212.0</td>\n",
       "      <td>23.031397</td>\n",
       "      <td>13.372290</td>\n",
       "      <td>7.138116</td>\n",
       "      <td>14.154958</td>\n",
       "      <td>18.629295</td>\n",
       "      <td>27.745707</td>\n",
       "      <td>93.583901</td>\n",
       "    </tr>\n",
       "    <tr>\n",
       "      <th>2</th>\n",
       "      <td>212.0</td>\n",
       "      <td>12.066605</td>\n",
       "      <td>7.158258</td>\n",
       "      <td>4.129517</td>\n",
       "      <td>7.739612</td>\n",
       "      <td>10.403765</td>\n",
       "      <td>14.399585</td>\n",
       "      <td>77.927853</td>\n",
       "    </tr>\n",
       "    <tr>\n",
       "      <th>4</th>\n",
       "      <td>212.0</td>\n",
       "      <td>5.577712</td>\n",
       "      <td>2.103053</td>\n",
       "      <td>2.526308</td>\n",
       "      <td>4.115618</td>\n",
       "      <td>5.037830</td>\n",
       "      <td>6.392112</td>\n",
       "      <td>14.253050</td>\n",
       "    </tr>\n",
       "  </tbody>\n",
       "</table>"
      ],
      "text/plain": [
       "<IPython.core.display.HTML object>"
      ]
     },
     "metadata": {},
     "output_type": "display_data"
    },
    {
     "name": "stdout",
     "output_type": "stream",
     "text": [
      "{<class 'simpy.resources.resource.PriorityResource'>: {1: [(5.656045821659932, 6.272019813821954)], 'SampleSize1': nan, 2: [(3.0110161100773043, 3.286492988444299)], 'SampleSize2': 0.44028838515673424, 4: [(1.5349767954156663, 1.6452153408261754)], 'SampleSize4': 0.37154590976646523}, <class 'simpy.resources.resource.Resource'>: {1: [(21.22095724573085, 24.841837049387998)], 'SampleSize1': nan, 2: [(11.0974665761241, 13.035742687465776)], 'SampleSize2': 0.7103255680258845, 4: [(5.292984902024274, 5.86243875626985)], 'SampleSize4': 0.5502380744596456}}\n"
     ]
    },
    {
     "name": "stderr",
     "output_type": "stream",
     "text": [
      "/home/lennart/anaconda3/lib/python3.6/site-packages/ipykernel_launcher.py:73: RuntimeWarning: invalid value encountered in sqrt\n"
     ]
    }
   ],
   "source": [
    "grp = resourceRunExp.groupby([\"serviceScheme\", \"Resource\", \"Helpers\"])\n",
    "grpDescr = grp.describe()\n",
    "display(HTML(grpDescr.blockMean.to_html()))\n",
    "print(getConf(resourceRunExp, \"blockMean\", 1, lI, serveT, rho))"
   ]
  },
  {
   "cell_type": "code",
   "execution_count": 36,
   "metadata": {
    "ExecuteTime": {
     "end_time": "2018-11-30T16:35:51.193540Z",
     "start_time": "2018-11-30T16:35:50.984303Z"
    }
   },
   "outputs": [
    {
     "name": "stdout",
     "output_type": "stream",
     "text": [
      "sampleSize: 273482.98102036025 for Resource and 1 helpers\n",
      "sampleSize: 78367.0276017876 for Resource and 2 helpers\n",
      "sampleSize: 6764.242388554598 for Resource and 4 helpers\n",
      "sampleSize: 7914.561159282912 for PriorityResource and 1 helpers\n",
      "sampleSize: 1582.9689425690933 for PriorityResource and 2 helpers\n",
      "sampleSize: 253.49478914880538 for PriorityResource and 4 helpers\n"
     ]
    },
    {
     "data": {
      "image/png": "[encoded data removed]",
      "text/plain": [
       "<matplotlib.figure.Figure at 0x7fca1cfa8198>"
      ]
     },
     "metadata": {},
     "output_type": "display_data"
    }
   ],
   "source": [
    "for resource in [\"Resource\", \"PriorityResource\"]:\n",
    "    for N in N_helpers:\n",
    "        data = resourceRunExp.loc[(resourceRunExp.Resource == resource)\n",
    "                                  & (resourceRunExp.Helpers == N)][\"blockMean\"]\n",
    "        \n",
    "        sd = np.std(data)\n",
    "        sampleSize = ((1.96*sd)/0.05)**2\n",
    "        print(f\"sampleSize: {sampleSize} for {resource} and {N} helpers\")\n",
    "sns.set_style(\"white\")\n",
    "sns.set_context(\"notebook\")\n",
    "ax = sns.distplot(\n",
    "    resourceRunExp.loc[(resourceRunExp.Resource == \"PriorityResource\")\n",
    "                       & (resourceRunExp.Helpers == 1)][\"blockMean\"],\n",
    "    hist_kws={\n",
    "        \"rwidth\": 1,\n",
    "        'edgecolor': 'blue'\n",
    "    },\n",
    "    kde_kws={\n",
    "        \"color\": \"k\",\n",
    "        \"alpha\": 0.6\n",
    "    },\n",
    "    kde=True)\n",
    "ax.set_xlabel('Waiting times', fontsize=15)\n",
    "ax.set_ylabel('Frequency', fontsize=15)\n",
    "ax.set_title('Priority with 1 servers')\n",
    "\n",
    "sns.despine(ax=ax)"
   ]
  },
  {
   "cell_type": "code",
   "execution_count": 53,
   "metadata": {
    "ExecuteTime": {
     "end_time": "2018-11-30T17:23:09.178176Z",
     "start_time": "2018-11-30T17:23:09.146245Z"
    }
   },
   "outputs": [
    {
     "name": "stderr",
     "output_type": "stream",
     "text": [
      "/home/lennart/anaconda3/lib/python3.6/site-packages/ipykernel_launcher.py:73: RuntimeWarning: invalid value encountered in sqrt\n"
     ]
    },
    {
     "data": {
      "text/html": [
       "<div>\n",
       "<style scoped>\n",
       "    .dataframe tbody tr th:only-of-type {\n",
       "        vertical-align: middle;\n",
       "    }\n",
       "\n",
       "    .dataframe tbody tr th {\n",
       "        vertical-align: top;\n",
       "    }\n",
       "\n",
       "    .dataframe thead th {\n",
       "        text-align: right;\n",
       "    }\n",
       "</style>\n",
       "<table border=\"1\" class=\"dataframe\">\n",
       "  <thead>\n",
       "    <tr style=\"text-align: right;\">\n",
       "      <th></th>\n",
       "      <th>&lt;class 'simpy.resources.resource.PriorityResource'&gt;</th>\n",
       "      <th>&lt;class 'simpy.resources.resource.Resource'&gt;</th>\n",
       "    </tr>\n",
       "  </thead>\n",
       "  <tbody>\n",
       "    <tr>\n",
       "      <th>1</th>\n",
       "      <td>[(5.656045821659932, 6.272019813821954)]</td>\n",
       "      <td>[(21.22095724573085, 24.841837049387998)]</td>\n",
       "    </tr>\n",
       "    <tr>\n",
       "      <th>SampleSize1</th>\n",
       "      <td>NaN</td>\n",
       "      <td>NaN</td>\n",
       "    </tr>\n",
       "    <tr>\n",
       "      <th>2</th>\n",
       "      <td>[(3.0110161100773043, 3.286492988444299)]</td>\n",
       "      <td>[(11.0974665761241, 13.035742687465776)]</td>\n",
       "    </tr>\n",
       "    <tr>\n",
       "      <th>SampleSize2</th>\n",
       "      <td>0.440288</td>\n",
       "      <td>0.710326</td>\n",
       "    </tr>\n",
       "    <tr>\n",
       "      <th>4</th>\n",
       "      <td>[(1.5349767954156663, 1.6452153408261754)]</td>\n",
       "      <td>[(5.292984902024274, 5.86243875626985)]</td>\n",
       "    </tr>\n",
       "    <tr>\n",
       "      <th>SampleSize4</th>\n",
       "      <td>0.371546</td>\n",
       "      <td>0.550238</td>\n",
       "    </tr>\n",
       "  </tbody>\n",
       "</table>\n",
       "</div>"
      ],
      "text/plain": [
       "            <class 'simpy.resources.resource.PriorityResource'>  \\\n",
       "1                     [(5.656045821659932, 6.272019813821954)]    \n",
       "SampleSize1                                                NaN    \n",
       "2                    [(3.0110161100773043, 3.286492988444299)]    \n",
       "SampleSize2                                           0.440288    \n",
       "4                   [(1.5349767954156663, 1.6452153408261754)]    \n",
       "SampleSize4                                           0.371546    \n",
       "\n",
       "            <class 'simpy.resources.resource.Resource'>  \n",
       "1             [(21.22095724573085, 24.841837049387998)]  \n",
       "SampleSize1                                         NaN  \n",
       "2              [(11.0974665761241, 13.035742687465776)]  \n",
       "SampleSize2                                    0.710326  \n",
       "4               [(5.292984902024274, 5.86243875626985)]  \n",
       "SampleSize4                                    0.550238  "
      ]
     },
     "execution_count": 53,
     "metadata": {},
     "output_type": "execute_result"
    }
   ],
   "source": [
    "pd.DataFrame(getConf(resourceRunExp, \"blockMean\", 1, lI, serveT, rho))"
   ]
  },
  {
   "cell_type": "code",
   "execution_count": 37,
   "metadata": {
    "ExecuteTime": {
     "end_time": "2018-11-30T16:37:54.677717Z",
     "start_time": "2018-11-30T16:37:54.647295Z"
    }
   },
   "outputs": [
    {
     "name": "stdout",
     "output_type": "stream",
     "text": [
      "\n",
      "Central Limit Theorem\n",
      "Resource for 1 helpers\n",
      "distribution is with a p > 0.05 (0.1334859817039375) the distribution is normally distributed\n",
      "\n",
      "Central Limit Theorem\n",
      "Resource for 2 helpers\n",
      "distribution is with a p < 0.05 (0.0006942559158752953) the distribution is not normal\n",
      "\n",
      "Central Limit Theorem\n",
      "Resource for 4 helpers\n",
      "distribution is with a p > 0.05 (0.30846551402121375) the distribution is normally distributed\n",
      "\n",
      "Central Limit Theorem\n",
      "PriorityResource for 1 helpers\n",
      "distribution is with a p > 0.05 (0.34055829764559387) the distribution is normally distributed\n",
      "\n",
      "Central Limit Theorem\n",
      "PriorityResource for 2 helpers\n",
      "distribution is with a p > 0.05 (0.28026686088843716) the distribution is normally distributed\n",
      "\n",
      "Central Limit Theorem\n",
      "PriorityResource for 4 helpers\n",
      "distribution is with a p > 0.05 (0.3043696463309858) the distribution is normally distributed\n"
     ]
    },
    {
     "name": "stderr",
     "output_type": "stream",
     "text": [
      "/home/lennart/.local/lib/python3.6/site-packages/scipy/stats/stats.py:1390: UserWarning: kurtosistest only valid for n>=20 ... continuing anyway, n=10\n",
      "  \"anyway, n=%i\" % int(n))\n",
      "/home/lennart/.local/lib/python3.6/site-packages/scipy/stats/stats.py:1390: UserWarning: kurtosistest only valid for n>=20 ... continuing anyway, n=10\n",
      "  \"anyway, n=%i\" % int(n))\n",
      "/home/lennart/.local/lib/python3.6/site-packages/scipy/stats/stats.py:1390: UserWarning: kurtosistest only valid for n>=20 ... continuing anyway, n=10\n",
      "  \"anyway, n=%i\" % int(n))\n",
      "/home/lennart/.local/lib/python3.6/site-packages/scipy/stats/stats.py:1390: UserWarning: kurtosistest only valid for n>=20 ... continuing anyway, n=10\n",
      "  \"anyway, n=%i\" % int(n))\n",
      "/home/lennart/.local/lib/python3.6/site-packages/scipy/stats/stats.py:1390: UserWarning: kurtosistest only valid for n>=20 ... continuing anyway, n=10\n",
      "  \"anyway, n=%i\" % int(n))\n",
      "/home/lennart/.local/lib/python3.6/site-packages/scipy/stats/stats.py:1390: UserWarning: kurtosistest only valid for n>=20 ... continuing anyway, n=10\n",
      "  \"anyway, n=%i\" % int(n))\n"
     ]
    }
   ],
   "source": [
    "for resource in [\"Resource\", \"PriorityResource\"]:\n",
    "    for N in N_helpers:\n",
    "        data = resourceRunExp.loc[(resourceRunExp.Resource == resource)\n",
    "                                  & (resourceRunExp.Helpers == N)][\"blockMean\"]\n",
    "\n",
    "        histY, histX = np.histogram(data)\n",
    "        _, p = st.normaltest(histY)\n",
    "        if p < 0.05:\n",
    "            message = f\"with a p < 0.05 ({p}) the distribution is not normal\"\n",
    "        else:\n",
    "            message = f\"with a p > 0.05 ({p}) the distribution is normally distributed\"\n",
    "        print(f\"\\nCentral Limit Theorem\\n{resource} for {N} helpers\\ndistribution is {message}\")\n",
    "        \n",
    "#         data.hist(fc=(0, 0, 1, 0.1))"
   ]
  },
  {
   "cell_type": "code",
   "execution_count": 42,
   "metadata": {
    "ExecuteTime": {
     "end_time": "2018-11-30T16:53:35.546832Z",
     "start_time": "2018-11-30T16:52:27.363388Z"
    }
   },
   "outputs": [
    {
     "name": "stdout",
     "output_type": "stream",
     "text": [
      "PriorityResource 1\n",
      "PriorityResource 2\n",
      "PriorityResource 4\n",
      "Resource 1\n",
      "Resource 2\n",
      "Resource 4\n"
     ]
    }
   ],
   "source": [
    "serviceScheme = \"Long-Tailed\"\n",
    "customerAllLT, resourceRunLT = runSim(resources, serviceScheme)"
   ]
  },
  {
   "cell_type": "code",
   "execution_count": 43,
   "metadata": {
    "ExecuteTime": {
     "end_time": "2018-11-30T16:53:36.767778Z",
     "start_time": "2018-11-30T16:53:36.671429Z"
    }
   },
   "outputs": [
    {
     "data": {
      "text/html": [
       "<table border=\"1\" class=\"dataframe\">\n",
       "  <thead>\n",
       "    <tr style=\"text-align: right;\">\n",
       "      <th></th>\n",
       "      <th></th>\n",
       "      <th></th>\n",
       "      <th>count</th>\n",
       "      <th>mean</th>\n",
       "      <th>std</th>\n",
       "      <th>min</th>\n",
       "      <th>25%</th>\n",
       "      <th>50%</th>\n",
       "      <th>75%</th>\n",
       "      <th>max</th>\n",
       "    </tr>\n",
       "    <tr>\n",
       "      <th>serviceScheme</th>\n",
       "      <th>Resource</th>\n",
       "      <th>Helpers</th>\n",
       "      <th></th>\n",
       "      <th></th>\n",
       "      <th></th>\n",
       "      <th></th>\n",
       "      <th></th>\n",
       "      <th></th>\n",
       "      <th></th>\n",
       "      <th></th>\n",
       "    </tr>\n",
       "  </thead>\n",
       "  <tbody>\n",
       "    <tr>\n",
       "      <th rowspan=\"6\" valign=\"top\">Long-Tailed</th>\n",
       "      <th rowspan=\"3\" valign=\"top\">PriorityResource</th>\n",
       "      <th>1</th>\n",
       "      <td>5.0</td>\n",
       "      <td>905.206613</td>\n",
       "      <td>42.422862</td>\n",
       "      <td>857.429762</td>\n",
       "      <td>868.056515</td>\n",
       "      <td>918.743225</td>\n",
       "      <td>920.845490</td>\n",
       "      <td>960.958072</td>\n",
       "    </tr>\n",
       "    <tr>\n",
       "      <th>2</th>\n",
       "      <td>5.0</td>\n",
       "      <td>888.469662</td>\n",
       "      <td>26.251895</td>\n",
       "      <td>864.494310</td>\n",
       "      <td>864.503102</td>\n",
       "      <td>884.792461</td>\n",
       "      <td>902.841424</td>\n",
       "      <td>925.717014</td>\n",
       "    </tr>\n",
       "    <tr>\n",
       "      <th>4</th>\n",
       "      <td>5.0</td>\n",
       "      <td>904.105874</td>\n",
       "      <td>17.895399</td>\n",
       "      <td>883.803885</td>\n",
       "      <td>888.830590</td>\n",
       "      <td>907.272831</td>\n",
       "      <td>913.231755</td>\n",
       "      <td>927.390309</td>\n",
       "    </tr>\n",
       "    <tr>\n",
       "      <th rowspan=\"3\" valign=\"top\">Resource</th>\n",
       "      <th>1</th>\n",
       "      <td>5.0</td>\n",
       "      <td>2558.205421</td>\n",
       "      <td>123.625039</td>\n",
       "      <td>2438.268529</td>\n",
       "      <td>2478.877113</td>\n",
       "      <td>2526.336498</td>\n",
       "      <td>2593.998918</td>\n",
       "      <td>2753.546046</td>\n",
       "    </tr>\n",
       "    <tr>\n",
       "      <th>2</th>\n",
       "      <td>5.0</td>\n",
       "      <td>2603.361919</td>\n",
       "      <td>58.422580</td>\n",
       "      <td>2545.943356</td>\n",
       "      <td>2562.285529</td>\n",
       "      <td>2578.800420</td>\n",
       "      <td>2649.175217</td>\n",
       "      <td>2680.605073</td>\n",
       "    </tr>\n",
       "    <tr>\n",
       "      <th>4</th>\n",
       "      <td>5.0</td>\n",
       "      <td>2518.344943</td>\n",
       "      <td>68.632577</td>\n",
       "      <td>2416.666470</td>\n",
       "      <td>2488.709116</td>\n",
       "      <td>2539.260775</td>\n",
       "      <td>2550.161005</td>\n",
       "      <td>2596.927351</td>\n",
       "    </tr>\n",
       "  </tbody>\n",
       "</table>"
      ],
      "text/plain": [
       "<IPython.core.display.HTML object>"
      ]
     },
     "metadata": {},
     "output_type": "display_data"
    },
    {
     "name": "stdout",
     "output_type": "stream",
     "text": [
      "{<class 'simpy.resources.resource.PriorityResource'>: {1: [(852.5316729692618, 957.8815528469081)], 'SampleSize1': 0.20750740674458448, 2: [(855.8736287157399, 921.0656956579592)], 'SampleSize2': 0.16237608345496535, 4: [(881.8858007314566, 926.3259471646729)], 'SampleSize4': 0.13295633747118363}, <class 'simpy.resources.resource.Resource'>: {1: [(2404.704660772111, 2711.7061812204624)], 'SampleSize1': 0.20888382416615722, 2: [(2530.820704371179, 2675.9031338409804)], 'SampleSize2': 0.1416190204739262, 4: [(2433.1263428237576, 2603.5635436797834)], 'SampleSize4': 0.15608583306266585}}\n"
     ]
    }
   ],
   "source": [
    "grp = resourceRunLT.groupby([\"serviceScheme\", \"Resource\", \"Helpers\"])\n",
    "grpDescr = grp.describe()\n",
    "display(HTML(grpDescr.blockMean.to_html()))\n",
    "print(getConf(resourceRunLT, \"blockMean\", 1, lI, serveT, rho))"
   ]
  },
  {
   "cell_type": "code",
   "execution_count": 46,
   "metadata": {
    "ExecuteTime": {
     "end_time": "2018-11-30T17:00:22.511309Z",
     "start_time": "2018-11-30T17:00:22.315002Z"
    }
   },
   "outputs": [
    {
     "name": "stdout",
     "output_type": "stream",
     "text": [
      "sampleSize: 18787760.02717377 for Resource and 1 helpers\n",
      "sampleSize: 4195885.134111525 for Resource and 2 helpers\n",
      "sampleSize: 5790588.956236457 for Resource and 4 helpers\n",
      "sampleSize: 2212391.8052521283 for PriorityResource and 1 helpers\n",
      "sampleSize: 847195.1349608074 for PriorityResource and 2 helpers\n",
      "sampleSize: 393681.4161394623 for PriorityResource and 4 helpers\n"
     ]
    },
    {
     "data": {
      "image/png": "[encoded data removed]",
      "text/plain": [
       "<matplotlib.figure.Figure at 0x7fca1bb7e0b8>"
      ]
     },
     "metadata": {},
     "output_type": "display_data"
    }
   ],
   "source": [
    "for resource in [\"Resource\", \"PriorityResource\"]:\n",
    "    for N in N_helpers:\n",
    "        data = resourceRunLT.loc[(resourceRunLT.Resource == resource)\n",
    "                                  & (resourceRunLT.Helpers == N)][\"blockMean\"]\n",
    "        \n",
    "        sd = np.std(data)\n",
    "        sampleSize = ((1.96*sd)/0.05)**2\n",
    "        print(f\"sampleSize: {sampleSize} for {resource} and {N} helpers\")\n",
    "sns.set_style(\"white\")\n",
    "sns.set_context(\"notebook\")\n",
    "ax = sns.distplot(\n",
    "    resourceRunDet.loc[(resourceRunDet.Resource == resource)\n",
    "                       & (resourceRunDet.Helpers == 1)][\"blockMean\"],\n",
    "    hist_kws={\n",
    "        \"rwidth\": 1,\n",
    "        'edgecolor': 'blue'\n",
    "    },\n",
    "    kde_kws={\n",
    "        \"color\": \"k\",\n",
    "        \"alpha\": 0.6\n",
    "    },\n",
    "    kde=True)\n",
    "ax.set_xlabel('Waiting times', fontsize=15)\n",
    "ax.set_ylabel('Frequency', fontsize=15)\n",
    "ax.set_title('FIFO with 1 servers')\n",
    "\n",
    "sns.despine(ax=ax)"
   ]
  },
  {
   "cell_type": "code",
   "execution_count": 49,
   "metadata": {
    "ExecuteTime": {
     "end_time": "2018-11-30T17:06:37.843667Z",
     "start_time": "2018-11-30T17:01:39.724272Z"
    }
   },
   "outputs": [
    {
     "name": "stdout",
     "output_type": "stream",
     "text": [
      "PriorityResource 1\n",
      "PriorityResource 2\n",
      "PriorityResource 4\n",
      "Resource 1\n",
      "Resource 2\n",
      "Resource 4\n"
     ]
    }
   ],
   "source": [
    "#RUSH\n",
    "serviceScheme = \"Exponential\"\n",
    "customerAllRUSH, resourceRunRUSH = runSim(resources, serviceScheme, rush=True)"
   ]
  },
  {
   "cell_type": "code",
   "execution_count": 50,
   "metadata": {
    "ExecuteTime": {
     "end_time": "2018-11-30T17:06:39.163521Z",
     "start_time": "2018-11-30T17:06:39.046710Z"
    }
   },
   "outputs": [
    {
     "data": {
      "text/html": [
       "<table border=\"1\" class=\"dataframe\">\n",
       "  <thead>\n",
       "    <tr style=\"text-align: right;\">\n",
       "      <th></th>\n",
       "      <th></th>\n",
       "      <th></th>\n",
       "      <th>count</th>\n",
       "      <th>mean</th>\n",
       "      <th>std</th>\n",
       "      <th>min</th>\n",
       "      <th>25%</th>\n",
       "      <th>50%</th>\n",
       "      <th>75%</th>\n",
       "      <th>max</th>\n",
       "    </tr>\n",
       "    <tr>\n",
       "      <th>serviceScheme</th>\n",
       "      <th>Resource</th>\n",
       "      <th>Helpers</th>\n",
       "      <th></th>\n",
       "      <th></th>\n",
       "      <th></th>\n",
       "      <th></th>\n",
       "      <th></th>\n",
       "      <th></th>\n",
       "      <th></th>\n",
       "      <th></th>\n",
       "    </tr>\n",
       "  </thead>\n",
       "  <tbody>\n",
       "    <tr>\n",
       "      <th rowspan=\"6\" valign=\"top\">Exponential</th>\n",
       "      <th rowspan=\"3\" valign=\"top\">PriorityResource</th>\n",
       "      <th>1</th>\n",
       "      <td>50.0</td>\n",
       "      <td>53.918866</td>\n",
       "      <td>15.332341</td>\n",
       "      <td>20.570436</td>\n",
       "      <td>42.420949</td>\n",
       "      <td>52.350922</td>\n",
       "      <td>67.779263</td>\n",
       "      <td>81.658188</td>\n",
       "    </tr>\n",
       "    <tr>\n",
       "      <th>2</th>\n",
       "      <td>50.0</td>\n",
       "      <td>51.903085</td>\n",
       "      <td>10.979488</td>\n",
       "      <td>27.592780</td>\n",
       "      <td>43.968845</td>\n",
       "      <td>51.324983</td>\n",
       "      <td>57.544954</td>\n",
       "      <td>84.586781</td>\n",
       "    </tr>\n",
       "    <tr>\n",
       "      <th>4</th>\n",
       "      <td>50.0</td>\n",
       "      <td>50.563513</td>\n",
       "      <td>7.268821</td>\n",
       "      <td>35.828313</td>\n",
       "      <td>45.368885</td>\n",
       "      <td>49.617258</td>\n",
       "      <td>56.240930</td>\n",
       "      <td>66.768632</td>\n",
       "    </tr>\n",
       "    <tr>\n",
       "      <th rowspan=\"3\" valign=\"top\">Resource</th>\n",
       "      <th>1</th>\n",
       "      <td>50.0</td>\n",
       "      <td>211.518569</td>\n",
       "      <td>53.553045</td>\n",
       "      <td>117.034233</td>\n",
       "      <td>178.363617</td>\n",
       "      <td>211.224518</td>\n",
       "      <td>249.955784</td>\n",
       "      <td>326.672172</td>\n",
       "    </tr>\n",
       "    <tr>\n",
       "      <th>2</th>\n",
       "      <td>50.0</td>\n",
       "      <td>199.202107</td>\n",
       "      <td>44.328345</td>\n",
       "      <td>79.723749</td>\n",
       "      <td>176.343761</td>\n",
       "      <td>202.663053</td>\n",
       "      <td>243.231809</td>\n",
       "      <td>268.519380</td>\n",
       "    </tr>\n",
       "    <tr>\n",
       "      <th>4</th>\n",
       "      <td>50.0</td>\n",
       "      <td>193.110614</td>\n",
       "      <td>27.484084</td>\n",
       "      <td>128.231224</td>\n",
       "      <td>173.659114</td>\n",
       "      <td>192.278620</td>\n",
       "      <td>214.393899</td>\n",
       "      <td>252.377397</td>\n",
       "    </tr>\n",
       "  </tbody>\n",
       "</table>"
      ],
      "text/plain": [
       "<IPython.core.display.HTML object>"
      ]
     },
     "metadata": {},
     "output_type": "display_data"
    },
    {
     "name": "stdout",
     "output_type": "stream",
     "text": [
      "{<class 'simpy.resources.resource.PriorityResource'>: {1: [(49.56146283973956, 58.27626887260885)], 'SampleSize1': 0.7122593952106998, 2: [(48.7827495128556, 55.02342143503249)], 'SampleSize2': 0.4486841524719515, 4: [(48.49773671842315, 52.629288928042136)], 'SampleSize4': 0.3722969380167907}, <class 'simpy.resources.resource.Resource'>: {1: [(196.2989622542911, 226.73817645028095)], 'SampleSize1': 0.5317120039500167, 2: [(186.60413056276883, 211.80008285030476)], 'SampleSize2': 0.4669143122304088, 4: [(185.29972380263604, 200.92150428232094)], 'SampleSize4': 0.3740494039546056}}\n"
     ]
    }
   ],
   "source": [
    "grp = resourceRunRUSH.groupby([\"serviceScheme\", \"Resource\", \"Helpers\"])\n",
    "grpDescr = grp.describe()\n",
    "display(HTML(grpDescr.blockMean.to_html()))\n",
    "print(getConf(resourceRunRUSH, \"blockMean\", 1, lI, serveT, rho))"
   ]
  },
  {
   "cell_type": "code",
   "execution_count": 51,
   "metadata": {
    "ExecuteTime": {
     "end_time": "2018-11-30T17:06:40.546482Z",
     "start_time": "2018-11-30T17:06:40.366041Z"
    }
   },
   "outputs": [
    {
     "name": "stdout",
     "output_type": "stream",
     "text": [
      "sampleSize: 4318834.443099274 for Resource and 1 helpers\n",
      "sampleSize: 2959110.870436294 for Resource and 2 helpers\n",
      "sampleSize: 1137524.4607574379 for Resource and 4 helpers\n",
      "sampleSize: 354009.6768253095 for PriorityResource and 1 helpers\n",
      "sampleSize: 181535.8431657641 for PriorityResource and 2 helpers\n",
      "sampleSize: 79565.752274676 for PriorityResource and 4 helpers\n"
     ]
    },
    {
     "data": {
      "image/png": "[encoded data removed]",
      "text/plain": [
       "<matplotlib.figure.Figure at 0x7fca1c678710>"
      ]
     },
     "metadata": {},
     "output_type": "display_data"
    }
   ],
   "source": [
    "for resource in [\"Resource\", \"PriorityResource\"]:\n",
    "    for N in N_helpers:\n",
    "        data = resourceRunRUSH.loc[(resourceRunRUSH.Resource == resource)\n",
    "                                  & (resourceRunRUSH.Helpers == N)][\"blockMean\"]\n",
    "        \n",
    "        sd = np.std(data)\n",
    "        sampleSize = ((1.96*sd)/0.05)**2\n",
    "        print(f\"sampleSize: {sampleSize} for {resource} and {N} helpers\")\n",
    "sns.set_style(\"white\")\n",
    "sns.set_context(\"notebook\")\n",
    "ax = sns.distplot(\n",
    "    resourceRunRUSH.loc[(resourceRunRUSH.Resource == resource)\n",
    "                       & (resourceRunRUSH.Helpers == 1)][\"blockMean\"],\n",
    "    hist_kws={\n",
    "        \"rwidth\": 1,\n",
    "        'edgecolor': 'blue'\n",
    "    },\n",
    "    kde_kws={\n",
    "        \"color\": \"k\",\n",
    "        \"alpha\": 0.6\n",
    "    },\n",
    "    kde=True)\n",
    "ax.set_xlabel('Waiting times', fontsize=15)\n",
    "ax.set_ylabel('Frequency', fontsize=15)\n",
    "ax.set_title('FIFO with 1 servers')\n",
    "\n",
    "sns.despine(ax=ax)"
   ]
  }
 ],
 "metadata": {
  "kernelspec": {
   "display_name": "Python 3",
   "language": "python",
   "name": "python3"
  },
  "language_info": {
   "codemirror_mode": {
    "name": "ipython",
    "version": 3
   },
   "file_extension": ".py",
   "mimetype": "text/x-python",
   "name": "python",
   "nbconvert_exporter": "python",
   "pygments_lexer": "ipython3",
   "version": "3.6.5"
  },
  "toc": {
   "base_numbering": 1,
   "nav_menu": {},
   "number_sections": false,
   "sideBar": true,
   "skip_h1_title": false,
   "title_cell": "Table of Contents",
   "title_sidebar": "Contents",
   "toc_cell": false,
   "toc_position": {},
   "toc_section_display": true,
   "toc_window_display": false
  },
  "varInspector": {
   "cols": {
    "lenName": 16,
    "lenType": 16,
    "lenVar": 40
   },
   "kernels_config": {
    "python": {
     "delete_cmd_postfix": "",
     "delete_cmd_prefix": "del ",
     "library": "var_list.py",
     "varRefreshCmd": "print(var_dic_list())"
    },
    "r": {
     "delete_cmd_postfix": ") ",
     "delete_cmd_prefix": "rm(",
     "library": "var_list.r",
     "varRefreshCmd": "cat(var_dic_list()) "
    }
   },
   "types_to_exclude": [
    "module",
    "function",
    "builtin_function_or_method",
    "instance",
    "_Feature"
   ],
   "window_display": false
  }
 },
 "nbformat": 4,
 "nbformat_minor": 2
}
