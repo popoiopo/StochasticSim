{
 "cells": [
  {
   "cell_type": "code",
   "execution_count": 2,
   "metadata": {},
   "outputs": [],
   "source": [
    "import numpy as np\n",
    "from numba import jit\n",
    "from matplotlib import pyplot as plt\n",
    "from matplotlib import colors\n",
    "%matplotlib inline"
   ]
  },
  {
   "cell_type": "code",
   "execution_count": 3,
   "metadata": {},
   "outputs": [],
   "source": [
    "image_counter = 30\n",
    "\n",
    "def save_image(fig):\n",
    "    global image_counter\n",
    "    filename = \"mandelbrodt_%d.png\" % image_counter\n",
    "    image_counter += 1\n",
    "    fig.savefig(filename)"
   ]
  },
  {
   "cell_type": "code",
   "execution_count": 13,
   "metadata": {},
   "outputs": [],
   "source": [
    "def mandelbrot_image(x,y,xres,yres,width=10,height=10,maxiter=80,cmap='jet',gamma=0.3):\n",
    "    xmin, xmax, ymin, ymax = min_max(x,y,xres,yres)\n",
    "    dpi = 72\n",
    "    img_width = dpi * width\n",
    "    img_height = dpi * height\n",
    "    x,y,z = mandelbrot_set(x,y,xres,yres,img_width,img_height,maxiter)\n",
    "    \n",
    "    fig, ax = plt.subplots(figsize=(width, height),dpi=72)\n",
    "    ticks = np.arange(0,img_width,3*dpi)\n",
    "    x_ticks = xmin + (xmax-xmin)*ticks/img_width\n",
    "    plt.xticks(ticks, x_ticks)\n",
    "    y_ticks = ymin + (ymax-ymin)*ticks/img_width\n",
    "    plt.yticks(ticks, y_ticks)\n",
    "    ax.set_title(cmap)\n",
    "    \n",
    "    norm = colors.PowerNorm(gamma)\n",
    "    ax.imshow(z.T,cmap=cmap,origin='lower',norm=norm)  \n",
    "    \n",
    "    save_image(fig)"
   ]
  },
  {
   "cell_type": "code",
   "execution_count": 14,
   "metadata": {},
   "outputs": [],
   "source": [
    "@jit\n",
    "def mandelbrot(z,maxiter,horizon,log_horizon):\n",
    "    c = z\n",
    "    for n in range(maxiter):\n",
    "        az = abs(z)\n",
    "        if az > horizon:\n",
    "            return n - np.log(np.log(az))/np.log(2) + log_horizon\n",
    "        z = z*z + c\n",
    "    return 0\n",
    "\n",
    "@jit\n",
    "def mandelbrot_set(xmin,xmax,ymin,ymax,width,height,maxiter):\n",
    "    horizon = 2.0 ** 40\n",
    "    log_horizon = np.log(np.log(horizon))/np.log(2)\n",
    "    r1 = np.linspace(xmin, xmax, width)\n",
    "    r2 = np.linspace(ymin, ymax, height)\n",
    "    n3 = np.empty((width,height))\n",
    "    for i in range(width):\n",
    "        for j in range(height):\n",
    "            n3[i,j] = mandelbrot(r1[i] + 1j*r2[j],maxiter,horizon, log_horizon)\n",
    "    print(r1,r2,n3)\n",
    "    return (r1,r2,n3)\n",
    "\n",
    "@jit\n",
    "def min_max(x,y,width,height):\n",
    "    return x-(width/2), x+(width/2), y-(height/2), y+(height/2)"
   ]
  },
  {
   "cell_type": "code",
   "execution_count": 16,
   "metadata": {},
   "outputs": [
    {
     "name": "stdout",
     "output_type": "stream",
     "text": [
      "[-0.05425    -0.0542493  -0.05424861 -0.05424791 -0.05424722 -0.05424652\n",
      " -0.05424583 -0.05424513 -0.05424444 -0.05424374 -0.05424305 -0.05424235\n",
      " -0.05424166 -0.05424096 -0.05424026 -0.05423957 -0.05423887 -0.05423818\n",
      " -0.05423748 -0.05423679 -0.05423609 -0.0542354  -0.0542347  -0.05423401\n",
      " -0.05423331 -0.05423261 -0.05423192 -0.05423122 -0.05423053 -0.05422983\n",
      " -0.05422914 -0.05422844 -0.05422775 -0.05422705 -0.05422636 -0.05422566\n",
      " -0.05422497 -0.05422427 -0.05422357 -0.05422288 -0.05422218 -0.05422149\n",
      " -0.05422079 -0.0542201  -0.0542194  -0.05421871 -0.05421801 -0.05421732\n",
      " -0.05421662 -0.05421592 -0.05421523 -0.05421453 -0.05421384 -0.05421314\n",
      " -0.05421245 -0.05421175 -0.05421106 -0.05421036 -0.05420967 -0.05420897\n",
      " -0.05420828 -0.05420758 -0.05420688 -0.05420619 -0.05420549 -0.0542048\n",
      " -0.0542041  -0.05420341 -0.05420271 -0.05420202 -0.05420132 -0.05420063\n",
      " -0.05419993 -0.05419924 -0.05419854 -0.05419784 -0.05419715 -0.05419645\n",
      " -0.05419576 -0.05419506 -0.05419437 -0.05419367 -0.... truncated [0.75625    0.7562507  0.75625139 0.75625209 0.75625278 0.75625348\n",
      " 0.75625417 0.75625487 0.75625556 0.75625626 0.75625695 0.75625765\n",
      " 0.75625834 0.75625904 0.75625974 0.75626043 0.75626113 0.75626182\n",
      " 0.75626252 0.75626321 0.75626391 0.7562646  0.7562653  0.75626599\n",
      " 0.75626669 0.75626739 0.75626808 0.75626878 0.75626947 0.75627017\n",
      " 0.75627086 0.75627156 0.75627225 0.75627295 0.75627364 0.75627434\n",
      " 0.75627503 0.75627573 0.75627643 0.75627712 0.75627782 0.75627851\n",
      " 0.75627921 0.7562799  0.7562806  0.75628129 0.75628199 0.75628268\n",
      " 0.75628338 0.75628408 0.75628477 0.75628547 0.75628616 0.75628686\n",
      " 0.75628755 0.75628825 0.75628894 0.75628964 0.75629033 0.75629103\n",
      " 0.75629172 0.75629242 0.75629312 0.75629381 0.75629451 0.7562952\n",
      " 0.7562959  0.75629659 0.75629729 0.75629798 0.75629868 0.75629937\n",
      " 0.75630007 0.75630076 0.75630146 0.75630216 0.75630285 0.75630355\n",
      " 0.75630424 0.75630494 0.75630563 0.75630633 0.75630702 0.75630772\n",
      " 0.75630841 0.75630911 0.75630981 0.7563105  0.7563112  0.75631... truncated [[0. 0. 0. ... 0. 0. 0.]\n",
      " [0. 0. 0. ... 0. 0. 0.]\n",
      " [0. 0. 0. ... 0. 0. 0.]\n",
      " ...\n",
      " [0. 0. 0. ... 0. 0. 0.]\n",
      " [0. 0. 0. ... 0. 0. 0.]\n",
      " [0. 0. 0. ... 0. 0. 0.]]\n"
     ]
    },
    {
     "data": {
      "image/png": "[encoded data removed]",
      "text/plain": [
       "<matplotlib.figure.Figure at 0x20da83609b0>"
      ]
     },
     "metadata": {},
     "output_type": "display_data"
    }
   ],
   "source": [
    "mandelbrot_image(-0.054,0.7565,0.0005,0.0005,cmap='hot',maxiter=4096)"
   ]
  },
  {
   "cell_type": "code",
   "execution_count": 9,
   "metadata": {},
   "outputs": [],
   "source": [
    "from scipy import random\n",
    "import numpy as np\n",
    "import matplotlib.pyplot as plt\n",
    "%matplotlib inline"
   ]
  },
  {
   "cell_type": "code",
   "execution_count": 16,
   "metadata": {},
   "outputs": [
    {
     "data": {
      "text/plain": [
       "Text(0.5,0,'Areas')"
      ]
     },
     "execution_count": 16,
     "metadata": {},
     "output_type": "execute_result"
    },
    {
     "data": {
      "image/png": "[encoded data removed]",
      "text/plain": [
       "<matplotlib.figure.Figure at 0x20c102c57b8>"
      ]
     },
     "metadata": {},
     "output_type": "display_data"
    }
   ],
   "source": [
    "a = 0\n",
    "b = np.pi #limits of integration\n",
    "N = 1000\n",
    "\n",
    "def func(x):\n",
    "    return np.sin(x)\n",
    "\n",
    "areas = []\n",
    "\n",
    "for i in range(N):\n",
    "    xrand = np.random.uniform(a,b,N)\n",
    "    integral = 0.0\n",
    "\n",
    "    for i in range(N):\n",
    "        integral += func(xrand[i])\n",
    "\n",
    "    areas.append((b-a)/float(N)*integral)\n",
    "\n",
    "plt.title(\"Distribution of Areas Calculated\")\n",
    "plt.hist(areas,bins=30, ec=\"black\")\n",
    "plt.xlabel(\"Areas\")"
   ]
  },
  {
   "cell_type": "code",
   "execution_count": null,
   "metadata": {},
   "outputs": [],
   "source": [
    "\n"
   ]
  },
  {
   "cell_type": "code",
   "execution_count": null,
   "metadata": {},
   "outputs": [],
   "source": []
  }
 ],
 "metadata": {
  "kernelspec": {
   "display_name": "Python 3",
   "language": "python",
   "name": "python3"
  },
  "language_info": {
   "codemirror_mode": {
    "name": "ipython",
    "version": 3
   },
   "file_extension": ".py",
   "mimetype": "text/x-python",
   "name": "python",
   "nbconvert_exporter": "python",
   "pygments_lexer": "ipython3",
   "version": "3.6.3"
  }
 },
 "nbformat": 4,
 "nbformat_minor": 2
}
