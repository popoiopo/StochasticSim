{
 "cells": [
  {
   "cell_type": "markdown",
   "metadata": {},
   "source": [
    "# Charged Particles\n",
    "\n",
    "### This notebook focuses on finding a perfect distribution of charged particles over a spherical disk. This can be viewed as a petri dish consisting of positively charged potassium particles ($K^+$) under pressure. The particles are repelling each other whilst being confined within the space of the petri dish. The question then arises, what would be the optimal distribution of these particles, energetically speaking, on this petri dish such that the energy within the system is minimized? This question is complex as it means finding the absolute minimum of the potential energy landscape in this two-dimensional configuration space. The method used for addressing this issue is called the simulated annealing technique. This technique is an elaboration on the hill climber technique where an algorithm is used to essentially \"walk around the fitness landscape\", in the sense that small perturbations are administered after which a score function calculates the fitness of the current solution. If this solution is better then the previous one, the solution is accepted and used for the next iteration of perturbation. The simulated annealing technique elaborates on this by using a \"temperature\" to accept worse solutions. The chance of accepting worse solutions depends on this temperature which cools down (declines) in the passage of time. The idea behind this is that upon being stuck inside a local minimum, the algorithm has a chance to escape. Six different cooling schemes are used (Hillclimber, Sigmoid, Exponential, variant of Exponential, Binary, Linear)."
   ]
  },
  {
   "cell_type": "markdown",
   "metadata": {},
   "source": [
    "## Load libraries and functions"
   ]
  },
  {
   "cell_type": "code",
   "execution_count": 133,
   "metadata": {
    "ExecuteTime": {
     "end_time": "2018-12-13T14:09:10.505019Z",
     "start_time": "2018-12-13T14:09:10.473447Z"
    }
   },
   "outputs": [],
   "source": [
    "import scipy.optimize as so\n",
    "import numpy as np\n",
    "import pandas as pd\n",
    "import matplotlib.pyplot as plt\n",
    "import scipy.linalg as la\n",
    "from IPython.display import IFrame, display, HTML, Markdown\n",
    "import random\n",
    "import math\n",
    "import seaborn as sns\n",
    "import pickle\n",
    "\n",
    "\n",
    "def prettyfie(ax, x, y, title, legendYN='Yes'):\n",
    "\n",
    "    # Remove borders\n",
    "    ax.spines['top'].set_visible(False)\n",
    "    ax.spines['bottom'].set_visible(False)\n",
    "    ax.spines['right'].set_visible(False)\n",
    "    ax.spines['left'].set_visible(False)\n",
    "    ax.grid(alpha=0.25)\n",
    "\n",
    "    # Remove unnecessary ticks\n",
    "    ax.tick_params(\n",
    "        axis='both',\n",
    "        which='both',\n",
    "        bottom=False,\n",
    "        top=False,\n",
    "        labelbottom=True,\n",
    "        left=False,\n",
    "        right=False,\n",
    "        labelleft=True)\n",
    "\n",
    "    if legendYN == 'Yes':\n",
    "        # Create legend and grid\n",
    "        ax.legend(framealpha=1, shadow=True)\n",
    "        ax.legend()\n",
    "\n",
    "    # Set labels and title\n",
    "    ax.set_xlabel(x, fontsize=14)\n",
    "    ax.set_ylabel(y, fontsize=14)\n",
    "    ax.set_title(title, fontsize=14)\n",
    "    ax.tick_params(axis='both', which='major', labelsize=12)\n",
    "\n",
    "\n",
    "def printmd(string):\n",
    "    display(Markdown(string))\n",
    "\n",
    "\n",
    "def log_progress(sequence, every=None, size=None, name='Items'):\n",
    "    from ipywidgets import IntProgress, HTML, VBox\n",
    "    from IPython.display import display\n",
    "\n",
    "    is_iterator = False\n",
    "    if size is None:\n",
    "        try:\n",
    "            size = len(sequence)\n",
    "        except TypeError:\n",
    "            is_iterator = True\n",
    "    if size is not None:\n",
    "        if every is None:\n",
    "            if size <= 200:\n",
    "                every = 1\n",
    "            else:\n",
    "                every = int(size / 200)  # every 0.5%\n",
    "    else:\n",
    "        assert every is not None, 'sequence is iterator, set every'\n",
    "\n",
    "    if is_iterator:\n",
    "        progress = IntProgress(min=0, max=1, value=1)\n",
    "        progress.bar_style = 'info'\n",
    "    else:\n",
    "        progress = IntProgress(min=0, max=size, value=0)\n",
    "    label = HTML()\n",
    "    box = VBox(children=[label, progress])\n",
    "    display(box)\n",
    "\n",
    "    index = 0\n",
    "    try:\n",
    "        for index, record in enumerate(sequence, 1):\n",
    "            if index == 1 or index % every == 0:\n",
    "                if is_iterator:\n",
    "                    label.value = '{name}: {index} / ?'.format(\n",
    "                        name=name, index=index)\n",
    "                else:\n",
    "                    progress.value = index\n",
    "                    label.value = u'{name}: {index} / {size}'.format(\n",
    "                        name=name, index=index, size=size)\n",
    "            yield record\n",
    "    except:\n",
    "        progress.bar_style = 'danger'\n",
    "        raise\n",
    "    else:\n",
    "        progress.bar_style = 'success'\n",
    "        progress.value = index\n",
    "        label.value = \"{name}: {index}\".format(\n",
    "            name=name, index=str(index or '?'))\n",
    "\n",
    "\n",
    "def plot(coordList):\n",
    "    plt.rcParams['figure.figsize'] = [10, 10]\n",
    "    sns.set()\n",
    "    sns.set_style(\"dark\")\n",
    "    fig = plt.figure()\n",
    "    ax = plt.subplot(111)\n",
    "    colors = list(range(len(coordList)))\n",
    "    ax.scatter(coordList[:, 0], coordList[:, 1], c=colors, cmap='Dark2')\n",
    "    circle1 = plt.Circle((0, 0), radius, alpha=0.2, color=\"olive\")\n",
    "    ax.add_artist(circle1)\n",
    "    plotpretify(\n",
    "        ax,\n",
    "        1.1,\n",
    "        minx=-1.1,\n",
    "        miny=-1.1,\n",
    "        maxy=1.1,\n",
    "        Grid=False,\n",
    "        LL=False,\n",
    "        LB=False)\n",
    "\n",
    "\n",
    "def highlight_min(s):\n",
    "    '''\n",
    "    highlight the maximum in a Series yellow.\n",
    "    '''\n",
    "    is_min = s == s.min()\n",
    "    return ['background-color: #b3fcd0' if v else '' for v in is_min]\n",
    "\n",
    "\n",
    "def getScheme_data(iters, plot=\"No\", scheme=\"Sigmoid\", markovChain=1):\n",
    "\n",
    "    answer = []\n",
    "\n",
    "    if scheme == \"Sigmoid\":\n",
    "        linspace = np.linspace(0, 7, iters)\n",
    "        for x in linspace:\n",
    "            answer.append(0.5 +\n",
    "                          math.erf((math.sqrt(math.pi) / 2) * (x - 2)) * -0.5)\n",
    "    elif scheme == \"Exp\":\n",
    "        for x in range(iters):\n",
    "            answer.append(np.exp(-x / (iters / 10)))\n",
    "    elif scheme == \"Expvar\":\n",
    "        for x in range(iters):\n",
    "            answer.append(\n",
    "                max(\n",
    "                    np.exp(-x / iters) - ((1.5 * x) / iters) * (1 / math.e),\n",
    "                    0))\n",
    "    elif scheme == \"Expvar2\":\n",
    "        for x in range(iters):\n",
    "            answer.append(max(np.exp(-x / iters) - 1.1 * (1 / math.e), 0))\n",
    "    elif scheme == \"Hillclimb\":\n",
    "        for x in range(iters):\n",
    "            answer.append(0)\n",
    "    elif scheme == \"Binary\":\n",
    "        for x in range(iters):\n",
    "            if x < iters / 2:\n",
    "                answer.append(1)\n",
    "            else:\n",
    "                answer.append(0)\n",
    "    elif scheme == \"Linear\":\n",
    "        for x in range(iters):\n",
    "            answer.append(1 - (x / iters))\n",
    "\n",
    "    if plot == \"Yes\":\n",
    "        plotanswer = np.repeat(answer, markovChain)\n",
    "        fig, ax = plt.subplots(1, 1, figsize=(5, 3))\n",
    "        ax.plot(plotanswer, label=\"Acceptance chance\")\n",
    "        ax.legend()\n",
    "        prettyfie(ax, \"iteration\", \"Acceptance\", scheme, legendYN=\"Yes\")\n",
    "        plt.show()\n",
    "    return np.array(answer)\n",
    "\n",
    "\n",
    "def incircle(crds, r=1):\n",
    "    return np.power(crds[0], 2) + np.power(crds[1], 2) < r\n",
    "\n",
    "\n",
    "def spawn(r=1):\n",
    "    x = random.uniform(-r, r)\n",
    "    limits = [-np.sqrt(r**2 - x**2), np.sqrt(r**2 - x**2)]\n",
    "    y = random.uniform(limits[0], limits[1])\n",
    "    return [x, y]\n",
    "\n",
    "\n",
    "# Good score when somewhere < 2\n",
    "def checkScore(coord):\n",
    "    totalDist = 0\n",
    "    for i in range(len(coord)):\n",
    "        for j in range(i, len(coord)):\n",
    "            if i != j:\n",
    "                totalDist += 1 / abs(\n",
    "                    math.hypot(coord[j][0] - coord[i][0],\n",
    "                               coord[j][1] - coord[i][1]))\n",
    "    return totalDist\n",
    "\n",
    "\n",
    "def move(k, coord, temp, rate):\n",
    "    F = np.array([0.0, 0.0])\n",
    "    velocity = np.zeros(2, float)\n",
    "    for l in coord:\n",
    "        if any(l != k):\n",
    "            r = np.array(k) - np.array(l)\n",
    "            F1 = (r / (np.linalg.norm(r)**3) * rate)\n",
    "            F += F1\n",
    "    newPoint = k + F\n",
    "    xr = random.uniform(-1, 1) * (1 / 50)\n",
    "    yr = random.uniform(-1, 1) * (1 / 50)\n",
    "    newPoint += [xr, yr]\n",
    "    if not incircle(newPoint, radius):\n",
    "        newPoint = newPoint / la.norm(newPoint)\n",
    "    return newPoint, F\n",
    "\n",
    "\n",
    "def submove(k, i, coord, temp, rate, score):\n",
    "    global coordListList\n",
    "    cT, favo = move(k, coord, temp, rate)\n",
    "    coordTemp = np.copy(coord)\n",
    "    coordTemp[i] = cT\n",
    "    coordListList.append(coordTemp)\n",
    "    scoreTemp = checkScore(coordTemp)\n",
    "    if temp > 0:\n",
    "        chance = np.exp(-(scoreTemp - score) / temp)\n",
    "    else:\n",
    "        chance = 0\n",
    "    if score > scoreTemp:\n",
    "        return np.array(coordTemp), favo\n",
    "    elif chance > random.random():\n",
    "        return np.array(coordTemp), favo\n",
    "    else:\n",
    "        return coord, favo\n",
    "\n",
    "\n",
    "def changeCoordSingle(coord, temp, rate):\n",
    "    score = checkScore(coord)\n",
    "    fav = []\n",
    "    for i, k in enumerate(coord):\n",
    "        coord, favo = submove(k, i, coord, temp, rate, score)\n",
    "        fav.append(favo)\n",
    "    return coord\n",
    "\n",
    "\n",
    "def changeCoordAll(coord, temp, rate):\n",
    "    counter = 0\n",
    "    score = checkScore(coord)\n",
    "    while counter < 10:\n",
    "        fav = []\n",
    "        coordTemp = []\n",
    "        for i, k in enumerate(coord):\n",
    "            cT, favo = move(k, coord, temp, rate)\n",
    "            coordTemp.append(cT)\n",
    "            fav.append(favo)\n",
    "        scoreTemp = checkScore(coordTemp)\n",
    "        if temp > 0:\n",
    "            chance = np.exp(-(scoreTemp - score) / temp)\n",
    "        else:\n",
    "            chance = 0\n",
    "        if score > scoreTemp:\n",
    "            return np.array(coordTemp)\n",
    "        elif chance > random.random():\n",
    "            return np.array(coordTemp)\n",
    "    return coord\n",
    "\n",
    "\n",
    "def start_sim(coordList,\n",
    "              radius,\n",
    "              pointsNum,\n",
    "              iterations,\n",
    "              rate,\n",
    "              scheme,\n",
    "              markovChain,\n",
    "              moveScheme,\n",
    "              transition=\"No\",\n",
    "              plotScheme=\"No\"):\n",
    "\n",
    "    schemeData = np.repeat(\n",
    "        getScheme_data(\n",
    "            math.ceil(iterations / markovChain),\n",
    "            plot=plotScheme,\n",
    "            scheme=scheme), markovChain)\n",
    "\n",
    "    coordListList = []\n",
    "    coordListList.append(coordList)\n",
    "    for i in range(iterations):\n",
    "        temp = schemeData[i]\n",
    "        coordList = moveScheme(coordList, temp, rate)\n",
    "        checklist.append(checkScore(coordList))\n",
    "        coordListList.append(coordList)\n",
    "\n",
    "    if transition == \"Yes\":\n",
    "        return checklist, coordListList\n",
    "    else:\n",
    "        return checklist"
   ]
  },
  {
   "cell_type": "markdown",
   "metadata": {},
   "source": [
    "## Run all"
   ]
  },
  {
   "cell_type": "code",
   "execution_count": 30,
   "metadata": {
    "ExecuteTime": {
     "end_time": "2018-12-13T12:33:10.890489Z",
     "start_time": "2018-12-13T12:31:29.690035Z"
    }
   },
   "outputs": [
    {
     "data": {
      "text/markdown": [
       "### scheme: Hillclimb"
      ],
      "text/plain": [
       "<IPython.core.display.Markdown object>"
      ]
     },
     "metadata": {},
     "output_type": "display_data"
    },
    {
     "data": {
      "text/markdown": [
       "### Markovlength: 1"
      ],
      "text/plain": [
       "<IPython.core.display.Markdown object>"
      ]
     },
     "metadata": {},
     "output_type": "display_data"
    },
    {
     "data": {
      "image/png": "[encoded data removed]",
      "text/plain": [
       "<Figure size 360x216 with 1 Axes>"
      ]
     },
     "metadata": {},
     "output_type": "display_data"
    },
    {
     "data": {
      "application/vnd.jupyter.widget-view+json": {
       "model_id": "5eaa9e583dd34651ac9ff9e1f498e2eb",
       "version_major": 2,
       "version_minor": 0
      },
      "text/plain": [
       "VBox(children=(HTML(value=''), IntProgress(value=0, max=20)))"
      ]
     },
     "metadata": {},
     "output_type": "display_data"
    },
    {
     "data": {
      "text/markdown": [
       "### Markovlength: 10"
      ],
      "text/plain": [
       "<IPython.core.display.Markdown object>"
      ]
     },
     "metadata": {},
     "output_type": "display_data"
    },
    {
     "data": {
      "image/png": "[encoded data removed]",
      "text/plain": [
       "<Figure size 360x216 with 1 Axes>"
      ]
     },
     "metadata": {},
     "output_type": "display_data"
    },
    {
     "data": {
      "application/vnd.jupyter.widget-view+json": {
       "model_id": "8ddc41f0b75341e9be07dd2846e4b18e",
       "version_major": 2,
       "version_minor": 0
      },
      "text/plain": [
       "VBox(children=(HTML(value=''), IntProgress(value=0, max=20)))"
      ]
     },
     "metadata": {},
     "output_type": "display_data"
    },
    {
     "data": {
      "text/markdown": [
       "### Markovlength: 20"
      ],
      "text/plain": [
       "<IPython.core.display.Markdown object>"
      ]
     },
     "metadata": {},
     "output_type": "display_data"
    },
    {
     "data": {
      "image/png": "[encoded data removed]",
      "text/plain": [
       "<Figure size 360x216 with 1 Axes>"
      ]
     },
     "metadata": {},
     "output_type": "display_data"
    },
    {
     "data": {
      "application/vnd.jupyter.widget-view+json": {
       "model_id": "e9b359b556a44a3fb2560ec03161ff4a",
       "version_major": 2,
       "version_minor": 0
      },
      "text/plain": [
       "VBox(children=(HTML(value=''), IntProgress(value=0, max=20)))"
      ]
     },
     "metadata": {},
     "output_type": "display_data"
    },
    {
     "data": {
      "text/markdown": [
       "### scheme: Sigmoid"
      ],
      "text/plain": [
       "<IPython.core.display.Markdown object>"
      ]
     },
     "metadata": {},
     "output_type": "display_data"
    },
    {
     "data": {
      "text/markdown": [
       "### Markovlength: 1"
      ],
      "text/plain": [
       "<IPython.core.display.Markdown object>"
      ]
     },
     "metadata": {},
     "output_type": "display_data"
    },
    {
     "data": {
      "image/png": "[encoded data removed]",
      "text/plain": [
       "<Figure size 360x216 with 1 Axes>"
      ]
     },
     "metadata": {},
     "output_type": "display_data"
    },
    {
     "data": {
      "application/vnd.jupyter.widget-view+json": {
       "model_id": "7f4772a8e446485cac6f29025212a0e7",
       "version_major": 2,
       "version_minor": 0
      },
      "text/plain": [
       "VBox(children=(HTML(value=''), IntProgress(value=0, max=20)))"
      ]
     },
     "metadata": {},
     "output_type": "display_data"
    },
    {
     "data": {
      "text/markdown": [
       "### Markovlength: 10"
      ],
      "text/plain": [
       "<IPython.core.display.Markdown object>"
      ]
     },
     "metadata": {},
     "output_type": "display_data"
    },
    {
     "data": {
      "image/png": "[encoded data removed]",
      "text/plain": [
       "<Figure size 360x216 with 1 Axes>"
      ]
     },
     "metadata": {},
     "output_type": "display_data"
    },
    {
     "data": {
      "application/vnd.jupyter.widget-view+json": {
       "model_id": "6b6f9cbafb6b4f868071112785012e2a",
       "version_major": 2,
       "version_minor": 0
      },
      "text/plain": [
       "VBox(children=(HTML(value=''), IntProgress(value=0, max=20)))"
      ]
     },
     "metadata": {},
     "output_type": "display_data"
    },
    {
     "data": {
      "text/markdown": [
       "### Markovlength: 20"
      ],
      "text/plain": [
       "<IPython.core.display.Markdown object>"
      ]
     },
     "metadata": {},
     "output_type": "display_data"
    },
    {
     "data": {
      "image/png": "[encoded data removed]",
      "text/plain": [
       "<Figure size 360x216 with 1 Axes>"
      ]
     },
     "metadata": {},
     "output_type": "display_data"
    },
    {
     "data": {
      "application/vnd.jupyter.widget-view+json": {
       "model_id": "fee4037573b247bd8b61fd387e5a8ee0",
       "version_major": 2,
       "version_minor": 0
      },
      "text/plain": [
       "VBox(children=(HTML(value=''), IntProgress(value=0, max=20)))"
      ]
     },
     "metadata": {},
     "output_type": "display_data"
    },
    {
     "data": {
      "text/markdown": [
       "### scheme: Exp"
      ],
      "text/plain": [
       "<IPython.core.display.Markdown object>"
      ]
     },
     "metadata": {},
     "output_type": "display_data"
    },
    {
     "data": {
      "text/markdown": [
       "### Markovlength: 1"
      ],
      "text/plain": [
       "<IPython.core.display.Markdown object>"
      ]
     },
     "metadata": {},
     "output_type": "display_data"
    },
    {
     "data": {
      "image/png": "[encoded data removed]",
      "text/plain": [
       "<Figure size 360x216 with 1 Axes>"
      ]
     },
     "metadata": {},
     "output_type": "display_data"
    },
    {
     "data": {
      "application/vnd.jupyter.widget-view+json": {
       "model_id": "fe72188631e04c61bb4c6342403364e3",
       "version_major": 2,
       "version_minor": 0
      },
      "text/plain": [
       "VBox(children=(HTML(value=''), IntProgress(value=0, max=20)))"
      ]
     },
     "metadata": {},
     "output_type": "display_data"
    },
    {
     "data": {
      "text/markdown": [
       "### Markovlength: 10"
      ],
      "text/plain": [
       "<IPython.core.display.Markdown object>"
      ]
     },
     "metadata": {},
     "output_type": "display_data"
    },
    {
     "data": {
      "image/png": "[encoded data removed]",
      "text/plain": [
       "<Figure size 360x216 with 1 Axes>"
      ]
     },
     "metadata": {},
     "output_type": "display_data"
    },
    {
     "data": {
      "application/vnd.jupyter.widget-view+json": {
       "model_id": "c280516e006744dd9abb6f834f726e69",
       "version_major": 2,
       "version_minor": 0
      },
      "text/plain": [
       "VBox(children=(HTML(value=''), IntProgress(value=0, max=20)))"
      ]
     },
     "metadata": {},
     "output_type": "display_data"
    },
    {
     "data": {
      "text/markdown": [
       "### Markovlength: 20"
      ],
      "text/plain": [
       "<IPython.core.display.Markdown object>"
      ]
     },
     "metadata": {},
     "output_type": "display_data"
    },
    {
     "data": {
      "image/png": "[encoded data removed]",
      "text/plain": [
       "<Figure size 360x216 with 1 Axes>"
      ]
     },
     "metadata": {},
     "output_type": "display_data"
    },
    {
     "data": {
      "application/vnd.jupyter.widget-view+json": {
       "model_id": "fc1f542b26314360b003d7533100cab3",
       "version_major": 2,
       "version_minor": 0
      },
      "text/plain": [
       "VBox(children=(HTML(value=''), IntProgress(value=0, max=20)))"
      ]
     },
     "metadata": {},
     "output_type": "display_data"
    },
    {
     "data": {
      "text/markdown": [
       "### scheme: Expvar"
      ],
      "text/plain": [
       "<IPython.core.display.Markdown object>"
      ]
     },
     "metadata": {},
     "output_type": "display_data"
    },
    {
     "data": {
      "text/markdown": [
       "### Markovlength: 1"
      ],
      "text/plain": [
       "<IPython.core.display.Markdown object>"
      ]
     },
     "metadata": {},
     "output_type": "display_data"
    },
    {
     "data": {
      "image/png": "[encoded data removed]",
      "text/plain": [
       "<Figure size 360x216 with 1 Axes>"
      ]
     },
     "metadata": {},
     "output_type": "display_data"
    },
    {
     "data": {
      "application/vnd.jupyter.widget-view+json": {
       "model_id": "c5f3995dfc38478898d5688f0721cb9c",
       "version_major": 2,
       "version_minor": 0
      },
      "text/plain": [
       "VBox(children=(HTML(value=''), IntProgress(value=0, max=20)))"
      ]
     },
     "metadata": {},
     "output_type": "display_data"
    },
    {
     "data": {
      "text/markdown": [
       "### Markovlength: 10"
      ],
      "text/plain": [
       "<IPython.core.display.Markdown object>"
      ]
     },
     "metadata": {},
     "output_type": "display_data"
    },
    {
     "data": {
      "image/png": "[encoded data removed]",
      "text/plain": [
       "<Figure size 360x216 with 1 Axes>"
      ]
     },
     "metadata": {},
     "output_type": "display_data"
    },
    {
     "data": {
      "application/vnd.jupyter.widget-view+json": {
       "model_id": "d0cd37a309e845208429fd8bf1d2adc9",
       "version_major": 2,
       "version_minor": 0
      },
      "text/plain": [
       "VBox(children=(HTML(value=''), IntProgress(value=0, max=20)))"
      ]
     },
     "metadata": {},
     "output_type": "display_data"
    },
    {
     "data": {
      "text/markdown": [
       "### Markovlength: 20"
      ],
      "text/plain": [
       "<IPython.core.display.Markdown object>"
      ]
     },
     "metadata": {},
     "output_type": "display_data"
    },
    {
     "data": {
      "image/png": "[encoded data removed]",
      "text/plain": [
       "<Figure size 360x216 with 1 Axes>"
      ]
     },
     "metadata": {},
     "output_type": "display_data"
    },
    {
     "data": {
      "application/vnd.jupyter.widget-view+json": {
       "model_id": "45ee9ceeb8ac4dbc82df0f1297426927",
       "version_major": 2,
       "version_minor": 0
      },
      "text/plain": [
       "VBox(children=(HTML(value=''), IntProgress(value=0, max=20)))"
      ]
     },
     "metadata": {},
     "output_type": "display_data"
    },
    {
     "data": {
      "text/markdown": [
       "### scheme: Binary"
      ],
      "text/plain": [
       "<IPython.core.display.Markdown object>"
      ]
     },
     "metadata": {},
     "output_type": "display_data"
    },
    {
     "data": {
      "text/markdown": [
       "### Markovlength: 1"
      ],
      "text/plain": [
       "<IPython.core.display.Markdown object>"
      ]
     },
     "metadata": {},
     "output_type": "display_data"
    },
    {
     "data": {
      "image/png": "[encoded data removed]",
      "text/plain": [
       "<Figure size 360x216 with 1 Axes>"
      ]
     },
     "metadata": {},
     "output_type": "display_data"
    },
    {
     "data": {
      "application/vnd.jupyter.widget-view+json": {
       "model_id": "c93effe00bc14270b43e5ca76959b7ce",
       "version_major": 2,
       "version_minor": 0
      },
      "text/plain": [
       "VBox(children=(HTML(value=''), IntProgress(value=0, max=20)))"
      ]
     },
     "metadata": {},
     "output_type": "display_data"
    },
    {
     "data": {
      "text/markdown": [
       "### Markovlength: 10"
      ],
      "text/plain": [
       "<IPython.core.display.Markdown object>"
      ]
     },
     "metadata": {},
     "output_type": "display_data"
    },
    {
     "data": {
      "image/png": "[encoded data removed]",
      "text/plain": [
       "<Figure size 360x216 with 1 Axes>"
      ]
     },
     "metadata": {},
     "output_type": "display_data"
    },
    {
     "data": {
      "application/vnd.jupyter.widget-view+json": {
       "model_id": "e8bcc36100b44ad38f57d7e8b607cccd",
       "version_major": 2,
       "version_minor": 0
      },
      "text/plain": [
       "VBox(children=(HTML(value=''), IntProgress(value=0, max=20)))"
      ]
     },
     "metadata": {},
     "output_type": "display_data"
    },
    {
     "data": {
      "text/markdown": [
       "### Markovlength: 20"
      ],
      "text/plain": [
       "<IPython.core.display.Markdown object>"
      ]
     },
     "metadata": {},
     "output_type": "display_data"
    },
    {
     "data": {
      "image/png": "[encoded data removed]",
      "text/plain": [
       "<Figure size 360x216 with 1 Axes>"
      ]
     },
     "metadata": {},
     "output_type": "display_data"
    },
    {
     "data": {
      "application/vnd.jupyter.widget-view+json": {
       "model_id": "9a258a400ff74eafbaa7325d344f08f6",
       "version_major": 2,
       "version_minor": 0
      },
      "text/plain": [
       "VBox(children=(HTML(value=''), IntProgress(value=0, max=20)))"
      ]
     },
     "metadata": {},
     "output_type": "display_data"
    },
    {
     "data": {
      "text/markdown": [
       "### scheme: Linear"
      ],
      "text/plain": [
       "<IPython.core.display.Markdown object>"
      ]
     },
     "metadata": {},
     "output_type": "display_data"
    },
    {
     "data": {
      "text/markdown": [
       "### Markovlength: 1"
      ],
      "text/plain": [
       "<IPython.core.display.Markdown object>"
      ]
     },
     "metadata": {},
     "output_type": "display_data"
    },
    {
     "data": {
      "image/png": "[encoded data removed]",
      "text/plain": [
       "<Figure size 360x216 with 1 Axes>"
      ]
     },
     "metadata": {},
     "output_type": "display_data"
    },
    {
     "data": {
      "application/vnd.jupyter.widget-view+json": {
       "model_id": "df58570870e146dcba51f376a376c607",
       "version_major": 2,
       "version_minor": 0
      },
      "text/plain": [
       "VBox(children=(HTML(value=''), IntProgress(value=0, max=20)))"
      ]
     },
     "metadata": {},
     "output_type": "display_data"
    },
    {
     "data": {
      "text/markdown": [
       "### Markovlength: 10"
      ],
      "text/plain": [
       "<IPython.core.display.Markdown object>"
      ]
     },
     "metadata": {},
     "output_type": "display_data"
    },
    {
     "data": {
      "image/png": "[encoded data removed]",
      "text/plain": [
       "<Figure size 360x216 with 1 Axes>"
      ]
     },
     "metadata": {},
     "output_type": "display_data"
    },
    {
     "data": {
      "application/vnd.jupyter.widget-view+json": {
       "model_id": "8c9edb59ed1a493483a5dc978b685a5e",
       "version_major": 2,
       "version_minor": 0
      },
      "text/plain": [
       "VBox(children=(HTML(value=''), IntProgress(value=0, max=20)))"
      ]
     },
     "metadata": {},
     "output_type": "display_data"
    },
    {
     "data": {
      "text/markdown": [
       "### Markovlength: 20"
      ],
      "text/plain": [
       "<IPython.core.display.Markdown object>"
      ]
     },
     "metadata": {},
     "output_type": "display_data"
    },
    {
     "data": {
      "image/png": "[encoded data removed]",
      "text/plain": [
       "<Figure size 360x216 with 1 Axes>"
      ]
     },
     "metadata": {},
     "output_type": "display_data"
    },
    {
     "data": {
      "application/vnd.jupyter.widget-view+json": {
       "model_id": "7fd5b6f6e31340ffaa7e339aead151e1",
       "version_major": 2,
       "version_minor": 0
      },
      "text/plain": [
       "VBox(children=(HTML(value=''), IntProgress(value=0, max=20)))"
      ]
     },
     "metadata": {},
     "output_type": "display_data"
    },
    {
     "data": {
      "text/html": [
       "<style  type=\"text/css\" >\n",
       "    #T_408386a2_fed3_11e8_821e_2816ad4d1b6brow0_col5 {\n",
       "            background-color:  #b3fcd0;\n",
       "        }    #T_408386a2_fed3_11e8_821e_2816ad4d1b6brow0_col13 {\n",
       "            background-color:  #b3fcd0;\n",
       "        }    #T_408386a2_fed3_11e8_821e_2816ad4d1b6brow0_col14 {\n",
       "            background-color:  #b3fcd0;\n",
       "        }    #T_408386a2_fed3_11e8_821e_2816ad4d1b6brow1_col7 {\n",
       "            background-color:  #b3fcd0;\n",
       "        }    #T_408386a2_fed3_11e8_821e_2816ad4d1b6brow2_col7 {\n",
       "            background-color:  #b3fcd0;\n",
       "        }    #T_408386a2_fed3_11e8_821e_2816ad4d1b6brow3_col4 {\n",
       "            background-color:  #b3fcd0;\n",
       "        }    #T_408386a2_fed3_11e8_821e_2816ad4d1b6brow4_col1 {\n",
       "            background-color:  #b3fcd0;\n",
       "        }    #T_408386a2_fed3_11e8_821e_2816ad4d1b6brow4_col2 {\n",
       "            background-color:  #b3fcd0;\n",
       "        }    #T_408386a2_fed3_11e8_821e_2816ad4d1b6brow4_col3 {\n",
       "            background-color:  #b3fcd0;\n",
       "        }    #T_408386a2_fed3_11e8_821e_2816ad4d1b6brow5_col4 {\n",
       "            background-color:  #b3fcd0;\n",
       "        }    #T_408386a2_fed3_11e8_821e_2816ad4d1b6brow6_col8 {\n",
       "            background-color:  #b3fcd0;\n",
       "        }    #T_408386a2_fed3_11e8_821e_2816ad4d1b6brow7_col1 {\n",
       "            background-color:  #b3fcd0;\n",
       "        }    #T_408386a2_fed3_11e8_821e_2816ad4d1b6brow7_col2 {\n",
       "            background-color:  #b3fcd0;\n",
       "        }    #T_408386a2_fed3_11e8_821e_2816ad4d1b6brow7_col3 {\n",
       "            background-color:  #b3fcd0;\n",
       "        }    #T_408386a2_fed3_11e8_821e_2816ad4d1b6brow8_col1 {\n",
       "            background-color:  #b3fcd0;\n",
       "        }    #T_408386a2_fed3_11e8_821e_2816ad4d1b6brow8_col2 {\n",
       "            background-color:  #b3fcd0;\n",
       "        }    #T_408386a2_fed3_11e8_821e_2816ad4d1b6brow8_col3 {\n",
       "            background-color:  #b3fcd0;\n",
       "        }    #T_408386a2_fed3_11e8_821e_2816ad4d1b6brow9_col1 {\n",
       "            background-color:  #b3fcd0;\n",
       "        }    #T_408386a2_fed3_11e8_821e_2816ad4d1b6brow9_col2 {\n",
       "            background-color:  #b3fcd0;\n",
       "        }    #T_408386a2_fed3_11e8_821e_2816ad4d1b6brow9_col3 {\n",
       "            background-color:  #b3fcd0;\n",
       "        }    #T_408386a2_fed3_11e8_821e_2816ad4d1b6brow10_col1 {\n",
       "            background-color:  #b3fcd0;\n",
       "        }    #T_408386a2_fed3_11e8_821e_2816ad4d1b6brow10_col2 {\n",
       "            background-color:  #b3fcd0;\n",
       "        }    #T_408386a2_fed3_11e8_821e_2816ad4d1b6brow10_col3 {\n",
       "            background-color:  #b3fcd0;\n",
       "        }    #T_408386a2_fed3_11e8_821e_2816ad4d1b6brow11_col11 {\n",
       "            background-color:  #b3fcd0;\n",
       "        }    #T_408386a2_fed3_11e8_821e_2816ad4d1b6brow12_col10 {\n",
       "            background-color:  #b3fcd0;\n",
       "        }    #T_408386a2_fed3_11e8_821e_2816ad4d1b6brow13_col4 {\n",
       "            background-color:  #b3fcd0;\n",
       "        }    #T_408386a2_fed3_11e8_821e_2816ad4d1b6brow14_col1 {\n",
       "            background-color:  #b3fcd0;\n",
       "        }    #T_408386a2_fed3_11e8_821e_2816ad4d1b6brow14_col2 {\n",
       "            background-color:  #b3fcd0;\n",
       "        }    #T_408386a2_fed3_11e8_821e_2816ad4d1b6brow14_col3 {\n",
       "            background-color:  #b3fcd0;\n",
       "        }    #T_408386a2_fed3_11e8_821e_2816ad4d1b6brow15_col1 {\n",
       "            background-color:  #b3fcd0;\n",
       "        }    #T_408386a2_fed3_11e8_821e_2816ad4d1b6brow15_col2 {\n",
       "            background-color:  #b3fcd0;\n",
       "        }    #T_408386a2_fed3_11e8_821e_2816ad4d1b6brow15_col3 {\n",
       "            background-color:  #b3fcd0;\n",
       "        }    #T_408386a2_fed3_11e8_821e_2816ad4d1b6brow16_col4 {\n",
       "            background-color:  #b3fcd0;\n",
       "        }    #T_408386a2_fed3_11e8_821e_2816ad4d1b6brow17_col5 {\n",
       "            background-color:  #b3fcd0;\n",
       "        }    #T_408386a2_fed3_11e8_821e_2816ad4d1b6brow17_col13 {\n",
       "            background-color:  #b3fcd0;\n",
       "        }    #T_408386a2_fed3_11e8_821e_2816ad4d1b6brow17_col14 {\n",
       "            background-color:  #b3fcd0;\n",
       "        }    #T_408386a2_fed3_11e8_821e_2816ad4d1b6brow18_col10 {\n",
       "            background-color:  #b3fcd0;\n",
       "        }    #T_408386a2_fed3_11e8_821e_2816ad4d1b6brow19_col1 {\n",
       "            background-color:  #b3fcd0;\n",
       "        }    #T_408386a2_fed3_11e8_821e_2816ad4d1b6brow19_col2 {\n",
       "            background-color:  #b3fcd0;\n",
       "        }    #T_408386a2_fed3_11e8_821e_2816ad4d1b6brow19_col3 {\n",
       "            background-color:  #b3fcd0;\n",
       "        }</style>  \n",
       "<table id=\"T_408386a2_fed3_11e8_821e_2816ad4d1b6b\" > \n",
       "<thead>    <tr> \n",
       "        <th class=\"index_name level0\" >Scheme</th> \n",
       "        <th class=\"col_heading level0 col0\" >Mean</th> \n",
       "        <th class=\"col_heading level0 col1\" colspan=3>Hillclimb</th> \n",
       "        <th class=\"col_heading level0 col4\" colspan=3>Sigmoid</th> \n",
       "        <th class=\"col_heading level0 col7\" colspan=3>Exp</th> \n",
       "        <th class=\"col_heading level0 col10\" colspan=3>Expvar</th> \n",
       "        <th class=\"col_heading level0 col13\" colspan=3>Binary</th> \n",
       "        <th class=\"col_heading level0 col16\" colspan=3>Linear</th> \n",
       "    </tr>    <tr> \n",
       "        <th class=\"index_name level1\" >MarkovLength</th> \n",
       "        <th class=\"col_heading level1 col0\" ></th> \n",
       "        <th class=\"col_heading level1 col1\" >1</th> \n",
       "        <th class=\"col_heading level1 col2\" >10</th> \n",
       "        <th class=\"col_heading level1 col3\" >20</th> \n",
       "        <th class=\"col_heading level1 col4\" >1</th> \n",
       "        <th class=\"col_heading level1 col5\" >10</th> \n",
       "        <th class=\"col_heading level1 col6\" >20</th> \n",
       "        <th class=\"col_heading level1 col7\" >1</th> \n",
       "        <th class=\"col_heading level1 col8\" >10</th> \n",
       "        <th class=\"col_heading level1 col9\" >20</th> \n",
       "        <th class=\"col_heading level1 col10\" >1</th> \n",
       "        <th class=\"col_heading level1 col11\" >10</th> \n",
       "        <th class=\"col_heading level1 col12\" >20</th> \n",
       "        <th class=\"col_heading level1 col13\" >1</th> \n",
       "        <th class=\"col_heading level1 col14\" >10</th> \n",
       "        <th class=\"col_heading level1 col15\" >20</th> \n",
       "        <th class=\"col_heading level1 col16\" >1</th> \n",
       "        <th class=\"col_heading level1 col17\" >10</th> \n",
       "        <th class=\"col_heading level1 col18\" >20</th> \n",
       "    </tr></thead> \n",
       "<tbody>    <tr> \n",
       "        <th id=\"T_408386a2_fed3_11e8_821e_2816ad4d1b6blevel0_row0\" class=\"row_heading level0 row0\" >11</th> \n",
       "        <td id=\"T_408386a2_fed3_11e8_821e_2816ad4d1b6brow0_col0\" class=\"data row0 col0\" >66.63</td> \n",
       "        <td id=\"T_408386a2_fed3_11e8_821e_2816ad4d1b6brow0_col1\" class=\"data row0 col1\" >-0.701</td> \n",
       "        <td id=\"T_408386a2_fed3_11e8_821e_2816ad4d1b6brow0_col2\" class=\"data row0 col2\" >-0.701</td> \n",
       "        <td id=\"T_408386a2_fed3_11e8_821e_2816ad4d1b6brow0_col3\" class=\"data row0 col3\" >-0.701</td> \n",
       "        <td id=\"T_408386a2_fed3_11e8_821e_2816ad4d1b6brow0_col4\" class=\"data row0 col4\" >-1.383</td> \n",
       "        <td id=\"T_408386a2_fed3_11e8_821e_2816ad4d1b6brow0_col5\" class=\"data row0 col5\" >-1.423</td> \n",
       "        <td id=\"T_408386a2_fed3_11e8_821e_2816ad4d1b6brow0_col6\" class=\"data row0 col6\" >0.896</td> \n",
       "        <td id=\"T_408386a2_fed3_11e8_821e_2816ad4d1b6brow0_col7\" class=\"data row0 col7\" >0.263</td> \n",
       "        <td id=\"T_408386a2_fed3_11e8_821e_2816ad4d1b6brow0_col8\" class=\"data row0 col8\" >-1.401</td> \n",
       "        <td id=\"T_408386a2_fed3_11e8_821e_2816ad4d1b6brow0_col9\" class=\"data row0 col9\" >0.896</td> \n",
       "        <td id=\"T_408386a2_fed3_11e8_821e_2816ad4d1b6brow0_col10\" class=\"data row0 col10\" >0.888</td> \n",
       "        <td id=\"T_408386a2_fed3_11e8_821e_2816ad4d1b6brow0_col11\" class=\"data row0 col11\" >0.647</td> \n",
       "        <td id=\"T_408386a2_fed3_11e8_821e_2816ad4d1b6brow0_col12\" class=\"data row0 col12\" >0.896</td> \n",
       "        <td id=\"T_408386a2_fed3_11e8_821e_2816ad4d1b6brow0_col13\" class=\"data row0 col13\" >-1.423</td> \n",
       "        <td id=\"T_408386a2_fed3_11e8_821e_2816ad4d1b6brow0_col14\" class=\"data row0 col14\" >-1.423</td> \n",
       "        <td id=\"T_408386a2_fed3_11e8_821e_2816ad4d1b6brow0_col15\" class=\"data row0 col15\" >0.896</td> \n",
       "        <td id=\"T_408386a2_fed3_11e8_821e_2816ad4d1b6brow0_col16\" class=\"data row0 col16\" >1.501</td> \n",
       "        <td id=\"T_408386a2_fed3_11e8_821e_2816ad4d1b6brow0_col17\" class=\"data row0 col17\" >1.376</td> \n",
       "        <td id=\"T_408386a2_fed3_11e8_821e_2816ad4d1b6brow0_col18\" class=\"data row0 col18\" >0.896</td> \n",
       "    </tr>    <tr> \n",
       "        <th id=\"T_408386a2_fed3_11e8_821e_2816ad4d1b6blevel0_row1\" class=\"row_heading level0 row1\" >12</th> \n",
       "        <td id=\"T_408386a2_fed3_11e8_821e_2816ad4d1b6brow1_col0\" class=\"data row1 col0\" >80.483</td> \n",
       "        <td id=\"T_408386a2_fed3_11e8_821e_2816ad4d1b6brow1_col1\" class=\"data row1 col1\" >-1.051</td> \n",
       "        <td id=\"T_408386a2_fed3_11e8_821e_2816ad4d1b6brow1_col2\" class=\"data row1 col2\" >-1.051</td> \n",
       "        <td id=\"T_408386a2_fed3_11e8_821e_2816ad4d1b6brow1_col3\" class=\"data row1 col3\" >-1.051</td> \n",
       "        <td id=\"T_408386a2_fed3_11e8_821e_2816ad4d1b6brow1_col4\" class=\"data row1 col4\" >-0.622</td> \n",
       "        <td id=\"T_408386a2_fed3_11e8_821e_2816ad4d1b6brow1_col5\" class=\"data row1 col5\" >-0.774</td> \n",
       "        <td id=\"T_408386a2_fed3_11e8_821e_2816ad4d1b6brow1_col6\" class=\"data row1 col6\" >1.501</td> \n",
       "        <td id=\"T_408386a2_fed3_11e8_821e_2816ad4d1b6brow1_col7\" class=\"data row1 col7\" >-3.256</td> \n",
       "        <td id=\"T_408386a2_fed3_11e8_821e_2816ad4d1b6brow1_col8\" class=\"data row1 col8\" >-0.972</td> \n",
       "        <td id=\"T_408386a2_fed3_11e8_821e_2816ad4d1b6brow1_col9\" class=\"data row1 col9\" >1.501</td> \n",
       "        <td id=\"T_408386a2_fed3_11e8_821e_2816ad4d1b6brow1_col10\" class=\"data row1 col10\" >-1.215</td> \n",
       "        <td id=\"T_408386a2_fed3_11e8_821e_2816ad4d1b6brow1_col11\" class=\"data row1 col11\" >2.185</td> \n",
       "        <td id=\"T_408386a2_fed3_11e8_821e_2816ad4d1b6brow1_col12\" class=\"data row1 col12\" >1.501</td> \n",
       "        <td id=\"T_408386a2_fed3_11e8_821e_2816ad4d1b6brow1_col13\" class=\"data row1 col13\" >-0.774</td> \n",
       "        <td id=\"T_408386a2_fed3_11e8_821e_2816ad4d1b6brow1_col14\" class=\"data row1 col14\" >-0.774</td> \n",
       "        <td id=\"T_408386a2_fed3_11e8_821e_2816ad4d1b6brow1_col15\" class=\"data row1 col15\" >1.501</td> \n",
       "        <td id=\"T_408386a2_fed3_11e8_821e_2816ad4d1b6brow1_col16\" class=\"data row1 col16\" >-0.136</td> \n",
       "        <td id=\"T_408386a2_fed3_11e8_821e_2816ad4d1b6brow1_col17\" class=\"data row1 col17\" >1.986</td> \n",
       "        <td id=\"T_408386a2_fed3_11e8_821e_2816ad4d1b6brow1_col18\" class=\"data row1 col18\" >1.501</td> \n",
       "    </tr>    <tr> \n",
       "        <th id=\"T_408386a2_fed3_11e8_821e_2816ad4d1b6blevel0_row2\" class=\"row_heading level0 row2\" >13</th> \n",
       "        <td id=\"T_408386a2_fed3_11e8_821e_2816ad4d1b6brow2_col0\" class=\"data row2 col0\" >97.312</td> \n",
       "        <td id=\"T_408386a2_fed3_11e8_821e_2816ad4d1b6brow2_col1\" class=\"data row2 col1\" >-1.349</td> \n",
       "        <td id=\"T_408386a2_fed3_11e8_821e_2816ad4d1b6brow2_col2\" class=\"data row2 col2\" >-1.349</td> \n",
       "        <td id=\"T_408386a2_fed3_11e8_821e_2816ad4d1b6brow2_col3\" class=\"data row2 col3\" >-1.349</td> \n",
       "        <td id=\"T_408386a2_fed3_11e8_821e_2816ad4d1b6brow2_col4\" class=\"data row2 col4\" >0.198</td> \n",
       "        <td id=\"T_408386a2_fed3_11e8_821e_2816ad4d1b6brow2_col5\" class=\"data row2 col5\" >-1.354</td> \n",
       "        <td id=\"T_408386a2_fed3_11e8_821e_2816ad4d1b6brow2_col6\" class=\"data row2 col6\" >0.737</td> \n",
       "        <td id=\"T_408386a2_fed3_11e8_821e_2816ad4d1b6brow2_col7\" class=\"data row2 col7\" >-1.791</td> \n",
       "        <td id=\"T_408386a2_fed3_11e8_821e_2816ad4d1b6brow2_col8\" class=\"data row2 col8\" >-1.354</td> \n",
       "        <td id=\"T_408386a2_fed3_11e8_821e_2816ad4d1b6brow2_col9\" class=\"data row2 col9\" >0.737</td> \n",
       "        <td id=\"T_408386a2_fed3_11e8_821e_2816ad4d1b6brow2_col10\" class=\"data row2 col10\" >4.116</td> \n",
       "        <td id=\"T_408386a2_fed3_11e8_821e_2816ad4d1b6brow2_col11\" class=\"data row2 col11\" >-1.632</td> \n",
       "        <td id=\"T_408386a2_fed3_11e8_821e_2816ad4d1b6brow2_col12\" class=\"data row2 col12\" >0.737</td> \n",
       "        <td id=\"T_408386a2_fed3_11e8_821e_2816ad4d1b6brow2_col13\" class=\"data row2 col13\" >-1.354</td> \n",
       "        <td id=\"T_408386a2_fed3_11e8_821e_2816ad4d1b6brow2_col14\" class=\"data row2 col14\" >-1.354</td> \n",
       "        <td id=\"T_408386a2_fed3_11e8_821e_2816ad4d1b6brow2_col15\" class=\"data row2 col15\" >0.737</td> \n",
       "        <td id=\"T_408386a2_fed3_11e8_821e_2816ad4d1b6brow2_col16\" class=\"data row2 col16\" >4.322</td> \n",
       "        <td id=\"T_408386a2_fed3_11e8_821e_2816ad4d1b6brow2_col17\" class=\"data row2 col17\" >0.567</td> \n",
       "        <td id=\"T_408386a2_fed3_11e8_821e_2816ad4d1b6brow2_col18\" class=\"data row2 col18\" >0.737</td> \n",
       "    </tr>    <tr> \n",
       "        <th id=\"T_408386a2_fed3_11e8_821e_2816ad4d1b6blevel0_row3\" class=\"row_heading level0 row3\" >14</th> \n",
       "        <td id=\"T_408386a2_fed3_11e8_821e_2816ad4d1b6brow3_col0\" class=\"data row3 col0\" >113.025</td> \n",
       "        <td id=\"T_408386a2_fed3_11e8_821e_2816ad4d1b6brow3_col1\" class=\"data row3 col1\" >-0.76</td> \n",
       "        <td id=\"T_408386a2_fed3_11e8_821e_2816ad4d1b6brow3_col2\" class=\"data row3 col2\" >-0.76</td> \n",
       "        <td id=\"T_408386a2_fed3_11e8_821e_2816ad4d1b6brow3_col3\" class=\"data row3 col3\" >-0.76</td> \n",
       "        <td id=\"T_408386a2_fed3_11e8_821e_2816ad4d1b6brow3_col4\" class=\"data row3 col4\" >-3.235</td> \n",
       "        <td id=\"T_408386a2_fed3_11e8_821e_2816ad4d1b6brow3_col5\" class=\"data row3 col5\" >-1.47</td> \n",
       "        <td id=\"T_408386a2_fed3_11e8_821e_2816ad4d1b6brow3_col6\" class=\"data row3 col6\" >1.702</td> \n",
       "        <td id=\"T_408386a2_fed3_11e8_821e_2816ad4d1b6brow3_col7\" class=\"data row3 col7\" >0.089</td> \n",
       "        <td id=\"T_408386a2_fed3_11e8_821e_2816ad4d1b6brow3_col8\" class=\"data row3 col8\" >-1.47</td> \n",
       "        <td id=\"T_408386a2_fed3_11e8_821e_2816ad4d1b6brow3_col9\" class=\"data row3 col9\" >1.702</td> \n",
       "        <td id=\"T_408386a2_fed3_11e8_821e_2816ad4d1b6brow3_col10\" class=\"data row3 col10\" >1.058</td> \n",
       "        <td id=\"T_408386a2_fed3_11e8_821e_2816ad4d1b6brow3_col11\" class=\"data row3 col11\" >0.281</td> \n",
       "        <td id=\"T_408386a2_fed3_11e8_821e_2816ad4d1b6brow3_col12\" class=\"data row3 col12\" >1.702</td> \n",
       "        <td id=\"T_408386a2_fed3_11e8_821e_2816ad4d1b6brow3_col13\" class=\"data row3 col13\" >-1.47</td> \n",
       "        <td id=\"T_408386a2_fed3_11e8_821e_2816ad4d1b6brow3_col14\" class=\"data row3 col14\" >-1.47</td> \n",
       "        <td id=\"T_408386a2_fed3_11e8_821e_2816ad4d1b6brow3_col15\" class=\"data row3 col15\" >1.702</td> \n",
       "        <td id=\"T_408386a2_fed3_11e8_821e_2816ad4d1b6brow3_col16\" class=\"data row3 col16\" >-0.457</td> \n",
       "        <td id=\"T_408386a2_fed3_11e8_821e_2816ad4d1b6brow3_col17\" class=\"data row3 col17\" >1.912</td> \n",
       "        <td id=\"T_408386a2_fed3_11e8_821e_2816ad4d1b6brow3_col18\" class=\"data row3 col18\" >1.702</td> \n",
       "    </tr>    <tr> \n",
       "        <th id=\"T_408386a2_fed3_11e8_821e_2816ad4d1b6blevel0_row4\" class=\"row_heading level0 row4\" >15</th> \n",
       "        <td id=\"T_408386a2_fed3_11e8_821e_2816ad4d1b6brow4_col0\" class=\"data row4 col0\" >135.723</td> \n",
       "        <td id=\"T_408386a2_fed3_11e8_821e_2816ad4d1b6brow4_col1\" class=\"data row4 col1\" >-4.625</td> \n",
       "        <td id=\"T_408386a2_fed3_11e8_821e_2816ad4d1b6brow4_col2\" class=\"data row4 col2\" >-4.625</td> \n",
       "        <td id=\"T_408386a2_fed3_11e8_821e_2816ad4d1b6brow4_col3\" class=\"data row4 col3\" >-4.625</td> \n",
       "        <td id=\"T_408386a2_fed3_11e8_821e_2816ad4d1b6brow4_col4\" class=\"data row4 col4\" >-2.946</td> \n",
       "        <td id=\"T_408386a2_fed3_11e8_821e_2816ad4d1b6brow4_col5\" class=\"data row4 col5\" >-0.251</td> \n",
       "        <td id=\"T_408386a2_fed3_11e8_821e_2816ad4d1b6brow4_col6\" class=\"data row4 col6\" >4.148</td> \n",
       "        <td id=\"T_408386a2_fed3_11e8_821e_2816ad4d1b6brow4_col7\" class=\"data row4 col7\" >-1.912</td> \n",
       "        <td id=\"T_408386a2_fed3_11e8_821e_2816ad4d1b6brow4_col8\" class=\"data row4 col8\" >-0.152</td> \n",
       "        <td id=\"T_408386a2_fed3_11e8_821e_2816ad4d1b6brow4_col9\" class=\"data row4 col9\" >4.148</td> \n",
       "        <td id=\"T_408386a2_fed3_11e8_821e_2816ad4d1b6brow4_col10\" class=\"data row4 col10\" >-1.76</td> \n",
       "        <td id=\"T_408386a2_fed3_11e8_821e_2816ad4d1b6brow4_col11\" class=\"data row4 col11\" >-0.58</td> \n",
       "        <td id=\"T_408386a2_fed3_11e8_821e_2816ad4d1b6brow4_col12\" class=\"data row4 col12\" >4.148</td> \n",
       "        <td id=\"T_408386a2_fed3_11e8_821e_2816ad4d1b6brow4_col13\" class=\"data row4 col13\" >-0.251</td> \n",
       "        <td id=\"T_408386a2_fed3_11e8_821e_2816ad4d1b6brow4_col14\" class=\"data row4 col14\" >-0.251</td> \n",
       "        <td id=\"T_408386a2_fed3_11e8_821e_2816ad4d1b6brow4_col15\" class=\"data row4 col15\" >4.148</td> \n",
       "        <td id=\"T_408386a2_fed3_11e8_821e_2816ad4d1b6brow4_col16\" class=\"data row4 col16\" >-0.702</td> \n",
       "        <td id=\"T_408386a2_fed3_11e8_821e_2816ad4d1b6brow4_col17\" class=\"data row4 col17\" >1.939</td> \n",
       "        <td id=\"T_408386a2_fed3_11e8_821e_2816ad4d1b6brow4_col18\" class=\"data row4 col18\" >4.148</td> \n",
       "    </tr>    <tr> \n",
       "        <th id=\"T_408386a2_fed3_11e8_821e_2816ad4d1b6blevel0_row5\" class=\"row_heading level0 row5\" >16</th> \n",
       "        <td id=\"T_408386a2_fed3_11e8_821e_2816ad4d1b6brow5_col0\" class=\"data row5 col0\" >151.315</td> \n",
       "        <td id=\"T_408386a2_fed3_11e8_821e_2816ad4d1b6brow5_col1\" class=\"data row5 col1\" >2.49</td> \n",
       "        <td id=\"T_408386a2_fed3_11e8_821e_2816ad4d1b6brow5_col2\" class=\"data row5 col2\" >2.49</td> \n",
       "        <td id=\"T_408386a2_fed3_11e8_821e_2816ad4d1b6brow5_col3\" class=\"data row5 col3\" >2.49</td> \n",
       "        <td id=\"T_408386a2_fed3_11e8_821e_2816ad4d1b6brow5_col4\" class=\"data row5 col4\" >-1.774</td> \n",
       "        <td id=\"T_408386a2_fed3_11e8_821e_2816ad4d1b6brow5_col5\" class=\"data row5 col5\" >-1.605</td> \n",
       "        <td id=\"T_408386a2_fed3_11e8_821e_2816ad4d1b6brow5_col6\" class=\"data row5 col6\" >0.137</td> \n",
       "        <td id=\"T_408386a2_fed3_11e8_821e_2816ad4d1b6brow5_col7\" class=\"data row5 col7\" >1.377</td> \n",
       "        <td id=\"T_408386a2_fed3_11e8_821e_2816ad4d1b6brow5_col8\" class=\"data row5 col8\" >-1.605</td> \n",
       "        <td id=\"T_408386a2_fed3_11e8_821e_2816ad4d1b6brow5_col9\" class=\"data row5 col9\" >0.137</td> \n",
       "        <td id=\"T_408386a2_fed3_11e8_821e_2816ad4d1b6brow5_col10\" class=\"data row5 col10\" >-0.432</td> \n",
       "        <td id=\"T_408386a2_fed3_11e8_821e_2816ad4d1b6brow5_col11\" class=\"data row5 col11\" >-0.767</td> \n",
       "        <td id=\"T_408386a2_fed3_11e8_821e_2816ad4d1b6brow5_col12\" class=\"data row5 col12\" >0.137</td> \n",
       "        <td id=\"T_408386a2_fed3_11e8_821e_2816ad4d1b6brow5_col13\" class=\"data row5 col13\" >-1.605</td> \n",
       "        <td id=\"T_408386a2_fed3_11e8_821e_2816ad4d1b6brow5_col14\" class=\"data row5 col14\" >-1.605</td> \n",
       "        <td id=\"T_408386a2_fed3_11e8_821e_2816ad4d1b6brow5_col15\" class=\"data row5 col15\" >0.137</td> \n",
       "        <td id=\"T_408386a2_fed3_11e8_821e_2816ad4d1b6brow5_col16\" class=\"data row5 col16\" >-1.031</td> \n",
       "        <td id=\"T_408386a2_fed3_11e8_821e_2816ad4d1b6brow5_col17\" class=\"data row5 col17\" >0.894</td> \n",
       "        <td id=\"T_408386a2_fed3_11e8_821e_2816ad4d1b6brow5_col18\" class=\"data row5 col18\" >0.137</td> \n",
       "    </tr>    <tr> \n",
       "        <th id=\"T_408386a2_fed3_11e8_821e_2816ad4d1b6blevel0_row6\" class=\"row_heading level0 row6\" >17</th> \n",
       "        <td id=\"T_408386a2_fed3_11e8_821e_2816ad4d1b6brow6_col0\" class=\"data row6 col0\" >178.389</td> \n",
       "        <td id=\"T_408386a2_fed3_11e8_821e_2816ad4d1b6brow6_col1\" class=\"data row6 col1\" >-0.131</td> \n",
       "        <td id=\"T_408386a2_fed3_11e8_821e_2816ad4d1b6brow6_col2\" class=\"data row6 col2\" >-0.131</td> \n",
       "        <td id=\"T_408386a2_fed3_11e8_821e_2816ad4d1b6brow6_col3\" class=\"data row6 col3\" >-0.131</td> \n",
       "        <td id=\"T_408386a2_fed3_11e8_821e_2816ad4d1b6brow6_col4\" class=\"data row6 col4\" >-1.677</td> \n",
       "        <td id=\"T_408386a2_fed3_11e8_821e_2816ad4d1b6brow6_col5\" class=\"data row6 col5\" >-4.173</td> \n",
       "        <td id=\"T_408386a2_fed3_11e8_821e_2816ad4d1b6brow6_col6\" class=\"data row6 col6\" >0.498</td> \n",
       "        <td id=\"T_408386a2_fed3_11e8_821e_2816ad4d1b6brow6_col7\" class=\"data row6 col7\" >-3.053</td> \n",
       "        <td id=\"T_408386a2_fed3_11e8_821e_2816ad4d1b6brow6_col8\" class=\"data row6 col8\" >-4.174</td> \n",
       "        <td id=\"T_408386a2_fed3_11e8_821e_2816ad4d1b6brow6_col9\" class=\"data row6 col9\" >4.211</td> \n",
       "        <td id=\"T_408386a2_fed3_11e8_821e_2816ad4d1b6brow6_col10\" class=\"data row6 col10\" >0.806</td> \n",
       "        <td id=\"T_408386a2_fed3_11e8_821e_2816ad4d1b6brow6_col11\" class=\"data row6 col11\" >-1.075</td> \n",
       "        <td id=\"T_408386a2_fed3_11e8_821e_2816ad4d1b6brow6_col12\" class=\"data row6 col12\" >4.211</td> \n",
       "        <td id=\"T_408386a2_fed3_11e8_821e_2816ad4d1b6brow6_col13\" class=\"data row6 col13\" >-4.173</td> \n",
       "        <td id=\"T_408386a2_fed3_11e8_821e_2816ad4d1b6brow6_col14\" class=\"data row6 col14\" >-4.173</td> \n",
       "        <td id=\"T_408386a2_fed3_11e8_821e_2816ad4d1b6brow6_col15\" class=\"data row6 col15\" >4.211</td> \n",
       "        <td id=\"T_408386a2_fed3_11e8_821e_2816ad4d1b6brow6_col16\" class=\"data row6 col16\" >2.98</td> \n",
       "        <td id=\"T_408386a2_fed3_11e8_821e_2816ad4d1b6brow6_col17\" class=\"data row6 col17\" >1.763</td> \n",
       "        <td id=\"T_408386a2_fed3_11e8_821e_2816ad4d1b6brow6_col18\" class=\"data row6 col18\" >4.211</td> \n",
       "    </tr>    <tr> \n",
       "        <th id=\"T_408386a2_fed3_11e8_821e_2816ad4d1b6blevel0_row7\" class=\"row_heading level0 row7\" >18</th> \n",
       "        <td id=\"T_408386a2_fed3_11e8_821e_2816ad4d1b6brow7_col0\" class=\"data row7 col0\" >204.878</td> \n",
       "        <td id=\"T_408386a2_fed3_11e8_821e_2816ad4d1b6brow7_col1\" class=\"data row7 col1\" >-3.636</td> \n",
       "        <td id=\"T_408386a2_fed3_11e8_821e_2816ad4d1b6brow7_col2\" class=\"data row7 col2\" >-3.636</td> \n",
       "        <td id=\"T_408386a2_fed3_11e8_821e_2816ad4d1b6brow7_col3\" class=\"data row7 col3\" >-3.636</td> \n",
       "        <td id=\"T_408386a2_fed3_11e8_821e_2816ad4d1b6brow7_col4\" class=\"data row7 col4\" >-0.884</td> \n",
       "        <td id=\"T_408386a2_fed3_11e8_821e_2816ad4d1b6brow7_col5\" class=\"data row7 col5\" >2.193</td> \n",
       "        <td id=\"T_408386a2_fed3_11e8_821e_2816ad4d1b6brow7_col6\" class=\"data row7 col6\" >-0.549</td> \n",
       "        <td id=\"T_408386a2_fed3_11e8_821e_2816ad4d1b6brow7_col7\" class=\"data row7 col7\" >-1.149</td> \n",
       "        <td id=\"T_408386a2_fed3_11e8_821e_2816ad4d1b6brow7_col8\" class=\"data row7 col8\" >2.193</td> \n",
       "        <td id=\"T_408386a2_fed3_11e8_821e_2816ad4d1b6brow7_col9\" class=\"data row7 col9\" >-0.549</td> \n",
       "        <td id=\"T_408386a2_fed3_11e8_821e_2816ad4d1b6brow7_col10\" class=\"data row7 col10\" >2.286</td> \n",
       "        <td id=\"T_408386a2_fed3_11e8_821e_2816ad4d1b6brow7_col11\" class=\"data row7 col11\" >0.873</td> \n",
       "        <td id=\"T_408386a2_fed3_11e8_821e_2816ad4d1b6brow7_col12\" class=\"data row7 col12\" >-0.549</td> \n",
       "        <td id=\"T_408386a2_fed3_11e8_821e_2816ad4d1b6brow7_col13\" class=\"data row7 col13\" >2.193</td> \n",
       "        <td id=\"T_408386a2_fed3_11e8_821e_2816ad4d1b6brow7_col14\" class=\"data row7 col14\" >2.193</td> \n",
       "        <td id=\"T_408386a2_fed3_11e8_821e_2816ad4d1b6brow7_col15\" class=\"data row7 col15\" >-0.549</td> \n",
       "        <td id=\"T_408386a2_fed3_11e8_821e_2816ad4d1b6brow7_col16\" class=\"data row7 col16\" >1.476</td> \n",
       "        <td id=\"T_408386a2_fed3_11e8_821e_2816ad4d1b6brow7_col17\" class=\"data row7 col17\" >2.279</td> \n",
       "        <td id=\"T_408386a2_fed3_11e8_821e_2816ad4d1b6brow7_col18\" class=\"data row7 col18\" >-0.549</td> \n",
       "    </tr>    <tr> \n",
       "        <th id=\"T_408386a2_fed3_11e8_821e_2816ad4d1b6blevel0_row8\" class=\"row_heading level0 row8\" >19</th> \n",
       "        <td id=\"T_408386a2_fed3_11e8_821e_2816ad4d1b6brow8_col0\" class=\"data row8 col0\" >221.532</td> \n",
       "        <td id=\"T_408386a2_fed3_11e8_821e_2816ad4d1b6brow8_col1\" class=\"data row8 col1\" >-2.189</td> \n",
       "        <td id=\"T_408386a2_fed3_11e8_821e_2816ad4d1b6brow8_col2\" class=\"data row8 col2\" >-2.189</td> \n",
       "        <td id=\"T_408386a2_fed3_11e8_821e_2816ad4d1b6brow8_col3\" class=\"data row8 col3\" >-2.189</td> \n",
       "        <td id=\"T_408386a2_fed3_11e8_821e_2816ad4d1b6brow8_col4\" class=\"data row8 col4\" >-1.411</td> \n",
       "        <td id=\"T_408386a2_fed3_11e8_821e_2816ad4d1b6brow8_col5\" class=\"data row8 col5\" >-1.442</td> \n",
       "        <td id=\"T_408386a2_fed3_11e8_821e_2816ad4d1b6brow8_col6\" class=\"data row8 col6\" >1.568</td> \n",
       "        <td id=\"T_408386a2_fed3_11e8_821e_2816ad4d1b6brow8_col7\" class=\"data row8 col7\" >3.038</td> \n",
       "        <td id=\"T_408386a2_fed3_11e8_821e_2816ad4d1b6brow8_col8\" class=\"data row8 col8\" >-1.4</td> \n",
       "        <td id=\"T_408386a2_fed3_11e8_821e_2816ad4d1b6brow8_col9\" class=\"data row8 col9\" >1.568</td> \n",
       "        <td id=\"T_408386a2_fed3_11e8_821e_2816ad4d1b6brow8_col10\" class=\"data row8 col10\" >0.675</td> \n",
       "        <td id=\"T_408386a2_fed3_11e8_821e_2816ad4d1b6brow8_col11\" class=\"data row8 col11\" >-0.299</td> \n",
       "        <td id=\"T_408386a2_fed3_11e8_821e_2816ad4d1b6brow8_col12\" class=\"data row8 col12\" >1.568</td> \n",
       "        <td id=\"T_408386a2_fed3_11e8_821e_2816ad4d1b6brow8_col13\" class=\"data row8 col13\" >-1.442</td> \n",
       "        <td id=\"T_408386a2_fed3_11e8_821e_2816ad4d1b6brow8_col14\" class=\"data row8 col14\" >-1.442</td> \n",
       "        <td id=\"T_408386a2_fed3_11e8_821e_2816ad4d1b6brow8_col15\" class=\"data row8 col15\" >1.568</td> \n",
       "        <td id=\"T_408386a2_fed3_11e8_821e_2816ad4d1b6brow8_col16\" class=\"data row8 col16\" >0.073</td> \n",
       "        <td id=\"T_408386a2_fed3_11e8_821e_2816ad4d1b6brow8_col17\" class=\"data row8 col17\" >2.376</td> \n",
       "        <td id=\"T_408386a2_fed3_11e8_821e_2816ad4d1b6brow8_col18\" class=\"data row8 col18\" >1.568</td> \n",
       "    </tr>    <tr> \n",
       "        <th id=\"T_408386a2_fed3_11e8_821e_2816ad4d1b6blevel0_row9\" class=\"row_heading level0 row9\" >20</th> \n",
       "        <td id=\"T_408386a2_fed3_11e8_821e_2816ad4d1b6brow9_col0\" class=\"data row9 col0\" >252.117</td> \n",
       "        <td id=\"T_408386a2_fed3_11e8_821e_2816ad4d1b6brow9_col1\" class=\"data row9 col1\" >-6.203</td> \n",
       "        <td id=\"T_408386a2_fed3_11e8_821e_2816ad4d1b6brow9_col2\" class=\"data row9 col2\" >-6.203</td> \n",
       "        <td id=\"T_408386a2_fed3_11e8_821e_2816ad4d1b6brow9_col3\" class=\"data row9 col3\" >-6.203</td> \n",
       "        <td id=\"T_408386a2_fed3_11e8_821e_2816ad4d1b6brow9_col4\" class=\"data row9 col4\" >-1.891</td> \n",
       "        <td id=\"T_408386a2_fed3_11e8_821e_2816ad4d1b6brow9_col5\" class=\"data row9 col5\" >0.231</td> \n",
       "        <td id=\"T_408386a2_fed3_11e8_821e_2816ad4d1b6brow9_col6\" class=\"data row9 col6\" >3.33</td> \n",
       "        <td id=\"T_408386a2_fed3_11e8_821e_2816ad4d1b6brow9_col7\" class=\"data row9 col7\" >-3.425</td> \n",
       "        <td id=\"T_408386a2_fed3_11e8_821e_2816ad4d1b6brow9_col8\" class=\"data row9 col8\" >0.231</td> \n",
       "        <td id=\"T_408386a2_fed3_11e8_821e_2816ad4d1b6brow9_col9\" class=\"data row9 col9\" >3.33</td> \n",
       "        <td id=\"T_408386a2_fed3_11e8_821e_2816ad4d1b6brow9_col10\" class=\"data row9 col10\" >1.346</td> \n",
       "        <td id=\"T_408386a2_fed3_11e8_821e_2816ad4d1b6brow9_col11\" class=\"data row9 col11\" >2.964</td> \n",
       "        <td id=\"T_408386a2_fed3_11e8_821e_2816ad4d1b6brow9_col12\" class=\"data row9 col12\" >3.33</td> \n",
       "        <td id=\"T_408386a2_fed3_11e8_821e_2816ad4d1b6brow9_col13\" class=\"data row9 col13\" >0.231</td> \n",
       "        <td id=\"T_408386a2_fed3_11e8_821e_2816ad4d1b6brow9_col14\" class=\"data row9 col14\" >0.231</td> \n",
       "        <td id=\"T_408386a2_fed3_11e8_821e_2816ad4d1b6brow9_col15\" class=\"data row9 col15\" >3.33</td> \n",
       "        <td id=\"T_408386a2_fed3_11e8_821e_2816ad4d1b6brow9_col16\" class=\"data row9 col16\" >-1.102</td> \n",
       "        <td id=\"T_408386a2_fed3_11e8_821e_2816ad4d1b6brow9_col17\" class=\"data row9 col17\" >3.145</td> \n",
       "        <td id=\"T_408386a2_fed3_11e8_821e_2816ad4d1b6brow9_col18\" class=\"data row9 col18\" >3.33</td> \n",
       "    </tr>    <tr> \n",
       "        <th id=\"T_408386a2_fed3_11e8_821e_2816ad4d1b6blevel0_row10\" class=\"row_heading level0 row10\" >21</th> \n",
       "        <td id=\"T_408386a2_fed3_11e8_821e_2816ad4d1b6brow10_col0\" class=\"data row10 col0\" >278.946</td> \n",
       "        <td id=\"T_408386a2_fed3_11e8_821e_2816ad4d1b6brow10_col1\" class=\"data row10 col1\" >-6.083</td> \n",
       "        <td id=\"T_408386a2_fed3_11e8_821e_2816ad4d1b6brow10_col2\" class=\"data row10 col2\" >-6.083</td> \n",
       "        <td id=\"T_408386a2_fed3_11e8_821e_2816ad4d1b6brow10_col3\" class=\"data row10 col3\" >-6.083</td> \n",
       "        <td id=\"T_408386a2_fed3_11e8_821e_2816ad4d1b6brow10_col4\" class=\"data row10 col4\" >-2.844</td> \n",
       "        <td id=\"T_408386a2_fed3_11e8_821e_2816ad4d1b6brow10_col5\" class=\"data row10 col5\" >3.696</td> \n",
       "        <td id=\"T_408386a2_fed3_11e8_821e_2816ad4d1b6brow10_col6\" class=\"data row10 col6\" >4.937</td> \n",
       "        <td id=\"T_408386a2_fed3_11e8_821e_2816ad4d1b6brow10_col7\" class=\"data row10 col7\" >-5.06</td> \n",
       "        <td id=\"T_408386a2_fed3_11e8_821e_2816ad4d1b6brow10_col8\" class=\"data row10 col8\" >-0.983</td> \n",
       "        <td id=\"T_408386a2_fed3_11e8_821e_2816ad4d1b6brow10_col9\" class=\"data row10 col9\" >4.413</td> \n",
       "        <td id=\"T_408386a2_fed3_11e8_821e_2816ad4d1b6brow10_col10\" class=\"data row10 col10\" >1.82</td> \n",
       "        <td id=\"T_408386a2_fed3_11e8_821e_2816ad4d1b6brow10_col11\" class=\"data row10 col11\" >1.379</td> \n",
       "        <td id=\"T_408386a2_fed3_11e8_821e_2816ad4d1b6brow10_col12\" class=\"data row10 col12\" >4.413</td> \n",
       "        <td id=\"T_408386a2_fed3_11e8_821e_2816ad4d1b6brow10_col13\" class=\"data row10 col13\" >-0.983</td> \n",
       "        <td id=\"T_408386a2_fed3_11e8_821e_2816ad4d1b6brow10_col14\" class=\"data row10 col14\" >-0.983</td> \n",
       "        <td id=\"T_408386a2_fed3_11e8_821e_2816ad4d1b6brow10_col15\" class=\"data row10 col15\" >4.413</td> \n",
       "        <td id=\"T_408386a2_fed3_11e8_821e_2816ad4d1b6brow10_col16\" class=\"data row10 col16\" >-2.624</td> \n",
       "        <td id=\"T_408386a2_fed3_11e8_821e_2816ad4d1b6brow10_col17\" class=\"data row10 col17\" >2.242</td> \n",
       "        <td id=\"T_408386a2_fed3_11e8_821e_2816ad4d1b6brow10_col18\" class=\"data row10 col18\" >4.413</td> \n",
       "    </tr>    <tr> \n",
       "        <th id=\"T_408386a2_fed3_11e8_821e_2816ad4d1b6blevel0_row11\" class=\"row_heading level0 row11\" >22</th> \n",
       "        <td id=\"T_408386a2_fed3_11e8_821e_2816ad4d1b6brow11_col0\" class=\"data row11 col0\" >302.571</td> \n",
       "        <td id=\"T_408386a2_fed3_11e8_821e_2816ad4d1b6brow11_col1\" class=\"data row11 col1\" >-0.931</td> \n",
       "        <td id=\"T_408386a2_fed3_11e8_821e_2816ad4d1b6brow11_col2\" class=\"data row11 col2\" >-0.931</td> \n",
       "        <td id=\"T_408386a2_fed3_11e8_821e_2816ad4d1b6brow11_col3\" class=\"data row11 col3\" >-0.931</td> \n",
       "        <td id=\"T_408386a2_fed3_11e8_821e_2816ad4d1b6brow11_col4\" class=\"data row11 col4\" >2.548</td> \n",
       "        <td id=\"T_408386a2_fed3_11e8_821e_2816ad4d1b6brow11_col5\" class=\"data row11 col5\" >-0.298</td> \n",
       "        <td id=\"T_408386a2_fed3_11e8_821e_2816ad4d1b6brow11_col6\" class=\"data row11 col6\" >-1.27</td> \n",
       "        <td id=\"T_408386a2_fed3_11e8_821e_2816ad4d1b6brow11_col7\" class=\"data row11 col7\" >3.215</td> \n",
       "        <td id=\"T_408386a2_fed3_11e8_821e_2816ad4d1b6brow11_col8\" class=\"data row11 col8\" >-0.298</td> \n",
       "        <td id=\"T_408386a2_fed3_11e8_821e_2816ad4d1b6brow11_col9\" class=\"data row11 col9\" >-1.27</td> \n",
       "        <td id=\"T_408386a2_fed3_11e8_821e_2816ad4d1b6brow11_col10\" class=\"data row11 col10\" >1.507</td> \n",
       "        <td id=\"T_408386a2_fed3_11e8_821e_2816ad4d1b6brow11_col11\" class=\"data row11 col11\" >-1.467</td> \n",
       "        <td id=\"T_408386a2_fed3_11e8_821e_2816ad4d1b6brow11_col12\" class=\"data row11 col12\" >-1.27</td> \n",
       "        <td id=\"T_408386a2_fed3_11e8_821e_2816ad4d1b6brow11_col13\" class=\"data row11 col13\" >-0.298</td> \n",
       "        <td id=\"T_408386a2_fed3_11e8_821e_2816ad4d1b6brow11_col14\" class=\"data row11 col14\" >-0.298</td> \n",
       "        <td id=\"T_408386a2_fed3_11e8_821e_2816ad4d1b6brow11_col15\" class=\"data row11 col15\" >-1.27</td> \n",
       "        <td id=\"T_408386a2_fed3_11e8_821e_2816ad4d1b6brow11_col16\" class=\"data row11 col16\" >5.8</td> \n",
       "        <td id=\"T_408386a2_fed3_11e8_821e_2816ad4d1b6brow11_col17\" class=\"data row11 col17\" >-1.27</td> \n",
       "        <td id=\"T_408386a2_fed3_11e8_821e_2816ad4d1b6brow11_col18\" class=\"data row11 col18\" >-1.27</td> \n",
       "    </tr>    <tr> \n",
       "        <th id=\"T_408386a2_fed3_11e8_821e_2816ad4d1b6blevel0_row12\" class=\"row_heading level0 row12\" >23</th> \n",
       "        <td id=\"T_408386a2_fed3_11e8_821e_2816ad4d1b6brow12_col0\" class=\"data row12 col0\" >327.774</td> \n",
       "        <td id=\"T_408386a2_fed3_11e8_821e_2816ad4d1b6brow12_col1\" class=\"data row12 col1\" >-3.87</td> \n",
       "        <td id=\"T_408386a2_fed3_11e8_821e_2816ad4d1b6brow12_col2\" class=\"data row12 col2\" >-3.87</td> \n",
       "        <td id=\"T_408386a2_fed3_11e8_821e_2816ad4d1b6brow12_col3\" class=\"data row12 col3\" >-3.87</td> \n",
       "        <td id=\"T_408386a2_fed3_11e8_821e_2816ad4d1b6brow12_col4\" class=\"data row12 col4\" >-0.593</td> \n",
       "        <td id=\"T_408386a2_fed3_11e8_821e_2816ad4d1b6brow12_col5\" class=\"data row12 col5\" >-3.143</td> \n",
       "        <td id=\"T_408386a2_fed3_11e8_821e_2816ad4d1b6brow12_col6\" class=\"data row12 col6\" >6.452</td> \n",
       "        <td id=\"T_408386a2_fed3_11e8_821e_2816ad4d1b6brow12_col7\" class=\"data row12 col7\" >-2.341</td> \n",
       "        <td id=\"T_408386a2_fed3_11e8_821e_2816ad4d1b6brow12_col8\" class=\"data row12 col8\" >-3.115</td> \n",
       "        <td id=\"T_408386a2_fed3_11e8_821e_2816ad4d1b6brow12_col9\" class=\"data row12 col9\" >6.452</td> \n",
       "        <td id=\"T_408386a2_fed3_11e8_821e_2816ad4d1b6brow12_col10\" class=\"data row12 col10\" >-4.468</td> \n",
       "        <td id=\"T_408386a2_fed3_11e8_821e_2816ad4d1b6brow12_col11\" class=\"data row12 col11\" >1.444</td> \n",
       "        <td id=\"T_408386a2_fed3_11e8_821e_2816ad4d1b6brow12_col12\" class=\"data row12 col12\" >6.452</td> \n",
       "        <td id=\"T_408386a2_fed3_11e8_821e_2816ad4d1b6brow12_col13\" class=\"data row12 col13\" >-3.143</td> \n",
       "        <td id=\"T_408386a2_fed3_11e8_821e_2816ad4d1b6brow12_col14\" class=\"data row12 col14\" >-3.143</td> \n",
       "        <td id=\"T_408386a2_fed3_11e8_821e_2816ad4d1b6brow12_col15\" class=\"data row12 col15\" >6.452</td> \n",
       "        <td id=\"T_408386a2_fed3_11e8_821e_2816ad4d1b6brow12_col16\" class=\"data row12 col16\" >-3.393</td> \n",
       "        <td id=\"T_408386a2_fed3_11e8_821e_2816ad4d1b6brow12_col17\" class=\"data row12 col17\" >1.243</td> \n",
       "        <td id=\"T_408386a2_fed3_11e8_821e_2816ad4d1b6brow12_col18\" class=\"data row12 col18\" >6.452</td> \n",
       "    </tr>    <tr> \n",
       "        <th id=\"T_408386a2_fed3_11e8_821e_2816ad4d1b6blevel0_row13\" class=\"row_heading level0 row13\" >24</th> \n",
       "        <td id=\"T_408386a2_fed3_11e8_821e_2816ad4d1b6brow13_col0\" class=\"data row13 col0\" >353.728</td> \n",
       "        <td id=\"T_408386a2_fed3_11e8_821e_2816ad4d1b6brow13_col1\" class=\"data row13 col1\" >1.284</td> \n",
       "        <td id=\"T_408386a2_fed3_11e8_821e_2816ad4d1b6brow13_col2\" class=\"data row13 col2\" >1.284</td> \n",
       "        <td id=\"T_408386a2_fed3_11e8_821e_2816ad4d1b6brow13_col3\" class=\"data row13 col3\" >1.284</td> \n",
       "        <td id=\"T_408386a2_fed3_11e8_821e_2816ad4d1b6brow13_col4\" class=\"data row13 col4\" >-5.587</td> \n",
       "        <td id=\"T_408386a2_fed3_11e8_821e_2816ad4d1b6brow13_col5\" class=\"data row13 col5\" >-1.269</td> \n",
       "        <td id=\"T_408386a2_fed3_11e8_821e_2816ad4d1b6brow13_col6\" class=\"data row13 col6\" >1.028</td> \n",
       "        <td id=\"T_408386a2_fed3_11e8_821e_2816ad4d1b6brow13_col7\" class=\"data row13 col7\" >-0.321</td> \n",
       "        <td id=\"T_408386a2_fed3_11e8_821e_2816ad4d1b6brow13_col8\" class=\"data row13 col8\" >-0.494</td> \n",
       "        <td id=\"T_408386a2_fed3_11e8_821e_2816ad4d1b6brow13_col9\" class=\"data row13 col9\" >1.028</td> \n",
       "        <td id=\"T_408386a2_fed3_11e8_821e_2816ad4d1b6brow13_col10\" class=\"data row13 col10\" >-0.254</td> \n",
       "        <td id=\"T_408386a2_fed3_11e8_821e_2816ad4d1b6brow13_col11\" class=\"data row13 col11\" >1.512</td> \n",
       "        <td id=\"T_408386a2_fed3_11e8_821e_2816ad4d1b6brow13_col12\" class=\"data row13 col12\" >1.028</td> \n",
       "        <td id=\"T_408386a2_fed3_11e8_821e_2816ad4d1b6brow13_col13\" class=\"data row13 col13\" >-1.269</td> \n",
       "        <td id=\"T_408386a2_fed3_11e8_821e_2816ad4d1b6brow13_col14\" class=\"data row13 col14\" >-1.269</td> \n",
       "        <td id=\"T_408386a2_fed3_11e8_821e_2816ad4d1b6brow13_col15\" class=\"data row13 col15\" >1.028</td> \n",
       "        <td id=\"T_408386a2_fed3_11e8_821e_2816ad4d1b6brow13_col16\" class=\"data row13 col16\" >0.541</td> \n",
       "        <td id=\"T_408386a2_fed3_11e8_821e_2816ad4d1b6brow13_col17\" class=\"data row13 col17\" >-0.58</td> \n",
       "        <td id=\"T_408386a2_fed3_11e8_821e_2816ad4d1b6brow13_col18\" class=\"data row13 col18\" >1.028</td> \n",
       "    </tr>    <tr> \n",
       "        <th id=\"T_408386a2_fed3_11e8_821e_2816ad4d1b6blevel0_row14\" class=\"row_heading level0 row14\" >25</th> \n",
       "        <td id=\"T_408386a2_fed3_11e8_821e_2816ad4d1b6brow14_col0\" class=\"data row14 col0\" >400.132</td> \n",
       "        <td id=\"T_408386a2_fed3_11e8_821e_2816ad4d1b6brow14_col1\" class=\"data row14 col1\" >-9.683</td> \n",
       "        <td id=\"T_408386a2_fed3_11e8_821e_2816ad4d1b6brow14_col2\" class=\"data row14 col2\" >-9.683</td> \n",
       "        <td id=\"T_408386a2_fed3_11e8_821e_2816ad4d1b6brow14_col3\" class=\"data row14 col3\" >-9.683</td> \n",
       "        <td id=\"T_408386a2_fed3_11e8_821e_2816ad4d1b6brow14_col4\" class=\"data row14 col4\" >-6.874</td> \n",
       "        <td id=\"T_408386a2_fed3_11e8_821e_2816ad4d1b6brow14_col5\" class=\"data row14 col5\" >3.478</td> \n",
       "        <td id=\"T_408386a2_fed3_11e8_821e_2816ad4d1b6brow14_col6\" class=\"data row14 col6\" >5.213</td> \n",
       "        <td id=\"T_408386a2_fed3_11e8_821e_2816ad4d1b6brow14_col7\" class=\"data row14 col7\" >-8.021</td> \n",
       "        <td id=\"T_408386a2_fed3_11e8_821e_2816ad4d1b6brow14_col8\" class=\"data row14 col8\" >3.478</td> \n",
       "        <td id=\"T_408386a2_fed3_11e8_821e_2816ad4d1b6brow14_col9\" class=\"data row14 col9\" >5.213</td> \n",
       "        <td id=\"T_408386a2_fed3_11e8_821e_2816ad4d1b6brow14_col10\" class=\"data row14 col10\" >1.61</td> \n",
       "        <td id=\"T_408386a2_fed3_11e8_821e_2816ad4d1b6brow14_col11\" class=\"data row14 col11\" >3.106</td> \n",
       "        <td id=\"T_408386a2_fed3_11e8_821e_2816ad4d1b6brow14_col12\" class=\"data row14 col12\" >5.213</td> \n",
       "        <td id=\"T_408386a2_fed3_11e8_821e_2816ad4d1b6brow14_col13\" class=\"data row14 col13\" >3.478</td> \n",
       "        <td id=\"T_408386a2_fed3_11e8_821e_2816ad4d1b6brow14_col14\" class=\"data row14 col14\" >3.478</td> \n",
       "        <td id=\"T_408386a2_fed3_11e8_821e_2816ad4d1b6brow14_col15\" class=\"data row14 col15\" >5.213</td> \n",
       "        <td id=\"T_408386a2_fed3_11e8_821e_2816ad4d1b6brow14_col16\" class=\"data row14 col16\" >-3.933</td> \n",
       "        <td id=\"T_408386a2_fed3_11e8_821e_2816ad4d1b6brow14_col17\" class=\"data row14 col17\" >3.183</td> \n",
       "        <td id=\"T_408386a2_fed3_11e8_821e_2816ad4d1b6brow14_col18\" class=\"data row14 col18\" >5.213</td> \n",
       "    </tr>    <tr> \n",
       "        <th id=\"T_408386a2_fed3_11e8_821e_2816ad4d1b6blevel0_row15\" class=\"row_heading level0 row15\" >26</th> \n",
       "        <td id=\"T_408386a2_fed3_11e8_821e_2816ad4d1b6brow15_col0\" class=\"data row15 col0\" >427.665</td> \n",
       "        <td id=\"T_408386a2_fed3_11e8_821e_2816ad4d1b6brow15_col1\" class=\"data row15 col1\" >-5.42</td> \n",
       "        <td id=\"T_408386a2_fed3_11e8_821e_2816ad4d1b6brow15_col2\" class=\"data row15 col2\" >-5.42</td> \n",
       "        <td id=\"T_408386a2_fed3_11e8_821e_2816ad4d1b6brow15_col3\" class=\"data row15 col3\" >-5.42</td> \n",
       "        <td id=\"T_408386a2_fed3_11e8_821e_2816ad4d1b6brow15_col4\" class=\"data row15 col4\" >5.928</td> \n",
       "        <td id=\"T_408386a2_fed3_11e8_821e_2816ad4d1b6brow15_col5\" class=\"data row15 col5\" >-0.726</td> \n",
       "        <td id=\"T_408386a2_fed3_11e8_821e_2816ad4d1b6brow15_col6\" class=\"data row15 col6\" >-0.546</td> \n",
       "        <td id=\"T_408386a2_fed3_11e8_821e_2816ad4d1b6brow15_col7\" class=\"data row15 col7\" >-2.58</td> \n",
       "        <td id=\"T_408386a2_fed3_11e8_821e_2816ad4d1b6brow15_col8\" class=\"data row15 col8\" >-0.631</td> \n",
       "        <td id=\"T_408386a2_fed3_11e8_821e_2816ad4d1b6brow15_col9\" class=\"data row15 col9\" >3.579</td> \n",
       "        <td id=\"T_408386a2_fed3_11e8_821e_2816ad4d1b6brow15_col10\" class=\"data row15 col10\" >1.974</td> \n",
       "        <td id=\"T_408386a2_fed3_11e8_821e_2816ad4d1b6brow15_col11\" class=\"data row15 col11\" >0.598</td> \n",
       "        <td id=\"T_408386a2_fed3_11e8_821e_2816ad4d1b6brow15_col12\" class=\"data row15 col12\" >3.579</td> \n",
       "        <td id=\"T_408386a2_fed3_11e8_821e_2816ad4d1b6brow15_col13\" class=\"data row15 col13\" >-0.631</td> \n",
       "        <td id=\"T_408386a2_fed3_11e8_821e_2816ad4d1b6brow15_col14\" class=\"data row15 col14\" >-0.631</td> \n",
       "        <td id=\"T_408386a2_fed3_11e8_821e_2816ad4d1b6brow15_col15\" class=\"data row15 col15\" >3.579</td> \n",
       "        <td id=\"T_408386a2_fed3_11e8_821e_2816ad4d1b6brow15_col16\" class=\"data row15 col16\" >-3.111</td> \n",
       "        <td id=\"T_408386a2_fed3_11e8_821e_2816ad4d1b6brow15_col17\" class=\"data row15 col17\" >2.299</td> \n",
       "        <td id=\"T_408386a2_fed3_11e8_821e_2816ad4d1b6brow15_col18\" class=\"data row15 col18\" >3.579</td> \n",
       "    </tr>    <tr> \n",
       "        <th id=\"T_408386a2_fed3_11e8_821e_2816ad4d1b6blevel0_row16\" class=\"row_heading level0 row16\" >27</th> \n",
       "        <td id=\"T_408386a2_fed3_11e8_821e_2816ad4d1b6brow16_col0\" class=\"data row16 col0\" >444.61</td> \n",
       "        <td id=\"T_408386a2_fed3_11e8_821e_2816ad4d1b6brow16_col1\" class=\"data row16 col1\" >3.162</td> \n",
       "        <td id=\"T_408386a2_fed3_11e8_821e_2816ad4d1b6brow16_col2\" class=\"data row16 col2\" >3.162</td> \n",
       "        <td id=\"T_408386a2_fed3_11e8_821e_2816ad4d1b6brow16_col3\" class=\"data row16 col3\" >3.162</td> \n",
       "        <td id=\"T_408386a2_fed3_11e8_821e_2816ad4d1b6brow16_col4\" class=\"data row16 col4\" >-4.108</td> \n",
       "        <td id=\"T_408386a2_fed3_11e8_821e_2816ad4d1b6brow16_col5\" class=\"data row16 col5\" >-3.034</td> \n",
       "        <td id=\"T_408386a2_fed3_11e8_821e_2816ad4d1b6brow16_col6\" class=\"data row16 col6\" >1.819</td> \n",
       "        <td id=\"T_408386a2_fed3_11e8_821e_2816ad4d1b6brow16_col7\" class=\"data row16 col7\" >4.33</td> \n",
       "        <td id=\"T_408386a2_fed3_11e8_821e_2816ad4d1b6brow16_col8\" class=\"data row16 col8\" >-3.034</td> \n",
       "        <td id=\"T_408386a2_fed3_11e8_821e_2816ad4d1b6brow16_col9\" class=\"data row16 col9\" >1.819</td> \n",
       "        <td id=\"T_408386a2_fed3_11e8_821e_2816ad4d1b6brow16_col10\" class=\"data row16 col10\" >-2.4</td> \n",
       "        <td id=\"T_408386a2_fed3_11e8_821e_2816ad4d1b6brow16_col11\" class=\"data row16 col11\" >-2.862</td> \n",
       "        <td id=\"T_408386a2_fed3_11e8_821e_2816ad4d1b6brow16_col12\" class=\"data row16 col12\" >1.819</td> \n",
       "        <td id=\"T_408386a2_fed3_11e8_821e_2816ad4d1b6brow16_col13\" class=\"data row16 col13\" >-3.034</td> \n",
       "        <td id=\"T_408386a2_fed3_11e8_821e_2816ad4d1b6brow16_col14\" class=\"data row16 col14\" >-3.034</td> \n",
       "        <td id=\"T_408386a2_fed3_11e8_821e_2816ad4d1b6brow16_col15\" class=\"data row16 col15\" >1.819</td> \n",
       "        <td id=\"T_408386a2_fed3_11e8_821e_2816ad4d1b6brow16_col16\" class=\"data row16 col16\" >1.056</td> \n",
       "        <td id=\"T_408386a2_fed3_11e8_821e_2816ad4d1b6brow16_col17\" class=\"data row16 col17\" >-2.467</td> \n",
       "        <td id=\"T_408386a2_fed3_11e8_821e_2816ad4d1b6brow16_col18\" class=\"data row16 col18\" >1.819</td> \n",
       "    </tr>    <tr> \n",
       "        <th id=\"T_408386a2_fed3_11e8_821e_2816ad4d1b6blevel0_row17\" class=\"row_heading level0 row17\" >28</th> \n",
       "        <td id=\"T_408386a2_fed3_11e8_821e_2816ad4d1b6brow17_col0\" class=\"data row17 col0\" >481.011</td> \n",
       "        <td id=\"T_408386a2_fed3_11e8_821e_2816ad4d1b6brow17_col1\" class=\"data row17 col1\" >6.518</td> \n",
       "        <td id=\"T_408386a2_fed3_11e8_821e_2816ad4d1b6brow17_col2\" class=\"data row17 col2\" >6.518</td> \n",
       "        <td id=\"T_408386a2_fed3_11e8_821e_2816ad4d1b6brow17_col3\" class=\"data row17 col3\" >6.518</td> \n",
       "        <td id=\"T_408386a2_fed3_11e8_821e_2816ad4d1b6brow17_col4\" class=\"data row17 col4\" >5.407</td> \n",
       "        <td id=\"T_408386a2_fed3_11e8_821e_2816ad4d1b6brow17_col5\" class=\"data row17 col5\" >-5.78</td> \n",
       "        <td id=\"T_408386a2_fed3_11e8_821e_2816ad4d1b6brow17_col6\" class=\"data row17 col6\" >2.452</td> \n",
       "        <td id=\"T_408386a2_fed3_11e8_821e_2816ad4d1b6brow17_col7\" class=\"data row17 col7\" >4.184</td> \n",
       "        <td id=\"T_408386a2_fed3_11e8_821e_2816ad4d1b6brow17_col8\" class=\"data row17 col8\" >1.71</td> \n",
       "        <td id=\"T_408386a2_fed3_11e8_821e_2816ad4d1b6brow17_col9\" class=\"data row17 col9\" >-4.502</td> \n",
       "        <td id=\"T_408386a2_fed3_11e8_821e_2816ad4d1b6brow17_col10\" class=\"data row17 col10\" >-2.59</td> \n",
       "        <td id=\"T_408386a2_fed3_11e8_821e_2816ad4d1b6brow17_col11\" class=\"data row17 col11\" >1.841</td> \n",
       "        <td id=\"T_408386a2_fed3_11e8_821e_2816ad4d1b6brow17_col12\" class=\"data row17 col12\" >-4.502</td> \n",
       "        <td id=\"T_408386a2_fed3_11e8_821e_2816ad4d1b6brow17_col13\" class=\"data row17 col13\" >-5.78</td> \n",
       "        <td id=\"T_408386a2_fed3_11e8_821e_2816ad4d1b6brow17_col14\" class=\"data row17 col14\" >-5.78</td> \n",
       "        <td id=\"T_408386a2_fed3_11e8_821e_2816ad4d1b6brow17_col15\" class=\"data row17 col15\" >-4.502</td> \n",
       "        <td id=\"T_408386a2_fed3_11e8_821e_2816ad4d1b6brow17_col16\" class=\"data row17 col16\" >-2.517</td> \n",
       "        <td id=\"T_408386a2_fed3_11e8_821e_2816ad4d1b6brow17_col17\" class=\"data row17 col17\" >5.308</td> \n",
       "        <td id=\"T_408386a2_fed3_11e8_821e_2816ad4d1b6brow17_col18\" class=\"data row17 col18\" >-4.502</td> \n",
       "    </tr>    <tr> \n",
       "        <th id=\"T_408386a2_fed3_11e8_821e_2816ad4d1b6blevel0_row18\" class=\"row_heading level0 row18\" >29</th> \n",
       "        <td id=\"T_408386a2_fed3_11e8_821e_2816ad4d1b6brow18_col0\" class=\"data row18 col0\" >524.202</td> \n",
       "        <td id=\"T_408386a2_fed3_11e8_821e_2816ad4d1b6brow18_col1\" class=\"data row18 col1\" >4.808</td> \n",
       "        <td id=\"T_408386a2_fed3_11e8_821e_2816ad4d1b6brow18_col2\" class=\"data row18 col2\" >4.808</td> \n",
       "        <td id=\"T_408386a2_fed3_11e8_821e_2816ad4d1b6brow18_col3\" class=\"data row18 col3\" >4.808</td> \n",
       "        <td id=\"T_408386a2_fed3_11e8_821e_2816ad4d1b6brow18_col4\" class=\"data row18 col4\" >-1.679</td> \n",
       "        <td id=\"T_408386a2_fed3_11e8_821e_2816ad4d1b6brow18_col5\" class=\"data row18 col5\" >-1.676</td> \n",
       "        <td id=\"T_408386a2_fed3_11e8_821e_2816ad4d1b6brow18_col6\" class=\"data row18 col6\" >1.907</td> \n",
       "        <td id=\"T_408386a2_fed3_11e8_821e_2816ad4d1b6brow18_col7\" class=\"data row18 col7\" >-1.187</td> \n",
       "        <td id=\"T_408386a2_fed3_11e8_821e_2816ad4d1b6brow18_col8\" class=\"data row18 col8\" >-1.86</td> \n",
       "        <td id=\"T_408386a2_fed3_11e8_821e_2816ad4d1b6brow18_col9\" class=\"data row18 col9\" >1.907</td> \n",
       "        <td id=\"T_408386a2_fed3_11e8_821e_2816ad4d1b6brow18_col10\" class=\"data row18 col10\" >-4.658</td> \n",
       "        <td id=\"T_408386a2_fed3_11e8_821e_2816ad4d1b6brow18_col11\" class=\"data row18 col11\" >-3.784</td> \n",
       "        <td id=\"T_408386a2_fed3_11e8_821e_2816ad4d1b6brow18_col12\" class=\"data row18 col12\" >1.907</td> \n",
       "        <td id=\"T_408386a2_fed3_11e8_821e_2816ad4d1b6brow18_col13\" class=\"data row18 col13\" >-1.676</td> \n",
       "        <td id=\"T_408386a2_fed3_11e8_821e_2816ad4d1b6brow18_col14\" class=\"data row18 col14\" >-1.676</td> \n",
       "        <td id=\"T_408386a2_fed3_11e8_821e_2816ad4d1b6brow18_col15\" class=\"data row18 col15\" >1.907</td> \n",
       "        <td id=\"T_408386a2_fed3_11e8_821e_2816ad4d1b6brow18_col16\" class=\"data row18 col16\" >-3.314</td> \n",
       "        <td id=\"T_408386a2_fed3_11e8_821e_2816ad4d1b6brow18_col17\" class=\"data row18 col17\" >-2.448</td> \n",
       "        <td id=\"T_408386a2_fed3_11e8_821e_2816ad4d1b6brow18_col18\" class=\"data row18 col18\" >1.907</td> \n",
       "    </tr>    <tr> \n",
       "        <th id=\"T_408386a2_fed3_11e8_821e_2816ad4d1b6blevel0_row19\" class=\"row_heading level0 row19\" >30</th> \n",
       "        <td id=\"T_408386a2_fed3_11e8_821e_2816ad4d1b6brow19_col0\" class=\"data row19 col0\" >571.774</td> \n",
       "        <td id=\"T_408386a2_fed3_11e8_821e_2816ad4d1b6brow19_col1\" class=\"data row19 col1\" >-12.398</td> \n",
       "        <td id=\"T_408386a2_fed3_11e8_821e_2816ad4d1b6brow19_col2\" class=\"data row19 col2\" >-12.398</td> \n",
       "        <td id=\"T_408386a2_fed3_11e8_821e_2816ad4d1b6brow19_col3\" class=\"data row19 col3\" >-12.398</td> \n",
       "        <td id=\"T_408386a2_fed3_11e8_821e_2816ad4d1b6brow19_col4\" class=\"data row19 col4\" >4.465</td> \n",
       "        <td id=\"T_408386a2_fed3_11e8_821e_2816ad4d1b6brow19_col5\" class=\"data row19 col5\" >0.043</td> \n",
       "        <td id=\"T_408386a2_fed3_11e8_821e_2816ad4d1b6brow19_col6\" class=\"data row19 col6\" >6.078</td> \n",
       "        <td id=\"T_408386a2_fed3_11e8_821e_2816ad4d1b6brow19_col7\" class=\"data row19 col7\" >0.774</td> \n",
       "        <td id=\"T_408386a2_fed3_11e8_821e_2816ad4d1b6brow19_col8\" class=\"data row19 col8\" >0.043</td> \n",
       "        <td id=\"T_408386a2_fed3_11e8_821e_2816ad4d1b6brow19_col9\" class=\"data row19 col9\" >6.078</td> \n",
       "        <td id=\"T_408386a2_fed3_11e8_821e_2816ad4d1b6brow19_col10\" class=\"data row19 col10\" >5.526</td> \n",
       "        <td id=\"T_408386a2_fed3_11e8_821e_2816ad4d1b6brow19_col11\" class=\"data row19 col11\" >-2.218</td> \n",
       "        <td id=\"T_408386a2_fed3_11e8_821e_2816ad4d1b6brow19_col12\" class=\"data row19 col12\" >6.078</td> \n",
       "        <td id=\"T_408386a2_fed3_11e8_821e_2816ad4d1b6brow19_col13\" class=\"data row19 col13\" >0.043</td> \n",
       "        <td id=\"T_408386a2_fed3_11e8_821e_2816ad4d1b6brow19_col14\" class=\"data row19 col14\" >0.043</td> \n",
       "        <td id=\"T_408386a2_fed3_11e8_821e_2816ad4d1b6brow19_col15\" class=\"data row19 col15\" >6.078</td> \n",
       "        <td id=\"T_408386a2_fed3_11e8_821e_2816ad4d1b6brow19_col16\" class=\"data row19 col16\" >-1.029</td> \n",
       "        <td id=\"T_408386a2_fed3_11e8_821e_2816ad4d1b6brow19_col17\" class=\"data row19 col17\" >-0.887</td> \n",
       "        <td id=\"T_408386a2_fed3_11e8_821e_2816ad4d1b6brow19_col18\" class=\"data row19 col18\" >6.078</td> \n",
       "    </tr></tbody> \n",
       "</table> "
      ],
      "text/plain": [
       "<pandas.io.formats.style.Styler at 0x1c2ce32f2b0>"
      ]
     },
     "metadata": {},
     "output_type": "display_data"
    }
   ],
   "source": [
    "coordListList = []\n",
    "\n",
    "radius = 1\n",
    "pointsNums = list(range(11, 31))\n",
    "iterations = 20\n",
    "rate = math.pow(10, -4)\n",
    "schemes = [\"Hillclimb\", \"Sigmoid\", \"Exp\", \"Expvar\", \"Binary\", \"Linear\"]\n",
    "checks = []\n",
    "coordListListList = []\n",
    "results = {}\n",
    "mcl = [1, 10, 20]\n",
    "moveScheme = changeCoordSingle\n",
    "transition = \"Yes\"\n",
    "\n",
    "data = []\n",
    "rowcount = 0\n",
    "for i, scheme in enumerate(schemes):\n",
    "    printmd(f\"### scheme: {scheme}\")\n",
    "    for j, markovL in enumerate(mcl):\n",
    "        data.append([])\n",
    "        printmd(f\"### Markovlength: {markovL}\")\n",
    "        getScheme_data(\n",
    "            math.ceil(iterations / markovL),\n",
    "            plot=\"Yes\",\n",
    "            scheme=scheme,\n",
    "            markovChain=markovL)\n",
    "        for pointsNum in log_progress(\n",
    "                pointsNums, every=1, size=len(pointsNums), name='Items'):\n",
    "            random.seed(147)\n",
    "            coordList = []\n",
    "            for i in range(pointsNum):\n",
    "                coordList.append(spawn(radius))\n",
    "            coordList = np.array(coordList)\n",
    "            if transition == \"Yes\":\n",
    "                checklist, coordListList = start_sim(\n",
    "                    coordList,\n",
    "                    radius,\n",
    "                    pointsNum,\n",
    "                    iterations,\n",
    "                    rate,\n",
    "                    scheme,\n",
    "                    markovL,\n",
    "                    moveScheme,\n",
    "                    transition,\n",
    "                    plotScheme=\"No\")\n",
    "            else:\n",
    "                checklist = start_sim(\n",
    "                    coordList,\n",
    "                    radius,\n",
    "                    pointsNum,\n",
    "                    iterations,\n",
    "                    rate,\n",
    "                    scheme,\n",
    "                    markovL,\n",
    "                    moveScheme,\n",
    "                    transition,\n",
    "                    plotScheme=\"No\")\n",
    "            data[rowcount].append(checklist[-1])\n",
    "        rowcount += 1\n",
    "\n",
    "schemas = [\"Mean\"]\n",
    "mcls = [\"\"]\n",
    "for i, scheme in enumerate(schemes):\n",
    "    for ml in mcl:\n",
    "        schemas.append(scheme)\n",
    "        mcls.append(ml)\n",
    "arrays = [schemas, mcls]\n",
    "\n",
    "tuples = list(zip(*arrays))\n",
    "data.insert(0, [0 for i in range(len(data[0]))])\n",
    "\n",
    "index = pd.MultiIndex.from_tuples(tuples, names=['Scheme', 'MarkovLength'])\n",
    "s = pd.DataFrame(data, index=index, columns=pointsNums)\n",
    "meanRow = [np.mean(s[i][1:]) for i in pointsNums]\n",
    "p = s - meanRow\n",
    "for i in pointsNums:\n",
    "    p[i][0] = abs(p[i][0])\n",
    "final = p.round(3).T.style.apply(highlight_min, axis=1)\n",
    "display(final)"
   ]
  },
  {
   "cell_type": "markdown",
   "metadata": {},
   "source": [
    "## Load data from large run and create pictures of results"
   ]
  },
  {
   "cell_type": "code",
   "execution_count": 34,
   "metadata": {
    "ExecuteTime": {
     "end_time": "2018-12-13T12:45:21.064608Z",
     "start_time": "2018-12-13T12:45:20.413878Z"
    }
   },
   "outputs": [
    {
     "data": {
      "text/html": [
       "<style  type=\"text/css\" >\n",
       "    #T_f3bb4ee6_fed4_11e8_b4d8_2816ad4d1b6brow0_col9 {\n",
       "            background-color:  #b3fcd0;\n",
       "        }    #T_f3bb4ee6_fed4_11e8_b4d8_2816ad4d1b6brow1_col1 {\n",
       "            background-color:  #b3fcd0;\n",
       "        }    #T_f3bb4ee6_fed4_11e8_b4d8_2816ad4d1b6brow1_col2 {\n",
       "            background-color:  #b3fcd0;\n",
       "        }    #T_f3bb4ee6_fed4_11e8_b4d8_2816ad4d1b6brow1_col3 {\n",
       "            background-color:  #b3fcd0;\n",
       "        }    #T_f3bb4ee6_fed4_11e8_b4d8_2816ad4d1b6brow1_col9 {\n",
       "            background-color:  #b3fcd0;\n",
       "        }    #T_f3bb4ee6_fed4_11e8_b4d8_2816ad4d1b6brow2_col7 {\n",
       "            background-color:  #b3fcd0;\n",
       "        }    #T_f3bb4ee6_fed4_11e8_b4d8_2816ad4d1b6brow2_col8 {\n",
       "            background-color:  #b3fcd0;\n",
       "        }    #T_f3bb4ee6_fed4_11e8_b4d8_2816ad4d1b6brow2_col11 {\n",
       "            background-color:  #b3fcd0;\n",
       "        }    #T_f3bb4ee6_fed4_11e8_b4d8_2816ad4d1b6brow3_col10 {\n",
       "            background-color:  #b3fcd0;\n",
       "        }    #T_f3bb4ee6_fed4_11e8_b4d8_2816ad4d1b6brow3_col11 {\n",
       "            background-color:  #b3fcd0;\n",
       "        }    #T_f3bb4ee6_fed4_11e8_b4d8_2816ad4d1b6brow4_col9 {\n",
       "            background-color:  #b3fcd0;\n",
       "        }    #T_f3bb4ee6_fed4_11e8_b4d8_2816ad4d1b6brow4_col10 {\n",
       "            background-color:  #b3fcd0;\n",
       "        }    #T_f3bb4ee6_fed4_11e8_b4d8_2816ad4d1b6brow4_col11 {\n",
       "            background-color:  #b3fcd0;\n",
       "        }    #T_f3bb4ee6_fed4_11e8_b4d8_2816ad4d1b6brow4_col12 {\n",
       "            background-color:  #b3fcd0;\n",
       "        }    #T_f3bb4ee6_fed4_11e8_b4d8_2816ad4d1b6brow4_col13 {\n",
       "            background-color:  #b3fcd0;\n",
       "        }    #T_f3bb4ee6_fed4_11e8_b4d8_2816ad4d1b6brow4_col14 {\n",
       "            background-color:  #b3fcd0;\n",
       "        }    #T_f3bb4ee6_fed4_11e8_b4d8_2816ad4d1b6brow4_col15 {\n",
       "            background-color:  #b3fcd0;\n",
       "        }    #T_f3bb4ee6_fed4_11e8_b4d8_2816ad4d1b6brow5_col9 {\n",
       "            background-color:  #b3fcd0;\n",
       "        }    #T_f3bb4ee6_fed4_11e8_b4d8_2816ad4d1b6brow6_col5 {\n",
       "            background-color:  #b3fcd0;\n",
       "        }    #T_f3bb4ee6_fed4_11e8_b4d8_2816ad4d1b6brow7_col12 {\n",
       "            background-color:  #b3fcd0;\n",
       "        }    #T_f3bb4ee6_fed4_11e8_b4d8_2816ad4d1b6brow7_col13 {\n",
       "            background-color:  #b3fcd0;\n",
       "        }    #T_f3bb4ee6_fed4_11e8_b4d8_2816ad4d1b6brow7_col14 {\n",
       "            background-color:  #b3fcd0;\n",
       "        }    #T_f3bb4ee6_fed4_11e8_b4d8_2816ad4d1b6brow7_col15 {\n",
       "            background-color:  #b3fcd0;\n",
       "        }    #T_f3bb4ee6_fed4_11e8_b4d8_2816ad4d1b6brow8_col5 {\n",
       "            background-color:  #b3fcd0;\n",
       "        }    #T_f3bb4ee6_fed4_11e8_b4d8_2816ad4d1b6brow8_col6 {\n",
       "            background-color:  #b3fcd0;\n",
       "        }    #T_f3bb4ee6_fed4_11e8_b4d8_2816ad4d1b6brow9_col5 {\n",
       "            background-color:  #b3fcd0;\n",
       "        }    #T_f3bb4ee6_fed4_11e8_b4d8_2816ad4d1b6brow9_col6 {\n",
       "            background-color:  #b3fcd0;\n",
       "        }    #T_f3bb4ee6_fed4_11e8_b4d8_2816ad4d1b6brow9_col13 {\n",
       "            background-color:  #b3fcd0;\n",
       "        }    #T_f3bb4ee6_fed4_11e8_b4d8_2816ad4d1b6brow9_col14 {\n",
       "            background-color:  #b3fcd0;\n",
       "        }    #T_f3bb4ee6_fed4_11e8_b4d8_2816ad4d1b6brow9_col15 {\n",
       "            background-color:  #b3fcd0;\n",
       "        }    #T_f3bb4ee6_fed4_11e8_b4d8_2816ad4d1b6brow10_col4 {\n",
       "            background-color:  #b3fcd0;\n",
       "        }    #T_f3bb4ee6_fed4_11e8_b4d8_2816ad4d1b6brow11_col16 {\n",
       "            background-color:  #b3fcd0;\n",
       "        }    #T_f3bb4ee6_fed4_11e8_b4d8_2816ad4d1b6brow12_col12 {\n",
       "            background-color:  #b3fcd0;\n",
       "        }    #T_f3bb4ee6_fed4_11e8_b4d8_2816ad4d1b6brow13_col6 {\n",
       "            background-color:  #b3fcd0;\n",
       "        }    #T_f3bb4ee6_fed4_11e8_b4d8_2816ad4d1b6brow14_col11 {\n",
       "            background-color:  #b3fcd0;\n",
       "        }    #T_f3bb4ee6_fed4_11e8_b4d8_2816ad4d1b6brow15_col16 {\n",
       "            background-color:  #b3fcd0;\n",
       "        }    #T_f3bb4ee6_fed4_11e8_b4d8_2816ad4d1b6brow16_col7 {\n",
       "            background-color:  #b3fcd0;\n",
       "        }    #T_f3bb4ee6_fed4_11e8_b4d8_2816ad4d1b6brow16_col10 {\n",
       "            background-color:  #b3fcd0;\n",
       "        }    #T_f3bb4ee6_fed4_11e8_b4d8_2816ad4d1b6brow17_col4 {\n",
       "            background-color:  #b3fcd0;\n",
       "        }    #T_f3bb4ee6_fed4_11e8_b4d8_2816ad4d1b6brow17_col5 {\n",
       "            background-color:  #b3fcd0;\n",
       "        }    #T_f3bb4ee6_fed4_11e8_b4d8_2816ad4d1b6brow17_col6 {\n",
       "            background-color:  #b3fcd0;\n",
       "        }    #T_f3bb4ee6_fed4_11e8_b4d8_2816ad4d1b6brow18_col6 {\n",
       "            background-color:  #b3fcd0;\n",
       "        }    #T_f3bb4ee6_fed4_11e8_b4d8_2816ad4d1b6brow19_col12 {\n",
       "            background-color:  #b3fcd0;\n",
       "        }</style>  \n",
       "<table id=\"T_f3bb4ee6_fed4_11e8_b4d8_2816ad4d1b6b\" > \n",
       "<thead>    <tr> \n",
       "        <th class=\"index_name level0\" >Scheme</th> \n",
       "        <th class=\"col_heading level0 col0\" >Mean</th> \n",
       "        <th class=\"col_heading level0 col1\" colspan=3>Hillclimb</th> \n",
       "        <th class=\"col_heading level0 col4\" colspan=3>Sigmoid</th> \n",
       "        <th class=\"col_heading level0 col7\" colspan=3>Exp</th> \n",
       "        <th class=\"col_heading level0 col10\" colspan=3>Expvar</th> \n",
       "        <th class=\"col_heading level0 col13\" colspan=3>Binary</th> \n",
       "        <th class=\"col_heading level0 col16\" colspan=3>Linear</th> \n",
       "    </tr>    <tr> \n",
       "        <th class=\"index_name level1\" >MarkovLength</th> \n",
       "        <th class=\"col_heading level1 col0\" ></th> \n",
       "        <th class=\"col_heading level1 col1\" >1</th> \n",
       "        <th class=\"col_heading level1 col2\" >10</th> \n",
       "        <th class=\"col_heading level1 col3\" >100</th> \n",
       "        <th class=\"col_heading level1 col4\" >1</th> \n",
       "        <th class=\"col_heading level1 col5\" >10</th> \n",
       "        <th class=\"col_heading level1 col6\" >100</th> \n",
       "        <th class=\"col_heading level1 col7\" >1</th> \n",
       "        <th class=\"col_heading level1 col8\" >10</th> \n",
       "        <th class=\"col_heading level1 col9\" >100</th> \n",
       "        <th class=\"col_heading level1 col10\" >1</th> \n",
       "        <th class=\"col_heading level1 col11\" >10</th> \n",
       "        <th class=\"col_heading level1 col12\" >100</th> \n",
       "        <th class=\"col_heading level1 col13\" >1</th> \n",
       "        <th class=\"col_heading level1 col14\" >10</th> \n",
       "        <th class=\"col_heading level1 col15\" >100</th> \n",
       "        <th class=\"col_heading level1 col16\" >1</th> \n",
       "        <th class=\"col_heading level1 col17\" >10</th> \n",
       "        <th class=\"col_heading level1 col18\" >100</th> \n",
       "    </tr></thead> \n",
       "<tbody>    <tr> \n",
       "        <th id=\"T_f3bb4ee6_fed4_11e8_b4d8_2816ad4d1b6blevel0_row0\" class=\"row_heading level0 row0\" >11</th> \n",
       "        <td id=\"T_f3bb4ee6_fed4_11e8_b4d8_2816ad4d1b6brow0_col0\" class=\"data row0 col0\" >49.025</td> \n",
       "        <td id=\"T_f3bb4ee6_fed4_11e8_b4d8_2816ad4d1b6brow0_col1\" class=\"data row0 col1\" >-0.4</td> \n",
       "        <td id=\"T_f3bb4ee6_fed4_11e8_b4d8_2816ad4d1b6brow0_col2\" class=\"data row0 col2\" >-0.4</td> \n",
       "        <td id=\"T_f3bb4ee6_fed4_11e8_b4d8_2816ad4d1b6brow0_col3\" class=\"data row0 col3\" >-0.4</td> \n",
       "        <td id=\"T_f3bb4ee6_fed4_11e8_b4d8_2816ad4d1b6brow0_col4\" class=\"data row0 col4\" >-0.4</td> \n",
       "        <td id=\"T_f3bb4ee6_fed4_11e8_b4d8_2816ad4d1b6brow0_col5\" class=\"data row0 col5\" >-0.4</td> \n",
       "        <td id=\"T_f3bb4ee6_fed4_11e8_b4d8_2816ad4d1b6brow0_col6\" class=\"data row0 col6\" >0.885</td> \n",
       "        <td id=\"T_f3bb4ee6_fed4_11e8_b4d8_2816ad4d1b6brow0_col7\" class=\"data row0 col7\" >-0.4</td> \n",
       "        <td id=\"T_f3bb4ee6_fed4_11e8_b4d8_2816ad4d1b6brow0_col8\" class=\"data row0 col8\" >-0.4</td> \n",
       "        <td id=\"T_f3bb4ee6_fed4_11e8_b4d8_2816ad4d1b6brow0_col9\" class=\"data row0 col9\" >-0.449</td> \n",
       "        <td id=\"T_f3bb4ee6_fed4_11e8_b4d8_2816ad4d1b6brow0_col10\" class=\"data row0 col10\" >0.885</td> \n",
       "        <td id=\"T_f3bb4ee6_fed4_11e8_b4d8_2816ad4d1b6brow0_col11\" class=\"data row0 col11\" >-0.4</td> \n",
       "        <td id=\"T_f3bb4ee6_fed4_11e8_b4d8_2816ad4d1b6brow0_col12\" class=\"data row0 col12\" >-0.4</td> \n",
       "        <td id=\"T_f3bb4ee6_fed4_11e8_b4d8_2816ad4d1b6brow0_col13\" class=\"data row0 col13\" >0.885</td> \n",
       "        <td id=\"T_f3bb4ee6_fed4_11e8_b4d8_2816ad4d1b6brow0_col14\" class=\"data row0 col14\" >0.885</td> \n",
       "        <td id=\"T_f3bb4ee6_fed4_11e8_b4d8_2816ad4d1b6brow0_col15\" class=\"data row0 col15\" >0.885</td> \n",
       "        <td id=\"T_f3bb4ee6_fed4_11e8_b4d8_2816ad4d1b6brow0_col16\" class=\"data row0 col16\" >-0.357</td> \n",
       "        <td id=\"T_f3bb4ee6_fed4_11e8_b4d8_2816ad4d1b6brow0_col17\" class=\"data row0 col17\" >-0.336</td> \n",
       "        <td id=\"T_f3bb4ee6_fed4_11e8_b4d8_2816ad4d1b6brow0_col18\" class=\"data row0 col18\" >0.318</td> \n",
       "    </tr>    <tr> \n",
       "        <th id=\"T_f3bb4ee6_fed4_11e8_b4d8_2816ad4d1b6blevel0_row1\" class=\"row_heading level0 row1\" >12</th> \n",
       "        <td id=\"T_f3bb4ee6_fed4_11e8_b4d8_2816ad4d1b6brow1_col0\" class=\"data row1 col0\" >60.445</td> \n",
       "        <td id=\"T_f3bb4ee6_fed4_11e8_b4d8_2816ad4d1b6brow1_col1\" class=\"data row1 col1\" >-0.869</td> \n",
       "        <td id=\"T_f3bb4ee6_fed4_11e8_b4d8_2816ad4d1b6brow1_col2\" class=\"data row1 col2\" >-0.869</td> \n",
       "        <td id=\"T_f3bb4ee6_fed4_11e8_b4d8_2816ad4d1b6brow1_col3\" class=\"data row1 col3\" >-0.869</td> \n",
       "        <td id=\"T_f3bb4ee6_fed4_11e8_b4d8_2816ad4d1b6brow1_col4\" class=\"data row1 col4\" >0.241</td> \n",
       "        <td id=\"T_f3bb4ee6_fed4_11e8_b4d8_2816ad4d1b6brow1_col5\" class=\"data row1 col5\" >0.241</td> \n",
       "        <td id=\"T_f3bb4ee6_fed4_11e8_b4d8_2816ad4d1b6brow1_col6\" class=\"data row1 col6\" >0.241</td> \n",
       "        <td id=\"T_f3bb4ee6_fed4_11e8_b4d8_2816ad4d1b6brow1_col7\" class=\"data row1 col7\" >0.241</td> \n",
       "        <td id=\"T_f3bb4ee6_fed4_11e8_b4d8_2816ad4d1b6brow1_col8\" class=\"data row1 col8\" >0.241</td> \n",
       "        <td id=\"T_f3bb4ee6_fed4_11e8_b4d8_2816ad4d1b6brow1_col9\" class=\"data row1 col9\" >-0.869</td> \n",
       "        <td id=\"T_f3bb4ee6_fed4_11e8_b4d8_2816ad4d1b6brow1_col10\" class=\"data row1 col10\" >0.241</td> \n",
       "        <td id=\"T_f3bb4ee6_fed4_11e8_b4d8_2816ad4d1b6brow1_col11\" class=\"data row1 col11\" >0.241</td> \n",
       "        <td id=\"T_f3bb4ee6_fed4_11e8_b4d8_2816ad4d1b6brow1_col12\" class=\"data row1 col12\" >0.241</td> \n",
       "        <td id=\"T_f3bb4ee6_fed4_11e8_b4d8_2816ad4d1b6brow1_col13\" class=\"data row1 col13\" >0.241</td> \n",
       "        <td id=\"T_f3bb4ee6_fed4_11e8_b4d8_2816ad4d1b6brow1_col14\" class=\"data row1 col14\" >0.241</td> \n",
       "        <td id=\"T_f3bb4ee6_fed4_11e8_b4d8_2816ad4d1b6brow1_col15\" class=\"data row1 col15\" >0.241</td> \n",
       "        <td id=\"T_f3bb4ee6_fed4_11e8_b4d8_2816ad4d1b6brow1_col16\" class=\"data row1 col16\" >0.314</td> \n",
       "        <td id=\"T_f3bb4ee6_fed4_11e8_b4d8_2816ad4d1b6brow1_col17\" class=\"data row1 col17\" >-0.714</td> \n",
       "        <td id=\"T_f3bb4ee6_fed4_11e8_b4d8_2816ad4d1b6brow1_col18\" class=\"data row1 col18\" >1.226</td> \n",
       "    </tr>    <tr> \n",
       "        <th id=\"T_f3bb4ee6_fed4_11e8_b4d8_2816ad4d1b6blevel0_row2\" class=\"row_heading level0 row2\" >13</th> \n",
       "        <td id=\"T_f3bb4ee6_fed4_11e8_b4d8_2816ad4d1b6brow2_col0\" class=\"data row2 col0\" >72.605</td> \n",
       "        <td id=\"T_f3bb4ee6_fed4_11e8_b4d8_2816ad4d1b6brow2_col1\" class=\"data row2 col1\" >0.102</td> \n",
       "        <td id=\"T_f3bb4ee6_fed4_11e8_b4d8_2816ad4d1b6brow2_col2\" class=\"data row2 col2\" >0.102</td> \n",
       "        <td id=\"T_f3bb4ee6_fed4_11e8_b4d8_2816ad4d1b6brow2_col3\" class=\"data row2 col3\" >0.102</td> \n",
       "        <td id=\"T_f3bb4ee6_fed4_11e8_b4d8_2816ad4d1b6brow2_col4\" class=\"data row2 col4\" >0.102</td> \n",
       "        <td id=\"T_f3bb4ee6_fed4_11e8_b4d8_2816ad4d1b6brow2_col5\" class=\"data row2 col5\" >1.553</td> \n",
       "        <td id=\"T_f3bb4ee6_fed4_11e8_b4d8_2816ad4d1b6brow2_col6\" class=\"data row2 col6\" >0.102</td> \n",
       "        <td id=\"T_f3bb4ee6_fed4_11e8_b4d8_2816ad4d1b6brow2_col7\" class=\"data row2 col7\" >-0.797</td> \n",
       "        <td id=\"T_f3bb4ee6_fed4_11e8_b4d8_2816ad4d1b6brow2_col8\" class=\"data row2 col8\" >-0.797</td> \n",
       "        <td id=\"T_f3bb4ee6_fed4_11e8_b4d8_2816ad4d1b6brow2_col9\" class=\"data row2 col9\" >0.102</td> \n",
       "        <td id=\"T_f3bb4ee6_fed4_11e8_b4d8_2816ad4d1b6brow2_col10\" class=\"data row2 col10\" >0.102</td> \n",
       "        <td id=\"T_f3bb4ee6_fed4_11e8_b4d8_2816ad4d1b6brow2_col11\" class=\"data row2 col11\" >-0.797</td> \n",
       "        <td id=\"T_f3bb4ee6_fed4_11e8_b4d8_2816ad4d1b6brow2_col12\" class=\"data row2 col12\" >0.102</td> \n",
       "        <td id=\"T_f3bb4ee6_fed4_11e8_b4d8_2816ad4d1b6brow2_col13\" class=\"data row2 col13\" >0.102</td> \n",
       "        <td id=\"T_f3bb4ee6_fed4_11e8_b4d8_2816ad4d1b6brow2_col14\" class=\"data row2 col14\" >0.102</td> \n",
       "        <td id=\"T_f3bb4ee6_fed4_11e8_b4d8_2816ad4d1b6brow2_col15\" class=\"data row2 col15\" >0.102</td> \n",
       "        <td id=\"T_f3bb4ee6_fed4_11e8_b4d8_2816ad4d1b6brow2_col16\" class=\"data row2 col16\" >-0.641</td> \n",
       "        <td id=\"T_f3bb4ee6_fed4_11e8_b4d8_2816ad4d1b6brow2_col17\" class=\"data row2 col17\" >0.487</td> \n",
       "        <td id=\"T_f3bb4ee6_fed4_11e8_b4d8_2816ad4d1b6brow2_col18\" class=\"data row2 col18\" >-0.128</td> \n",
       "    </tr>    <tr> \n",
       "        <th id=\"T_f3bb4ee6_fed4_11e8_b4d8_2816ad4d1b6blevel0_row3\" class=\"row_heading level0 row3\" >14</th> \n",
       "        <td id=\"T_f3bb4ee6_fed4_11e8_b4d8_2816ad4d1b6brow3_col0\" class=\"data row3 col0\" >86.374</td> \n",
       "        <td id=\"T_f3bb4ee6_fed4_11e8_b4d8_2816ad4d1b6brow3_col1\" class=\"data row3 col1\" >-0.372</td> \n",
       "        <td id=\"T_f3bb4ee6_fed4_11e8_b4d8_2816ad4d1b6brow3_col2\" class=\"data row3 col2\" >-0.372</td> \n",
       "        <td id=\"T_f3bb4ee6_fed4_11e8_b4d8_2816ad4d1b6brow3_col3\" class=\"data row3 col3\" >-0.372</td> \n",
       "        <td id=\"T_f3bb4ee6_fed4_11e8_b4d8_2816ad4d1b6brow3_col4\" class=\"data row3 col4\" >-0.372</td> \n",
       "        <td id=\"T_f3bb4ee6_fed4_11e8_b4d8_2816ad4d1b6brow3_col5\" class=\"data row3 col5\" >0.911</td> \n",
       "        <td id=\"T_f3bb4ee6_fed4_11e8_b4d8_2816ad4d1b6brow3_col6\" class=\"data row3 col6\" >0.911</td> \n",
       "        <td id=\"T_f3bb4ee6_fed4_11e8_b4d8_2816ad4d1b6brow3_col7\" class=\"data row3 col7\" >0.912</td> \n",
       "        <td id=\"T_f3bb4ee6_fed4_11e8_b4d8_2816ad4d1b6brow3_col8\" class=\"data row3 col8\" >-0.371</td> \n",
       "        <td id=\"T_f3bb4ee6_fed4_11e8_b4d8_2816ad4d1b6brow3_col9\" class=\"data row3 col9\" >-0.371</td> \n",
       "        <td id=\"T_f3bb4ee6_fed4_11e8_b4d8_2816ad4d1b6brow3_col10\" class=\"data row3 col10\" >-1.027</td> \n",
       "        <td id=\"T_f3bb4ee6_fed4_11e8_b4d8_2816ad4d1b6brow3_col11\" class=\"data row3 col11\" >-1.027</td> \n",
       "        <td id=\"T_f3bb4ee6_fed4_11e8_b4d8_2816ad4d1b6brow3_col12\" class=\"data row3 col12\" >0.912</td> \n",
       "        <td id=\"T_f3bb4ee6_fed4_11e8_b4d8_2816ad4d1b6brow3_col13\" class=\"data row3 col13\" >-0.372</td> \n",
       "        <td id=\"T_f3bb4ee6_fed4_11e8_b4d8_2816ad4d1b6brow3_col14\" class=\"data row3 col14\" >-0.372</td> \n",
       "        <td id=\"T_f3bb4ee6_fed4_11e8_b4d8_2816ad4d1b6brow3_col15\" class=\"data row3 col15\" >-0.372</td> \n",
       "        <td id=\"T_f3bb4ee6_fed4_11e8_b4d8_2816ad4d1b6brow3_col16\" class=\"data row3 col16\" >-0.308</td> \n",
       "        <td id=\"T_f3bb4ee6_fed4_11e8_b4d8_2816ad4d1b6brow3_col17\" class=\"data row3 col17\" >0.083</td> \n",
       "        <td id=\"T_f3bb4ee6_fed4_11e8_b4d8_2816ad4d1b6brow3_col18\" class=\"data row3 col18\" >1.978</td> \n",
       "    </tr>    <tr> \n",
       "        <th id=\"T_f3bb4ee6_fed4_11e8_b4d8_2816ad4d1b6blevel0_row4\" class=\"row_heading level0 row4\" >15</th> \n",
       "        <td id=\"T_f3bb4ee6_fed4_11e8_b4d8_2816ad4d1b6brow4_col0\" class=\"data row4 col0\" >101.143</td> \n",
       "        <td id=\"T_f3bb4ee6_fed4_11e8_b4d8_2816ad4d1b6brow4_col1\" class=\"data row4 col1\" >0.534</td> \n",
       "        <td id=\"T_f3bb4ee6_fed4_11e8_b4d8_2816ad4d1b6brow4_col2\" class=\"data row4 col2\" >0.534</td> \n",
       "        <td id=\"T_f3bb4ee6_fed4_11e8_b4d8_2816ad4d1b6brow4_col3\" class=\"data row4 col3\" >0.534</td> \n",
       "        <td id=\"T_f3bb4ee6_fed4_11e8_b4d8_2816ad4d1b6brow4_col4\" class=\"data row4 col4\" >0.534</td> \n",
       "        <td id=\"T_f3bb4ee6_fed4_11e8_b4d8_2816ad4d1b6brow4_col5\" class=\"data row4 col5\" >0.534</td> \n",
       "        <td id=\"T_f3bb4ee6_fed4_11e8_b4d8_2816ad4d1b6brow4_col6\" class=\"data row4 col6\" >0.534</td> \n",
       "        <td id=\"T_f3bb4ee6_fed4_11e8_b4d8_2816ad4d1b6brow4_col7\" class=\"data row4 col7\" >0.535</td> \n",
       "        <td id=\"T_f3bb4ee6_fed4_11e8_b4d8_2816ad4d1b6brow4_col8\" class=\"data row4 col8\" >0.534</td> \n",
       "        <td id=\"T_f3bb4ee6_fed4_11e8_b4d8_2816ad4d1b6brow4_col9\" class=\"data row4 col9\" >-0.541</td> \n",
       "        <td id=\"T_f3bb4ee6_fed4_11e8_b4d8_2816ad4d1b6brow4_col10\" class=\"data row4 col10\" >-0.541</td> \n",
       "        <td id=\"T_f3bb4ee6_fed4_11e8_b4d8_2816ad4d1b6brow4_col11\" class=\"data row4 col11\" >-0.541</td> \n",
       "        <td id=\"T_f3bb4ee6_fed4_11e8_b4d8_2816ad4d1b6brow4_col12\" class=\"data row4 col12\" >-0.541</td> \n",
       "        <td id=\"T_f3bb4ee6_fed4_11e8_b4d8_2816ad4d1b6brow4_col13\" class=\"data row4 col13\" >-0.541</td> \n",
       "        <td id=\"T_f3bb4ee6_fed4_11e8_b4d8_2816ad4d1b6brow4_col14\" class=\"data row4 col14\" >-0.541</td> \n",
       "        <td id=\"T_f3bb4ee6_fed4_11e8_b4d8_2816ad4d1b6brow4_col15\" class=\"data row4 col15\" >-0.541</td> \n",
       "        <td id=\"T_f3bb4ee6_fed4_11e8_b4d8_2816ad4d1b6brow4_col16\" class=\"data row4 col16\" >-0.471</td> \n",
       "        <td id=\"T_f3bb4ee6_fed4_11e8_b4d8_2816ad4d1b6brow4_col17\" class=\"data row4 col17\" >-0.438</td> \n",
       "        <td id=\"T_f3bb4ee6_fed4_11e8_b4d8_2816ad4d1b6brow4_col18\" class=\"data row4 col18\" >0.425</td> \n",
       "    </tr>    <tr> \n",
       "        <th id=\"T_f3bb4ee6_fed4_11e8_b4d8_2816ad4d1b6blevel0_row5\" class=\"row_heading level0 row5\" >16</th> \n",
       "        <td id=\"T_f3bb4ee6_fed4_11e8_b4d8_2816ad4d1b6brow5_col0\" class=\"data row5 col0\" >117.52</td> \n",
       "        <td id=\"T_f3bb4ee6_fed4_11e8_b4d8_2816ad4d1b6brow5_col1\" class=\"data row5 col1\" >-0.15</td> \n",
       "        <td id=\"T_f3bb4ee6_fed4_11e8_b4d8_2816ad4d1b6brow5_col2\" class=\"data row5 col2\" >-0.15</td> \n",
       "        <td id=\"T_f3bb4ee6_fed4_11e8_b4d8_2816ad4d1b6brow5_col3\" class=\"data row5 col3\" >-0.15</td> \n",
       "        <td id=\"T_f3bb4ee6_fed4_11e8_b4d8_2816ad4d1b6brow5_col4\" class=\"data row5 col4\" >-0.15</td> \n",
       "        <td id=\"T_f3bb4ee6_fed4_11e8_b4d8_2816ad4d1b6brow5_col5\" class=\"data row5 col5\" >-0.15</td> \n",
       "        <td id=\"T_f3bb4ee6_fed4_11e8_b4d8_2816ad4d1b6brow5_col6\" class=\"data row5 col6\" >-0.15</td> \n",
       "        <td id=\"T_f3bb4ee6_fed4_11e8_b4d8_2816ad4d1b6brow5_col7\" class=\"data row5 col7\" >1.422</td> \n",
       "        <td id=\"T_f3bb4ee6_fed4_11e8_b4d8_2816ad4d1b6brow5_col8\" class=\"data row5 col8\" >-0.15</td> \n",
       "        <td id=\"T_f3bb4ee6_fed4_11e8_b4d8_2816ad4d1b6brow5_col9\" class=\"data row5 col9\" >-0.987</td> \n",
       "        <td id=\"T_f3bb4ee6_fed4_11e8_b4d8_2816ad4d1b6brow5_col10\" class=\"data row5 col10\" >-0.15</td> \n",
       "        <td id=\"T_f3bb4ee6_fed4_11e8_b4d8_2816ad4d1b6brow5_col11\" class=\"data row5 col11\" >-0.15</td> \n",
       "        <td id=\"T_f3bb4ee6_fed4_11e8_b4d8_2816ad4d1b6brow5_col12\" class=\"data row5 col12\" >-0.15</td> \n",
       "        <td id=\"T_f3bb4ee6_fed4_11e8_b4d8_2816ad4d1b6brow5_col13\" class=\"data row5 col13\" >-0.15</td> \n",
       "        <td id=\"T_f3bb4ee6_fed4_11e8_b4d8_2816ad4d1b6brow5_col14\" class=\"data row5 col14\" >-0.15</td> \n",
       "        <td id=\"T_f3bb4ee6_fed4_11e8_b4d8_2816ad4d1b6brow5_col15\" class=\"data row5 col15\" >-0.15</td> \n",
       "        <td id=\"T_f3bb4ee6_fed4_11e8_b4d8_2816ad4d1b6brow5_col16\" class=\"data row5 col16\" >0.12</td> \n",
       "        <td id=\"T_f3bb4ee6_fed4_11e8_b4d8_2816ad4d1b6brow5_col17\" class=\"data row5 col17\" >1.609</td> \n",
       "        <td id=\"T_f3bb4ee6_fed4_11e8_b4d8_2816ad4d1b6brow5_col18\" class=\"data row5 col18\" >-0.209</td> \n",
       "    </tr>    <tr> \n",
       "        <th id=\"T_f3bb4ee6_fed4_11e8_b4d8_2816ad4d1b6blevel0_row6\" class=\"row_heading level0 row6\" >17</th> \n",
       "        <td id=\"T_f3bb4ee6_fed4_11e8_b4d8_2816ad4d1b6brow6_col0\" class=\"data row6 col0\" >134.923</td> \n",
       "        <td id=\"T_f3bb4ee6_fed4_11e8_b4d8_2816ad4d1b6brow6_col1\" class=\"data row6 col1\" >0.844</td> \n",
       "        <td id=\"T_f3bb4ee6_fed4_11e8_b4d8_2816ad4d1b6brow6_col2\" class=\"data row6 col2\" >0.844</td> \n",
       "        <td id=\"T_f3bb4ee6_fed4_11e8_b4d8_2816ad4d1b6brow6_col3\" class=\"data row6 col3\" >0.844</td> \n",
       "        <td id=\"T_f3bb4ee6_fed4_11e8_b4d8_2816ad4d1b6brow6_col4\" class=\"data row6 col4\" >-0.535</td> \n",
       "        <td id=\"T_f3bb4ee6_fed4_11e8_b4d8_2816ad4d1b6brow6_col5\" class=\"data row6 col5\" >-0.536</td> \n",
       "        <td id=\"T_f3bb4ee6_fed4_11e8_b4d8_2816ad4d1b6brow6_col6\" class=\"data row6 col6\" >-0.535</td> \n",
       "        <td id=\"T_f3bb4ee6_fed4_11e8_b4d8_2816ad4d1b6brow6_col7\" class=\"data row6 col7\" >-0.535</td> \n",
       "        <td id=\"T_f3bb4ee6_fed4_11e8_b4d8_2816ad4d1b6brow6_col8\" class=\"data row6 col8\" >0.845</td> \n",
       "        <td id=\"T_f3bb4ee6_fed4_11e8_b4d8_2816ad4d1b6brow6_col9\" class=\"data row6 col9\" >-0.535</td> \n",
       "        <td id=\"T_f3bb4ee6_fed4_11e8_b4d8_2816ad4d1b6brow6_col10\" class=\"data row6 col10\" >-0.535</td> \n",
       "        <td id=\"T_f3bb4ee6_fed4_11e8_b4d8_2816ad4d1b6brow6_col11\" class=\"data row6 col11\" >0.844</td> \n",
       "        <td id=\"T_f3bb4ee6_fed4_11e8_b4d8_2816ad4d1b6brow6_col12\" class=\"data row6 col12\" >0.844</td> \n",
       "        <td id=\"T_f3bb4ee6_fed4_11e8_b4d8_2816ad4d1b6brow6_col13\" class=\"data row6 col13\" >-0.535</td> \n",
       "        <td id=\"T_f3bb4ee6_fed4_11e8_b4d8_2816ad4d1b6brow6_col14\" class=\"data row6 col14\" >-0.535</td> \n",
       "        <td id=\"T_f3bb4ee6_fed4_11e8_b4d8_2816ad4d1b6brow6_col15\" class=\"data row6 col15\" >-0.535</td> \n",
       "        <td id=\"T_f3bb4ee6_fed4_11e8_b4d8_2816ad4d1b6brow6_col16\" class=\"data row6 col16\" >-0.429</td> \n",
       "        <td id=\"T_f3bb4ee6_fed4_11e8_b4d8_2816ad4d1b6brow6_col17\" class=\"data row6 col17\" >-0.448</td> \n",
       "        <td id=\"T_f3bb4ee6_fed4_11e8_b4d8_2816ad4d1b6brow6_col18\" class=\"data row6 col18\" >0.631</td> \n",
       "    </tr>    <tr> \n",
       "        <th id=\"T_f3bb4ee6_fed4_11e8_b4d8_2816ad4d1b6blevel0_row7\" class=\"row_heading level0 row7\" >18</th> \n",
       "        <td id=\"T_f3bb4ee6_fed4_11e8_b4d8_2816ad4d1b6brow7_col0\" class=\"data row7 col0\" >153.663</td> \n",
       "        <td id=\"T_f3bb4ee6_fed4_11e8_b4d8_2816ad4d1b6brow7_col1\" class=\"data row7 col1\" >0.239</td> \n",
       "        <td id=\"T_f3bb4ee6_fed4_11e8_b4d8_2816ad4d1b6brow7_col2\" class=\"data row7 col2\" >0.239</td> \n",
       "        <td id=\"T_f3bb4ee6_fed4_11e8_b4d8_2816ad4d1b6brow7_col3\" class=\"data row7 col3\" >0.239</td> \n",
       "        <td id=\"T_f3bb4ee6_fed4_11e8_b4d8_2816ad4d1b6brow7_col4\" class=\"data row7 col4\" >0.239</td> \n",
       "        <td id=\"T_f3bb4ee6_fed4_11e8_b4d8_2816ad4d1b6brow7_col5\" class=\"data row7 col5\" >0.239</td> \n",
       "        <td id=\"T_f3bb4ee6_fed4_11e8_b4d8_2816ad4d1b6brow7_col6\" class=\"data row7 col6\" >0.239</td> \n",
       "        <td id=\"T_f3bb4ee6_fed4_11e8_b4d8_2816ad4d1b6brow7_col7\" class=\"data row7 col7\" >0.24</td> \n",
       "        <td id=\"T_f3bb4ee6_fed4_11e8_b4d8_2816ad4d1b6brow7_col8\" class=\"data row7 col8\" >0.24</td> \n",
       "        <td id=\"T_f3bb4ee6_fed4_11e8_b4d8_2816ad4d1b6brow7_col9\" class=\"data row7 col9\" >0.24</td> \n",
       "        <td id=\"T_f3bb4ee6_fed4_11e8_b4d8_2816ad4d1b6brow7_col10\" class=\"data row7 col10\" >0.24</td> \n",
       "        <td id=\"T_f3bb4ee6_fed4_11e8_b4d8_2816ad4d1b6brow7_col11\" class=\"data row7 col11\" >0.239</td> \n",
       "        <td id=\"T_f3bb4ee6_fed4_11e8_b4d8_2816ad4d1b6brow7_col12\" class=\"data row7 col12\" >-0.909</td> \n",
       "        <td id=\"T_f3bb4ee6_fed4_11e8_b4d8_2816ad4d1b6brow7_col13\" class=\"data row7 col13\" >-0.909</td> \n",
       "        <td id=\"T_f3bb4ee6_fed4_11e8_b4d8_2816ad4d1b6brow7_col14\" class=\"data row7 col14\" >-0.909</td> \n",
       "        <td id=\"T_f3bb4ee6_fed4_11e8_b4d8_2816ad4d1b6brow7_col15\" class=\"data row7 col15\" >-0.909</td> \n",
       "        <td id=\"T_f3bb4ee6_fed4_11e8_b4d8_2816ad4d1b6brow7_col16\" class=\"data row7 col16\" >0.408</td> \n",
       "        <td id=\"T_f3bb4ee6_fed4_11e8_b4d8_2816ad4d1b6brow7_col17\" class=\"data row7 col17\" >0.837</td> \n",
       "        <td id=\"T_f3bb4ee6_fed4_11e8_b4d8_2816ad4d1b6brow7_col18\" class=\"data row7 col18\" >-0.247</td> \n",
       "    </tr>    <tr> \n",
       "        <th id=\"T_f3bb4ee6_fed4_11e8_b4d8_2816ad4d1b6blevel0_row8\" class=\"row_heading level0 row8\" >19</th> \n",
       "        <td id=\"T_f3bb4ee6_fed4_11e8_b4d8_2816ad4d1b6brow8_col0\" class=\"data row8 col0\" >173.905</td> \n",
       "        <td id=\"T_f3bb4ee6_fed4_11e8_b4d8_2816ad4d1b6brow8_col1\" class=\"data row8 col1\" >1.161</td> \n",
       "        <td id=\"T_f3bb4ee6_fed4_11e8_b4d8_2816ad4d1b6brow8_col2\" class=\"data row8 col2\" >1.161</td> \n",
       "        <td id=\"T_f3bb4ee6_fed4_11e8_b4d8_2816ad4d1b6brow8_col3\" class=\"data row8 col3\" >1.161</td> \n",
       "        <td id=\"T_f3bb4ee6_fed4_11e8_b4d8_2816ad4d1b6brow8_col4\" class=\"data row8 col4\" >-0.521</td> \n",
       "        <td id=\"T_f3bb4ee6_fed4_11e8_b4d8_2816ad4d1b6brow8_col5\" class=\"data row8 col5\" >-1.41</td> \n",
       "        <td id=\"T_f3bb4ee6_fed4_11e8_b4d8_2816ad4d1b6brow8_col6\" class=\"data row8 col6\" >-1.41</td> \n",
       "        <td id=\"T_f3bb4ee6_fed4_11e8_b4d8_2816ad4d1b6brow8_col7\" class=\"data row8 col7\" >-0.52</td> \n",
       "        <td id=\"T_f3bb4ee6_fed4_11e8_b4d8_2816ad4d1b6brow8_col8\" class=\"data row8 col8\" >1.162</td> \n",
       "        <td id=\"T_f3bb4ee6_fed4_11e8_b4d8_2816ad4d1b6brow8_col9\" class=\"data row8 col9\" >-0.52</td> \n",
       "        <td id=\"T_f3bb4ee6_fed4_11e8_b4d8_2816ad4d1b6brow8_col10\" class=\"data row8 col10\" >1.161</td> \n",
       "        <td id=\"T_f3bb4ee6_fed4_11e8_b4d8_2816ad4d1b6brow8_col11\" class=\"data row8 col11\" >-1.409</td> \n",
       "        <td id=\"T_f3bb4ee6_fed4_11e8_b4d8_2816ad4d1b6brow8_col12\" class=\"data row8 col12\" >1.161</td> \n",
       "        <td id=\"T_f3bb4ee6_fed4_11e8_b4d8_2816ad4d1b6brow8_col13\" class=\"data row8 col13\" >-0.521</td> \n",
       "        <td id=\"T_f3bb4ee6_fed4_11e8_b4d8_2816ad4d1b6brow8_col14\" class=\"data row8 col14\" >-0.521</td> \n",
       "        <td id=\"T_f3bb4ee6_fed4_11e8_b4d8_2816ad4d1b6brow8_col15\" class=\"data row8 col15\" >-0.521</td> \n",
       "        <td id=\"T_f3bb4ee6_fed4_11e8_b4d8_2816ad4d1b6brow8_col16\" class=\"data row8 col16\" >1.37</td> \n",
       "        <td id=\"T_f3bb4ee6_fed4_11e8_b4d8_2816ad4d1b6brow8_col17\" class=\"data row8 col17\" >-1.313</td> \n",
       "        <td id=\"T_f3bb4ee6_fed4_11e8_b4d8_2816ad4d1b6brow8_col18\" class=\"data row8 col18\" >0.334</td> \n",
       "    </tr>    <tr> \n",
       "        <th id=\"T_f3bb4ee6_fed4_11e8_b4d8_2816ad4d1b6blevel0_row9\" class=\"row_heading level0 row9\" >20</th> \n",
       "        <td id=\"T_f3bb4ee6_fed4_11e8_b4d8_2816ad4d1b6brow9_col0\" class=\"data row9 col0\" >195.336</td> \n",
       "        <td id=\"T_f3bb4ee6_fed4_11e8_b4d8_2816ad4d1b6brow9_col1\" class=\"data row9 col1\" >2.632</td> \n",
       "        <td id=\"T_f3bb4ee6_fed4_11e8_b4d8_2816ad4d1b6brow9_col2\" class=\"data row9 col2\" >2.632</td> \n",
       "        <td id=\"T_f3bb4ee6_fed4_11e8_b4d8_2816ad4d1b6brow9_col3\" class=\"data row9 col3\" >2.632</td> \n",
       "        <td id=\"T_f3bb4ee6_fed4_11e8_b4d8_2816ad4d1b6brow9_col4\" class=\"data row9 col4\" >-1.103</td> \n",
       "        <td id=\"T_f3bb4ee6_fed4_11e8_b4d8_2816ad4d1b6brow9_col5\" class=\"data row9 col5\" >-1.104</td> \n",
       "        <td id=\"T_f3bb4ee6_fed4_11e8_b4d8_2816ad4d1b6brow9_col6\" class=\"data row9 col6\" >-1.104</td> \n",
       "        <td id=\"T_f3bb4ee6_fed4_11e8_b4d8_2816ad4d1b6brow9_col7\" class=\"data row9 col7\" >0.351</td> \n",
       "        <td id=\"T_f3bb4ee6_fed4_11e8_b4d8_2816ad4d1b6brow9_col8\" class=\"data row9 col8\" >2.53</td> \n",
       "        <td id=\"T_f3bb4ee6_fed4_11e8_b4d8_2816ad4d1b6brow9_col9\" class=\"data row9 col9\" >0.351</td> \n",
       "        <td id=\"T_f3bb4ee6_fed4_11e8_b4d8_2816ad4d1b6brow9_col10\" class=\"data row9 col10\" >-1.103</td> \n",
       "        <td id=\"T_f3bb4ee6_fed4_11e8_b4d8_2816ad4d1b6brow9_col11\" class=\"data row9 col11\" >-1.103</td> \n",
       "        <td id=\"T_f3bb4ee6_fed4_11e8_b4d8_2816ad4d1b6brow9_col12\" class=\"data row9 col12\" >-1.103</td> \n",
       "        <td id=\"T_f3bb4ee6_fed4_11e8_b4d8_2816ad4d1b6brow9_col13\" class=\"data row9 col13\" >-1.104</td> \n",
       "        <td id=\"T_f3bb4ee6_fed4_11e8_b4d8_2816ad4d1b6brow9_col14\" class=\"data row9 col14\" >-1.104</td> \n",
       "        <td id=\"T_f3bb4ee6_fed4_11e8_b4d8_2816ad4d1b6brow9_col15\" class=\"data row9 col15\" >-1.104</td> \n",
       "        <td id=\"T_f3bb4ee6_fed4_11e8_b4d8_2816ad4d1b6brow9_col16\" class=\"data row9 col16\" >-0.805</td> \n",
       "        <td id=\"T_f3bb4ee6_fed4_11e8_b4d8_2816ad4d1b6brow9_col17\" class=\"data row9 col17\" >-0.827</td> \n",
       "        <td id=\"T_f3bb4ee6_fed4_11e8_b4d8_2816ad4d1b6brow9_col18\" class=\"data row9 col18\" >0.435</td> \n",
       "    </tr>    <tr> \n",
       "        <th id=\"T_f3bb4ee6_fed4_11e8_b4d8_2816ad4d1b6blevel0_row10\" class=\"row_heading level0 row10\" >21</th> \n",
       "        <td id=\"T_f3bb4ee6_fed4_11e8_b4d8_2816ad4d1b6brow10_col0\" class=\"data row10 col0\" >217.949</td> \n",
       "        <td id=\"T_f3bb4ee6_fed4_11e8_b4d8_2816ad4d1b6brow10_col1\" class=\"data row10 col1\" >-0.275</td> \n",
       "        <td id=\"T_f3bb4ee6_fed4_11e8_b4d8_2816ad4d1b6brow10_col2\" class=\"data row10 col2\" >-0.275</td> \n",
       "        <td id=\"T_f3bb4ee6_fed4_11e8_b4d8_2816ad4d1b6brow10_col3\" class=\"data row10 col3\" >-0.275</td> \n",
       "        <td id=\"T_f3bb4ee6_fed4_11e8_b4d8_2816ad4d1b6brow10_col4\" class=\"data row10 col4\" >-1.477</td> \n",
       "        <td id=\"T_f3bb4ee6_fed4_11e8_b4d8_2816ad4d1b6brow10_col5\" class=\"data row10 col5\" >1.71</td> \n",
       "        <td id=\"T_f3bb4ee6_fed4_11e8_b4d8_2816ad4d1b6brow10_col6\" class=\"data row10 col6\" >1.804</td> \n",
       "        <td id=\"T_f3bb4ee6_fed4_11e8_b4d8_2816ad4d1b6brow10_col7\" class=\"data row10 col7\" >-0.275</td> \n",
       "        <td id=\"T_f3bb4ee6_fed4_11e8_b4d8_2816ad4d1b6brow10_col8\" class=\"data row10 col8\" >1.804</td> \n",
       "        <td id=\"T_f3bb4ee6_fed4_11e8_b4d8_2816ad4d1b6brow10_col9\" class=\"data row10 col9\" >-0.275</td> \n",
       "        <td id=\"T_f3bb4ee6_fed4_11e8_b4d8_2816ad4d1b6brow10_col10\" class=\"data row10 col10\" >-0.274</td> \n",
       "        <td id=\"T_f3bb4ee6_fed4_11e8_b4d8_2816ad4d1b6brow10_col11\" class=\"data row10 col11\" >-0.275</td> \n",
       "        <td id=\"T_f3bb4ee6_fed4_11e8_b4d8_2816ad4d1b6brow10_col12\" class=\"data row10 col12\" >-0.275</td> \n",
       "        <td id=\"T_f3bb4ee6_fed4_11e8_b4d8_2816ad4d1b6brow10_col13\" class=\"data row10 col13\" >-0.275</td> \n",
       "        <td id=\"T_f3bb4ee6_fed4_11e8_b4d8_2816ad4d1b6brow10_col14\" class=\"data row10 col14\" >-0.275</td> \n",
       "        <td id=\"T_f3bb4ee6_fed4_11e8_b4d8_2816ad4d1b6brow10_col15\" class=\"data row10 col15\" >-0.275</td> \n",
       "        <td id=\"T_f3bb4ee6_fed4_11e8_b4d8_2816ad4d1b6brow10_col16\" class=\"data row10 col16\" >0.226</td> \n",
       "        <td id=\"T_f3bb4ee6_fed4_11e8_b4d8_2816ad4d1b6brow10_col17\" class=\"data row10 col17\" >-1.178</td> \n",
       "        <td id=\"T_f3bb4ee6_fed4_11e8_b4d8_2816ad4d1b6brow10_col18\" class=\"data row10 col18\" >0.136</td> \n",
       "    </tr>    <tr> \n",
       "        <th id=\"T_f3bb4ee6_fed4_11e8_b4d8_2816ad4d1b6blevel0_row11\" class=\"row_heading level0 row11\" >22</th> \n",
       "        <td id=\"T_f3bb4ee6_fed4_11e8_b4d8_2816ad4d1b6brow11_col0\" class=\"data row11 col0\" >241.692</td> \n",
       "        <td id=\"T_f3bb4ee6_fed4_11e8_b4d8_2816ad4d1b6brow11_col1\" class=\"data row11 col1\" >-0.648</td> \n",
       "        <td id=\"T_f3bb4ee6_fed4_11e8_b4d8_2816ad4d1b6brow11_col2\" class=\"data row11 col2\" >-0.648</td> \n",
       "        <td id=\"T_f3bb4ee6_fed4_11e8_b4d8_2816ad4d1b6brow11_col3\" class=\"data row11 col3\" >-0.648</td> \n",
       "        <td id=\"T_f3bb4ee6_fed4_11e8_b4d8_2816ad4d1b6brow11_col4\" class=\"data row11 col4\" >-0.648</td> \n",
       "        <td id=\"T_f3bb4ee6_fed4_11e8_b4d8_2816ad4d1b6brow11_col5\" class=\"data row11 col5\" >1.223</td> \n",
       "        <td id=\"T_f3bb4ee6_fed4_11e8_b4d8_2816ad4d1b6brow11_col6\" class=\"data row11 col6\" >-0.648</td> \n",
       "        <td id=\"T_f3bb4ee6_fed4_11e8_b4d8_2816ad4d1b6brow11_col7\" class=\"data row11 col7\" >3.594</td> \n",
       "        <td id=\"T_f3bb4ee6_fed4_11e8_b4d8_2816ad4d1b6brow11_col8\" class=\"data row11 col8\" >1.115</td> \n",
       "        <td id=\"T_f3bb4ee6_fed4_11e8_b4d8_2816ad4d1b6brow11_col9\" class=\"data row11 col9\" >-0.648</td> \n",
       "        <td id=\"T_f3bb4ee6_fed4_11e8_b4d8_2816ad4d1b6brow11_col10\" class=\"data row11 col10\" >1.224</td> \n",
       "        <td id=\"T_f3bb4ee6_fed4_11e8_b4d8_2816ad4d1b6brow11_col11\" class=\"data row11 col11\" >-0.172</td> \n",
       "        <td id=\"T_f3bb4ee6_fed4_11e8_b4d8_2816ad4d1b6brow11_col12\" class=\"data row11 col12\" >-0.647</td> \n",
       "        <td id=\"T_f3bb4ee6_fed4_11e8_b4d8_2816ad4d1b6brow11_col13\" class=\"data row11 col13\" >-0.173</td> \n",
       "        <td id=\"T_f3bb4ee6_fed4_11e8_b4d8_2816ad4d1b6brow11_col14\" class=\"data row11 col14\" >-0.173</td> \n",
       "        <td id=\"T_f3bb4ee6_fed4_11e8_b4d8_2816ad4d1b6brow11_col15\" class=\"data row11 col15\" >-0.173</td> \n",
       "        <td id=\"T_f3bb4ee6_fed4_11e8_b4d8_2816ad4d1b6brow11_col16\" class=\"data row11 col16\" >-1.508</td> \n",
       "        <td id=\"T_f3bb4ee6_fed4_11e8_b4d8_2816ad4d1b6brow11_col17\" class=\"data row11 col17\" >-1.252</td> \n",
       "        <td id=\"T_f3bb4ee6_fed4_11e8_b4d8_2816ad4d1b6brow11_col18\" class=\"data row11 col18\" >0.83</td> \n",
       "    </tr>    <tr> \n",
       "        <th id=\"T_f3bb4ee6_fed4_11e8_b4d8_2816ad4d1b6blevel0_row12\" class=\"row_heading level0 row12\" >23</th> \n",
       "        <td id=\"T_f3bb4ee6_fed4_11e8_b4d8_2816ad4d1b6brow12_col0\" class=\"data row12 col0\" >266.584</td> \n",
       "        <td id=\"T_f3bb4ee6_fed4_11e8_b4d8_2816ad4d1b6brow12_col1\" class=\"data row12 col1\" >0.853</td> \n",
       "        <td id=\"T_f3bb4ee6_fed4_11e8_b4d8_2816ad4d1b6brow12_col2\" class=\"data row12 col2\" >0.853</td> \n",
       "        <td id=\"T_f3bb4ee6_fed4_11e8_b4d8_2816ad4d1b6brow12_col3\" class=\"data row12 col3\" >0.853</td> \n",
       "        <td id=\"T_f3bb4ee6_fed4_11e8_b4d8_2816ad4d1b6brow12_col4\" class=\"data row12 col4\" >0.853</td> \n",
       "        <td id=\"T_f3bb4ee6_fed4_11e8_b4d8_2816ad4d1b6brow12_col5\" class=\"data row12 col5\" >-0.764</td> \n",
       "        <td id=\"T_f3bb4ee6_fed4_11e8_b4d8_2816ad4d1b6brow12_col6\" class=\"data row12 col6\" >0.853</td> \n",
       "        <td id=\"T_f3bb4ee6_fed4_11e8_b4d8_2816ad4d1b6brow12_col7\" class=\"data row12 col7\" >0.748</td> \n",
       "        <td id=\"T_f3bb4ee6_fed4_11e8_b4d8_2816ad4d1b6brow12_col8\" class=\"data row12 col8\" >-0.764</td> \n",
       "        <td id=\"T_f3bb4ee6_fed4_11e8_b4d8_2816ad4d1b6brow12_col9\" class=\"data row12 col9\" >-0.763</td> \n",
       "        <td id=\"T_f3bb4ee6_fed4_11e8_b4d8_2816ad4d1b6brow12_col10\" class=\"data row12 col10\" >0.855</td> \n",
       "        <td id=\"T_f3bb4ee6_fed4_11e8_b4d8_2816ad4d1b6brow12_col11\" class=\"data row12 col11\" >-0.765</td> \n",
       "        <td id=\"T_f3bb4ee6_fed4_11e8_b4d8_2816ad4d1b6brow12_col12\" class=\"data row12 col12\" >-1.383</td> \n",
       "        <td id=\"T_f3bb4ee6_fed4_11e8_b4d8_2816ad4d1b6brow12_col13\" class=\"data row12 col13\" >-0.764</td> \n",
       "        <td id=\"T_f3bb4ee6_fed4_11e8_b4d8_2816ad4d1b6brow12_col14\" class=\"data row12 col14\" >-0.764</td> \n",
       "        <td id=\"T_f3bb4ee6_fed4_11e8_b4d8_2816ad4d1b6brow12_col15\" class=\"data row12 col15\" >-0.764</td> \n",
       "        <td id=\"T_f3bb4ee6_fed4_11e8_b4d8_2816ad4d1b6brow12_col16\" class=\"data row12 col16\" >-0.534</td> \n",
       "        <td id=\"T_f3bb4ee6_fed4_11e8_b4d8_2816ad4d1b6brow12_col17\" class=\"data row12 col17\" >-0.315</td> \n",
       "        <td id=\"T_f3bb4ee6_fed4_11e8_b4d8_2816ad4d1b6brow12_col18\" class=\"data row12 col18\" >1.712</td> \n",
       "    </tr>    <tr> \n",
       "        <th id=\"T_f3bb4ee6_fed4_11e8_b4d8_2816ad4d1b6blevel0_row13\" class=\"row_heading level0 row13\" >24</th> \n",
       "        <td id=\"T_f3bb4ee6_fed4_11e8_b4d8_2816ad4d1b6brow13_col0\" class=\"data row13 col0\" >293.824</td> \n",
       "        <td id=\"T_f3bb4ee6_fed4_11e8_b4d8_2816ad4d1b6brow13_col1\" class=\"data row13 col1\" >1.171</td> \n",
       "        <td id=\"T_f3bb4ee6_fed4_11e8_b4d8_2816ad4d1b6brow13_col2\" class=\"data row13 col2\" >1.171</td> \n",
       "        <td id=\"T_f3bb4ee6_fed4_11e8_b4d8_2816ad4d1b6brow13_col3\" class=\"data row13 col3\" >1.171</td> \n",
       "        <td id=\"T_f3bb4ee6_fed4_11e8_b4d8_2816ad4d1b6brow13_col4\" class=\"data row13 col4\" >-0.466</td> \n",
       "        <td id=\"T_f3bb4ee6_fed4_11e8_b4d8_2816ad4d1b6brow13_col5\" class=\"data row13 col5\" >1.171</td> \n",
       "        <td id=\"T_f3bb4ee6_fed4_11e8_b4d8_2816ad4d1b6brow13_col6\" class=\"data row13 col6\" >-1.803</td> \n",
       "        <td id=\"T_f3bb4ee6_fed4_11e8_b4d8_2816ad4d1b6brow13_col7\" class=\"data row13 col7\" >-0.466</td> \n",
       "        <td id=\"T_f3bb4ee6_fed4_11e8_b4d8_2816ad4d1b6brow13_col8\" class=\"data row13 col8\" >1.171</td> \n",
       "        <td id=\"T_f3bb4ee6_fed4_11e8_b4d8_2816ad4d1b6brow13_col9\" class=\"data row13 col9\" >-0.566</td> \n",
       "        <td id=\"T_f3bb4ee6_fed4_11e8_b4d8_2816ad4d1b6brow13_col10\" class=\"data row13 col10\" >-1.802</td> \n",
       "        <td id=\"T_f3bb4ee6_fed4_11e8_b4d8_2816ad4d1b6brow13_col11\" class=\"data row13 col11\" >-1.802</td> \n",
       "        <td id=\"T_f3bb4ee6_fed4_11e8_b4d8_2816ad4d1b6brow13_col12\" class=\"data row13 col12\" >-0.564</td> \n",
       "        <td id=\"T_f3bb4ee6_fed4_11e8_b4d8_2816ad4d1b6brow13_col13\" class=\"data row13 col13\" >1.171</td> \n",
       "        <td id=\"T_f3bb4ee6_fed4_11e8_b4d8_2816ad4d1b6brow13_col14\" class=\"data row13 col14\" >1.171</td> \n",
       "        <td id=\"T_f3bb4ee6_fed4_11e8_b4d8_2816ad4d1b6brow13_col15\" class=\"data row13 col15\" >1.171</td> \n",
       "        <td id=\"T_f3bb4ee6_fed4_11e8_b4d8_2816ad4d1b6brow13_col16\" class=\"data row13 col16\" >-0.366</td> \n",
       "        <td id=\"T_f3bb4ee6_fed4_11e8_b4d8_2816ad4d1b6brow13_col17\" class=\"data row13 col17\" >-0.971</td> \n",
       "        <td id=\"T_f3bb4ee6_fed4_11e8_b4d8_2816ad4d1b6brow13_col18\" class=\"data row13 col18\" >-0.56</td> \n",
       "    </tr>    <tr> \n",
       "        <th id=\"T_f3bb4ee6_fed4_11e8_b4d8_2816ad4d1b6blevel0_row14\" class=\"row_heading level0 row14\" >25</th> \n",
       "        <td id=\"T_f3bb4ee6_fed4_11e8_b4d8_2816ad4d1b6brow14_col0\" class=\"data row14 col0\" >321.543</td> \n",
       "        <td id=\"T_f3bb4ee6_fed4_11e8_b4d8_2816ad4d1b6brow14_col1\" class=\"data row14 col1\" >0.54</td> \n",
       "        <td id=\"T_f3bb4ee6_fed4_11e8_b4d8_2816ad4d1b6brow14_col2\" class=\"data row14 col2\" >0.54</td> \n",
       "        <td id=\"T_f3bb4ee6_fed4_11e8_b4d8_2816ad4d1b6brow14_col3\" class=\"data row14 col3\" >0.54</td> \n",
       "        <td id=\"T_f3bb4ee6_fed4_11e8_b4d8_2816ad4d1b6brow14_col4\" class=\"data row14 col4\" >-0.939</td> \n",
       "        <td id=\"T_f3bb4ee6_fed4_11e8_b4d8_2816ad4d1b6brow14_col5\" class=\"data row14 col5\" >-0.939</td> \n",
       "        <td id=\"T_f3bb4ee6_fed4_11e8_b4d8_2816ad4d1b6brow14_col6\" class=\"data row14 col6\" >-0.939</td> \n",
       "        <td id=\"T_f3bb4ee6_fed4_11e8_b4d8_2816ad4d1b6brow14_col7\" class=\"data row14 col7\" >0.533</td> \n",
       "        <td id=\"T_f3bb4ee6_fed4_11e8_b4d8_2816ad4d1b6brow14_col8\" class=\"data row14 col8\" >-0.938</td> \n",
       "        <td id=\"T_f3bb4ee6_fed4_11e8_b4d8_2816ad4d1b6brow14_col9\" class=\"data row14 col9\" >0.533</td> \n",
       "        <td id=\"T_f3bb4ee6_fed4_11e8_b4d8_2816ad4d1b6brow14_col10\" class=\"data row14 col10\" >-0.939</td> \n",
       "        <td id=\"T_f3bb4ee6_fed4_11e8_b4d8_2816ad4d1b6brow14_col11\" class=\"data row14 col11\" >-1.877</td> \n",
       "        <td id=\"T_f3bb4ee6_fed4_11e8_b4d8_2816ad4d1b6brow14_col12\" class=\"data row14 col12\" >0.54</td> \n",
       "        <td id=\"T_f3bb4ee6_fed4_11e8_b4d8_2816ad4d1b6brow14_col13\" class=\"data row14 col13\" >0.532</td> \n",
       "        <td id=\"T_f3bb4ee6_fed4_11e8_b4d8_2816ad4d1b6brow14_col14\" class=\"data row14 col14\" >0.532</td> \n",
       "        <td id=\"T_f3bb4ee6_fed4_11e8_b4d8_2816ad4d1b6brow14_col15\" class=\"data row14 col15\" >0.532</td> \n",
       "        <td id=\"T_f3bb4ee6_fed4_11e8_b4d8_2816ad4d1b6brow14_col16\" class=\"data row14 col16\" >1.317</td> \n",
       "        <td id=\"T_f3bb4ee6_fed4_11e8_b4d8_2816ad4d1b6brow14_col17\" class=\"data row14 col17\" >-0.439</td> \n",
       "        <td id=\"T_f3bb4ee6_fed4_11e8_b4d8_2816ad4d1b6brow14_col18\" class=\"data row14 col18\" >0.872</td> \n",
       "    </tr>    <tr> \n",
       "        <th id=\"T_f3bb4ee6_fed4_11e8_b4d8_2816ad4d1b6blevel0_row15\" class=\"row_heading level0 row15\" >26</th> \n",
       "        <td id=\"T_f3bb4ee6_fed4_11e8_b4d8_2816ad4d1b6brow15_col0\" class=\"data row15 col0\" >351.593</td> \n",
       "        <td id=\"T_f3bb4ee6_fed4_11e8_b4d8_2816ad4d1b6brow15_col1\" class=\"data row15 col1\" >3.48</td> \n",
       "        <td id=\"T_f3bb4ee6_fed4_11e8_b4d8_2816ad4d1b6brow15_col2\" class=\"data row15 col2\" >3.48</td> \n",
       "        <td id=\"T_f3bb4ee6_fed4_11e8_b4d8_2816ad4d1b6brow15_col3\" class=\"data row15 col3\" >3.48</td> \n",
       "        <td id=\"T_f3bb4ee6_fed4_11e8_b4d8_2816ad4d1b6brow15_col4\" class=\"data row15 col4\" >-1.016</td> \n",
       "        <td id=\"T_f3bb4ee6_fed4_11e8_b4d8_2816ad4d1b6brow15_col5\" class=\"data row15 col5\" >-1.017</td> \n",
       "        <td id=\"T_f3bb4ee6_fed4_11e8_b4d8_2816ad4d1b6brow15_col6\" class=\"data row15 col6\" >-0.656</td> \n",
       "        <td id=\"T_f3bb4ee6_fed4_11e8_b4d8_2816ad4d1b6brow15_col7\" class=\"data row15 col7\" >0.882</td> \n",
       "        <td id=\"T_f3bb4ee6_fed4_11e8_b4d8_2816ad4d1b6brow15_col8\" class=\"data row15 col8\" >-1.016</td> \n",
       "        <td id=\"T_f3bb4ee6_fed4_11e8_b4d8_2816ad4d1b6brow15_col9\" class=\"data row15 col9\" >0.882</td> \n",
       "        <td id=\"T_f3bb4ee6_fed4_11e8_b4d8_2816ad4d1b6brow15_col10\" class=\"data row15 col10\" >-1.015</td> \n",
       "        <td id=\"T_f3bb4ee6_fed4_11e8_b4d8_2816ad4d1b6brow15_col11\" class=\"data row15 col11\" >-1.016</td> \n",
       "        <td id=\"T_f3bb4ee6_fed4_11e8_b4d8_2816ad4d1b6brow15_col12\" class=\"data row15 col12\" >-1.014</td> \n",
       "        <td id=\"T_f3bb4ee6_fed4_11e8_b4d8_2816ad4d1b6brow15_col13\" class=\"data row15 col13\" >-1.016</td> \n",
       "        <td id=\"T_f3bb4ee6_fed4_11e8_b4d8_2816ad4d1b6brow15_col14\" class=\"data row15 col14\" >-1.016</td> \n",
       "        <td id=\"T_f3bb4ee6_fed4_11e8_b4d8_2816ad4d1b6brow15_col15\" class=\"data row15 col15\" >-1.016</td> \n",
       "        <td id=\"T_f3bb4ee6_fed4_11e8_b4d8_2816ad4d1b6brow15_col16\" class=\"data row15 col16\" >-1.857</td> \n",
       "        <td id=\"T_f3bb4ee6_fed4_11e8_b4d8_2816ad4d1b6brow15_col17\" class=\"data row15 col17\" >-0.278</td> \n",
       "        <td id=\"T_f3bb4ee6_fed4_11e8_b4d8_2816ad4d1b6brow15_col18\" class=\"data row15 col18\" >-0.272</td> \n",
       "    </tr>    <tr> \n",
       "        <th id=\"T_f3bb4ee6_fed4_11e8_b4d8_2816ad4d1b6blevel0_row16\" class=\"row_heading level0 row16\" >27</th> \n",
       "        <td id=\"T_f3bb4ee6_fed4_11e8_b4d8_2816ad4d1b6brow16_col0\" class=\"data row16 col0\" >381.403</td> \n",
       "        <td id=\"T_f3bb4ee6_fed4_11e8_b4d8_2816ad4d1b6brow16_col1\" class=\"data row16 col1\" >0.746</td> \n",
       "        <td id=\"T_f3bb4ee6_fed4_11e8_b4d8_2816ad4d1b6brow16_col2\" class=\"data row16 col2\" >0.746</td> \n",
       "        <td id=\"T_f3bb4ee6_fed4_11e8_b4d8_2816ad4d1b6brow16_col3\" class=\"data row16 col3\" >0.746</td> \n",
       "        <td id=\"T_f3bb4ee6_fed4_11e8_b4d8_2816ad4d1b6brow16_col4\" class=\"data row16 col4\" >-0.896</td> \n",
       "        <td id=\"T_f3bb4ee6_fed4_11e8_b4d8_2816ad4d1b6brow16_col5\" class=\"data row16 col5\" >-0.896</td> \n",
       "        <td id=\"T_f3bb4ee6_fed4_11e8_b4d8_2816ad4d1b6brow16_col6\" class=\"data row16 col6\" >-0.896</td> \n",
       "        <td id=\"T_f3bb4ee6_fed4_11e8_b4d8_2816ad4d1b6brow16_col7\" class=\"data row16 col7\" >-1.772</td> \n",
       "        <td id=\"T_f3bb4ee6_fed4_11e8_b4d8_2816ad4d1b6brow16_col8\" class=\"data row16 col8\" >0.747</td> \n",
       "        <td id=\"T_f3bb4ee6_fed4_11e8_b4d8_2816ad4d1b6brow16_col9\" class=\"data row16 col9\" >0.747</td> \n",
       "        <td id=\"T_f3bb4ee6_fed4_11e8_b4d8_2816ad4d1b6brow16_col10\" class=\"data row16 col10\" >-1.772</td> \n",
       "        <td id=\"T_f3bb4ee6_fed4_11e8_b4d8_2816ad4d1b6brow16_col11\" class=\"data row16 col11\" >-0.893</td> \n",
       "        <td id=\"T_f3bb4ee6_fed4_11e8_b4d8_2816ad4d1b6brow16_col12\" class=\"data row16 col12\" >-0.896</td> \n",
       "        <td id=\"T_f3bb4ee6_fed4_11e8_b4d8_2816ad4d1b6brow16_col13\" class=\"data row16 col13\" >0.746</td> \n",
       "        <td id=\"T_f3bb4ee6_fed4_11e8_b4d8_2816ad4d1b6brow16_col14\" class=\"data row16 col14\" >0.746</td> \n",
       "        <td id=\"T_f3bb4ee6_fed4_11e8_b4d8_2816ad4d1b6brow16_col15\" class=\"data row16 col15\" >0.746</td> \n",
       "        <td id=\"T_f3bb4ee6_fed4_11e8_b4d8_2816ad4d1b6brow16_col16\" class=\"data row16 col16\" >-0.6</td> \n",
       "        <td id=\"T_f3bb4ee6_fed4_11e8_b4d8_2816ad4d1b6brow16_col17\" class=\"data row16 col17\" >1.703</td> \n",
       "        <td id=\"T_f3bb4ee6_fed4_11e8_b4d8_2816ad4d1b6brow16_col18\" class=\"data row16 col18\" >0.947</td> \n",
       "    </tr>    <tr> \n",
       "        <th id=\"T_f3bb4ee6_fed4_11e8_b4d8_2816ad4d1b6blevel0_row17\" class=\"row_heading level0 row17\" >28</th> \n",
       "        <td id=\"T_f3bb4ee6_fed4_11e8_b4d8_2816ad4d1b6brow17_col0\" class=\"data row17 col0\" >412.805</td> \n",
       "        <td id=\"T_f3bb4ee6_fed4_11e8_b4d8_2816ad4d1b6brow17_col1\" class=\"data row17 col1\" >0.448</td> \n",
       "        <td id=\"T_f3bb4ee6_fed4_11e8_b4d8_2816ad4d1b6brow17_col2\" class=\"data row17 col2\" >0.448</td> \n",
       "        <td id=\"T_f3bb4ee6_fed4_11e8_b4d8_2816ad4d1b6brow17_col3\" class=\"data row17 col3\" >0.448</td> \n",
       "        <td id=\"T_f3bb4ee6_fed4_11e8_b4d8_2816ad4d1b6brow17_col4\" class=\"data row17 col4\" >-0.914</td> \n",
       "        <td id=\"T_f3bb4ee6_fed4_11e8_b4d8_2816ad4d1b6brow17_col5\" class=\"data row17 col5\" >-0.914</td> \n",
       "        <td id=\"T_f3bb4ee6_fed4_11e8_b4d8_2816ad4d1b6brow17_col6\" class=\"data row17 col6\" >-0.914</td> \n",
       "        <td id=\"T_f3bb4ee6_fed4_11e8_b4d8_2816ad4d1b6brow17_col7\" class=\"data row17 col7\" >0.448</td> \n",
       "        <td id=\"T_f3bb4ee6_fed4_11e8_b4d8_2816ad4d1b6brow17_col8\" class=\"data row17 col8\" >0.449</td> \n",
       "        <td id=\"T_f3bb4ee6_fed4_11e8_b4d8_2816ad4d1b6brow17_col9\" class=\"data row17 col9\" >0.449</td> \n",
       "        <td id=\"T_f3bb4ee6_fed4_11e8_b4d8_2816ad4d1b6brow17_col10\" class=\"data row17 col10\" >-0.912</td> \n",
       "        <td id=\"T_f3bb4ee6_fed4_11e8_b4d8_2816ad4d1b6brow17_col11\" class=\"data row17 col11\" >0.452</td> \n",
       "        <td id=\"T_f3bb4ee6_fed4_11e8_b4d8_2816ad4d1b6brow17_col12\" class=\"data row17 col12\" >-0.913</td> \n",
       "        <td id=\"T_f3bb4ee6_fed4_11e8_b4d8_2816ad4d1b6brow17_col13\" class=\"data row17 col13\" >0.449</td> \n",
       "        <td id=\"T_f3bb4ee6_fed4_11e8_b4d8_2816ad4d1b6brow17_col14\" class=\"data row17 col14\" >0.449</td> \n",
       "        <td id=\"T_f3bb4ee6_fed4_11e8_b4d8_2816ad4d1b6brow17_col15\" class=\"data row17 col15\" >0.449</td> \n",
       "        <td id=\"T_f3bb4ee6_fed4_11e8_b4d8_2816ad4d1b6brow17_col16\" class=\"data row17 col16\" >-0.147</td> \n",
       "        <td id=\"T_f3bb4ee6_fed4_11e8_b4d8_2816ad4d1b6brow17_col17\" class=\"data row17 col17\" >-0.678</td> \n",
       "        <td id=\"T_f3bb4ee6_fed4_11e8_b4d8_2816ad4d1b6brow17_col18\" class=\"data row17 col18\" >0.905</td> \n",
       "    </tr>    <tr> \n",
       "        <th id=\"T_f3bb4ee6_fed4_11e8_b4d8_2816ad4d1b6blevel0_row18\" class=\"row_heading level0 row18\" >29</th> \n",
       "        <td id=\"T_f3bb4ee6_fed4_11e8_b4d8_2816ad4d1b6brow18_col0\" class=\"data row18 col0\" >446.209</td> \n",
       "        <td id=\"T_f3bb4ee6_fed4_11e8_b4d8_2816ad4d1b6brow18_col1\" class=\"data row18 col1\" >1.509</td> \n",
       "        <td id=\"T_f3bb4ee6_fed4_11e8_b4d8_2816ad4d1b6brow18_col2\" class=\"data row18 col2\" >1.509</td> \n",
       "        <td id=\"T_f3bb4ee6_fed4_11e8_b4d8_2816ad4d1b6brow18_col3\" class=\"data row18 col3\" >1.509</td> \n",
       "        <td id=\"T_f3bb4ee6_fed4_11e8_b4d8_2816ad4d1b6brow18_col4\" class=\"data row18 col4\" >-0.406</td> \n",
       "        <td id=\"T_f3bb4ee6_fed4_11e8_b4d8_2816ad4d1b6brow18_col5\" class=\"data row18 col5\" >-0.406</td> \n",
       "        <td id=\"T_f3bb4ee6_fed4_11e8_b4d8_2816ad4d1b6brow18_col6\" class=\"data row18 col6\" >-1.467</td> \n",
       "        <td id=\"T_f3bb4ee6_fed4_11e8_b4d8_2816ad4d1b6brow18_col7\" class=\"data row18 col7\" >1.517</td> \n",
       "        <td id=\"T_f3bb4ee6_fed4_11e8_b4d8_2816ad4d1b6brow18_col8\" class=\"data row18 col8\" >1.51</td> \n",
       "        <td id=\"T_f3bb4ee6_fed4_11e8_b4d8_2816ad4d1b6brow18_col9\" class=\"data row18 col9\" >-1.465</td> \n",
       "        <td id=\"T_f3bb4ee6_fed4_11e8_b4d8_2816ad4d1b6brow18_col10\" class=\"data row18 col10\" >-0.403</td> \n",
       "        <td id=\"T_f3bb4ee6_fed4_11e8_b4d8_2816ad4d1b6brow18_col11\" class=\"data row18 col11\" >-1.465</td> \n",
       "        <td id=\"T_f3bb4ee6_fed4_11e8_b4d8_2816ad4d1b6brow18_col12\" class=\"data row18 col12\" >-0.407</td> \n",
       "        <td id=\"T_f3bb4ee6_fed4_11e8_b4d8_2816ad4d1b6brow18_col13\" class=\"data row18 col13\" >-0.407</td> \n",
       "        <td id=\"T_f3bb4ee6_fed4_11e8_b4d8_2816ad4d1b6brow18_col14\" class=\"data row18 col14\" >-0.407</td> \n",
       "        <td id=\"T_f3bb4ee6_fed4_11e8_b4d8_2816ad4d1b6brow18_col15\" class=\"data row18 col15\" >-0.407</td> \n",
       "        <td id=\"T_f3bb4ee6_fed4_11e8_b4d8_2816ad4d1b6brow18_col16\" class=\"data row18 col16\" >0.705</td> \n",
       "        <td id=\"T_f3bb4ee6_fed4_11e8_b4d8_2816ad4d1b6brow18_col17\" class=\"data row18 col17\" >-0.953</td> \n",
       "        <td id=\"T_f3bb4ee6_fed4_11e8_b4d8_2816ad4d1b6brow18_col18\" class=\"data row18 col18\" >-0.065</td> \n",
       "    </tr>    <tr> \n",
       "        <th id=\"T_f3bb4ee6_fed4_11e8_b4d8_2816ad4d1b6blevel0_row19\" class=\"row_heading level0 row19\" >30</th> \n",
       "        <td id=\"T_f3bb4ee6_fed4_11e8_b4d8_2816ad4d1b6brow19_col0\" class=\"data row19 col0\" >481.429</td> \n",
       "        <td id=\"T_f3bb4ee6_fed4_11e8_b4d8_2816ad4d1b6brow19_col1\" class=\"data row19 col1\" >0.025</td> \n",
       "        <td id=\"T_f3bb4ee6_fed4_11e8_b4d8_2816ad4d1b6brow19_col2\" class=\"data row19 col2\" >0.025</td> \n",
       "        <td id=\"T_f3bb4ee6_fed4_11e8_b4d8_2816ad4d1b6brow19_col3\" class=\"data row19 col3\" >0.025</td> \n",
       "        <td id=\"T_f3bb4ee6_fed4_11e8_b4d8_2816ad4d1b6brow19_col4\" class=\"data row19 col4\" >0.025</td> \n",
       "        <td id=\"T_f3bb4ee6_fed4_11e8_b4d8_2816ad4d1b6brow19_col5\" class=\"data row19 col5\" >2.482</td> \n",
       "        <td id=\"T_f3bb4ee6_fed4_11e8_b4d8_2816ad4d1b6brow19_col6\" class=\"data row19 col6\" >-1.612</td> \n",
       "        <td id=\"T_f3bb4ee6_fed4_11e8_b4d8_2816ad4d1b6brow19_col7\" class=\"data row19 col7\" >2.471</td> \n",
       "        <td id=\"T_f3bb4ee6_fed4_11e8_b4d8_2816ad4d1b6brow19_col8\" class=\"data row19 col8\" >0.026</td> \n",
       "        <td id=\"T_f3bb4ee6_fed4_11e8_b4d8_2816ad4d1b6brow19_col9\" class=\"data row19 col9\" >0.026</td> \n",
       "        <td id=\"T_f3bb4ee6_fed4_11e8_b4d8_2816ad4d1b6brow19_col10\" class=\"data row19 col10\" >0.406</td> \n",
       "        <td id=\"T_f3bb4ee6_fed4_11e8_b4d8_2816ad4d1b6brow19_col11\" class=\"data row19 col11\" >-1.611</td> \n",
       "        <td id=\"T_f3bb4ee6_fed4_11e8_b4d8_2816ad4d1b6brow19_col12\" class=\"data row19 col12\" >-2.344</td> \n",
       "        <td id=\"T_f3bb4ee6_fed4_11e8_b4d8_2816ad4d1b6brow19_col13\" class=\"data row19 col13\" >0.025</td> \n",
       "        <td id=\"T_f3bb4ee6_fed4_11e8_b4d8_2816ad4d1b6brow19_col14\" class=\"data row19 col14\" >0.025</td> \n",
       "        <td id=\"T_f3bb4ee6_fed4_11e8_b4d8_2816ad4d1b6brow19_col15\" class=\"data row19 col15\" >0.025</td> \n",
       "        <td id=\"T_f3bb4ee6_fed4_11e8_b4d8_2816ad4d1b6brow19_col16\" class=\"data row19 col16\" >0.733</td> \n",
       "        <td id=\"T_f3bb4ee6_fed4_11e8_b4d8_2816ad4d1b6brow19_col17\" class=\"data row19 col17\" >-1.387</td> \n",
       "        <td id=\"T_f3bb4ee6_fed4_11e8_b4d8_2816ad4d1b6brow19_col18\" class=\"data row19 col18\" >0.636</td> \n",
       "    </tr></tbody> \n",
       "</table> "
      ],
      "text/plain": [
       "<pandas.io.formats.style.Styler at 0x1c2ce7eb198>"
      ]
     },
     "metadata": {},
     "output_type": "display_data"
    }
   ],
   "source": [
    "import pandas as pd\n",
    "finalData = pd.read_pickle(\"finalPickle.pkl\")\n",
    "final =  finalData.round(3).T.style.apply(highlight_min, axis=1)\n",
    "display(final)"
   ]
  },
  {
   "cell_type": "code",
   "execution_count": 125,
   "metadata": {
    "ExecuteTime": {
     "end_time": "2018-12-13T13:59:16.052889Z",
     "start_time": "2018-12-13T13:59:15.723315Z"
    }
   },
   "outputs": [
    {
     "data": {
      "text/plain": [
       "<function matplotlib.pyplot.show(*args, **kw)>"
      ]
     },
     "execution_count": 125,
     "metadata": {},
     "output_type": "execute_result"
    },
    {
     "data": {
      "image/png": "[encoded data removed]",
      "text/plain": [
       "<Figure size 720x432 with 1 Axes>"
      ]
     },
     "metadata": {},
     "output_type": "display_data"
    }
   ],
   "source": [
    "# finalData.iloc[finalData.index.get_level_values('Scheme') == \"Sigmoid\" & finalData.index.get_level_values('MarkovLength') == 1]\n",
    "schemes = [\"Hillclimb\", \"Sigmoid\", \"Exp\", \"Expvar\", \"Binary\", \"Linear\"]\n",
    "markovLengths = [1,10,100]\n",
    "fig, ax = plt.subplots(1, 1, figsize=(10, 6))\n",
    "for scheme in schemes:\n",
    "    data = []\n",
    "    std = []\n",
    "    for i in markovLengths:\n",
    "        data.append(finalData.xs((scheme,i)).mean())\n",
    "        std.append(finalData.xs((scheme,i)).std())\n",
    "    ax.semilogx(markovLengths, data, label=scheme)\n",
    "    ax.legend()\n",
    "prettyfie(ax, \"MarkovChainLength\", \"Score - Mean\", \"Score - Mean (over all particle populations)\", legendYN=\"Yes\")\n",
    "plt.show"
   ]
  },
  {
   "cell_type": "code",
   "execution_count": 95,
   "metadata": {
    "ExecuteTime": {
     "end_time": "2018-12-13T13:24:01.674582Z",
     "start_time": "2018-12-13T13:24:01.558838Z"
    }
   },
   "outputs": [
    {
     "data": {
      "image/png": "[encoded data removed]",
      "text/plain": [
       "<Figure size 720x432 with 1 Axes>"
      ]
     },
     "metadata": {},
     "output_type": "display_data"
    }
   ],
   "source": [
    "schemes = [\"Hillclimb\", \"Sigmoid\", \"Exp\", \"Expvar\", \"Binary\", \"Linear\"]\n",
    "markovLengths = [1,10,100]\n",
    "data = []\n",
    "fig, ax = plt.subplots(1, 1, figsize=(10, 6))\n",
    "for scheme in schemes:\n",
    "    data.append(finalData.xs(scheme).mean().mean())\n",
    "y_pos = np.arange(len(schemes))\n",
    "ax.bar(y_pos, data, align='center', alpha=0.5)\n",
    "plt.xticks(y_pos, schemes)\n",
    "prettyfie(ax, \"Coolingschemes\", 'Permance compared to mean', \"Performances over all coolingschemes compared to the mean\", legendYN=\"No\")\n",
    "plt.show()"
   ]
  },
  {
   "cell_type": "code",
   "execution_count": 164,
   "metadata": {
    "ExecuteTime": {
     "end_time": "2018-12-13T16:03:55.507018Z",
     "start_time": "2018-12-13T15:03:25.309601Z"
    }
   },
   "outputs": [
    {
     "data": {
      "image/png": "[encoded data removed]",
      "text/plain": [
       "<Figure size 360x216 with 1 Axes>"
      ]
     },
     "metadata": {},
     "output_type": "display_data"
    },
    {
     "name": "stdout",
     "output_type": "stream",
     "text": [
      "0\n",
      "100\n",
      "200\n",
      "300\n",
      "400\n",
      "500\n",
      "600\n",
      "700\n",
      "800\n",
      "900\n"
     ]
    }
   ],
   "source": [
    "radius = 1\n",
    "pointsNum = 14\n",
    "iterations = 750\n",
    "rate = math.pow(10, -4)\n",
    "scheme = \"Expvar\"\n",
    "checks = []\n",
    "results = {}\n",
    "markovL = 1\n",
    "moveScheme = changeCoordSingle\n",
    "transition = \"No\"\n",
    "\n",
    "getScheme_data(\n",
    "    math.ceil(iterations / markovL),\n",
    "    plot=\"Yes\",\n",
    "    scheme=scheme,\n",
    "    markovChain=markovL)\n",
    "\n",
    "scores = []\n",
    "for i in range(1000):\n",
    "    if i%100 == 0: print(i)\n",
    "    coordList = []\n",
    "    for i in range(pointsNum):\n",
    "        coordList.append(spawn(radius))\n",
    "    coordList = np.array(coordList)\n",
    "    checklist = start_sim(\n",
    "        coordList,\n",
    "        radius,\n",
    "        pointsNum,\n",
    "        iterations,\n",
    "        rate,\n",
    "        scheme,\n",
    "        markovL,\n",
    "        moveScheme,\n",
    "        transition,\n",
    "        plotScheme=\"No\")\n",
    "    scores.append(checklist[-1])\n",
    "with open('scores.pkl', 'wb') as f:\n",
    "    pickle.dump(scores, f)"
   ]
  },
  {
   "cell_type": "code",
   "execution_count": 163,
   "metadata": {
    "ExecuteTime": {
     "end_time": "2018-12-13T15:03:12.083456Z",
     "start_time": "2018-12-13T15:03:12.074933Z"
    }
   },
   "outputs": [
    {
     "data": {
      "text/plain": [
       "600"
      ]
     },
     "execution_count": 163,
     "metadata": {},
     "output_type": "execute_result"
    }
   ],
   "source": [
    "with open('scores.pkl', 'rb') as f:\n",
    "    scores = pickle.load(f)"
   ]
  },
  {
   "cell_type": "code",
   "execution_count": 170,
   "metadata": {
    "ExecuteTime": {
     "end_time": "2018-12-13T16:22:18.973737Z",
     "start_time": "2018-12-13T16:22:18.967722Z"
    }
   },
   "outputs": [
    {
     "name": "stdout",
     "output_type": "stream",
     "text": [
      "86.58129315181463 0.6557965326102081\n",
      "p = 0.177657\n",
      "k = 3.4558\n",
      "The distribution is normally distributed\n"
     ]
    }
   ],
   "source": [
    "from scipy import stats\n",
    "\n",
    "scorez = np.array(scores)\n",
    "print(np.mean(scorez), np.std(scorez))\n",
    "\n",
    "k2, p = stats.normaltest(scorez)\n",
    "alpha = 0.05\n",
    "print(\"p = {:g}\".format(p))\n",
    "print(\"k = {:g}\".format(k2))\n",
    "if p < alpha:  # null hypothesis: x comes from a normal distribution\n",
    "    print(\"The distribution is not normally distributed\")\n",
    "else:\n",
    "    print(\"The distribution is normally distributed\")\n"
   ]
  },
  {
   "cell_type": "markdown",
   "metadata": {},
   "source": [
    "## Create slider video from iterations\n",
    "\n",
    "![Alt Text](charged_particles_2.gif)"
   ]
  },
  {
   "cell_type": "code",
   "execution_count": null,
   "metadata": {
    "ExecuteTime": {
     "end_time": "2018-12-13T14:09:53.263374Z",
     "start_time": "2018-12-13T14:09:50.332Z"
    }
   },
   "outputs": [],
   "source": [
    "radius = 1\n",
    "pointsNum = 40\n",
    "iterations = 200\n",
    "rate = math.pow(10, -4)\n",
    "scheme = \"Sigmoid\"\n",
    "checks = []\n",
    "results = {}\n",
    "markovL = 10\n",
    "moveScheme = changeCoordSingle\n",
    "transition = \"Yes\"\n",
    "\n",
    "getScheme_data(\n",
    "    math.ceil(iterations / markovL),\n",
    "    plot=\"Yes\",\n",
    "    scheme=scheme,\n",
    "    markovChain=markovL)\n",
    "\n",
    "random.seed(147)\n",
    "coordList = []\n",
    "for i in range(pointsNum):\n",
    "    coordList.append(spawn(radius))\n",
    "coordList = np.array(coordList)\n",
    "checklist, coordListList = start_sim(\n",
    "    coordList,\n",
    "    radius,\n",
    "    pointsNum,\n",
    "    iterations,\n",
    "    rate,\n",
    "    scheme,\n",
    "    markovL,\n",
    "    moveScheme,\n",
    "    transition,\n",
    "    plotScheme=\"No\")"
   ]
  },
  {
   "cell_type": "code",
   "execution_count": 6,
   "metadata": {
    "ExecuteTime": {
     "end_time": "2018-12-13T12:09:21.362390Z",
     "start_time": "2018-12-13T12:09:21.352348Z"
    }
   },
   "outputs": [],
   "source": [
    "plt.rcParams['figure.figsize'] = [15, 5]\n",
    "\n",
    "\n",
    "def plotpretify(ax,\n",
    "                maxx,\n",
    "                minx=0,\n",
    "                miny=None,\n",
    "                maxy=None,\n",
    "                Grid=True,\n",
    "                LB=True,\n",
    "                LL=True):\n",
    "    ax.spines[\"top\"].set_visible(False)\n",
    "    ax.spines[\"left\"].set_visible(False)\n",
    "    ax.spines[\"right\"].set_visible(False)\n",
    "    ax.spines[\"bottom\"].set_visible(False)\n",
    "\n",
    "    ax.tick_params(\n",
    "        axis=\"both\",\n",
    "        which=\"both\",\n",
    "        bottom=False,\n",
    "        top=False,\n",
    "        labelbottom=True,\n",
    "        left=False,\n",
    "        right=False,\n",
    "        labelleft=True)\n",
    "    #     ax.grid(True)\n",
    "\n",
    "    ax.set_xlim(minx, maxx)\n",
    "    ax.set_ylim(miny, maxy)\n",
    "\n",
    "\n",
    "sns.set()"
   ]
  },
  {
   "cell_type": "code",
   "execution_count": 29,
   "metadata": {
    "ExecuteTime": {
     "end_time": "2018-12-13T12:30:03.690095Z",
     "start_time": "2018-12-13T12:30:03.525655Z"
    },
    "scrolled": false
   },
   "outputs": [
    {
     "data": {
      "application/vnd.jupyter.widget-view+json": {
       "model_id": "2cc62cee644d430a975f11761f189c79",
       "version_major": 2,
       "version_minor": 0
      },
      "text/plain": [
       "interactive(children=(IntSlider(value=0, description='i', max=200), Output()), _dom_classes=('widget-interact'…"
      ]
     },
     "metadata": {},
     "output_type": "display_data"
    }
   ],
   "source": [
    "from ipywidgets import interact, interactive, fixed, interact_manual\n",
    "import ipywidgets as widgets\n",
    "from IPython.display import display\n",
    "\n",
    "\n",
    "def showPlot(i=0):\n",
    "    plot(coordListList[i])\n",
    "\n",
    "\n",
    "y = interactive(showPlot, i=(0, len(coordListList) - 1, 1))\n",
    "display(y)"
   ]
  }
 ],
 "metadata": {
  "celltoolbar": "Initialization Cell",
  "kernelspec": {
   "display_name": "Python 3",
   "language": "python",
   "name": "python3"
  },
  "language_info": {
   "codemirror_mode": {
    "name": "ipython",
    "version": 3
   },
   "file_extension": ".py",
   "mimetype": "text/x-python",
   "name": "python",
   "nbconvert_exporter": "python",
   "pygments_lexer": "ipython3",
   "version": "3.6.5"
  },
  "toc": {
   "base_numbering": 1,
   "nav_menu": {},
   "number_sections": true,
   "sideBar": true,
   "skip_h1_title": false,
   "title_cell": "Table of Contents",
   "title_sidebar": "Contents",
   "toc_cell": false,
   "toc_position": {},
   "toc_section_display": true,
   "toc_window_display": false
  },
  "varInspector": {
   "cols": {
    "lenName": 16,
    "lenType": 16,
    "lenVar": 40
   },
   "kernels_config": {
    "python": {
     "delete_cmd_postfix": "",
     "delete_cmd_prefix": "del ",
     "library": "var_list.py",
     "varRefreshCmd": "print(var_dic_list())"
    },
    "r": {
     "delete_cmd_postfix": ") ",
     "delete_cmd_prefix": "rm(",
     "library": "var_list.r",
     "varRefreshCmd": "cat(var_dic_list()) "
    }
   },
   "types_to_exclude": [
    "module",
    "function",
    "builtin_function_or_method",
    "instance",
    "_Feature"
   ],
   "window_display": false
  }
 },
 "nbformat": 4,
 "nbformat_minor": 2
}
