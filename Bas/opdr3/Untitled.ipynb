{
 "cells": [
  {
   "cell_type": "code",
   "execution_count": null,
   "metadata": {},
   "outputs": [],
   "source": [
    "# This is an example snippet!\n",
    "# To create your own, add a new snippet block to the\n",
    "# snippets.json file in your jupyter nbextensions directory:\n",
    "# /nbextensions/snippets/snippets.json\n",
    "import this"
   ]
  },
  {
   "cell_type": "code",
   "execution_count": 55,
   "metadata": {
    "ExecuteTime": {
     "end_time": "2018-12-04T09:50:24.279396Z",
     "start_time": "2018-12-04T09:50:23.082724Z"
    }
   },
   "outputs": [],
   "source": [
    "import numpy as np\n",
    "import matplotlib.pyplot as plt\n",
    "from matplotlib import colors\n",
    "from matplotlib.pyplot import plot, draw, show\n",
    "from scipy.linalg import lu\n",
    "import scipy.linalg as la\n",
    "import random\n",
    "import simpy\n",
    "import math\n",
    "import seaborn as sns"
   ]
  },
  {
   "cell_type": "code",
   "execution_count": 82,
   "metadata": {
    "ExecuteTime": {
     "end_time": "2018-12-04T10:18:09.766172Z",
     "start_time": "2018-12-04T10:18:09.758203Z"
    }
   },
   "outputs": [],
   "source": [
    "plt.rcParams['figure.figsize'] = [15, 5]\n",
    "\n",
    "def plotpretify(ax, maxx, minx=0, miny=None, maxy=None, \n",
    "                Grid=True, LB=True, LL=True):\n",
    "    ax.spines[\"top\"].set_visible(False)\n",
    "    ax.spines[\"left\"].set_visible(False)\n",
    "    ax.spines[\"right\"].set_visible(False)\n",
    "    ax.spines[\"bottom\"].set_visible(False)\n",
    "\n",
    "    ax.tick_params(\n",
    "        axis=\"both\",\n",
    "        which=\"both\",\n",
    "        bottom=False,\n",
    "        top=False,\n",
    "        labelbottom=LB,\n",
    "        left=False,\n",
    "        right=False,\n",
    "        labelleft=LL)\n",
    "    ax.grid(Grid)\n",
    "    \n",
    "    ax.set_xlim(minx, maxx)\n",
    "    ax.set_ylim(miny, maxy)"
   ]
  },
  {
   "cell_type": "code",
   "execution_count": 172,
   "metadata": {
    "ExecuteTime": {
     "end_time": "2018-12-04T13:10:35.481129Z",
     "start_time": "2018-12-04T13:10:26.264256Z"
    },
    "scrolled": false
   },
   "outputs": [
    {
     "name": "stdout",
     "output_type": "stream",
     "text": [
      "7.386368960929813\n",
      "0.9614925423066943\n"
     ]
    },
    {
     "data": {
      "image/png": "[encoded data removed]",
      "text/plain": [
       "<Figure size 720x720 with 1 Axes>"
      ]
     },
     "metadata": {},
     "output_type": "display_data"
    }
   ],
   "source": [
    "def incircle(x, y, r=1, mx=0, my=0):\n",
    "    return np.power(x - mx, 2) + np.power(y - my, 2) < r\n",
    "\n",
    "\n",
    "def spawn(r=1):\n",
    "    x = random.uniform(-1, 1)\n",
    "    limits = [-np.sqrt(1 - x**2), np.sqrt(1 - x**2)]\n",
    "    y = random.uniform(limits[0], limits[1])\n",
    "    return [x, y]\n",
    "\n",
    "\n",
    "def checkScore(coord):\n",
    "    totalDist = 0\n",
    "    for i in range(len(coord)):\n",
    "        for j in range(len(coord)):\n",
    "            if i != j:\n",
    "                totalDist += checkEnergy(coord, i, j)\n",
    "    return totalDist\n",
    "\n",
    "\n",
    "def listSort(coord):\n",
    "    data = {}\n",
    "    for i in range(len(coord)):\n",
    "        for j in range(len(coord)):\n",
    "            if i != j:\n",
    "                data[abs(checkEnergy(coord, i, j))] = (i, j)\n",
    "    return data\n",
    "\n",
    "\n",
    "def changeCoordListSort(coord, data):\n",
    "    if random.random() < 0.5:\n",
    "        coord[data[0]] = spawn()\n",
    "    else:\n",
    "        coord[data[1]] = spawn()\n",
    "    return coord\n",
    "\n",
    "\n",
    "def checkEnergy(coord, i, j):\n",
    "    return math.hypot(coord[j][0] - coord[i][0], coord[j][1] - coord[i][1])\n",
    "# 1 / (np.linalg.norm(coord[i]) - np.linalg.norm(coord[j]))\n",
    "\n",
    "\n",
    "def checkForce(coord, i, j):\n",
    "    return (np.linalg.norm(coord[i]) - np.linalg.norm(coord[j])) / (\n",
    "            abs(np.linalg.norm(coord[i]) - np.linalg.norm(coord[j]))**3)\n",
    "\n",
    "\n",
    "def changeCoord(coord):\n",
    "    i = random.randint(0, len(coord) - 1)\n",
    "    coord[i] = spawn()\n",
    "    return coord\n",
    "\n",
    "\n",
    "def getScheme_data(iters, plot=\"No\"):\n",
    "    linspace = np.linspace(0, 9, iters)\n",
    "    answer = []\n",
    "\n",
    "    for x in linspace:\n",
    "        answer.append(0.5 +\n",
    "                      math.erf((math.sqrt(math.pi) / 2) * (x - 2)) * -0.5)\n",
    "\n",
    "    if plot == \"Yes\":\n",
    "        fig, ax = plt.subplots(1, 1, figsize=(8, 5))\n",
    "        ax.plot(answer, label=\"Acceptance chance\")\n",
    "        plotpretify(ax, iters)\n",
    "        plt.show()\n",
    "    return answer\n",
    "\n",
    "\n",
    "def simAn(iterations, numPoints, schemePlot):\n",
    "    coordList = []\n",
    "    for i in range(numPoints):\n",
    "        coordList.append(spawn())\n",
    "    coordList = np.array(coordList)\n",
    "    score = checkScore(coordList)\n",
    "    print(score)\n",
    "    scheme = getScheme_data(iterations, plot=schemePlot)\n",
    "    data = listSort(coordList)\n",
    "\n",
    "    for i in range(iterations):\n",
    "        tmpList = changeCoordListSort(coordList,\n",
    "                                      data.pop(min(data.keys()), None))\n",
    "        tmpScore = checkScore(tmpList)\n",
    "        if score > tmpScore:\n",
    "            coordList = tmpList\n",
    "            score = tmpScore\n",
    "#         elif scheme[i] > np.random.uniform():\n",
    "#             coordList = tmpList\n",
    "#             score = tmpScore\n",
    "\n",
    "        if i % 5 == 0:\n",
    "            data = listSort(coordList)\n",
    "    return score, coordList\n",
    "\n",
    "\n",
    "score, coordList = simAn(300000, 4, schemePlot=\"No\")\n",
    "print(score)\n",
    "\n",
    "plt.rcParams['figure.figsize'] = [10, 10]\n",
    "sns.set()\n",
    "sns.set_style(\"dark\")\n",
    "fig = plt.figure()\n",
    "ax = plt.subplot(111)\n",
    "ax.scatter(coordList[:, 0], coordList[:, 1])\n",
    "circle1 = plt.Circle((0, 0), 1, alpha=0.2, color=\"olive\")\n",
    "ax.add_artist(circle1)\n",
    "plotpretify(\n",
    "    ax, 1.1, minx=-1.1, miny=-1.1, maxy=1.1, Grid=False, LL=False, LB=False)"
   ]
  },
  {
   "cell_type": "code",
   "execution_count": 177,
   "metadata": {
    "ExecuteTime": {
     "end_time": "2018-12-04T13:40:19.387395Z",
     "start_time": "2018-12-04T13:40:18.976550Z"
    }
   },
   "outputs": [
    {
     "data": {
      "image/png": "[encoded data removed]",
      "text/plain": [
       "<Figure size 720x720 with 1 Axes>"
      ]
     },
     "metadata": {},
     "output_type": "display_data"
    }
   ],
   "source": [
    "import numpy as np\n",
    "import matplotlib.pyplot as plt\n",
    "\n",
    "T = [1, 10, 20, 30, 40, 50, 60]\n",
    "R = [0.0, 0.01, 0.1, 0.11, 0.21, 0.21, 0.31]\n",
    "\n",
    "\n",
    "\n",
    "def rtpairs(r, n):\n",
    "\n",
    "    for i in range(len(r)):\n",
    "       for j in range(n[i]):    \n",
    "        yield r[i], j*(2 * np.pi / n[i])\n",
    "\n",
    "for r, t in rtpairs(R, T):\n",
    "    plt.plot(r * np.cos(t), r * np.sin(t), 'bo')\n",
    "plt.show()"
   ]
  }
 ],
 "metadata": {
  "kernelspec": {
   "display_name": "Python 3",
   "language": "python",
   "name": "python3"
  },
  "language_info": {
   "codemirror_mode": {
    "name": "ipython",
    "version": 3
   },
   "file_extension": ".py",
   "mimetype": "text/x-python",
   "name": "python",
   "nbconvert_exporter": "python",
   "pygments_lexer": "ipython3",
   "version": "3.6.5"
  },
  "toc": {
   "base_numbering": 1,
   "nav_menu": {},
   "number_sections": false,
   "sideBar": true,
   "skip_h1_title": false,
   "title_cell": "Table of Contents",
   "title_sidebar": "Contents",
   "toc_cell": false,
   "toc_position": {},
   "toc_section_display": true,
   "toc_window_display": false
  },
  "varInspector": {
   "cols": {
    "lenName": 16,
    "lenType": 16,
    "lenVar": 40
   },
   "kernels_config": {
    "python": {
     "delete_cmd_postfix": "",
     "delete_cmd_prefix": "del ",
     "library": "var_list.py",
     "varRefreshCmd": "print(var_dic_list())"
    },
    "r": {
     "delete_cmd_postfix": ") ",
     "delete_cmd_prefix": "rm(",
     "library": "var_list.r",
     "varRefreshCmd": "cat(var_dic_list()) "
    }
   },
   "types_to_exclude": [
    "module",
    "function",
    "builtin_function_or_method",
    "instance",
    "_Feature"
   ],
   "window_display": false
  }
 },
 "nbformat": 4,
 "nbformat_minor": 2
}
