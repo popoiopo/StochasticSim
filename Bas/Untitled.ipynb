{
 "cells": [
  {
   "cell_type": "code",
   "execution_count": 55,
   "metadata": {
    "ExecuteTime": {
     "end_time": "2018-12-04T09:50:24.279396Z",
     "start_time": "2018-12-04T09:50:23.082724Z"
    }
   },
   "outputs": [],
   "source": [
    "import numpy as np\n",
    "import matplotlib.pyplot as plt\n",
    "from matplotlib import colors\n",
    "from matplotlib.pyplot import plot, draw, show\n",
    "from scipy.linalg import lu\n",
    "import scipy.linalg as la\n",
    "import random\n",
    "import simpy\n",
    "import math\n",
    "import seaborn as sns"
   ]
  },
  {
   "cell_type": "code",
   "execution_count": 82,
   "metadata": {
    "ExecuteTime": {
     "end_time": "2018-12-04T10:18:09.766172Z",
     "start_time": "2018-12-04T10:18:09.758203Z"
    }
   },
   "outputs": [],
   "source": [
    "plt.rcParams['figure.figsize'] = [15, 5]\n",
    "\n",
    "def plotpretify(ax, maxx, minx=0, miny=None, maxy=None, \n",
    "                Grid=True, LB=True, LL=True):\n",
    "    ax.spines[\"top\"].set_visible(False)\n",
    "    ax.spines[\"left\"].set_visible(False)\n",
    "    ax.spines[\"right\"].set_visible(False)\n",
    "    ax.spines[\"bottom\"].set_visible(False)\n",
    "\n",
    "    ax.tick_params(\n",
    "        axis=\"both\",\n",
    "        which=\"both\",\n",
    "        bottom=False,\n",
    "        top=False,\n",
    "        labelbottom=LB,\n",
    "        left=False,\n",
    "        right=False,\n",
    "        labelleft=LL)\n",
    "    ax.grid(Grid)\n",
    "    \n",
    "    ax.set_xlim(minx, maxx)\n",
    "    ax.set_ylim(miny, maxy)"
   ]
  },
  {
   "cell_type": "code",
   "execution_count": null,
   "metadata": {
    "ExecuteTime": {
     "start_time": "2018-12-04T10:29:07.866Z"
    },
    "scrolled": false
   },
   "outputs": [
    {
     "data": {
      "image/png": "[encoded data removed]",
      "text/plain": [
       "<Figure size 576x360 with 1 Axes>"
      ]
     },
     "metadata": {},
     "output_type": "display_data"
    }
   ],
   "source": [
    "def incircle(x, y, r=1):\n",
    "    return np.power(x,2) + np.power(y,2) < r\n",
    "\n",
    "def spawn(r=1):\n",
    "    x=random.uniform(-1, 1)\n",
    "    limits = [-np.sqrt(1 - x**2), np.sqrt(1 - x**2)]\n",
    "    y=random.uniform(limits[0], limits[1])\n",
    "#     print(f\"(x,y) = ({x}, {y})\")\n",
    "    return [x, y]\n",
    "\n",
    "def checkScore(coord):\n",
    "    totalDist = 0\n",
    "    for i in range(len(coord)):\n",
    "        for j in range(len(coord)):\n",
    "            totalDist += abs(np.linalg.norm(coord[i]) - np.linalg.norm(coord[j]))\n",
    "    return totalDist\n",
    "\n",
    "def changeCoord(coord):\n",
    "    i = random.randint(0,len(coord)-1)\n",
    "    coord[i] = spawn()\n",
    "    return coord\n",
    "\n",
    "def getScheme_data(iters, plot=\"No\"):\n",
    "    linspace = np.linspace(0, 9, iters)\n",
    "    answer = []\n",
    "\n",
    "    for x in linspace:\n",
    "        answer.append(0.5 +\n",
    "                      math.erf((math.sqrt(math.pi) / 2) * (x - 2)) * -0.5)\n",
    "\n",
    "    if plot == \"Yes\":\n",
    "        fig, ax = plt.subplots(1, 1, figsize=(8, 5))\n",
    "        ax.plot(answer, label=\"Acceptance chance\")\n",
    "        plotpretify(\n",
    "            ax,\n",
    "            iters)\n",
    "        plt.show()\n",
    "    return answer\n",
    "    \n",
    "coordList = []\n",
    "for i in range(20):\n",
    "    coordList.append(spawn())\n",
    "coordList = np.array(coordList)\n",
    "\n",
    "iterations = 10000\n",
    "score = checkScore(coordList)\n",
    "scheme = getScheme_data(iterations, plot=\"Yes\")\n",
    "for i in range(iterations):\n",
    "    tmpList = changeCoord(coordList)\n",
    "    tmpScore = checkScore(tmpList)\n",
    "    if score < checkScore(coordList):\n",
    "        coordList = tmpList\n",
    "        score = tmpScore\n",
    "    if scheme[i] > np.random.uniform():\n",
    "        coordList = tmpList\n",
    "        score = tmpScore\n",
    "print(score)\n",
    " \n",
    "plt.rcParams['figure.figsize'] = [10, 10]\n",
    "sns.set()\n",
    "sns.set_style(\"dark\")\n",
    "fig = plt.figure()\n",
    "ax = plt.subplot(111)\n",
    "ax.scatter(coordList[:,0],coordList[:,1])\n",
    "circle1 = plt.Circle((0, 0), 1, alpha=0.2, color=\"olive\")\n",
    "ax.add_artist(circle1)\n",
    "plotpretify(ax, 1.1, minx=-1.1, miny=-1.1, maxy=1.1, Grid=False, LL=False, LB=False)"
   ]
  },
  {
   "cell_type": "code",
   "execution_count": 60,
   "metadata": {
    "ExecuteTime": {
     "end_time": "2018-12-04T10:01:42.190556Z",
     "start_time": "2018-12-04T10:01:42.186044Z"
    }
   },
   "outputs": [
    {
     "data": {
      "text/plain": [
       "2.23606797749979"
      ]
     },
     "execution_count": 60,
     "metadata": {},
     "output_type": "execute_result"
    }
   ],
   "source": [
    "np.linalg.norm((1,2))"
   ]
  }
 ],
 "metadata": {
  "kernelspec": {
   "display_name": "Python 3",
   "language": "python",
   "name": "python3"
  },
  "language_info": {
   "codemirror_mode": {
    "name": "ipython",
    "version": 3
   },
   "file_extension": ".py",
   "mimetype": "text/x-python",
   "name": "python",
   "nbconvert_exporter": "python",
   "pygments_lexer": "ipython3",
   "version": "3.6.5"
  },
  "toc": {
   "base_numbering": 1,
   "nav_menu": {},
   "number_sections": false,
   "sideBar": true,
   "skip_h1_title": false,
   "title_cell": "Table of Contents",
   "title_sidebar": "Contents",
   "toc_cell": false,
   "toc_position": {},
   "toc_section_display": true,
   "toc_window_display": false
  },
  "varInspector": {
   "cols": {
    "lenName": 16,
    "lenType": 16,
    "lenVar": 40
   },
   "kernels_config": {
    "python": {
     "delete_cmd_postfix": "",
     "delete_cmd_prefix": "del ",
     "library": "var_list.py",
     "varRefreshCmd": "print(var_dic_list())"
    },
    "r": {
     "delete_cmd_postfix": ") ",
     "delete_cmd_prefix": "rm(",
     "library": "var_list.r",
     "varRefreshCmd": "cat(var_dic_list()) "
    }
   },
   "types_to_exclude": [
    "module",
    "function",
    "builtin_function_or_method",
    "instance",
    "_Feature"
   ],
   "window_display": false
  }
 },
 "nbformat": 4,
 "nbformat_minor": 2
}
