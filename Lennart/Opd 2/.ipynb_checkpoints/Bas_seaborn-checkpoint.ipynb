{
 "cells": [
  {
   "cell_type": "code",
   "execution_count": 1,
   "metadata": {
    "ExecuteTime": {
     "end_time": "2018-11-29T22:55:50.204074Z",
     "start_time": "2018-11-29T22:55:48.825184Z"
    }
   },
   "outputs": [],
   "source": [
    "import numpy as np\n",
    "import matplotlib.pyplot as plt\n",
    "from matplotlib import colors\n",
    "from matplotlib.pyplot import plot, draw, show\n",
    "from scipy.linalg import lu\n",
    "import scipy.linalg as la\n",
    "import scipy.stats as st\n",
    "import random\n",
    "import simpy\n",
    "import pandas as pd\n",
    "import math\n",
    "from IPython.display import display, HTML"
   ]
  },
  {
   "cell_type": "code",
   "execution_count": 44,
   "metadata": {
    "ExecuteTime": {
     "end_time": "2018-11-29T23:38:52.357478Z",
     "start_time": "2018-11-29T23:38:52.308346Z"
    }
   },
   "outputs": [],
   "source": [
    "class Queue(object):\n",
    "    def __init__(self, env, N, resource, helperIndex):\n",
    "        self.env = env\n",
    "        self.machine = resource(env, N)\n",
    "        self.customerHelped = 0\n",
    "        self.serverN = N\n",
    "        self.helperIndex = helperIndex\n",
    "\n",
    "    def helped(self, customer, customerServe, timestmp):\n",
    "        timestmp.append(self.env.now)\n",
    "        yield self.env.timeout(customerServe)\n",
    "\n",
    "\n",
    "def checkTest(now, entertime, customerHelped, runLength, customerLeft, cw,\n",
    "              tmpWait):\n",
    "    if customerLeft < runLength:\n",
    "        return None\n",
    "    elif customerLeft % runLength == 0:\n",
    "        if customerLeft != 0:\n",
    "            if len(cw.subWaitingList) != 0:\n",
    "                submean = np.mean(cw.subWaitingList)\n",
    "                del cw.subWaitingList[:]\n",
    "                return submean\n",
    "        del cw.subWaitingList[:]\n",
    "    elif 0 < customerLeft % runLength <= 0.3 * runLength:\n",
    "        pass\n",
    "    elif 0.3 * runLength < customerLeft % runLength < runLength:\n",
    "        tmpWait.append(now - entertime)\n",
    "        cw.subWaitingList.append(now - entertime)\n",
    "    return None\n",
    "\n",
    "\n",
    "def customer(env, cw, resource, serviceScheme, runLength, cid, tmpWait,\n",
    "             tmpServe, tmpRho, timestmp, tmpSub):\n",
    "    #     global customerLeft\n",
    "    if serviceScheme == \"Long-Tailed\":\n",
    "        rCheck = random.random()\n",
    "        if rCheck <= 0.75:\n",
    "            customerServeTime = np.random.poisson(ltLow[cw.helperIndex])\n",
    "        else:\n",
    "            customerServeTime = np.random.poisson(ltHigh[cw.helperIndex])\n",
    "    elif serviceScheme == \"Poisson\":\n",
    "        customerServeTime = np.random.poisson(\n",
    "            1.0 / serviceTime[cw.helperIndex])\n",
    "    elif serviceScheme == \"Random\":\n",
    "        customerServeTime = random.uniform(\n",
    "            serviceTime[cw.helperIndex] - randspread[cw.helperIndex],\n",
    "            serviceTime[cw.helperIndex] + randspread[cw.helperIndex])\n",
    "    elif serviceScheme == \"Deterministic\":\n",
    "        customerServeTime = 1 / serviceTime[cw.helperIndex]\n",
    "    elif serviceScheme == \"Inverse\":\n",
    "        customerServeTime = qServeInv[cw.helperIndex][cw.customerHelped]\n",
    "    elif serviceScheme == \"Exponential\":\n",
    "        customerServeTime = random.expovariate(serviceTime[cw.helperIndex])\n",
    "\n",
    "    customerServeTime = 0.000001 if customerServeTime == 0 else customerServeTime\n",
    "\n",
    "    tmpRho.append(\n",
    "        lambdaIAT[cw.helperIndex] / (cw.serverN * (1 / customerServeTime)))\n",
    "\n",
    "    enterQueue = env.now\n",
    "    if resource == simpy.PriorityResource:\n",
    "        with cw.machine.request(priority=customerServeTime) as request:\n",
    "            request.time = customerServeTime\n",
    "            yield request\n",
    "            cw.customerLeft += 1\n",
    "\n",
    "            blockMean = checkTest(env.now, enterQueue, cw.customerHelped,\n",
    "                                  runLength, cw.customerLeft, cw, tmpWait)\n",
    "\n",
    "            if blockMean != None:\n",
    "                tmpSub.append(blockMean)\n",
    "\n",
    "            tmpServe.append(customerServeTime)\n",
    "            yield env.process(\n",
    "                cw.helped(cw.customerHelped, customerServeTime, timestmp))\n",
    "\n",
    "    elif resource == simpy.Resource:\n",
    "        with cw.machine.request() as request:\n",
    "            request.time = customerServeTime\n",
    "            yield request\n",
    "            cw.customerLeft += 1\n",
    "\n",
    "            blockMean = checkTest(env.now, enterQueue, cw.customerHelped,\n",
    "                                  runLength, cw.customerLeft, cw, tmpWait)\n",
    "\n",
    "            if blockMean != None:\n",
    "                tmpSub.append(blockMean)\n",
    "\n",
    "            tmpServe.append(customerServeTime)\n",
    "            yield env.process(\n",
    "                cw.helped(cw.customerHelped, customerServeTime, timestmp))\n",
    "\n",
    "\n",
    "def setup(env, N, lambdaIAT, customerCount, resource, serviceScheme,\n",
    "          helperIndex, runLength, customerLeft, subWaitingList, tmpWait,\n",
    "          tmpServe, tmpRho, timestmp, tmpSub):\n",
    "    queue = Queue(env, N, resource, helperIndex)\n",
    "    queue.customerLeft = customerLeft\n",
    "    queue.subWaitingList = subWaitingList\n",
    "    # Create more customers while the simulation is running\n",
    "    s = np.random.poisson(1 / lambdaIAT, customerCount)\n",
    "    #     s = [1 / lambdaIAT for customer in range(customerCount)]\n",
    "    cid = 0\n",
    "    for i in range(4):\n",
    "        cid += 1\n",
    "        env.process(\n",
    "            customer(env, queue, resource, serviceScheme, runLength, cid,\n",
    "                     tmpWait, tmpServe, tmpRho, timestmp, tmpSub))\n",
    "    while queue.customerHelped < customerCount:\n",
    "        yield env.timeout(s[queue.customerHelped])\n",
    "        queue.customerHelped += 1\n",
    "        cid += 1\n",
    "        env.process(\n",
    "            customer(env, queue, resource, serviceScheme, runLength, cid,\n",
    "                     tmpWait, tmpServe, tmpRho, timestmp, tmpSub))\n",
    "\n",
    "\n",
    "def runSim(resources, serviceScheme):\n",
    "    columns = [\n",
    "        \"Rho\", \"Average\", \"Variance\", \"std_dev\", \"Resource\", \"Helpers\", \"run\",\n",
    "        \"serviceScheme\", \"ServeMean\", \"blockMean\"\n",
    "    ]\n",
    "    resourceStatsRun = pd.DataFrame(columns=columns)\n",
    "    customerAll = pd.DataFrame(columns=columns)\n",
    "    RANDOM_SEED = 0\n",
    "\n",
    "    for resource in resources:\n",
    "        for helperIndex, N in enumerate(N_helpers):\n",
    "            print(str(resource)[33:-2], N)\n",
    "            runServe = []\n",
    "            runWait = []\n",
    "            runRho = []\n",
    "            times = []\n",
    "            runSub = []\n",
    "            for j in range(NRUNS):\n",
    "                RANDOM_SEED += 1\n",
    "                random.seed(RANDOM_SEED)\n",
    "                np.random.seed(RANDOM_SEED)\n",
    "                timestmp = []\n",
    "                random.seed(RANDOM_SEED)\n",
    "                np.random.seed(RANDOM_SEED)\n",
    "                subWaitingList = []\n",
    "                customerLeft = 0\n",
    "                tmpWait = []\n",
    "                tmpServe = []\n",
    "                tmpRho = []\n",
    "                tmpSub = []\n",
    "                env = simpy.Environment()\n",
    "                env.process(\n",
    "                    setup(env, N, lambdaIAT[helperIndex],\n",
    "                          customerCount[helperIndex], resource, serviceScheme,\n",
    "                          helperIndex, runLength[helperIndex], customerLeft,\n",
    "                          subWaitingList, tmpWait, tmpServe, tmpRho, timestmp,\n",
    "                          tmpSub))\n",
    "                env.run()\n",
    "\n",
    "                resourceStatsRun.loc[serviceScheme + \"_\" + str(resource)[33:-2]\n",
    "                                     + \"_\" + str(j) + \"_\" + str(N)] = [\n",
    "                                         np.mean(tmpRho),\n",
    "                                         np.mean(tmpWait),\n",
    "                                         np.var(tmpWait),\n",
    "                                         np.std(tmpWait),\n",
    "                                         str(resource)[33:-2], N, j,\n",
    "                                         serviceScheme,\n",
    "                                         np.mean(tmpServe),\n",
    "                                         np.mean(tmpSub)\n",
    "                                     ]\n",
    "\n",
    "                runWait.append(tmpWait)\n",
    "                runServe.append(tmpServe)\n",
    "                runRho.append(tmpRho)\n",
    "                runSub.append(tmpSub)\n",
    "                times.append(timestmp[-1])\n",
    "\n",
    "            np.array(runWait).flatten()\n",
    "            np.array(runServe).flatten()\n",
    "            np.array(runRho).flatten()\n",
    "            np.array(runSub).flatten()\n",
    "            customerAll.loc[serviceScheme + \"_\" + str(resource)[33:-2] + \"_\" +\n",
    "                            str(N)] = [\n",
    "                                np.mean(runRho),\n",
    "                                np.mean(runWait),\n",
    "                                np.var(runWait),\n",
    "                                np.std(runWait),\n",
    "                                str(resource)[33:-2], N, None, serviceScheme,\n",
    "                                np.mean(runServe), np.mean(runSub)\n",
    "                            ]\n",
    "\n",
    "    return customerAll, resourceStatsRun"
   ]
  },
  {
   "cell_type": "code",
   "execution_count": 25,
   "metadata": {
    "ExecuteTime": {
     "end_time": "2018-11-29T23:11:54.505919Z",
     "start_time": "2018-11-29T23:11:54.470316Z"
    },
    "code_folding": [
     73,
     80,
     86,
     93,
     100,
     103,
     110,
     118,
     124
    ]
   },
   "outputs": [],
   "source": [
    "def averageQueueTimesTwee(lamb, mu):\n",
    "    rho = lamb / mu\n",
    "    up = (rho**3)\n",
    "    low = lamb * (1 - (rho**2))\n",
    "    return up / low\n",
    "\n",
    "\n",
    "def averageTimesTwee(lamb, mu):\n",
    "    up = mu**2 + lamb**2\n",
    "    low = mu * (mu**2 - lamb**2)\n",
    "    return up / low\n",
    "\n",
    "\n",
    "def averageCustomersTwee(lamb, mu):\n",
    "    rho = lamb / mu\n",
    "    up = rho * (mu**2 + lamb**2)\n",
    "    low = mu**2 - lamb**2\n",
    "    return up / low\n",
    "\n",
    "\n",
    "def averageQueueCustomersTwee(lamb, mu):\n",
    "    rho = lamb / mu\n",
    "    up = 2 * rho**3\n",
    "    low = 1 - rho**2\n",
    "    return up / low\n",
    "\n",
    "\n",
    "def C(rho, n):\n",
    "    up = ((rho**n) / math.factorial(n)) * (n / (n - rho))\n",
    "    low1 = 0\n",
    "    for k in range(n):\n",
    "        low1 += ((rho**k) / math.factorial(k))\n",
    "    low2 = ((rho**n) * n) / (math.factorial(n) * (n - rho))\n",
    "    low = low1 + low2\n",
    "    return up / low\n",
    "\n",
    "\n",
    "def ErlangC(A, N):\n",
    "    L = (A**N / math.factorial(N)) * (N / (N - A))\n",
    "    sum_ = 0\n",
    "    for i in range(N):\n",
    "        sum_ += (A**i) / math.factorial(i)\n",
    "    return (L / (sum_ + L))\n",
    "\n",
    "\n",
    "def Wq(rho, mu, n):\n",
    "    Pq = C(rho, n)\n",
    "    a = 1 / (mu * (n - rho))\n",
    "    return a * Pq\n",
    "\n",
    "\n",
    "def averageQueueTimesOne(lamb, mu):\n",
    "    rho = lamb / mu\n",
    "    up = rho\n",
    "    low = mu * (1 - rho)\n",
    "    return up / low\n",
    "\n",
    "\n",
    "def getConf(rRD, var, n, l, u, rho):\n",
    "    data = {}\n",
    "\n",
    "    for resource in resources:\n",
    "        data.setdefault(resource, {})\n",
    "        for N in N_helpers:\n",
    "            data[resource].setdefault(N, [])\n",
    "            a = list(rRD.loc[(rRD.Resource == str(resource)[33:-2])\n",
    "                             & (rRD.Helpers == N)][var])\n",
    "            interval = st.t.interval(\n",
    "                0.95, len(a) - 1, loc=np.mean(a), scale=st.sem(a))\n",
    "            data[resource][N].append(interval)\n",
    "\n",
    "            data[resource][\"SampleSize\" + str(N)] = np.sqrt(\n",
    "                np.std(a) / (np.mean(a) - Wq(N * rho, u, n)))\n",
    "\n",
    "    return data"
   ]
  },
  {
   "cell_type": "code",
   "execution_count": 46,
   "metadata": {
    "ExecuteTime": {
     "end_time": "2018-11-29T23:41:32.344272Z",
     "start_time": "2018-11-29T23:41:32.336754Z"
    }
   },
   "outputs": [],
   "source": [
    "# Init simulation specific parameters\n",
    "N_helpers = [1]  # Number of machines in the queue\n",
    "chanceLongTail = 0.75  # Chance of longtail lowerbound\n",
    "NRUNS = 350\n",
    "lI = 8.0 / 5\n",
    "lambdaIAT = [N * lI for N in N_helpers]  # Create a customer every ~lI minutes\n",
    "cC = 5000\n",
    "customerCount = [N * cC for N in N_helpers]  # Amount of customers\n",
    "rL = 1000\n",
    "runLength = [N * rL for N in N_helpers]  # Amount of customer per average block\n",
    "\n",
    "# Init servicetimes\n",
    "# Minutes it takes to help a customer / Deterministic\n",
    "serveT = 2\n",
    "serviceTime = [serveT for N in N_helpers]\n",
    "# Lower bound long-tailed distribution\n",
    "ltLow = [10 for N in N_helpers]\n",
    "# Upper bound long-tailed distribution\n",
    "ltHigh = [50 for N in N_helpers]\n",
    "# Spread of the random distribution\n",
    "randspread = [1 for N in N_helpers]\n",
    "# max service time for the inverse servicetime\n",
    "invMax = [45 for N in N_helpers]\n",
    "# Inverse servetimes\n",
    "qServeInv = [[\n",
    "    i for i in range(invMax[queueIndex], -1, -1)\n",
    "    for x in range(math.ceil(customerCount[queueIndex] / invMax[queueIndex]))\n",
    "] for queueIndex in range(len(N_helpers))]\n",
    "\n",
    "rho = lI / serveT\n",
    "resources = [simpy.PriorityResource]"
   ]
  },
  {
   "cell_type": "code",
   "execution_count": 47,
   "metadata": {
    "ExecuteTime": {
     "end_time": "2018-11-29T23:45:29.291725Z",
     "start_time": "2018-11-29T23:41:36.986963Z"
    }
   },
   "outputs": [
    {
     "name": "stdout",
     "output_type": "stream",
     "text": [
      "PriorityResource 1\n"
     ]
    }
   ],
   "source": [
    "serviceScheme = \"Deterministic\"\n",
    "customerAllDet, resourceRunDet = runSim(resources, serviceScheme)"
   ]
  },
  {
   "cell_type": "code",
   "execution_count": 57,
   "metadata": {
    "ExecuteTime": {
     "end_time": "2018-11-29T23:50:45.045271Z",
     "start_time": "2018-11-29T23:50:44.750746Z"
    }
   },
   "outputs": [
    {
     "data": {
      "text/html": [
       "<table border=\"1\" class=\"dataframe\">\n",
       "  <thead>\n",
       "    <tr style=\"text-align: right;\">\n",
       "      <th></th>\n",
       "      <th></th>\n",
       "      <th></th>\n",
       "      <th>count</th>\n",
       "      <th>mean</th>\n",
       "      <th>std</th>\n",
       "      <th>min</th>\n",
       "      <th>25%</th>\n",
       "      <th>50%</th>\n",
       "      <th>75%</th>\n",
       "      <th>max</th>\n",
       "    </tr>\n",
       "    <tr>\n",
       "      <th>serviceScheme</th>\n",
       "      <th>Resource</th>\n",
       "      <th>Helpers</th>\n",
       "      <th></th>\n",
       "      <th></th>\n",
       "      <th></th>\n",
       "      <th></th>\n",
       "      <th></th>\n",
       "      <th></th>\n",
       "      <th></th>\n",
       "      <th></th>\n",
       "    </tr>\n",
       "  </thead>\n",
       "  <tbody>\n",
       "    <tr>\n",
       "      <th>Deterministic</th>\n",
       "      <th>PriorityResource</th>\n",
       "      <th>1</th>\n",
       "      <td>350.0</td>\n",
       "      <td>1.889365</td>\n",
       "      <td>0.30268</td>\n",
       "      <td>1.270386</td>\n",
       "      <td>1.680347</td>\n",
       "      <td>1.847818</td>\n",
       "      <td>2.062187</td>\n",
       "      <td>3.009299</td>\n",
       "    </tr>\n",
       "  </tbody>\n",
       "</table>"
      ],
      "text/plain": [
       "<IPython.core.display.HTML object>"
      ]
     },
     "metadata": {},
     "output_type": "display_data"
    },
    {
     "name": "stdout",
     "output_type": "stream",
     "text": [
      "{<class 'simpy.resources.resource.PriorityResource'>: {1: [(1.8575449564778905, 1.9211858834975848)], 'SampleSize1': nan}}\n"
     ]
    },
    {
     "name": "stderr",
     "output_type": "stream",
     "text": [
      "C:\\Users\\chatel\\AppData\\Local\\Continuum\\anaconda3\\lib\\site-packages\\ipykernel_launcher.py:89: RuntimeWarning: invalid value encountered in sqrt\n"
     ]
    },
    {
     "data": {
      "text/plain": [
       "<matplotlib.axes._subplots.AxesSubplot at 0x136cb72f4a8>"
      ]
     },
     "execution_count": 57,
     "metadata": {},
     "output_type": "execute_result"
    },
    {
     "data": {
      "image/png": "[encoded data removed]",
      "text/plain": [
       "<Figure size 432x288 with 1 Axes>"
      ]
     },
     "metadata": {},
     "output_type": "display_data"
    }
   ],
   "source": [
    "grp = resourceRunDet.groupby([\"serviceScheme\", \"Resource\", \"Helpers\"])\n",
    "grpDescr = grp.describe()\n",
    "display(HTML(grpDescr.blockMean.to_html()))\n",
    "print(getConf(resourceRunDet, \"blockMean\", 1, lI, serveT, rho))\n",
    "resourceRunDet.loc[(resourceRunDet.Resource == \"PriorityResource\")\n",
    "                   & (resourceRunDet.Helpers == 1)][\"blockMean\"].hist()"
   ]
  },
  {
   "cell_type": "code",
   "execution_count": 55,
   "metadata": {
    "ExecuteTime": {
     "end_time": "2018-11-29T23:50:11.840057Z",
     "start_time": "2018-11-29T23:47:43.518337Z"
    }
   },
   "outputs": [
    {
     "name": "stdout",
     "output_type": "stream",
     "text": [
      "PriorityResource 1\n"
     ]
    }
   ],
   "source": [
    "serviceScheme = \"Poisson\"\n",
    "customerAllPoi, resourceRunPoi = runSim(resources, serviceScheme)"
   ]
  },
  {
   "cell_type": "code",
   "execution_count": 58,
   "metadata": {
    "ExecuteTime": {
     "end_time": "2018-11-29T23:50:51.763345Z",
     "start_time": "2018-11-29T23:50:51.511751Z"
    }
   },
   "outputs": [
    {
     "data": {
      "text/html": [
       "<table border=\"1\" class=\"dataframe\">\n",
       "  <thead>\n",
       "    <tr style=\"text-align: right;\">\n",
       "      <th></th>\n",
       "      <th></th>\n",
       "      <th></th>\n",
       "      <th>count</th>\n",
       "      <th>mean</th>\n",
       "      <th>std</th>\n",
       "      <th>min</th>\n",
       "      <th>25%</th>\n",
       "      <th>50%</th>\n",
       "      <th>75%</th>\n",
       "      <th>max</th>\n",
       "    </tr>\n",
       "    <tr>\n",
       "      <th>serviceScheme</th>\n",
       "      <th>Resource</th>\n",
       "      <th>Helpers</th>\n",
       "      <th></th>\n",
       "      <th></th>\n",
       "      <th></th>\n",
       "      <th></th>\n",
       "      <th></th>\n",
       "      <th></th>\n",
       "      <th></th>\n",
       "      <th></th>\n",
       "    </tr>\n",
       "  </thead>\n",
       "  <tbody>\n",
       "    <tr>\n",
       "      <th>Poisson</th>\n",
       "      <th>PriorityResource</th>\n",
       "      <th>1</th>\n",
       "      <td>350.0</td>\n",
       "      <td>1.13797</td>\n",
       "      <td>0.211155</td>\n",
       "      <td>0.723543</td>\n",
       "      <td>1.007349</td>\n",
       "      <td>1.095335</td>\n",
       "      <td>1.262547</td>\n",
       "      <td>2.322347</td>\n",
       "    </tr>\n",
       "  </tbody>\n",
       "</table>"
      ],
      "text/plain": [
       "<IPython.core.display.HTML object>"
      ]
     },
     "metadata": {},
     "output_type": "display_data"
    },
    {
     "name": "stdout",
     "output_type": "stream",
     "text": [
      "{<class 'simpy.resources.resource.PriorityResource'>: {1: [(1.115771345162714, 1.1601684284950498)], 'SampleSize1': nan}}\n"
     ]
    },
    {
     "name": "stderr",
     "output_type": "stream",
     "text": [
      "C:\\Users\\chatel\\AppData\\Local\\Continuum\\anaconda3\\lib\\site-packages\\ipykernel_launcher.py:89: RuntimeWarning: invalid value encountered in sqrt\n"
     ]
    },
    {
     "data": {
      "text/plain": [
       "<matplotlib.axes._subplots.AxesSubplot at 0x136cdb02400>"
      ]
     },
     "execution_count": 58,
     "metadata": {},
     "output_type": "execute_result"
    },
    {
     "data": {
      "image/png": "[encoded data removed]",
      "text/plain": [
       "<Figure size 432x288 with 1 Axes>"
      ]
     },
     "metadata": {},
     "output_type": "display_data"
    }
   ],
   "source": [
    "grp = resourceRunPoi.groupby([\"serviceScheme\", \"Resource\", \"Helpers\"])\n",
    "grpDescr = grp.describe()\n",
    "display(HTML(grpDescr.blockMean.to_html()))\n",
    "print(getConf(resourceRunPoi, \"blockMean\", 1, lI, serveT, rho))\n",
    "resourceRunPoi.loc[(resourceRunPoi.Resource == \"PriorityResource\")\n",
    "                   & (resourceRunPoi.Helpers == 1)][\"blockMean\"].hist()"
   ]
  },
  {
   "cell_type": "code",
   "execution_count": 33,
   "metadata": {
    "ExecuteTime": {
     "end_time": "2018-11-29T23:25:38.724694Z",
     "start_time": "2018-11-29T23:22:04.714331Z"
    }
   },
   "outputs": [
    {
     "name": "stdout",
     "output_type": "stream",
     "text": [
      "PriorityResource 1\n",
      "PriorityResource 2\n",
      "PriorityResource 4\n",
      "Resource 1\n",
      "Resource 2\n",
      "Resource 4\n"
     ]
    }
   ],
   "source": [
    "serviceScheme = \"Exponential\"\n",
    "customerAllExp, resourceRunExp = runSim(resources, serviceScheme)"
   ]
  },
  {
   "cell_type": "code",
   "execution_count": 34,
   "metadata": {
    "ExecuteTime": {
     "end_time": "2018-11-29T23:25:39.839152Z",
     "start_time": "2018-11-29T23:25:39.665089Z"
    }
   },
   "outputs": [
    {
     "data": {
      "text/html": [
       "<table border=\"1\" class=\"dataframe\">\n",
       "  <thead>\n",
       "    <tr style=\"text-align: right;\">\n",
       "      <th></th>\n",
       "      <th></th>\n",
       "      <th></th>\n",
       "      <th>count</th>\n",
       "      <th>mean</th>\n",
       "      <th>std</th>\n",
       "      <th>min</th>\n",
       "      <th>25%</th>\n",
       "      <th>50%</th>\n",
       "      <th>75%</th>\n",
       "      <th>max</th>\n",
       "    </tr>\n",
       "    <tr>\n",
       "      <th>serviceScheme</th>\n",
       "      <th>Resource</th>\n",
       "      <th>Helpers</th>\n",
       "      <th></th>\n",
       "      <th></th>\n",
       "      <th></th>\n",
       "      <th></th>\n",
       "      <th></th>\n",
       "      <th></th>\n",
       "      <th></th>\n",
       "      <th></th>\n",
       "    </tr>\n",
       "  </thead>\n",
       "  <tbody>\n",
       "    <tr>\n",
       "      <th rowspan=\"6\" valign=\"top\">Exponential</th>\n",
       "      <th rowspan=\"3\" valign=\"top\">PriorityResource</th>\n",
       "      <th>1</th>\n",
       "      <td>30.0</td>\n",
       "      <td>1.287233</td>\n",
       "      <td>0.166859</td>\n",
       "      <td>0.892390</td>\n",
       "      <td>1.173075</td>\n",
       "      <td>1.286887</td>\n",
       "      <td>1.367762</td>\n",
       "      <td>1.657174</td>\n",
       "    </tr>\n",
       "    <tr>\n",
       "      <th>2</th>\n",
       "      <td>30.0</td>\n",
       "      <td>1.027976</td>\n",
       "      <td>0.125907</td>\n",
       "      <td>0.786859</td>\n",
       "      <td>0.940647</td>\n",
       "      <td>0.998287</td>\n",
       "      <td>1.105958</td>\n",
       "      <td>1.253659</td>\n",
       "    </tr>\n",
       "    <tr>\n",
       "      <th>4</th>\n",
       "      <td>30.0</td>\n",
       "      <td>0.922526</td>\n",
       "      <td>0.088657</td>\n",
       "      <td>0.782236</td>\n",
       "      <td>0.855370</td>\n",
       "      <td>0.911241</td>\n",
       "      <td>0.978600</td>\n",
       "      <td>1.117316</td>\n",
       "    </tr>\n",
       "    <tr>\n",
       "      <th rowspan=\"3\" valign=\"top\">Resource</th>\n",
       "      <th>1</th>\n",
       "      <td>30.0</td>\n",
       "      <td>2.854498</td>\n",
       "      <td>0.490167</td>\n",
       "      <td>1.965315</td>\n",
       "      <td>2.604312</td>\n",
       "      <td>2.793354</td>\n",
       "      <td>3.160420</td>\n",
       "      <td>3.843115</td>\n",
       "    </tr>\n",
       "    <tr>\n",
       "      <th>2</th>\n",
       "      <td>30.0</td>\n",
       "      <td>2.344347</td>\n",
       "      <td>0.413140</td>\n",
       "      <td>1.620139</td>\n",
       "      <td>2.015812</td>\n",
       "      <td>2.325614</td>\n",
       "      <td>2.674178</td>\n",
       "      <td>3.312508</td>\n",
       "    </tr>\n",
       "    <tr>\n",
       "      <th>4</th>\n",
       "      <td>30.0</td>\n",
       "      <td>2.052986</td>\n",
       "      <td>0.453064</td>\n",
       "      <td>1.489277</td>\n",
       "      <td>1.722378</td>\n",
       "      <td>1.905827</td>\n",
       "      <td>2.280616</td>\n",
       "      <td>3.225948</td>\n",
       "    </tr>\n",
       "  </tbody>\n",
       "</table>"
      ],
      "text/plain": [
       "<IPython.core.display.HTML object>"
      ]
     },
     "metadata": {},
     "output_type": "display_data"
    },
    {
     "name": "stdout",
     "output_type": "stream",
     "text": [
      "{<class 'simpy.resources.resource.PriorityResource'>: {1: [(1.2249265253681303, 1.3495391163488204)], 'SampleSize1': nan, 2: [(0.980962062555201, 1.0749906690843292)], 'SampleSize2': 0.22896388577542615, 4: [(0.8894209579558344, 0.9556308396567651)], 'SampleSize4': 0.229857881441723}, <class 'simpy.resources.resource.Resource'>: {1: [(2.671466412695453, 3.037529329399343)], 'SampleSize1': 0.7509929114703743, 2: [(2.1900781031652965, 2.4986161304324037)], 'SampleSize2': 0.3323386229599712, 4: [(1.8838089396768232, 2.2221627245410036)], 'SampleSize4': 0.40027308519172683}}\n"
     ]
    },
    {
     "name": "stderr",
     "output_type": "stream",
     "text": [
      "C:\\Users\\chatel\\AppData\\Local\\Continuum\\anaconda3\\lib\\site-packages\\ipykernel_launcher.py:89: RuntimeWarning: invalid value encountered in sqrt\n"
     ]
    }
   ],
   "source": [
    "grp = resourceRunExp.groupby([\"serviceScheme\", \"Resource\", \"Helpers\"])\n",
    "grpDescr = grp.describe()\n",
    "display(HTML(grpDescr.blockMean.to_html()))\n",
    "print(getConf(resourceRunExp, \"blockMean\", 1, lI, serveT, rho))"
   ]
  },
  {
   "cell_type": "code",
   "execution_count": 37,
   "metadata": {
    "ExecuteTime": {
     "end_time": "2018-11-29T23:33:29.211996Z",
     "start_time": "2018-11-29T23:33:29.208486Z"
    }
   },
   "outputs": [],
   "source": [
    "serviceScheme = \"Long-Tailed\"\n",
    "customerAllLT, resourceRunLT = runSim(resources, serviceScheme)"
   ]
  },
  {
   "cell_type": "code",
   "execution_count": null,
   "metadata": {
    "ExecuteTime": {
     "end_time": "2018-11-29T23:33:15.682152Z",
     "start_time": "2018-11-29T23:30:09.910Z"
    }
   },
   "outputs": [],
   "source": [
    "grp = resourceRunLT.groupby([\"serviceScheme\", \"Resource\", \"Helpers\"])\n",
    "grpDescr = grp.describe()\n",
    "display(HTML(grpDescr.blockMean.to_html()))\n",
    "print(getConf(resourceRunLT, \"blockMean\", 1, lI, serveT, rho))"
   ]
  }
 ],
 "metadata": {
  "kernelspec": {
   "display_name": "Python 3",
   "language": "python",
   "name": "python3"
  },
  "language_info": {
   "codemirror_mode": {
    "name": "ipython",
    "version": 3
   },
   "file_extension": ".py",
   "mimetype": "text/x-python",
   "name": "python",
   "nbconvert_exporter": "python",
   "pygments_lexer": "ipython3",
   "version": "3.6.5"
  },
  "toc": {
   "base_numbering": 1,
   "nav_menu": {},
   "number_sections": false,
   "sideBar": true,
   "skip_h1_title": false,
   "title_cell": "Table of Contents",
   "title_sidebar": "Contents",
   "toc_cell": false,
   "toc_position": {},
   "toc_section_display": true,
   "toc_window_display": false
  },
  "varInspector": {
   "cols": {
    "lenName": 16,
    "lenType": 16,
    "lenVar": 40
   },
   "kernels_config": {
    "python": {
     "delete_cmd_postfix": "",
     "delete_cmd_prefix": "del ",
     "library": "var_list.py",
     "varRefreshCmd": "print(var_dic_list())"
    },
    "r": {
     "delete_cmd_postfix": ") ",
     "delete_cmd_prefix": "rm(",
     "library": "var_list.r",
     "varRefreshCmd": "cat(var_dic_list()) "
    }
   },
   "types_to_exclude": [
    "module",
    "function",
    "builtin_function_or_method",
    "instance",
    "_Feature"
   ],
   "window_display": false
  }
 },
 "nbformat": 4,
 "nbformat_minor": 2
}
