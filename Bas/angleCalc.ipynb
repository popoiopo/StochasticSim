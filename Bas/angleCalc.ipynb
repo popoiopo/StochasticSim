{
 "cells": [
  {
   "cell_type": "code",
   "execution_count": 1,
   "metadata": {
    "ExecuteTime": {
     "end_time": "2018-12-05T10:28:05.662982Z",
     "start_time": "2018-12-05T10:28:04.069390Z"
    }
   },
   "outputs": [],
   "source": [
    "import numpy as np\n",
    "import matplotlib.pyplot as plt\n",
    "from matplotlib import colors\n",
    "from matplotlib.pyplot import plot, draw, show\n",
    "from scipy.linalg import lu\n",
    "import scipy.linalg as la\n",
    "import random\n",
    "import simpy\n",
    "import math\n",
    "import seaborn as sns\n",
    "from operator import itemgetter"
   ]
  },
  {
   "cell_type": "code",
   "execution_count": 2,
   "metadata": {
    "ExecuteTime": {
     "end_time": "2018-12-05T10:28:05.677020Z",
     "start_time": "2018-12-05T10:28:05.672006Z"
    }
   },
   "outputs": [],
   "source": [
    "plt.rcParams['figure.figsize'] = [15, 5]\n",
    "\n",
    "def plotpretify(ax, maxx, minx=0, miny=None, maxy=None, \n",
    "                Grid=True, LB=True, LL=True):\n",
    "    ax.spines[\"top\"].set_visible(False)\n",
    "    ax.spines[\"left\"].set_visible(False)\n",
    "    ax.spines[\"right\"].set_visible(False)\n",
    "    ax.spines[\"bottom\"].set_visible(False)\n",
    "\n",
    "    ax.tick_params(\n",
    "        axis=\"both\",\n",
    "        which=\"both\",\n",
    "        bottom=False,\n",
    "        top=False,\n",
    "        labelbottom=LB,\n",
    "        left=False,\n",
    "        right=False,\n",
    "        labelleft=LL)\n",
    "    ax.grid(Grid)\n",
    "    \n",
    "    ax.set_xlim(minx, maxx)\n",
    "    ax.set_ylim(miny, maxy)"
   ]
  },
  {
   "cell_type": "code",
   "execution_count": 9,
   "metadata": {
    "ExecuteTime": {
     "end_time": "2018-12-05T10:49:09.438689Z",
     "start_time": "2018-12-05T10:49:09.432670Z"
    }
   },
   "outputs": [
    {
     "name": "stdout",
     "output_type": "stream",
     "text": [
      "[97, 100, 101, 107, 200, 211]\n"
     ]
    }
   ],
   "source": [
    "def partition(array, begin, end):\n",
    "    pivot = begin\n",
    "    for i in range(begin + 1, end + 1):\n",
    "        if array[i] <= array[begin]:\n",
    "            pivot += 1\n",
    "            array[i], array[pivot] = array[pivot], array[i]\n",
    "    array[pivot], array[begin] = array[begin], array[pivot]\n",
    "    return pivot\n",
    "\n",
    "\n",
    "def quicksort(array, begin=0, end=None):\n",
    "    if end is None:\n",
    "        end = len(array) - 1\n",
    "\n",
    "    def _quicksort(array, begin, end):\n",
    "        if begin >= end:\n",
    "            return\n",
    "        pivot = partition(array, begin, end)\n",
    "        _quicksort(array, begin, pivot - 1)\n",
    "        _quicksort(array, pivot + 1, end)\n",
    "\n",
    "    return _quicksort(array, begin, end)\n",
    "\n",
    "\n",
    "array = [97, 200, 100, 101, 211, 107]\n",
    "quicksort(array)\n",
    "print(array)"
   ]
  },
  {
   "cell_type": "code",
   "execution_count": 4,
   "metadata": {
    "ExecuteTime": {
     "end_time": "2018-12-05T10:28:05.912101Z",
     "start_time": "2018-12-05T10:28:05.718133Z"
    },
    "code_folding": [
     43
    ]
   },
   "outputs": [
    {
     "name": "stdout",
     "output_type": "stream",
     "text": [
      "2.889608801200861\n"
     ]
    },
    {
     "data": {
      "image/png": "[encoded data removed]",
      "text/plain": [
       "<Figure size 720x720 with 1 Axes>"
      ]
     },
     "metadata": {},
     "output_type": "display_data"
    }
   ],
   "source": [
    "def incircle(x, y, r=1):\n",
    "    return np.power(x, 2) + np.power(y, 2) < r\n",
    "\n",
    "\n",
    "def spawn(r=1):\n",
    "    x = random.uniform(-r, r)\n",
    "    limits = [-np.sqrt(r - x**2), np.sqrt(r - x**2)]\n",
    "    y = random.uniform(limits[0], limits[1])\n",
    "    return [x, y]\n",
    "\n",
    "\n",
    "# Good score when somewhere < 2\n",
    "def checkScore(coord):\n",
    "    totalDist = 0\n",
    "    for i in range(len(coord)):\n",
    "        for j in range(i, len(coord)):\n",
    "            if i != j:\n",
    "                totalDist += 1 / abs(\n",
    "                    math.hypot(coord[j][0] - coord[i][0],\n",
    "                               coord[j][1] - coord[i][1]))\n",
    "    return totalDist\n",
    "\n",
    "\n",
    "def changeCoord(coord):\n",
    "    i = random.randint(0, len(coord) - 1)\n",
    "    coord[i] = spawn()\n",
    "    return coord\n",
    "\n",
    "\n",
    "def getScheme_data(iters, plot=\"No\"):\n",
    "    linspace = np.linspace(0, 9, iters)\n",
    "    answer = []\n",
    "\n",
    "    for x in linspace:\n",
    "        answer.append(0.5 +\n",
    "                      math.erf((math.sqrt(math.pi) / 2) * (x - 2)) * -0.5)\n",
    "\n",
    "    if plot == \"Yes\":\n",
    "        fig, ax = plt.subplots(1, 1, figsize=(8, 5))\n",
    "        ax.plot(answer, label=\"Acceptance chance\")\n",
    "        plotpretify(ax, iters)\n",
    "        plt.show()\n",
    "    return answer\n",
    "\n",
    "\n",
    "coordList = []\n",
    "for i in range(3):\n",
    "    coordList.append(spawn(1))\n",
    "coordList = np.array(coordList)\n",
    "\n",
    "iterations = 0\n",
    "score = checkScore(coordList)\n",
    "scheme = getScheme_data(iterations, plot=\"No\")\n",
    "for i in range(iterations):\n",
    "    tmpList = changeCoord(coordList)\n",
    "    tmpScore = checkScore(tmpList)\n",
    "    if score < checkScore(coordList):\n",
    "        coordList = tmpList\n",
    "        score = tmpScore\n",
    "    if scheme[i] > np.random.uniform():\n",
    "        coordList = tmpList\n",
    "        score = tmpScore\n",
    "print(score)\n",
    "\n",
    "plt.rcParams['figure.figsize'] = [10, 10]\n",
    "sns.set()\n",
    "sns.set_style(\"dark\")\n",
    "fig = plt.figure()\n",
    "ax = plt.subplot(111)\n",
    "ax.scatter(coordList[:, 0], coordList[:, 1])\n",
    "circle1 = plt.Circle((0, 0), 1, alpha=0.2, color=\"olive\")\n",
    "ax.add_artist(circle1)\n",
    "plotpretify(\n",
    "    ax, 1.1, minx=-1.1, miny=-1.1, maxy=1.1, Grid=False, LL=False, LB=False)"
   ]
  },
  {
   "cell_type": "code",
   "execution_count": 163,
   "metadata": {
    "ExecuteTime": {
     "end_time": "2018-12-05T17:02:01.498877Z",
     "start_time": "2018-12-05T17:02:01.200564Z"
    },
    "scrolled": false
   },
   "outputs": [
    {
     "name": "stdout",
     "output_type": "stream",
     "text": [
      "[0.94955563 0.31426896]\n",
      "0.3196168628324641\n",
      "[0.94935587 0.31420285]\n",
      "[-0.96116492 -0.31674445]\n",
      "-2.823257945913919\n",
      "[-0.94975795 -0.31298537]\n",
      "[0.95444023 0.3166812 ]\n",
      "0.3203679679663573\n",
      "[0.9491196  0.31491583]\n",
      "[-0.96122714 -0.3093415 ]\n",
      "-2.8302402240406703\n",
      "[-0.95192013 -0.30634632]\n",
      "[0.9527624  0.31670775]\n",
      "0.32091932748289825\n",
      "[0.94894583 0.31543909]\n",
      "[-0.95975024 -0.30393542]\n",
      "-2.8349025902733747\n",
      "[-0.95333808 -0.30190481]\n"
     ]
    },
    {
     "data": {
      "image/png": "[encoded data removed]",
      "text/plain": [
       "<Figure size 360x360 with 1 Axes>"
      ]
     },
     "metadata": {},
     "output_type": "display_data"
    },
    {
     "data": {
      "image/png": "[encoded data removed]",
      "text/plain": [
       "<Figure size 360x360 with 1 Axes>"
      ]
     },
     "metadata": {},
     "output_type": "display_data"
    },
    {
     "data": {
      "image/png": "[encoded data removed]",
      "text/plain": [
       "<Figure size 360x360 with 1 Axes>"
      ]
     },
     "metadata": {},
     "output_type": "display_data"
    },
    {
     "data": {
      "image/png": "[encoded data removed]",
      "text/plain": [
       "<Figure size 360x360 with 1 Axes>"
      ]
     },
     "metadata": {},
     "output_type": "display_data"
    }
   ],
   "source": [
    "def plot(coordList):\n",
    "    plt.rcParams['figure.figsize'] = [5, 5]\n",
    "    sns.set()\n",
    "    sns.set_style(\"dark\")\n",
    "    fig = plt.figure()\n",
    "    ax = plt.subplot(111)\n",
    "    colors = list(range(len(coordList)))\n",
    "    ax.scatter(coordList[:, 0], coordList[:, 1], c=colors, cmap='prism')\n",
    "    circle1 = plt.Circle((0, 0), radius, alpha=0.2, color=\"olive\")\n",
    "    ax.add_artist(circle1)\n",
    "    plotpretify(\n",
    "        ax,\n",
    "        1.1,\n",
    "        minx=-1.1,\n",
    "        miny=-1.1,\n",
    "        maxy=1.1,\n",
    "        Grid=False,\n",
    "        LL=False,\n",
    "        LB=False)\n",
    "\n",
    "\n",
    "def getScheme_data(iters, plot=\"No\"):\n",
    "    linspace = np.linspace(0, 9, iters)\n",
    "    answer = []\n",
    "\n",
    "    for x in linspace:\n",
    "        answer.append(0.5 +\n",
    "                      math.erf((math.sqrt(math.pi) / 2) * (x - 2)) * -0.5)\n",
    "\n",
    "    if plot == \"Yes\":\n",
    "        fig, ax = plt.subplots(1, 1, figsize=(8, 5))\n",
    "        ax.plot(answer, label=\"Acceptance chance\")\n",
    "        plotpretify(ax, iters)\n",
    "        plt.show()\n",
    "    return answer\n",
    "\n",
    "\n",
    "def incircle(crds, r=1):\n",
    "    return np.power(crds[0], 2) + np.power(crds[1], 2) < r\n",
    "\n",
    "\n",
    "def spawn(r=1):\n",
    "    x = random.uniform(-r, r)\n",
    "    limits = [-np.sqrt(r**2 - x**2), np.sqrt(r**2 - x**2)]\n",
    "    y = random.uniform(limits[0], limits[1])\n",
    "    return [x, y]\n",
    "\n",
    "\n",
    "# Good score when somewhere < 2\n",
    "def checkScore(coord):\n",
    "    totalDist = 0\n",
    "    for i in range(len(coord)):\n",
    "        for j in range(i, len(coord)):\n",
    "            if i != j:\n",
    "                totalDist += 1 / abs(\n",
    "                    math.hypot(coord[j][0] - coord[i][0],\n",
    "                               coord[j][1] - coord[i][1]))\n",
    "    return totalDist\n",
    "\n",
    "\n",
    "def move(k, coord, temp):\n",
    "    F = np.array([0.0, 0.0])\n",
    "    velocity = np.zeros(2, float)\n",
    "    for l in coord:\n",
    "        if all(l != k):\n",
    "            # Methode 1:\n",
    "            r = np.array(k) - np.array(l)\n",
    "            F1 = (r / (np.linalg.norm(r)**3) * 0.03) * temp\n",
    "            F += F1\n",
    "\n",
    "            # Methode2:\n",
    "            force = 1 / (np.sum(r**2)**2)\n",
    "            velocity += (r * force * 0.05) * temp\n",
    "\n",
    "    newPoint = k + F\n",
    "    #     print(newPoint)\n",
    "\n",
    "    #     if not incircle(newPoint,radius*2):\n",
    "    #     newpoint = k + velocity\n",
    "    if not incircle(newPoint, radius):\n",
    "        print(newPoint)\n",
    "        angle = np.angle(complex(newPoint[0], newPoint[1]))\n",
    "        print(angle)\n",
    "        #             print(angle, radius, (radius * np.sin(angle)))\n",
    "        newPoint = np.array([(radius * np.cos(angle)),\n",
    "                             (radius * np.sin(angle))])\n",
    "        print(newPoint)\n",
    "\n",
    "\n",
    "#             print(np.array(newPoint), \"border\")\n",
    "#     print(f\"k:{k}, F:{F}, kF:{k+F}, incircle:{incircle(k+F,radius*2)}, radius: {radius*2}\")\n",
    "    return newPoint  \n",
    "\n",
    "\n",
    "def changeCoord(coord, temp):\n",
    "    coordTemp = []\n",
    "    for i, k in enumerate(coord):\n",
    "        coordTemp.append(move(k, coord, temp))\n",
    "    return np.array(coordTemp)\n",
    "\n",
    "\n",
    "coordList = []\n",
    "radius = 1\n",
    "pointsNum = 5\n",
    "iterations = 3\n",
    "\n",
    "for i in range(pointsNum):\n",
    "    coordList.append(spawn(radius))\n",
    "coordList = np.array(coordList)\n",
    "\n",
    "# print(coordList)\n",
    "plot(coordList)\n",
    "\n",
    "for i in range(iterations):\n",
    "    temp = np.exp(-i / 3.0) / 10\n",
    "    coordList = changeCoord(coordList, temp)\n",
    "    plot(coordList)\n",
    "#     print(coordList)"
   ]
  },
  {
   "cell_type": "code",
   "execution_count": 162,
   "metadata": {
    "ExecuteTime": {
     "end_time": "2018-12-05T16:58:53.283281Z",
     "start_time": "2018-12-05T16:58:53.279275Z"
    }
   },
   "outputs": [
    {
     "data": {
      "text/plain": [
       "180.0"
      ]
     },
     "execution_count": 162,
     "metadata": {},
     "output_type": "execute_result"
    }
   ],
   "source": [
    "\n",
    "np.angle(-1+0j, deg=True)"
   ]
  }
 ],
 "metadata": {
  "kernelspec": {
   "display_name": "Python 3",
   "language": "python",
   "name": "python3"
  },
  "language_info": {
   "codemirror_mode": {
    "name": "ipython",
    "version": 3
   },
   "file_extension": ".py",
   "mimetype": "text/x-python",
   "name": "python",
   "nbconvert_exporter": "python",
   "pygments_lexer": "ipython3",
   "version": "3.6.5"
  },
  "toc": {
   "base_numbering": 1,
   "nav_menu": {},
   "number_sections": true,
   "sideBar": true,
   "skip_h1_title": false,
   "title_cell": "Table of Contents",
   "title_sidebar": "Contents",
   "toc_cell": false,
   "toc_position": {},
   "toc_section_display": true,
   "toc_window_display": false
  },
  "varInspector": {
   "cols": {
    "lenName": 16,
    "lenType": 16,
    "lenVar": 40
   },
   "kernels_config": {
    "python": {
     "delete_cmd_postfix": "",
     "delete_cmd_prefix": "del ",
     "library": "var_list.py",
     "varRefreshCmd": "print(var_dic_list())"
    },
    "r": {
     "delete_cmd_postfix": ") ",
     "delete_cmd_prefix": "rm(",
     "library": "var_list.r",
     "varRefreshCmd": "cat(var_dic_list()) "
    }
   },
   "types_to_exclude": [
    "module",
    "function",
    "builtin_function_or_method",
    "instance",
    "_Feature"
   ],
   "window_display": false
  }
 },
 "nbformat": 4,
 "nbformat_minor": 2
}
