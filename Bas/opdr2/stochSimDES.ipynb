{
 "cells": [
  {
   "cell_type": "markdown",
   "metadata": {},
   "source": [
    "# Opdracht 2"
   ]
  },
  {
   "cell_type": "code",
   "execution_count": 112,
   "metadata": {
    "ExecuteTime": {
     "end_time": "2018-11-20T14:30:40.256725Z",
     "start_time": "2018-11-20T14:30:30.486702Z"
    }
   },
   "outputs": [
    {
     "name": "stdout",
     "output_type": "stream",
     "text": [
      "run1 average wait: 329839.62318, variance: 21725237748.50475\n",
      "run2 average wait: 163286.53185, variance: 5317802389.230045\n",
      "run4 average wait: 80031.04698, variance: 1274349022.934913\n"
     ]
    },
    {
     "data": {
      "text/plain": [
       "[None, None, None]"
      ]
     },
     "execution_count": 112,
     "metadata": {},
     "output_type": "execute_result"
    }
   ],
   "source": [
    "import random\n",
    "import simpy\n",
    "\n",
    "RANDOM_SEED = 42\n",
    "N_helpers = [1, 2, 4]  # Number of machines in the queue\n",
    "waitTime = 20  # Minutes it takes to help a customer\n",
    "lambdaIAT = 6  # Create a customer every ~7 minutes\n",
    "SIM_TIME = 80  # Simulation time in minutes\n",
    "\n",
    "\n",
    "class Queue(object):\n",
    "    def __init__(self, env, N, waitTime):\n",
    "        self.env = env\n",
    "        self.machine = simpy.Resource(env, N)\n",
    "        self.waitTime = waitTime\n",
    "        self.customerHelped = 0\n",
    "        self.helperN = N\n",
    "\n",
    "    def helped(self, customer, customerWait=waitTime):\n",
    "        #         print([dir(node) if node else \"\" for node in self.machine.queue])\n",
    "        yield self.env.timeout(customerWait)\n",
    "\n",
    "\n",
    "#         print(f\"{customer} helped at {self.env.now}\")\n",
    "\n",
    "\n",
    "def customer(env, name, cw, id, customerWait):\n",
    "    #     customerWait = random.randint(waitTime - 5, waitTime + 5)\n",
    "    #     print('%s arrives at the queue at %.2f.' % (name, env.now))\n",
    "    enterQueue = env.now\n",
    "    with cw.machine.request() as request:\n",
    "        yield request\n",
    "\n",
    "        #         print('%s turn begins at %.2f.' % (name, env.now))\n",
    "        customerStat[cw.helperN].append(env.now - enterQueue)\n",
    "        yield env.process(cw.helped(name, customerWait=customerWait))\n",
    "\n",
    "\n",
    "#         print('%s leaves the queue at %.2f.' % (name, env.now))\n",
    "\n",
    "\n",
    "def setup(env, N, waitTime, lambdaIAT):\n",
    "    queue = Queue(env, N, waitTime)\n",
    "\n",
    "    # Create more customers while the simulation is running\n",
    "    while queue.customerHelped < 1000:\n",
    "        yield env.timeout(random.randint(lambdaIAT - 5, lambdaIAT + 5))\n",
    "        queue.customerHelped += 1\n",
    "        env.process(\n",
    "            customer(\n",
    "                env,\n",
    "                'customer %d' % queue.customerHelped,\n",
    "                queue,\n",
    "                id=queue.customerHelped,\n",
    "                customerWait=1000 - queue.customerHelped))\n",
    "\n",
    "\n",
    "# random.seed(RANDOM_SEED)\n",
    "customerStat = {}\n",
    "for j in range(100):\n",
    "    for N in N_helpers:\n",
    "        #     print(f\"******** N={N} Helpers ********\")\n",
    "        customerStat.setdefault(N, [])\n",
    "        env = simpy.Environment()\n",
    "        env.process(setup(env, N, waitTime, lambdaIAT))\n",
    "        env.run()\n",
    "\n",
    "[\n",
    "    print(\n",
    "        f\"run{N} average wait: {np.mean(customerStat[N])}, variance: {np.var(customerStat[N])}\"\n",
    "    ) for N in customerStat\n",
    "]"
   ]
  },
  {
   "cell_type": "code",
   "execution_count": 113,
   "metadata": {
    "ExecuteTime": {
     "end_time": "2018-11-20T14:31:13.379862Z",
     "start_time": "2018-11-20T14:30:40.352530Z"
    }
   },
   "outputs": [
    {
     "name": "stdout",
     "output_type": "stream",
     "text": [
      "run1 average wait: 329839.87674, variance: 21725623833.848927\n",
      "run2 average wait: 163296.99057, variance: 5318678333.447381\n",
      "run4 average wait: 80025.05182, variance: 1274251759.2366345\n"
     ]
    },
    {
     "data": {
      "text/plain": [
       "[None, None, None]"
      ]
     },
     "execution_count": 113,
     "metadata": {},
     "output_type": "execute_result"
    }
   ],
   "source": [
    "import random\n",
    "import simpy\n",
    "\n",
    "RANDOM_SEED = 42\n",
    "N_helpers = [1, 2, 4]  # Number of machines in the queue\n",
    "waitTime = 20  # Minutes it takes to help a customer\n",
    "lambdaIAT = 6 # Create a customer every ~7 minutes\n",
    "SIM_TIME = 80  # Simulation time in minutes\n",
    "\n",
    "\n",
    "class Queue(object):\n",
    "    def __init__(self, env, N, waitTime):\n",
    "        self.env = env\n",
    "        self.machine = simpy.PriorityResource(env, N)\n",
    "        self.waitTime = waitTime\n",
    "        self.customerHelped = 0\n",
    "        self.helperN = N\n",
    "\n",
    "    def helped(self, customer, customerWait=waitTime):\n",
    "        #         print([dir(node) if node else \"\" for node in self.machine.queue])\n",
    "        yield self.env.timeout(customerWait)\n",
    "\n",
    "\n",
    "#         print(f\"{customer} helped at {self.env.now}\")\n",
    "\n",
    "\n",
    "def customer(env, name, cw, id, customerWait):\n",
    "#     customerWait = random.randint(waitTime - 5, waitTime + 5)\n",
    "    #     print('%s arrives at the queue at %.2f.' % (name, env.now))\n",
    "    enterQueue = env.now\n",
    "    with cw.machine.request(priority=id) as request:\n",
    "        yield request\n",
    "\n",
    "        #         print('%s turn begins at %.2f.' % (name, env.now))\n",
    "        customerStat[cw.helperN].append(env.now - enterQueue)\n",
    "        #         yield env.process(cw.helped(name))\n",
    "        yield env.process(cw.helped(name, customerWait=customerWait))\n",
    "\n",
    "\n",
    "#         print('%s leaves the queue at %.2f.' % (name, env.now))\n",
    "\n",
    "\n",
    "def setup(env, N, waitTime, lambdaIAT):\n",
    "    queue = Queue(env, N, waitTime)\n",
    "\n",
    "    # Create more customers while the simulation is running\n",
    "    while queue.customerHelped < 1000:\n",
    "        yield env.timeout(random.randint(lambdaIAT - 5, lambdaIAT + 5))\n",
    "        queue.customerHelped += 1\n",
    "        env.process(\n",
    "            customer(\n",
    "                env,\n",
    "                'customer %d' % queue.customerHelped,\n",
    "                queue,\n",
    "                id=queue.customerHelped,\n",
    "                customerWait=1000-queue.customerHelped))\n",
    "\n",
    "\n",
    "# random.seed(RANDOM_SEED)\n",
    "customerStat = {}\n",
    "for j in range(100):\n",
    "    for N in N_helpers:\n",
    "        #     print(f\"******** N={N} Helpers ********\")\n",
    "        customerStat.setdefault(N, [])\n",
    "        env = simpy.Environment()\n",
    "        env.process(setup(env, N, waitTime, lambdaIAT))\n",
    "        env.run()\n",
    "\n",
    "[\n",
    "    print(f\"run{N} average wait: {np.mean(customerStat[N])}, variance: {np.var(customerStat[N])}\")\n",
    "    for N in customerStat\n",
    "]"
   ]
  },
  {
   "cell_type": "code",
   "execution_count": null,
   "metadata": {
    "ExecuteTime": {
     "end_time": "2018-11-20T09:51:31.907198Z",
     "start_time": "2018-11-20T09:51:31.895229Z"
    }
   },
   "outputs": [],
   "source": [
    "run1 average wait: 329839.62318, variance: 21725237748.50475\n",
    "run2 average wait: 163286.53185, variance: 5317802389.230045\n",
    "run4 average wait: 80031.04698, variance: 1274349022.934913"
   ]
  }
 ],
 "metadata": {
  "kernelspec": {
   "display_name": "Python 3",
   "language": "python",
   "name": "python3"
  },
  "language_info": {
   "codemirror_mode": {
    "name": "ipython",
    "version": 3
   },
   "file_extension": ".py",
   "mimetype": "text/x-python",
   "name": "python",
   "nbconvert_exporter": "python",
   "pygments_lexer": "ipython3",
   "version": "3.6.5"
  },
  "toc": {
   "base_numbering": 1,
   "nav_menu": {},
   "number_sections": false,
   "sideBar": true,
   "skip_h1_title": false,
   "title_cell": "Table of Contents",
   "title_sidebar": "Contents",
   "toc_cell": false,
   "toc_position": {},
   "toc_section_display": true,
   "toc_window_display": false
  },
  "varInspector": {
   "cols": {
    "lenName": 16,
    "lenType": 16,
    "lenVar": 40
   },
   "kernels_config": {
    "python": {
     "delete_cmd_postfix": "",
     "delete_cmd_prefix": "del ",
     "library": "var_list.py",
     "varRefreshCmd": "print(var_dic_list())"
    },
    "r": {
     "delete_cmd_postfix": ") ",
     "delete_cmd_prefix": "rm(",
     "library": "var_list.r",
     "varRefreshCmd": "cat(var_dic_list()) "
    }
   },
   "types_to_exclude": [
    "module",
    "function",
    "builtin_function_or_method",
    "instance",
    "_Feature"
   ],
   "window_display": false
  }
 },
 "nbformat": 4,
 "nbformat_minor": 2
}
