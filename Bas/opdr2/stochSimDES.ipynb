{
 "cells": [
  {
   "cell_type": "markdown",
   "metadata": {},
   "source": [
    "# Assignment 2"
   ]
  },
  {
   "cell_type": "markdown",
   "metadata": {},
   "source": [
    "2.2\n",
    "\n",
    "Write a DES program to verify this for n=1, n=2 and n=4. Make sure that your result\n",
    "has a high and known statistical significance. How does the number of measurements\n",
    "required to attain this, depend on $\\rho$?"
   ]
  },
  {
   "cell_type": "code",
   "execution_count": 3,
   "metadata": {
    "ExecuteTime": {
     "end_time": "2018-11-22T15:55:47.994083Z",
     "start_time": "2018-11-22T15:55:47.688048Z"
    }
   },
   "outputs": [],
   "source": [
    "import random\n",
    "import simpy\n",
    "import numpy as np\n",
    "import pandas as pd\n",
    "from IPython.display import display, HTML"
   ]
  },
  {
   "cell_type": "code",
   "execution_count": 52,
   "metadata": {
    "ExecuteTime": {
     "end_time": "2018-11-22T14:39:21.780334Z",
     "start_time": "2018-11-22T14:39:21.104090Z"
    }
   },
   "outputs": [
    {
     "name": "stdout",
     "output_type": "stream",
     "text": [
      "For Resource\n"
     ]
    },
    {
     "data": {
      "text/html": [
       "<table border=\"1\" class=\"dataframe\">\n",
       "  <thead>\n",
       "    <tr style=\"text-align: right;\">\n",
       "      <th>Helpers</th>\n",
       "      <th>1</th>\n",
       "      <th>2</th>\n",
       "      <th>4</th>\n",
       "    </tr>\n",
       "  </thead>\n",
       "  <tbody>\n",
       "    <tr>\n",
       "      <th>$\\rho$</th>\n",
       "      <td>1.00</td>\n",
       "      <td>0.50</td>\n",
       "      <td>0.25</td>\n",
       "    </tr>\n",
       "    <tr>\n",
       "      <th>Average</th>\n",
       "      <td>14.62</td>\n",
       "      <td>0.11</td>\n",
       "      <td>0.00</td>\n",
       "    </tr>\n",
       "    <tr>\n",
       "      <th>Variance</th>\n",
       "      <td>186.39</td>\n",
       "      <td>0.29</td>\n",
       "      <td>0.00</td>\n",
       "    </tr>\n",
       "    <tr>\n",
       "      <th>std.dev</th>\n",
       "      <td>13.65</td>\n",
       "      <td>0.54</td>\n",
       "      <td>0.02</td>\n",
       "    </tr>\n",
       "  </tbody>\n",
       "</table>"
      ],
      "text/plain": [
       "<IPython.core.display.HTML object>"
      ]
     },
     "metadata": {},
     "output_type": "display_data"
    },
    {
     "name": "stdout",
     "output_type": "stream",
     "text": [
      "\n"
     ]
    }
   ],
   "source": [
    "# Init variables\n",
    "RANDOM_SEED = 42\n",
    "N_helpers = [1, 2, 4]  # Number of machines in the queue\n",
    "serveTime = 6          # Minutes it takes to help a customer\n",
    "lambdaIAT = 6          # Create a customer every ~7 minutes\n",
    "SIM_TIME = 80          # Simulation time in minutes\n",
    "NRUNS = 100             # Amount of runs\n",
    "customerCount = 50   # Amount of customers\n",
    "\n",
    "# Choose your queueing system\n",
    "# resources = [simpy.PriorityResource]\n",
    "resources = [simpy.Resource]\n",
    "# resources = [simpy.Resource, simpy.PriorityResource]\n",
    "\n",
    "# Create Queue object\n",
    "class Queue(object):\n",
    "    def __init__(self, env, N, serveTime, resource):\n",
    "        self.env = env\n",
    "        self.machine = resource(env, N)\n",
    "        self.serveTime = serveTime\n",
    "        self.customerHelped = 0\n",
    "        self.helperN = N\n",
    "\n",
    "    def helped(self, customer, customerServeWait=serveTime):\n",
    "        yield self.env.timeout(customerServeWait)\n",
    "\n",
    "# Customer with its own serviceTime\n",
    "def customer(env, name, cw, id, customerServeWait, resource):\n",
    "    customerServeWait = random.randint(serveTime - 5, serveTime + 5)\n",
    "    enterQueue = env.now\n",
    "    if resource == simpy.PriorityResource:\n",
    "        with cw.machine.request(priority=customerServeWait) as request:\n",
    "            request.name = name\n",
    "            request.time = customerServeWait\n",
    "            yield request\n",
    "\n",
    "            customerStat[cw.helperN].append(env.now - enterQueue)\n",
    "            yield env.process(cw.helped(name, customerServeWait=customerServeWait))\n",
    "\n",
    "    elif resource == simpy.Resource:\n",
    "        with cw.machine.request() as request:\n",
    "            request.name = name\n",
    "            request.time = customerServeWait\n",
    "            yield request\n",
    "\n",
    "            customerStat[cw.helperN].append(env.now - enterQueue)\n",
    "            yield env.process(cw.helped(name, customerServeWait=customerServeWait))\n",
    "\n",
    "\n",
    "def setup(env, N, serveTime, lambdaIAT, customerCount, resource):\n",
    "    queue = Queue(env, N, serveTime, resource)\n",
    "\n",
    "    # Create more customers while the simulation is running\n",
    "    while queue.customerHelped < customerCount:\n",
    "        s = np.random.poisson(lambdaIAT, customerCount)\n",
    "        yield env.timeout(s[queue.customerHelped])\n",
    "        queue.customerHelped += 1\n",
    "        env.process(\n",
    "            customer(env, 'customer %d' % queue.customerHelped, queue,\n",
    "                     queue.customerHelped,\n",
    "                     (customerCount - queue.customerHelped), resource))\n",
    "\n",
    "for resource in resources:\n",
    "    random.seed(RANDOM_SEED)\n",
    "    customerStat = {}\n",
    "    for j in range(NRUNS):\n",
    "        for N in N_helpers:\n",
    "            customerStat.setdefault(N, [])\n",
    "            customerStat.setdefault(str(N) + \"P\", [])\n",
    "            customerStat[str(N) + \"P\"].append(lambdaIAT / (N * serveTime))\n",
    "            env = simpy.Environment()\n",
    "            env.process(\n",
    "                setup(env, N, serveTime, lambdaIAT, customerCount, resource))\n",
    "            env.run()\n",
    "    \n",
    "    # Format data    \n",
    "    customerStatDf = pd.DataFrame({\"Helpers\": N_helpers, \n",
    "                                  \"$\\rho$\": [np.mean(customerStat[str(N)+'P']).round(decimals=2) for N in N_helpers],\n",
    "                                  \"Average\": [np.mean(customerStat[N]).round(decimals=2) for N in N_helpers], \n",
    "                                  \"Variance\": [np.var(customerStat[N]).round(decimals=2) for N in N_helpers],\n",
    "                                  \"std.dev\": [np.std(customerStat[N]).round(decimals=2) for N in N_helpers]}).set_index('Helpers')\n",
    "    \n",
    "    # Print output    \n",
    "    print(f\"For {str(resource)[33:-2]}\")\n",
    "    display(HTML(customerStatDf.T.to_html()))\n",
    "    print()\n"
   ]
  },
  {
   "cell_type": "markdown",
   "metadata": {},
   "source": [
    "## 2.3\n",
    "\n",
    "Also compare the result to that for an M/M/1 queue with shortest job first scheduling,\n",
    "where you always give priority to the smallest jobs."
   ]
  },
  {
   "cell_type": "code",
   "execution_count": 53,
   "metadata": {
    "ExecuteTime": {
     "end_time": "2018-11-22T14:40:46.989391Z",
     "start_time": "2018-11-22T14:40:39.328486Z"
    },
    "code_folding": [
     15
    ]
   },
   "outputs": [
    {
     "name": "stdout",
     "output_type": "stream",
     "text": [
      "For Resource\n"
     ]
    },
    {
     "data": {
      "text/html": [
       "<table border=\"1\" class=\"dataframe\">\n",
       "  <thead>\n",
       "    <tr style=\"text-align: right;\">\n",
       "      <th>Helpers</th>\n",
       "      <th>1</th>\n",
       "      <th>2</th>\n",
       "      <th>4</th>\n",
       "    </tr>\n",
       "  </thead>\n",
       "  <tbody>\n",
       "    <tr>\n",
       "      <th>$\\rho$</th>\n",
       "      <td>1.00</td>\n",
       "      <td>0.50</td>\n",
       "      <td>0.25</td>\n",
       "    </tr>\n",
       "    <tr>\n",
       "      <th>Average</th>\n",
       "      <td>57.90</td>\n",
       "      <td>0.15</td>\n",
       "      <td>0.00</td>\n",
       "    </tr>\n",
       "    <tr>\n",
       "      <th>Variance</th>\n",
       "      <td>2888.22</td>\n",
       "      <td>0.44</td>\n",
       "      <td>0.00</td>\n",
       "    </tr>\n",
       "    <tr>\n",
       "      <th>std.dev</th>\n",
       "      <td>53.74</td>\n",
       "      <td>0.66</td>\n",
       "      <td>0.00</td>\n",
       "    </tr>\n",
       "  </tbody>\n",
       "</table>"
      ],
      "text/plain": [
       "<IPython.core.display.HTML object>"
      ]
     },
     "metadata": {},
     "output_type": "display_data"
    },
    {
     "name": "stdout",
     "output_type": "stream",
     "text": [
      "\n",
      "For PriorityResource\n"
     ]
    },
    {
     "data": {
      "text/html": [
       "<table border=\"1\" class=\"dataframe\">\n",
       "  <thead>\n",
       "    <tr style=\"text-align: right;\">\n",
       "      <th>Helpers</th>\n",
       "      <th>1</th>\n",
       "      <th>2</th>\n",
       "      <th>4</th>\n",
       "    </tr>\n",
       "  </thead>\n",
       "  <tbody>\n",
       "    <tr>\n",
       "      <th>$\\rho$</th>\n",
       "      <td>1.00</td>\n",
       "      <td>0.50</td>\n",
       "      <td>0.25</td>\n",
       "    </tr>\n",
       "    <tr>\n",
       "      <th>Average</th>\n",
       "      <td>41.56</td>\n",
       "      <td>0.15</td>\n",
       "      <td>0.00</td>\n",
       "    </tr>\n",
       "    <tr>\n",
       "      <th>Variance</th>\n",
       "      <td>23678.32</td>\n",
       "      <td>0.47</td>\n",
       "      <td>0.00</td>\n",
       "    </tr>\n",
       "    <tr>\n",
       "      <th>std.dev</th>\n",
       "      <td>153.88</td>\n",
       "      <td>0.68</td>\n",
       "      <td>0.00</td>\n",
       "    </tr>\n",
       "  </tbody>\n",
       "</table>"
      ],
      "text/plain": [
       "<IPython.core.display.HTML object>"
      ]
     },
     "metadata": {},
     "output_type": "display_data"
    },
    {
     "name": "stdout",
     "output_type": "stream",
     "text": [
      "\n"
     ]
    }
   ],
   "source": [
    "# Init variables\n",
    "RANDOM_SEED = 42\n",
    "N_helpers = [1, 2, 4]  # Number of machines in the queue\n",
    "waitTime = 6          # Minutes it takes to help a customer\n",
    "lambdaIAT = 6          # Create a customer every ~7 minutes\n",
    "SIM_TIME = 80          # Simulation time in minutes\n",
    "NRUNS = 10             # Amount of runs\n",
    "customerCount = 1000   # Amount of customers\n",
    "\n",
    "# Choose your queueing system\n",
    "# resources = [simpy.PriorityResource]\n",
    "# resources = [simpy.Resource]\n",
    "resources = [simpy.Resource, simpy.PriorityResource]\n",
    "\n",
    "\n",
    "class Queue(object):\n",
    "    def __init__(self, env, N, waitTime, resource):\n",
    "        self.env = env\n",
    "        self.machine = resource(env, N)\n",
    "        self.waitTime = waitTime\n",
    "        self.customerHelped = 0\n",
    "        self.helperN = N\n",
    "\n",
    "    def helped(self, customer, customerWait=waitTime):\n",
    "        yield self.env.timeout(customerWait)\n",
    "\n",
    "\n",
    "def customer(env, name, cw, id, customerWait, resource):\n",
    "    customerWait = random.randint(waitTime - 5, waitTime + 5)\n",
    "    enterQueue = env.now\n",
    "    if resource == simpy.PriorityResource:\n",
    "        with cw.machine.request(priority=customerWait) as request:\n",
    "            request.name = name\n",
    "            request.time = customerWait\n",
    "            yield request\n",
    "\n",
    "            customerStat[cw.helperN].append(env.now - enterQueue)\n",
    "            yield env.process(cw.helped(name, customerWait=customerWait))\n",
    "\n",
    "    elif resource == simpy.Resource:\n",
    "        with cw.machine.request() as request:\n",
    "            request.name = name\n",
    "            request.time = customerWait\n",
    "            yield request\n",
    "\n",
    "            customerStat[cw.helperN].append(env.now - enterQueue)\n",
    "            yield env.process(cw.helped(name, customerWait=customerWait))\n",
    "\n",
    "\n",
    "def setup(env, N, waitTime, lambdaIAT, customerCount, resource):\n",
    "    queue = Queue(env, N, waitTime, resource)\n",
    "\n",
    "    # Create more customers while the simulation is running\n",
    "    while queue.customerHelped < customerCount:\n",
    "        s = np.random.poisson(lambdaIAT, customerCount)\n",
    "        yield env.timeout(s[queue.customerHelped])\n",
    "        queue.customerHelped += 1\n",
    "        env.process(\n",
    "            customer(env, 'customer %d' % queue.customerHelped, queue,\n",
    "                     queue.customerHelped,\n",
    "                     (customerCount - queue.customerHelped), resource))\n",
    "\n",
    "for resource in resources:\n",
    "    random.seed(RANDOM_SEED)\n",
    "    customerStat = {}\n",
    "    for j in range(NRUNS):\n",
    "        for N in N_helpers:\n",
    "            #         print(f\"******** N={N} Helpers ********\")\n",
    "            customerStat.setdefault(N, [])\n",
    "            customerStat.setdefault(str(N) + \"P\", [])\n",
    "            customerStat[str(N) + \"P\"].append(lambdaIAT / (N * waitTime))\n",
    "            env = simpy.Environment()\n",
    "            env.process(\n",
    "                setup(env, N, waitTime, lambdaIAT, customerCount, resource))\n",
    "            env.run()\n",
    "    customerStatDf = pd.DataFrame({\"Helpers\": N_helpers, \n",
    "                                  \"$\\rho$\": [np.mean(customerStat[str(N)+'P']).round(decimals=2) for N in N_helpers],\n",
    "                                  \"Average\": [np.mean(customerStat[N]).round(decimals=2) for N in N_helpers], \n",
    "                                  \"Variance\": [np.var(customerStat[N]).round(decimals=2) for N in N_helpers],\n",
    "                                  \"std.dev\": [np.std(customerStat[N]).round(decimals=2) for N in N_helpers]}).set_index('Helpers')\n",
    "    print(f\"For {str(resource)[33:-2]}\")\n",
    "    display(HTML(customerStatDf.T.to_html()))\n",
    "    print()\n"
   ]
  },
  {
   "cell_type": "markdown",
   "metadata": {},
   "source": [
    "## 2.4\n",
    "\n",
    "Now experiment with different service rate distributions. On the one hand try the\n",
    "M/D/1 and M/D/n queues, on the other hand try a long-tail distribution. For the latter\n",
    "you may e.g. use a distribution where 75% of the jobs have an exponential distribution\n",
    "with an average service time of 1.0 and the remaining 25% an exponential distribution\n",
    "with an average service time of 5.0 (an example of a hyperexponential distribution)."
   ]
  },
  {
   "cell_type": "code",
   "execution_count": 6,
   "metadata": {
    "ExecuteTime": {
     "end_time": "2018-11-22T16:02:44.763531Z",
     "start_time": "2018-11-22T16:02:44.662253Z"
    }
   },
   "outputs": [
    {
     "ename": "NameError",
     "evalue": "name 'customerSchemes' is not defined",
     "output_type": "error",
     "traceback": [
      "\u001b[1;31m---------------------------------------------------------------------------\u001b[0m",
      "\u001b[1;31mNameError\u001b[0m                                 Traceback (most recent call last)",
      "\u001b[1;32m<ipython-input-6-3cf5854de1f9>\u001b[0m in \u001b[0;36m<module>\u001b[1;34m()\u001b[0m\n\u001b[0;32m     79\u001b[0m                      (customerCount - queue.customerHelped), resource, customerScheme))\n\u001b[0;32m     80\u001b[0m \u001b[1;33m\u001b[0m\u001b[0m\n\u001b[1;32m---> 81\u001b[1;33m \u001b[1;32mfor\u001b[0m \u001b[0mcustomerScheme\u001b[0m \u001b[1;32min\u001b[0m \u001b[0mcustomerSchemes\u001b[0m\u001b[1;33m:\u001b[0m\u001b[1;33m\u001b[0m\u001b[0m\n\u001b[0m\u001b[0;32m     82\u001b[0m     \u001b[1;32mfor\u001b[0m \u001b[0mresource\u001b[0m \u001b[1;32min\u001b[0m \u001b[0mresources\u001b[0m\u001b[1;33m:\u001b[0m\u001b[1;33m\u001b[0m\u001b[0m\n\u001b[0;32m     83\u001b[0m         \u001b[0mrandom\u001b[0m\u001b[1;33m.\u001b[0m\u001b[0mseed\u001b[0m\u001b[1;33m(\u001b[0m\u001b[0mRANDOM_SEED\u001b[0m\u001b[1;33m)\u001b[0m\u001b[1;33m\u001b[0m\u001b[0m\n",
      "\u001b[1;31mNameError\u001b[0m: name 'customerSchemes' is not defined"
     ]
    }
   ],
   "source": [
    "# Init variables\n",
    "RANDOM_SEED = 42\n",
    "N_helpers = [1, 2, 4]  # Number of machines in the queue\n",
    "waitTime = 6           # Minutes it takes to help a customer\n",
    "lambdaIAT = 6          # Create a customer every ~7 minutes\n",
    "serviceScheme = \"Long-Tailed\" # Can be \"Long-Tailed\", \"Poisson\", \"Deterministic\", \"Inverse\"\n",
    "serviceSchemes = [\"Long-Tailed\", \"Poisson\", \"Deterministic\", \"Inverse\"]\n",
    "ltLow = 1              # Lower bound long-tailed distribution\n",
    "ltHigh = 5             # Upper bound long-tailed distribution\n",
    "SIM_TIME = 80          # Simulation time in minutes\n",
    "NRUNS = 10             # Amount of runs\n",
    "customerCount = 1000   # Amount of customers\n",
    "\n",
    "\n",
    "# Choose your queueing system\n",
    "# resources = [simpy.PriorityResource]\n",
    "# resources = [simpy.Resource]\n",
    "resources = [simpy.Resource, simpy.PriorityResource]\n",
    "\n",
    "\n",
    "class Queue(object):\n",
    "    def __init__(self, env, N, waitTime, resource):\n",
    "        self.env = env\n",
    "        self.machine = resource(env, N)\n",
    "        self.waitTime = waitTime\n",
    "        self.customerHelped = 0\n",
    "        self.helperN = N\n",
    "\n",
    "    def helped(self, customer, customerWait=waitTime):\n",
    "        yield self.env.timeout(customerWait)\n",
    "\n",
    "\n",
    "def customer(env, name, cw, id, customerWait, resource, customerScheme):\n",
    "    if serviceScheme == \"Long-Tailed\":\n",
    "        rCheck = random.random()\n",
    "        if rCheck <= 0.75:\n",
    "            customerWait = ltLow\n",
    "        else:\n",
    "            customerWait = ltHigh\n",
    "    elif serviceScheme == \"Poisson\":\n",
    "        customerWait = random.randint(waitTime - 5, waitTime + 5)\n",
    "    elif serviceScheme == \"Deterministic\":\n",
    "        customerWait = waitTime\n",
    "    elif serviceScheme == \"Inverse\":\n",
    "        customerWait = customerWait\n",
    "        \n",
    "    \n",
    "    enterQueue = env.now\n",
    "    if resource == simpy.PriorityResource:\n",
    "        with cw.machine.request(priority=customerWait) as request:\n",
    "            request.name = name\n",
    "            request.time = customerWait\n",
    "            yield request\n",
    "\n",
    "            customerStat[cw.helperN].append(env.now - enterQueue)\n",
    "            yield env.process(cw.helped(name, customerWait=customerWait))\n",
    "\n",
    "    elif resource == simpy.Resource:\n",
    "        with cw.machine.request() as request:\n",
    "            request.name = name\n",
    "            request.time = customerWait\n",
    "            yield request\n",
    "\n",
    "            customerStat[cw.helperN].append(env.now - enterQueue)\n",
    "            yield env.process(cw.helped(name, customerWait=customerWait))\n",
    "\n",
    "\n",
    "def setup(env, N, waitTime, lambdaIAT, customerCount, resource, customerScheme):\n",
    "    queue = Queue(env, N, waitTime, resource)\n",
    "\n",
    "    # Create more customers while the simulation is running\n",
    "    while queue.customerHelped < customerCount:\n",
    "        s = np.random.poisson(lambdaIAT, customerCount)\n",
    "        yield env.timeout(s[queue.customerHelped])\n",
    "        queue.customerHelped += 1\n",
    "        env.process(\n",
    "            customer(env, 'customer %d' % queue.customerHelped, queue,\n",
    "                     queue.customerHelped,\n",
    "                     (customerCount - queue.customerHelped), resource, customerScheme))\n",
    "\n",
    "for customerScheme in customerSchemes:\n",
    "    for resource in resources:\n",
    "        random.seed(RANDOM_SEED)\n",
    "        customerStat = {}\n",
    "        for j in range(NRUNS):\n",
    "            for N in N_helpers:\n",
    "                #         print(f\"******** N={N} Helpers ********\")\n",
    "                customerStat.setdefault(N, [])\n",
    "                customerStat.setdefault(str(N) + \"P\", [])\n",
    "                customerStat[str(N) + \"P\"].append(lambdaIAT / (N * waitTime))\n",
    "                env = simpy.Environment()\n",
    "                env.process(\n",
    "                    setup(env, N, waitTime, lambdaIAT, customerCount, resource, customerScheme))\n",
    "                env.run()\n",
    "        customerStatDf = pd.DataFrame({\"Helpers\": N_helpers, \n",
    "                                      \"$\\rho$\": [np.mean(customerStat[str(N)+'P']).round(decimals=2) for N in N_helpers],\n",
    "                                      \"Average\": [np.mean(customerStat[N]).round(decimals=2) for N in N_helpers], \n",
    "                                      \"Variance\": [np.var(customerStat[N]).round(decimals=2) for N in N_helpers],\n",
    "                                      \"std.dev\": [np.std(customerStat[N]).round(decimals=2) for N in N_helpers]}).set_index('Helpers')\n",
    "        print(f\"For {str(resource)[33:-2]} with customerScheme = {customerScheme}\")\n",
    "        display(HTML(customerStatDf.T.to_html()))\n",
    "        print()\n"
   ]
  },
  {
   "cell_type": "code",
   "execution_count": null,
   "metadata": {
    "ExecuteTime": {
     "end_time": "2018-11-22T15:37:38.570084Z",
     "start_time": "2018-11-22T15:37:38.500897Z"
    }
   },
   "outputs": [],
   "source": []
  }
 ],
 "metadata": {
  "kernelspec": {
   "display_name": "Python 3",
   "language": "python",
   "name": "python3"
  },
  "language_info": {
   "codemirror_mode": {
    "name": "ipython",
    "version": 3
   },
   "file_extension": ".py",
   "mimetype": "text/x-python",
   "name": "python",
   "nbconvert_exporter": "python",
   "pygments_lexer": "ipython3",
   "version": "3.6.5"
  },
  "toc": {
   "base_numbering": 1,
   "nav_menu": {},
   "number_sections": false,
   "sideBar": true,
   "skip_h1_title": false,
   "title_cell": "Table of Contents",
   "title_sidebar": "Contents",
   "toc_cell": false,
   "toc_position": {},
   "toc_section_display": true,
   "toc_window_display": false
  },
  "varInspector": {
   "cols": {
    "lenName": 16,
    "lenType": 16,
    "lenVar": 40
   },
   "kernels_config": {
    "python": {
     "delete_cmd_postfix": "",
     "delete_cmd_prefix": "del ",
     "library": "var_list.py",
     "varRefreshCmd": "print(var_dic_list())"
    },
    "r": {
     "delete_cmd_postfix": ") ",
     "delete_cmd_prefix": "rm(",
     "library": "var_list.r",
     "varRefreshCmd": "cat(var_dic_list()) "
    }
   },
   "types_to_exclude": [
    "module",
    "function",
    "builtin_function_or_method",
    "instance",
    "_Feature"
   ],
   "window_display": false
  }
 },
 "nbformat": 4,
 "nbformat_minor": 2
}
