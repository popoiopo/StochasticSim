{
 "cells": [
  {
   "cell_type": "code",
   "execution_count": null,
   "metadata": {
    "ExecuteTime": {
     "start_time": "2018-12-13T16:56:02.660Z"
    }
   },
   "outputs": [],
   "source": [
    "import multiprocessing as mp\n",
    "import math\n",
    "\n",
    "\n",
    "def cubes_and_sqare_root(a, order,output):\n",
    "    output.put((int(order), math.sqrt(a**3)))\n",
    "\n",
    "def main():\n",
    "    #Using the queue as the message passing paradigm \n",
    "    output = mp.Queue()\n",
    "    processes = [mp.Process(target=cubes_and_sqare_root, args=(x, x,output)) for x in range(1,8)]\n",
    "    \n",
    "    for process in processes:\n",
    "        process.start()\n",
    "    \n",
    "    for process in processes:\n",
    "        process.join()\n",
    "    \n",
    "    results = [output.get() for process in processes]\n",
    "    \n",
    "    print(results)\n",
    "\n",
    "if __name__ == '__main__':\n",
    "    main()"
   ]
  },
  {
   "cell_type": "code",
   "execution_count": null,
   "metadata": {},
   "outputs": [],
   "source": [
    "                        Particles & Total energy \\\\ \\hline\n",
    "                        $21$      & $216,179$    \\\\\n",
    "\n",
    "\\cellcolor[HTML]{F9EBEB}$22$      &\\cellcolor[HTML]{F9EBEB} $240,122$    \\\\\n",
    "                        $23$      &                         $265,201$    \\\\\n",
    "\n",
    "\\cellcolor[HTML]{F9EBEB}$24$      &\\cellcolor[HTML]{F9EBEB} $291,728$    \\\\\n",
    "                        $25$      &                         $319,666$    \\\\\n",
    "\n",
    "\\cellcolor[HTML]{F9EBEB}$26$      &\\cellcolor[HTML]{F9EBEB} $348,771$    \\\\\n",
    "                        $27$      &                         $379,353$    \\\\\n",
    "\n",
    "\\cellcolor[HTML]{F9EBEB}$28$      &\\cellcolor[HTML]{F9EBEB} $411,344$    \\\\\n",
    "                        $29$      &                         $444,548$    \\\\\n",
    "\n",
    "\\cellcolor[HTML]{F9EBEB}$30$      &\\cellcolor[HTML]{F9EBEB} $479,080$    \\\\ \\hline"
   ]
  }
 ],
 "metadata": {
  "kernelspec": {
   "display_name": "Python 3",
   "language": "python",
   "name": "python3"
  },
  "language_info": {
   "codemirror_mode": {
    "name": "ipython",
    "version": 3
   },
   "file_extension": ".py",
   "mimetype": "text/x-python",
   "name": "python",
   "nbconvert_exporter": "python",
   "pygments_lexer": "ipython3",
   "version": "3.6.5"
  },
  "toc": {
   "base_numbering": 1,
   "nav_menu": {},
   "number_sections": false,
   "sideBar": true,
   "skip_h1_title": false,
   "title_cell": "Table of Contents",
   "title_sidebar": "Contents",
   "toc_cell": false,
   "toc_position": {},
   "toc_section_display": true,
   "toc_window_display": false
  },
  "varInspector": {
   "cols": {
    "lenName": 16,
    "lenType": 16,
    "lenVar": 40
   },
   "kernels_config": {
    "python": {
     "delete_cmd_postfix": "",
     "delete_cmd_prefix": "del ",
     "library": "var_list.py",
     "varRefreshCmd": "print(var_dic_list())"
    },
    "r": {
     "delete_cmd_postfix": ") ",
     "delete_cmd_prefix": "rm(",
     "library": "var_list.r",
     "varRefreshCmd": "cat(var_dic_list()) "
    }
   },
   "types_to_exclude": [
    "module",
    "function",
    "builtin_function_or_method",
    "instance",
    "_Feature"
   ],
   "window_display": false
  }
 },
 "nbformat": 4,
 "nbformat_minor": 2
}
