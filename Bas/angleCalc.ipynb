{
 "cells": [
  {
   "cell_type": "code",
   "execution_count": 1,
   "metadata": {
    "ExecuteTime": {
     "end_time": "2018-12-05T10:28:05.662982Z",
     "start_time": "2018-12-05T10:28:04.069390Z"
    }
   },
   "outputs": [],
   "source": [
    "import numpy as np\n",
    "import matplotlib.pyplot as plt\n",
    "from matplotlib import colors\n",
    "from matplotlib.pyplot import plot, draw, show\n",
    "from scipy.linalg import lu\n",
    "import scipy.linalg as la\n",
    "import random\n",
    "import simpy\n",
    "import math\n",
    "import seaborn as sns\n",
    "from operator import itemgetter"
   ]
  },
  {
   "cell_type": "code",
   "execution_count": 2,
   "metadata": {
    "ExecuteTime": {
     "end_time": "2018-12-05T10:28:05.677020Z",
     "start_time": "2018-12-05T10:28:05.672006Z"
    }
   },
   "outputs": [],
   "source": [
    "plt.rcParams['figure.figsize'] = [15, 5]\n",
    "\n",
    "def plotpretify(ax, maxx, minx=0, miny=None, maxy=None, \n",
    "                Grid=True, LB=True, LL=True):\n",
    "    ax.spines[\"top\"].set_visible(False)\n",
    "    ax.spines[\"left\"].set_visible(False)\n",
    "    ax.spines[\"right\"].set_visible(False)\n",
    "    ax.spines[\"bottom\"].set_visible(False)\n",
    "\n",
    "    ax.tick_params(\n",
    "        axis=\"both\",\n",
    "        which=\"both\",\n",
    "        bottom=False,\n",
    "        top=False,\n",
    "        labelbottom=LB,\n",
    "        left=False,\n",
    "        right=False,\n",
    "        labelleft=LL)\n",
    "    ax.grid(Grid)\n",
    "    \n",
    "    ax.set_xlim(minx, maxx)\n",
    "    ax.set_ylim(miny, maxy)"
   ]
  },
  {
   "cell_type": "code",
   "execution_count": 9,
   "metadata": {
    "ExecuteTime": {
     "end_time": "2018-12-05T10:49:09.438689Z",
     "start_time": "2018-12-05T10:49:09.432670Z"
    }
   },
   "outputs": [
    {
     "name": "stdout",
     "output_type": "stream",
     "text": [
      "[97, 100, 101, 107, 200, 211]\n"
     ]
    }
   ],
   "source": [
    "def partition(array, begin, end):\n",
    "    pivot = begin\n",
    "    for i in range(begin + 1, end + 1):\n",
    "        if array[i] <= array[begin]:\n",
    "            pivot += 1\n",
    "            array[i], array[pivot] = array[pivot], array[i]\n",
    "    array[pivot], array[begin] = array[begin], array[pivot]\n",
    "    return pivot\n",
    "\n",
    "\n",
    "def quicksort(array, begin=0, end=None):\n",
    "    if end is None:\n",
    "        end = len(array) - 1\n",
    "\n",
    "    def _quicksort(array, begin, end):\n",
    "        if begin >= end:\n",
    "            return\n",
    "        pivot = partition(array, begin, end)\n",
    "        _quicksort(array, begin, pivot - 1)\n",
    "        _quicksort(array, pivot + 1, end)\n",
    "\n",
    "    return _quicksort(array, begin, end)\n",
    "\n",
    "\n",
    "array = [97, 200, 100, 101, 211, 107]\n",
    "quicksort(array)\n",
    "print(array)"
   ]
  },
  {
   "cell_type": "code",
   "execution_count": 4,
   "metadata": {
    "ExecuteTime": {
     "end_time": "2018-12-05T10:28:05.912101Z",
     "start_time": "2018-12-05T10:28:05.718133Z"
    },
    "code_folding": [
     43
    ]
   },
   "outputs": [
    {
     "name": "stdout",
     "output_type": "stream",
     "text": [
      "2.889608801200861\n"
     ]
    },
    {
     "data": {
      "image/png": "[encoded data removed]",
      "text/plain": [
       "<Figure size 720x720 with 1 Axes>"
      ]
     },
     "metadata": {},
     "output_type": "display_data"
    }
   ],
   "source": [
    "def incircle(x, y, r=1):\n",
    "    return np.power(x, 2) + np.power(y, 2) < r\n",
    "\n",
    "\n",
    "def spawn(r=1):\n",
    "    x = random.uniform(-r, r)\n",
    "    limits = [-np.sqrt(r - x**2), np.sqrt(r - x**2)]\n",
    "    y = random.uniform(limits[0], limits[1])\n",
    "    return [x, y]\n",
    "\n",
    "\n",
    "# Good score when somewhere < 2\n",
    "def checkScore(coord):\n",
    "    totalDist = 0\n",
    "    for i in range(len(coord)):\n",
    "        for j in range(i, len(coord)):\n",
    "            if i != j:\n",
    "                totalDist += 1 / abs(\n",
    "                    math.hypot(coord[j][0] - coord[i][0],\n",
    "                               coord[j][1] - coord[i][1]))\n",
    "    return totalDist\n",
    "\n",
    "\n",
    "def changeCoord(coord):\n",
    "    i = random.randint(0, len(coord) - 1)\n",
    "    coord[i] = spawn()\n",
    "    return coord\n",
    "\n",
    "\n",
    "def getScheme_data(iters, plot=\"No\"):\n",
    "    linspace = np.linspace(0, 9, iters)\n",
    "    answer = []\n",
    "\n",
    "    for x in linspace:\n",
    "        answer.append(0.5 +\n",
    "                      math.erf((math.sqrt(math.pi) / 2) * (x - 2)) * -0.5)\n",
    "\n",
    "    if plot == \"Yes\":\n",
    "        fig, ax = plt.subplots(1, 1, figsize=(8, 5))\n",
    "        ax.plot(answer, label=\"Acceptance chance\")\n",
    "        plotpretify(ax, iters)\n",
    "        plt.show()\n",
    "    return answer\n",
    "\n",
    "\n",
    "coordList = []\n",
    "for i in range(3):\n",
    "    coordList.append(spawn(1))\n",
    "coordList = np.array(coordList)\n",
    "\n",
    "iterations = 0\n",
    "score = checkScore(coordList)\n",
    "scheme = getScheme_data(iterations, plot=\"No\")\n",
    "for i in range(iterations):\n",
    "    tmpList = changeCoord(coordList)\n",
    "    tmpScore = checkScore(tmpList)\n",
    "    if score < checkScore(coordList):\n",
    "        coordList = tmpList\n",
    "        score = tmpScore\n",
    "    if scheme[i] > np.random.uniform():\n",
    "        coordList = tmpList\n",
    "        score = tmpScore\n",
    "print(score)\n",
    "\n",
    "plt.rcParams['figure.figsize'] = [10, 10]\n",
    "sns.set()\n",
    "sns.set_style(\"dark\")\n",
    "fig = plt.figure()\n",
    "ax = plt.subplot(111)\n",
    "ax.scatter(coordList[:, 0], coordList[:, 1])\n",
    "circle1 = plt.Circle((0, 0), 1, alpha=0.2, color=\"olive\")\n",
    "ax.add_artist(circle1)\n",
    "plotpretify(\n",
    "    ax, 1.1, minx=-1.1, miny=-1.1, maxy=1.1, Grid=False, LL=False, LB=False)"
   ]
  },
  {
   "cell_type": "code",
   "execution_count": null,
   "metadata": {
    "ExecuteTime": {
     "start_time": "2018-12-05T13:09:57.245Z"
    },
    "scrolled": false
   },
   "outputs": [],
   "source": [
    "def plot(coordList):\n",
    "    plt.rcParams['figure.figsize'] = [10, 10]\n",
    "    sns.set()\n",
    "    sns.set_style(\"dark\")\n",
    "    fig = plt.figure()\n",
    "    ax = plt.subplot(111)\n",
    "    ax.scatter(coordList[:, 0], coordList[:, 1])\n",
    "    circle1 = plt.Circle((0, 0), radius, alpha=0.2, color=\"olive\")\n",
    "    ax.add_artist(circle1)\n",
    "    plotpretify(\n",
    "        ax,\n",
    "        1.1,\n",
    "        minx=-1.1,\n",
    "        miny=-1.1,\n",
    "        maxy=1.1,\n",
    "        Grid=False,\n",
    "        LL=False,\n",
    "        LB=False)\n",
    "\n",
    "\n",
    "def incircle(crds, r=1):\n",
    "    return np.power(crds[0], 2) + np.power(crds[1], 2) < r\n",
    "\n",
    "\n",
    "def spawn(r=1):\n",
    "    x = random.uniform(-r, r)\n",
    "    limits = [-np.sqrt(r**2 - x**2), np.sqrt(r**2 - x**2)]\n",
    "    y = random.uniform(limits[0], limits[1])\n",
    "    return [x, y]\n",
    "\n",
    "\n",
    "# Good score when somewhere < 2\n",
    "def checkScore(coord):\n",
    "    totalDist = 0\n",
    "    for i in range(len(coord)):\n",
    "        for j in range(i, len(coord)):\n",
    "            if i != j:\n",
    "                totalDist += 1 / abs(\n",
    "                    math.hypot(coord[j][0] - coord[i][0],\n",
    "                               coord[j][1] - coord[i][1]))\n",
    "    return totalDist\n",
    "\n",
    "\n",
    "def move(k, coord, temp):\n",
    "    F = np.array([0.0,0.0])\n",
    "    velocity = np.zeros(2, float)\n",
    "    for l in coord:\n",
    "        if all(l != k):\n",
    "            # Methode 1:\n",
    "            r = np.array(k) - np.array(l)\n",
    "            F1 = r / (np.linalg.norm(r)**3)*0.03*temp\n",
    "            F += F1\n",
    "            \n",
    "            # Methode2:\n",
    "            force = 1 / (np.sum(r**2)**2)\n",
    "            velocity += r * force * temp * 0.05\n",
    "          \n",
    "    newPoint = k + F\n",
    "#     print(newPoint)\n",
    "    \n",
    "#     if not incircle(newPoint,radius*2):\n",
    "#         newpoint = k + velocity\n",
    "    if not incircle(newPoint,radius):\n",
    "        angle = np.angle(complex(newPoint[0],newPoint[1]), deg=True)\n",
    "#             print(angle, radius, (radius * np.sin(angle)))\n",
    "        newPoint = np.array([(radius * np.sin(angle)), (radius * np.cos(angle))])\n",
    "#             print(np.array(newPoint), \"border\")\n",
    "#     print(f\"k:{k}, F:{F}, kF:{k+F}, incircle:{incircle(k+F,radius*2)}, radius: {radius*2}\")\n",
    "    return newPoint # F can be replaced by 'velocity'\n",
    "\n",
    "\n",
    "def changeCoord(coord, temp):\n",
    "    coordTemp = []\n",
    "    for i, k in enumerate(coord):\n",
    "        coordTemp.append(move(k, coord, temp))\n",
    "    return np.array(coordTemp)\n",
    "\n",
    "\n",
    "def getScheme_data(iters, plot=\"No\"):\n",
    "    linspace = np.linspace(0, 9, iters)\n",
    "    answer = []\n",
    "\n",
    "    for x in linspace:\n",
    "        answer.append(0.5 +\n",
    "                      math.erf((math.sqrt(math.pi) / 2) * (x - 2)) * -0.5)\n",
    "\n",
    "    if plot == \"Yes\":\n",
    "        fig, ax = plt.subplots(1, 1, figsize=(8, 5))\n",
    "        ax.plot(answer, label=\"Acceptance chance\")\n",
    "        plotpretify(ax, iters)\n",
    "        plt.show()\n",
    "    return answer\n",
    "\n",
    "\n",
    "coordList = []\n",
    "radius = 0.5\n",
    "pointsNum = 100\n",
    "iterations = 6\n",
    "\n",
    "for i in range(pointsNum):\n",
    "    coordList.append(spawn(radius))\n",
    "coordList = np.array(coordList)\n",
    "\n",
    "# print(coordList)\n",
    "plot(coordList)\n",
    "\n",
    "for i in range(iterations):\n",
    "    temp = np.exp(-i/3.0)\n",
    "    coordList = changeCoord(coordList, temp)\n",
    "    plot(coordList)\n",
    "#     print(coordList)"
   ]
  },
  {
   "cell_type": "code",
   "execution_count": 51,
   "metadata": {
    "ExecuteTime": {
     "end_time": "2018-12-05T12:08:03.504629Z",
     "start_time": "2018-12-05T12:08:03.500618Z"
    }
   },
   "outputs": [
    {
     "data": {
      "text/plain": [
       "45.0"
      ]
     },
     "execution_count": 51,
     "metadata": {},
     "output_type": "execute_result"
    }
   ],
   "source": [
    "a = 1\n",
    "b = 1\n",
    "np.angle(complex(a, b), deg=True)"
   ]
  },
  {
   "cell_type": "code",
   "execution_count": 6,
   "metadata": {
    "ExecuteTime": {
     "end_time": "2018-12-05T10:28:13.283707Z",
     "start_time": "2018-12-05T10:28:13.149840Z"
    }
   },
   "outputs": [
    {
     "ename": "TypeError",
     "evalue": "uniform() takes 3 positional arguments but 4 were given",
     "output_type": "error",
     "traceback": [
      "\u001b[1;31m---------------------------------------------------------------------------\u001b[0m",
      "\u001b[1;31mTypeError\u001b[0m                                 Traceback (most recent call last)",
      "\u001b[1;32m<ipython-input-6-6b3d73183735>\u001b[0m in \u001b[0;36m<module>\u001b[1;34m()\u001b[0m\n\u001b[0;32m     47\u001b[0m   \u001b[1;32mreturn\u001b[0m \u001b[0matomCoords\u001b[0m\u001b[1;33m\u001b[0m\u001b[0m\n\u001b[0;32m     48\u001b[0m \u001b[1;33m\u001b[0m\u001b[0m\n\u001b[1;32m---> 49\u001b[1;33m \u001b[0mchemParticleDynamics\u001b[0m\u001b[1;33m(\u001b[0m\u001b[1;33m)\u001b[0m\u001b[1;33m\u001b[0m\u001b[0m\n\u001b[0m",
      "\u001b[1;32m<ipython-input-6-6b3d73183735>\u001b[0m in \u001b[0;36mchemParticleDynamics\u001b[1;34m(numSteps, bondLen, timeStep, updateFunc)\u001b[0m\n\u001b[0;32m      4\u001b[0m \u001b[1;31m#   atoms = list(bondDict.keys())  # list() not needed in Python 2\u001b[0m\u001b[1;33m\u001b[0m\u001b[1;33m\u001b[0m\u001b[0m\n\u001b[0;32m      5\u001b[0m   \u001b[0mnumAtoms\u001b[0m \u001b[1;33m=\u001b[0m \u001b[1;36m3\u001b[0m\u001b[1;33m\u001b[0m\u001b[0m\n\u001b[1;32m----> 6\u001b[1;33m   \u001b[0matomCoords\u001b[0m \u001b[1;33m=\u001b[0m \u001b[0mrandom\u001b[0m\u001b[1;33m.\u001b[0m\u001b[0muniform\u001b[0m\u001b[1;33m(\u001b[0m\u001b[1;33m-\u001b[0m\u001b[1;36m10.0\u001b[0m\u001b[1;33m,\u001b[0m \u001b[1;36m10.0\u001b[0m\u001b[1;33m,\u001b[0m \u001b[1;33m(\u001b[0m\u001b[1;36m3\u001b[0m\u001b[1;33m,\u001b[0m \u001b[1;36m3\u001b[0m\u001b[1;33m)\u001b[0m\u001b[1;33m)\u001b[0m\u001b[1;33m\u001b[0m\u001b[0m\n\u001b[0m\u001b[0;32m      7\u001b[0m   \u001b[0mprint\u001b[0m\u001b[1;33m(\u001b[0m\u001b[0matomCoords\u001b[0m\u001b[1;33m)\u001b[0m\u001b[1;33m\u001b[0m\u001b[0m\n\u001b[0;32m      8\u001b[0m \u001b[1;33m\u001b[0m\u001b[0m\n",
      "\u001b[1;31mTypeError\u001b[0m: uniform() takes 3 positional arguments but 4 were given"
     ]
    }
   ],
   "source": [
    "def chemParticleDynamics(numSteps=5000, bondLen=1.0,\n",
    "                         timeStep=0.01, updateFunc=None):\n",
    "\n",
    "#   atoms = list(bondDict.keys())  # list() not needed in Python 2\n",
    "  numAtoms = 3\n",
    "  atomCoords = random.uniform(-10.0, 10.0, (3, 3))\n",
    "  print(atomCoords)\n",
    "\n",
    "  indices = range(numAtoms)\n",
    "  n = float(numSteps)\n",
    "\n",
    "  for step in range(numSteps): # could use xrange in Python 2\n",
    "    temp = exp(-step/n)\n",
    "\n",
    "    if updateFunc: # Extra for graphical display\n",
    "      print(\"Step:\", step)\n",
    "      updateFunc(atomCoords)\n",
    "\n",
    "    for i in indices[1:]:\n",
    "      atom = atoms[i]\n",
    "      coords = atomCoords[i]\n",
    "      velocity = zeros(3, float)\n",
    "\n",
    "      for j in indices:\n",
    "        if i == j:\n",
    "          continue\n",
    "\n",
    "        delta = coords - atomCoords[j]\n",
    "        delta2 = delta * delta\n",
    "        dist2 = delta2.sum()\n",
    "\n",
    "        bound = bondDict[atoms[j]]\n",
    "        if atom in bound:\n",
    "          force = bondLen - sqrt(dist2)\n",
    "\n",
    "        else:\n",
    "          force = 1.0 / (dist2*dist2)\n",
    "\n",
    "        force = min(max(-200.0, force), 200.0)\n",
    "        velocity += delta * force * temp * timeStep\n",
    "\n",
    "      atomCoords[i] += velocity\n",
    "\n",
    "  center = atomCoords.mean(axis=0)\n",
    "  atomCoords = atomCoords-center\n",
    "\n",
    "  return atomCoords\n",
    "\n",
    "chemParticleDynamics()"
   ]
  }
 ],
 "metadata": {
  "kernelspec": {
   "display_name": "Python 3",
   "language": "python",
   "name": "python3"
  },
  "language_info": {
   "codemirror_mode": {
    "name": "ipython",
    "version": 3
   },
   "file_extension": ".py",
   "mimetype": "text/x-python",
   "name": "python",
   "nbconvert_exporter": "python",
   "pygments_lexer": "ipython3",
   "version": "3.6.5"
  },
  "toc": {
   "base_numbering": 1,
   "nav_menu": {},
   "number_sections": true,
   "sideBar": true,
   "skip_h1_title": false,
   "title_cell": "Table of Contents",
   "title_sidebar": "Contents",
   "toc_cell": false,
   "toc_position": {},
   "toc_section_display": true,
   "toc_window_display": false
  },
  "varInspector": {
   "cols": {
    "lenName": 16,
    "lenType": 16,
    "lenVar": 40
   },
   "kernels_config": {
    "python": {
     "delete_cmd_postfix": "",
     "delete_cmd_prefix": "del ",
     "library": "var_list.py",
     "varRefreshCmd": "print(var_dic_list())"
    },
    "r": {
     "delete_cmd_postfix": ") ",
     "delete_cmd_prefix": "rm(",
     "library": "var_list.r",
     "varRefreshCmd": "cat(var_dic_list()) "
    }
   },
   "types_to_exclude": [
    "module",
    "function",
    "builtin_function_or_method",
    "instance",
    "_Feature"
   ],
   "window_display": false
  }
 },
 "nbformat": 4,
 "nbformat_minor": 2
}
