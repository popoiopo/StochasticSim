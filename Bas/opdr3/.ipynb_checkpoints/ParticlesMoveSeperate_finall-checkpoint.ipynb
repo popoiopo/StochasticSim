{
 "cells": [
  {
   "cell_type": "code",
   "execution_count": 1,
   "metadata": {
    "ExecuteTime": {
     "end_time": "2018-12-11T09:01:39.992666Z",
     "start_time": "2018-12-11T09:01:38.998788Z"
    },
    "init_cell": true
   },
   "outputs": [],
   "source": [
    "import numpy as np\n",
    "import matplotlib.pyplot as plt\n",
    "from matplotlib import colors\n",
    "from matplotlib.pyplot import plot, draw, show\n",
    "from scipy.linalg import lu\n",
    "import scipy.linalg as la\n",
    "import random\n",
    "import simpy\n",
    "import math\n",
    "import seaborn as sns"
   ]
  },
  {
   "cell_type": "code",
   "execution_count": 2,
   "metadata": {
    "ExecuteTime": {
     "end_time": "2018-12-11T09:01:40.004683Z",
     "start_time": "2018-12-11T09:01:39.992666Z"
    },
    "init_cell": true
   },
   "outputs": [],
   "source": [
    "plt.rcParams['figure.figsize'] = [15, 5]\n",
    "\n",
    "def plotpretify(ax, maxx, minx=0, miny=None, maxy=None,\n",
    "                Grid=True, LB=True, LL=True):\n",
    "    ax.spines[\"top\"].set_visible(False)\n",
    "    ax.spines[\"left\"].set_visible(False)\n",
    "    ax.spines[\"right\"].set_visible(False)\n",
    "    ax.spines[\"bottom\"].set_visible(False)\n",
    "\n",
    "    ax.tick_params(\n",
    "        axis=\"both\",\n",
    "        which=\"both\",\n",
    "        bottom=False,\n",
    "        top=False,\n",
    "        labelbottom=False,\n",
    "        left=False,\n",
    "        right=False,\n",
    "        labelleft=False)\n",
    "#     ax.grid(True)\n",
    "    \n",
    "    ax.set_xlim(minx, maxx)\n",
    "    ax.set_ylim(miny, maxy)\n",
    "\n",
    "sns.set()"
   ]
  },
  {
   "cell_type": "code",
   "execution_count": 3,
   "metadata": {
    "ExecuteTime": {
     "end_time": "2018-12-11T09:01:40.024677Z",
     "start_time": "2018-12-11T09:01:40.004683Z"
    },
    "code_folding": [
     0
    ],
    "init_cell": true
   },
   "outputs": [],
   "source": [
    "def log_progress(sequence, every=None, size=None, name='Items'):\n",
    "    from ipywidgets import IntProgress, HTML, VBox\n",
    "    from IPython.display import display\n",
    "\n",
    "    is_iterator = False\n",
    "    if size is None:\n",
    "        try:\n",
    "            size = len(sequence)\n",
    "        except TypeError:\n",
    "            is_iterator = True\n",
    "    if size is not None:\n",
    "        if every is None:\n",
    "            if size <= 200:\n",
    "                every = 1\n",
    "            else:\n",
    "                every = int(size / 200)  # every 0.5%\n",
    "    else:\n",
    "        assert every is not None, 'sequence is iterator, set every'\n",
    "\n",
    "    if is_iterator:\n",
    "        progress = IntProgress(min=0, max=1, value=1)\n",
    "        progress.bar_style = 'info'\n",
    "    else:\n",
    "        progress = IntProgress(min=0, max=size, value=0)\n",
    "    label = HTML()\n",
    "    box = VBox(children=[label, progress])\n",
    "    display(box)\n",
    "\n",
    "    index = 0\n",
    "    try:\n",
    "        for index, record in enumerate(sequence, 1):\n",
    "            if index == 1 or index % every == 0:\n",
    "                if is_iterator:\n",
    "                    label.value = '{name}: {index} / ?'.format(\n",
    "                        name=name, index=index)\n",
    "                else:\n",
    "                    progress.value = index\n",
    "                    label.value = u'{name}: {index} / {size}'.format(\n",
    "                        name=name, index=index, size=size)\n",
    "            yield record\n",
    "    except:\n",
    "        progress.bar_style = 'danger'\n",
    "        raise\n",
    "    else:\n",
    "        progress.bar_style = 'success'\n",
    "        progress.value = index\n",
    "        label.value = \"{name}: {index}\".format(\n",
    "            name=name, index=str(index or '?'))"
   ]
  },
  {
   "cell_type": "code",
   "execution_count": null,
   "metadata": {
    "ExecuteTime": {
     "start_time": "2018-12-11T09:02:56.455Z"
    },
    "code_folding": [
     35
    ],
    "scrolled": false
   },
   "outputs": [
    {
     "data": {
      "image/png": "[encoded data removed]",
      "text/plain": [
       "<Figure size 576x360 with 1 Axes>"
      ]
     },
     "metadata": {},
     "output_type": "display_data"
    },
    {
     "data": {
      "application/vnd.jupyter.widget-view+json": {
       "model_id": "e58ad770b1244d93b5974100a1cf7e86",
       "version_major": 2,
       "version_minor": 0
      },
      "text/plain": [
       "VBox(children=(HTML(value=''), IntProgress(value=0, max=1000)))"
      ]
     },
     "metadata": {},
     "output_type": "display_data"
    }
   ],
   "source": [
    "def plot(coordList):\n",
    "    plt.rcParams['figure.figsize'] = [10, 10]\n",
    "    sns.set()\n",
    "    sns.set_style(\"dark\")\n",
    "    fig = plt.figure()\n",
    "    ax = plt.subplot(111)\n",
    "    colors = list(range(len(coordList)))\n",
    "    ax.scatter(coordList[:, 0], coordList[:, 1], c=colors, cmap='Dark2')\n",
    "    circle1 = plt.Circle((0, 0), radius, alpha=0.2, color=\"olive\")\n",
    "    ax.add_artist(circle1)\n",
    "    plotpretify(\n",
    "        ax,\n",
    "        1.1,\n",
    "        minx=-1.1,\n",
    "        miny=-1.1,\n",
    "        maxy=1.1,\n",
    "        Grid=False,\n",
    "        LL=False,\n",
    "        LB=False)\n",
    "\n",
    "\n",
    "def getScheme_data(iters, plot=\"No\", scheme=\"Sigmoid\"):\n",
    "\n",
    "    answer = []\n",
    "\n",
    "    if scheme == \"Sigmoid\":\n",
    "        linspace = np.linspace(0, 5, iters)\n",
    "        for x in linspace:\n",
    "            answer.append(0.5 +\n",
    "                          math.erf((math.sqrt(math.pi) / 2) * (x - 2)) * -0.5)\n",
    "    elif scheme == \"Exp\":\n",
    "        for x in range(iters):\n",
    "            answer.append(np.exp(-x / iters))\n",
    "    elif scheme == \"Expvar\":\n",
    "        for x in range(iters):\n",
    "            answer.append(\n",
    "                max(\n",
    "                    np.exp(-x / iters) - ((1.5 * x) / iters) * (1 / math.e),\n",
    "                    0))\n",
    "    elif scheme == \"Hillclimb\":\n",
    "        for x in range(iters):\n",
    "            answer.append(0)\n",
    "    elif scheme == \"Binary\":\n",
    "        for x in range(iters):\n",
    "            if x < iters / 2:\n",
    "                answer.append(1)\n",
    "            else:\n",
    "                answer.append(0)\n",
    "\n",
    "    if plot == \"Yes\":\n",
    "        fig, ax = plt.subplots(1, 1, figsize=(8, 5))\n",
    "        ax.plot(answer, label=\"Acceptance chance\")\n",
    "        plotpretify(ax, iters)\n",
    "        plt.show()\n",
    "    return np.array(answer)\n",
    "\n",
    "\n",
    "def incircle(crds, r=1):\n",
    "    return np.power(crds[0], 2) + np.power(crds[1], 2) < r\n",
    "\n",
    "\n",
    "def spawn(r=1):\n",
    "    x = random.uniform(-r, r)\n",
    "    limits = [-np.sqrt(r**2 - x**2), np.sqrt(r**2 - x**2)]\n",
    "    y = random.uniform(limits[0], limits[1])\n",
    "    return [x, y]\n",
    "\n",
    "# Good score when somewhere < 2\n",
    "def checkScore(coord):\n",
    "    totalDist = 0\n",
    "    for i in range(len(coord)):\n",
    "        for j in range(i, len(coord)):\n",
    "            if i != j:\n",
    "                totalDist += 1 / abs(\n",
    "                    math.hypot(coord[j][0] - coord[i][0],\n",
    "                               coord[j][1] - coord[i][1]))\n",
    "    return totalDist\n",
    "\n",
    "def move(k, coord, temp, rate):\n",
    "    F = np.array([0.0, 0.0])\n",
    "    velocity = np.zeros(2, float)\n",
    "    for l in coord:\n",
    "        if any(l != k):\n",
    "            r = np.array(k) - np.array(l)\n",
    "            F1 = (r / (np.linalg.norm(r)**3) * rate)\n",
    "            F += F1\n",
    "    newPoint = k + F\n",
    "    xr = random.uniform(-1, 1) * (1 / 50)\n",
    "    yr = random.uniform(-1, 1) * (1 / 50)\n",
    "#     print(f\"xr = {xr}\")\n",
    "    newPoint += [xr, yr]\n",
    "    if not incircle(newPoint, radius):\n",
    "        newPoint = newPoint / la.norm(newPoint)\n",
    "    return newPoint, F\n",
    "\n",
    "def submove(k, i, coord, temp, rate, score):\n",
    "    global coordListList\n",
    "    cT, favo = move(k, coord, temp, rate)\n",
    "    coordTemp = np.copy(coord)\n",
    "    coordTemp[i] = cT\n",
    "    coordListList.append(coordTemp)\n",
    "#     print(f\"score = {score}\")\n",
    "#     print(f\"scoretemp = {checkScore(coordTemp)}\")\n",
    "#     print(\"-----\")\n",
    "    if score > checkScore(coordTemp):\n",
    "        return np.array(coordTemp), favo\n",
    "    elif temp > random.random():\n",
    "        return np.array(coordTemp), favo\n",
    "    else:\n",
    "        return coord, favo\n",
    "\n",
    "\n",
    "def changeCoord(coord, temp, rate):\n",
    "    score = checkScore(coord)\n",
    "    fav = []\n",
    "    for i, k in enumerate(coord):\n",
    "        coord, favo = submove(k, i, coord, temp, rate, score)\n",
    "        fav.append(favo)\n",
    "    return coord\n",
    "\n",
    "\n",
    "def start_sim(radius,\n",
    "              pointsNum,\n",
    "              iterations,\n",
    "              rate,\n",
    "              scheme,\n",
    "              markovChain,\n",
    "              plotScheme=\"No\"):\n",
    "    coordList = []\n",
    "    global coordListList\n",
    "    schemeData = np.repeat(\n",
    "        getScheme_data(iterations, plot=plotScheme, scheme=scheme),\n",
    "        markovChain)\n",
    "    iterations = iterations * markovChain\n",
    "\n",
    "    for i in range(pointsNum):\n",
    "        coordList.append(spawn(radius))\n",
    "    # 2 points:\n",
    "#     coordList = [[-1,0], [-0.5,0]]\n",
    "    # coordList = [[-1,0], [-0.5,0.3]]\n",
    "#     coordList = [[0.2,0.2], [-0.5,0.3]]\n",
    "\n",
    "    # 3 points:\n",
    "#     coordList = [[0.2,0.2], [-0.5,0.3], [-0.1, -0.2]]\n",
    "    coordList = np.array(coordList)\n",
    "\n",
    "#     coordListList = [coordList]\n",
    "    coordListList = []\n",
    "    coordListList.append(coordList)\n",
    "    checklist = []\n",
    "    for i in log_progress(range(iterations), every=1):\n",
    "        temp = schemeData[i]\n",
    "        coordList = changeCoord(coordList, temp, rate)\n",
    "        coordListList.append(coordList)\n",
    "        checklist.append(checkScore(coordList))\n",
    "\n",
    "    return coordList, coordListList, checklist\n",
    "\n",
    "coordListList = []\n",
    "\n",
    "radius = 1\n",
    "pointsNum = 40\n",
    "iterations = 1000\n",
    "rate = math.pow(10, -4)\n",
    "schemes = [\"Sigmoid\"]\n",
    "# schemes = [\"Expvar\"]\n",
    "# schemes = [\"Expvar\", \"Sigmoid\"]\n",
    "# schemes = [\"Hillclimb\", \"Expvar\", \"Expvar\", \"Exp\"]\n",
    "scheme = \"Sigmoid\"\n",
    "checks = []\n",
    "coordListListList = []\n",
    "\n",
    "for scheme in schemes:\n",
    "    coordList, coordListList, checklist = start_sim(\n",
    "        radius, pointsNum, iterations, rate, scheme, 1, plotScheme=\"Yes\")\n",
    "    checks.append(checklist)\n",
    "    coordListListList.append(coordListList)\n",
    "\n",
    "[plt.plot(check, label=schemes[i]) for i, check in enumerate(checks)]\n",
    "plt.legend()\n",
    "plt.show()\n",
    "[print(check[-1]) for check in checks]"
   ]
  },
  {
   "cell_type": "code",
   "execution_count": 9,
   "metadata": {
    "ExecuteTime": {
     "end_time": "2018-12-11T08:56:56.157341Z",
     "start_time": "2018-12-11T08:56:56.149301Z"
    }
   },
   "outputs": [],
   "source": [
    "def plot(coordList):\n",
    "    plt.rcParams['figure.figsize'] = [10, 10]\n",
    "    sns.set()\n",
    "    sns.set_style(\"white\")\n",
    "    fig = plt.figure()\n",
    "    ax = plt.subplot(111)\n",
    "    colors = list(range(len(coordList)))\n",
    "    ax.scatter(coordList[:, 0], coordList[:, 1], c=colors, cmap='Dark2')\n",
    "    circle1 = plt.Circle((0, 0), radius, alpha=0.2, color=\"olive\")\n",
    "    ax.add_artist(circle1)\n",
    "    plotpretify(\n",
    "        ax,\n",
    "        1.1,\n",
    "        minx=-1.1,\n",
    "        miny=-1.1,\n",
    "        maxy=1.1,\n",
    "        Grid=False,\n",
    "        LL=False,\n",
    "        LB=False)"
   ]
  },
  {
   "cell_type": "code",
   "execution_count": 10,
   "metadata": {
    "ExecuteTime": {
     "end_time": "2018-12-11T08:56:57.124232Z",
     "start_time": "2018-12-11T08:56:56.974976Z"
    },
    "scrolled": false
   },
   "outputs": [
    {
     "name": "stdout",
     "output_type": "stream",
     "text": [
      "Expvar\n"
     ]
    },
    {
     "data": {
      "image/png": "[encoded data removed]",
      "text/plain": [
       "<Figure size 720x720 with 1 Axes>"
      ]
     },
     "metadata": {},
     "output_type": "display_data"
    }
   ],
   "source": [
    "from ipywidgets import interact, interactive, fixed, interact_manual\n",
    "import ipywidgets as widgets\n",
    "from IPython.display import display\n",
    "\n",
    "for j in range(len(coordListListList)):\n",
    "    print(schemes[j])\n",
    "    def showPlot(i=0):\n",
    "        plot(coordListListList[j][i])\n",
    "\n",
    "    # for cll in coordListListList:\n",
    "#     y = interactive(showPlot, i=(0, len(coordListListList[j]) - 1, 1))\n",
    "#     y = interactive(showPlot, i=range(len(coordListListList[j])))\n",
    "    plot(coordListListList[j][-1])\n",
    "#     display(y)"
   ]
  },
  {
   "cell_type": "code",
   "execution_count": null,
   "metadata": {},
   "outputs": [],
   "source": []
  }
 ],
 "metadata": {
  "celltoolbar": "Initialization Cell",
  "kernelspec": {
   "display_name": "Python 3",
   "language": "python",
   "name": "python3"
  },
  "language_info": {
   "codemirror_mode": {
    "name": "ipython",
    "version": 3
   },
   "file_extension": ".py",
   "mimetype": "text/x-python",
   "name": "python",
   "nbconvert_exporter": "python",
   "pygments_lexer": "ipython3",
   "version": "3.6.5"
  },
  "toc": {
   "base_numbering": 1,
   "nav_menu": {},
   "number_sections": true,
   "sideBar": true,
   "skip_h1_title": false,
   "title_cell": "Table of Contents",
   "title_sidebar": "Contents",
   "toc_cell": false,
   "toc_position": {},
   "toc_section_display": true,
   "toc_window_display": false
  },
  "varInspector": {
   "cols": {
    "lenName": 16,
    "lenType": 16,
    "lenVar": 40
   },
   "kernels_config": {
    "python": {
     "delete_cmd_postfix": "",
     "delete_cmd_prefix": "del ",
     "library": "var_list.py",
     "varRefreshCmd": "print(var_dic_list())"
    },
    "r": {
     "delete_cmd_postfix": ") ",
     "delete_cmd_prefix": "rm(",
     "library": "var_list.r",
     "varRefreshCmd": "cat(var_dic_list()) "
    }
   },
   "types_to_exclude": [
    "module",
    "function",
    "builtin_function_or_method",
    "instance",
    "_Feature"
   ],
   "window_display": false
  }
 },
 "nbformat": 4,
 "nbformat_minor": 2
}
