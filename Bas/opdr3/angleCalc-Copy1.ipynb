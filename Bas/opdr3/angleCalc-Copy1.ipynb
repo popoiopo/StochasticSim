{
 "cells": [
  {
   "cell_type": "code",
   "execution_count": 206,
   "metadata": {
    "ExecuteTime": {
     "end_time": "2018-12-06T10:15:19.133495Z",
     "start_time": "2018-12-06T10:15:12.179329Z"
    },
    "scrolled": true
   },
   "outputs": [
    {
     "data": {
      "image/png": "[encoded data removed]",
      "text/plain": [
       "<Figure size 720x720 with 1 Axes>"
      ]
     },
     "metadata": {},
     "output_type": "display_data"
    }
   ],
   "source": [
    "def plot(coordList):\n",
    "    plt.rcParams['figure.figsize'] = [10, 10]\n",
    "    sns.set()\n",
    "    sns.set_style(\"dark\")\n",
    "    fig = plt.figure()\n",
    "    ax = plt.subplot(111)\n",
    "    colors = list(range(len(coordList)))\n",
    "    ax.scatter(coordList[:, 0], coordList[:, 1], c=colors, cmap='Dark2')\n",
    "    circle1 = plt.Circle((0, 0), radius, alpha=0.2, color=\"olive\")\n",
    "    ax.add_artist(circle1)\n",
    "    plotpretify(\n",
    "        ax,\n",
    "        1.1,\n",
    "        minx=-1.1,\n",
    "        miny=-1.1,\n",
    "        maxy=1.1,\n",
    "        Grid=False,\n",
    "        LL=False,\n",
    "        LB=False)\n",
    "\n",
    "\n",
    "def getScheme_data(iters, plot=\"No\"):\n",
    "    linspace = np.linspace(0, 9, iters)\n",
    "    answer = []\n",
    "\n",
    "    for x in linspace:\n",
    "        answer.append(0.5 +\n",
    "                      math.erf((math.sqrt(math.pi) / 2) * (x - 2)) * -0.5)\n",
    "\n",
    "    if plot == \"Yes\":\n",
    "        fig, ax = plt.subplots(1, 1, figsize=(8, 5))\n",
    "        ax.plot(answer, label=\"Acceptance chance\")\n",
    "        plotpretify(ax, iters)\n",
    "        plt.show()\n",
    "    return answer\n",
    "\n",
    "\n",
    "def incircle(crds, r=1):\n",
    "    return np.power(crds[0], 2) + np.power(crds[1], 2) < r\n",
    "\n",
    "\n",
    "def spawn(r=1):\n",
    "    x = random.uniform(-r, r)\n",
    "    limits = [-np.sqrt(r**2 - x**2), np.sqrt(r**2 - x**2)]\n",
    "    y = random.uniform(limits[0], limits[1])\n",
    "    return [x, y]\n",
    "\n",
    "\n",
    "# Good score when somewhere < 2\n",
    "def checkScore(coord):\n",
    "    totalDist = 0\n",
    "    for i in range(len(coord)):\n",
    "        for j in range(i, len(coord)):\n",
    "            if i != j:\n",
    "                totalDist += 1 / abs(\n",
    "                    math.hypot(coord[j][0] - coord[i][0],\n",
    "                               coord[j][1] - coord[i][1]))\n",
    "    return totalDist\n",
    "\n",
    "\n",
    "def perturb(newPoint, temp):\n",
    "    plusmin = [1 if random.random() < 0.5 else -1 for i in range(len(newPoint))]\n",
    "    perturbs = [((la.norm(newPoint)*np.random.uniform(0,temp))/2)*psmn for psmn in plusmin]\n",
    "    newPoint[0] = newPoint[0] + perturbs[0]\n",
    "    newPoint[1] = newPoint[1] + perturbs[1]\n",
    "    return newPoint\n",
    "\n",
    "def move(k, coord, temp, rate):\n",
    "    F = np.array([0.0, 0.0])\n",
    "    velocity = np.zeros(2, float)\n",
    "    for l in coord:\n",
    "        if any(l != k):\n",
    "            # Methode 1:\n",
    "            r = np.array(k) - np.array(l)\n",
    "            F1 = (r / (np.linalg.norm(r)**3) * rate)\n",
    "            F += F1\n",
    "\n",
    "            # Methode2:\n",
    "            force = 1 / (np.sum(r**2)**2)\n",
    "            velocity += (r * force * rate)\n",
    "    newPoint = k + F\n",
    "    newPoint = perturb(newPoint, temp)\n",
    "    if not incircle(newPoint, radius):\n",
    "        newPoint = newPoint / la.norm(newPoint)\n",
    "    return newPoint, F\n",
    "\n",
    "\n",
    "def changeCoord(coord, temp, rate):\n",
    "    coordTemp = []\n",
    "    score = checkScore(coord)\n",
    "#     print(\"NEW ROUND!!!! ************************************************\")\n",
    "    fav = []\n",
    "    for i, k in enumerate(coord):\n",
    "        cT, favo = move(k, coord, temp, rate)\n",
    "        coordTemp.append(cT)\n",
    "        fav.append(favo)\n",
    "    if score > checkScore(coordTemp):\n",
    "#     print(np.mean(fav), temp)\n",
    "        return np.array(coordTemp)\n",
    "    elif temp > random.random():\n",
    "        return np.array(coordTemp)\n",
    "    else:\n",
    "        return changeCoord(coord, temp, rate)\n",
    "        \n",
    "\n",
    "coordList = []\n",
    "radius = 1\n",
    "pointsNum = 40\n",
    "iterations = 200\n",
    "rate = 0.0005\n",
    "schemeData = getScheme_data(iterations, plot=\"No\")\n",
    "\n",
    "for i in range(pointsNum):\n",
    "    coordList.append(spawn(radius))\n",
    "coordList = np.array(coordList)\n",
    "\n",
    "coordList = np.array(coordList)\n",
    "checklist = []\n",
    "coordListList = [coordList]\n",
    "for i in range(iterations):\n",
    "    temp = schemeData[i]\n",
    "#     np.exp(-i / iterations) / 10\n",
    "    coordList = changeCoord(coordList, temp, rate)\n",
    "    checklist.append(checkScore(coordList))\n",
    "    coordListList.append(coordList)\n",
    "plt.plot(checklist)\n",
    "plt.show()"
   ]
  },
  {
   "cell_type": "code",
   "execution_count": 208,
   "metadata": {
    "ExecuteTime": {
     "end_time": "2018-12-06T10:15:42.403988Z",
     "start_time": "2018-12-06T10:15:42.263794Z"
    },
    "scrolled": false
   },
   "outputs": [
    {
     "data": {
      "application/vnd.jupyter.widget-view+json": {
       "model_id": "2524e4bd9a2343a18f677e0ca78ad752",
       "version_major": 2,
       "version_minor": 0
      },
      "text/plain": [
       "interactive(children=(IntSlider(value=0, description='i', max=200), Output()), _dom_classes=('widget-interact'…"
      ]
     },
     "metadata": {},
     "output_type": "display_data"
    }
   ],
   "source": [
    "from ipywidgets import interact, interactive, fixed, interact_manual\n",
    "import ipywidgets as widgets\n",
    "from IPython.display import display\n",
    "\n",
    "def showPlot(i=0):\n",
    "    plot(coordListList[i])\n",
    "    \n",
    "# showPlot(coordListList)\n",
    "y=interactive(showPlot, i=(0,len(coordListList)-1,1))\n",
    "display(y)"
   ]
  },
  {
   "cell_type": "code",
   "execution_count": null,
   "metadata": {},
   "outputs": [],
   "source": []
  }
 ],
 "metadata": {
  "kernelspec": {
   "display_name": "Python 3",
   "language": "python",
   "name": "python3"
  },
  "language_info": {
   "codemirror_mode": {
    "name": "ipython",
    "version": 3
   },
   "file_extension": ".py",
   "mimetype": "text/x-python",
   "name": "python",
   "nbconvert_exporter": "python",
   "pygments_lexer": "ipython3",
   "version": "3.6.5"
  },
  "toc": {
   "base_numbering": 1,
   "nav_menu": {},
   "number_sections": true,
   "sideBar": true,
   "skip_h1_title": false,
   "title_cell": "Table of Contents",
   "title_sidebar": "Contents",
   "toc_cell": false,
   "toc_position": {},
   "toc_section_display": true,
   "toc_window_display": false
  },
  "varInspector": {
   "cols": {
    "lenName": 16,
    "lenType": 16,
    "lenVar": 40
   },
   "kernels_config": {
    "python": {
     "delete_cmd_postfix": "",
     "delete_cmd_prefix": "del ",
     "library": "var_list.py",
     "varRefreshCmd": "print(var_dic_list())"
    },
    "r": {
     "delete_cmd_postfix": ") ",
     "delete_cmd_prefix": "rm(",
     "library": "var_list.r",
     "varRefreshCmd": "cat(var_dic_list()) "
    }
   },
   "types_to_exclude": [
    "module",
    "function",
    "builtin_function_or_method",
    "instance",
    "_Feature"
   ],
   "window_display": false
  }
 },
 "nbformat": 4,
 "nbformat_minor": 2
}
